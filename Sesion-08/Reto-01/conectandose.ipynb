{
  "cells": [
    {
      "cell_type": "markdown",
      "metadata": {
        "id": "yMdJZ8MYQn9f"
      },
      "source": [
        "## Reto 1: Conectándose a una base de datos\n",
        "\n",
        "### 1. Objetivos:\n",
        "    - Practicar conectarse a una base de datos y revisar la conexión.\n",
        "    \n",
        "---\n",
        "    \n",
        "### 2. Desarrollo:"
      ]
    },
    {
      "cell_type": "markdown",
      "metadata": {
        "id": "tM9zaN3jQn9h"
      },
      "source": [
        "#### a) Conectándose a MySQL\n",
        "\n",
        "Este primer Reto es muy sencillo:\n",
        "\n",
        "1. Pídele a tu experta los datos de conexión que necesitas para conectarte al SGBD que ha sido levantado para esta sesión.\n",
        "2. Si no lo has hecho ya, instala la librería `mysql-connector`.\n",
        "3. Conéctate a la base de datos usando `mysql-connector`.\n",
        "4. Revisa que estás conectado a la base de datos pidiendo los nombres de todas las tablas en la base de datos."
      ]
    },
    {
      "cell_type": "code",
      "source": [
        "!pip install mysql-connector-python"
      ],
      "metadata": {
        "id": "qIv2kaT5Qrk9",
        "outputId": "188bacad-fec8-4647-89c4-26f6bbfceb69",
        "colab": {
          "base_uri": "https://localhost:8080/"
        }
      },
      "execution_count": 1,
      "outputs": [
        {
          "output_type": "stream",
          "name": "stdout",
          "text": [
            "Collecting mysql-connector-python\n",
            "  Downloading mysql_connector_python-8.1.0-cp310-cp310-manylinux_2_17_x86_64.whl (27.5 MB)\n",
            "\u001b[2K     \u001b[90m━━━━━━━━━━━━━━━━━━━━━━━━━━━━━━━━━━━━━━━━\u001b[0m \u001b[32m27.5/27.5 MB\u001b[0m \u001b[31m18.8 MB/s\u001b[0m eta \u001b[36m0:00:00\u001b[0m\n",
            "\u001b[?25hCollecting protobuf<=4.21.12,>=4.21.1 (from mysql-connector-python)\n",
            "  Downloading protobuf-4.21.12-cp37-abi3-manylinux2014_x86_64.whl (409 kB)\n",
            "\u001b[2K     \u001b[90m━━━━━━━━━━━━━━━━━━━━━━━━━━━━━━━━━━━━━━━\u001b[0m \u001b[32m409.8/409.8 kB\u001b[0m \u001b[31m5.0 MB/s\u001b[0m eta \u001b[36m0:00:00\u001b[0m\n",
            "\u001b[?25hInstalling collected packages: protobuf, mysql-connector-python\n",
            "  Attempting uninstall: protobuf\n",
            "    Found existing installation: protobuf 3.20.3\n",
            "    Uninstalling protobuf-3.20.3:\n",
            "      Successfully uninstalled protobuf-3.20.3\n",
            "Successfully installed mysql-connector-python-8.1.0 protobuf-4.21.12\n"
          ]
        }
      ]
    },
    {
      "cell_type": "code",
      "source": [
        "import mysql.connector"
      ],
      "metadata": {
        "id": "4JHJalYVQuTn"
      },
      "execution_count": 2,
      "outputs": []
    },
    {
      "cell_type": "code",
      "execution_count": 3,
      "metadata": {
        "id": "Pmv-CWxuQn9i"
      },
      "outputs": [],
      "source": [
        "# Tu código va aquí\n",
        "# ...\n",
        "# ...\n",
        "\n",
        "cnx = mysql.connector.connect(\n",
        "    host=\"localhost\",\n",
        "    port=3306,\n",
        "    user=\"movienerd\",\n",
        "    password='sonerdy',\n",
        "    database='movielens'\n",
        ")"
      ]
    },
    {
      "cell_type": "code",
      "source": [
        "cursor = cnx.cursor()\n",
        "cursor.execute(\"SHOW TABLES\")\n",
        "result = cursor.fetchall()\n",
        "result"
      ],
      "metadata": {
        "id": "4cDkNfwxQ4Ko",
        "outputId": "51416add-4544-487b-85ca-0a53d309e1d5",
        "colab": {
          "base_uri": "https://localhost:8080/"
        }
      },
      "execution_count": 4,
      "outputs": [
        {
          "output_type": "execute_result",
          "data": {
            "text/plain": [
              "[('age_ranges',), ('movies',), ('occupations',), ('ratings',), ('users',)]"
            ]
          },
          "metadata": {},
          "execution_count": 4
        }
      ]
    },
    {
      "cell_type": "code",
      "source": [
        "cursor.close()"
      ],
      "metadata": {
        "id": "NXYkVqsjQ-zx",
        "outputId": "1e136830-336b-4ccc-ad5c-0abd258f799f",
        "colab": {
          "base_uri": "https://localhost:8080/"
        }
      },
      "execution_count": 5,
      "outputs": [
        {
          "output_type": "execute_result",
          "data": {
            "text/plain": [
              "True"
            ]
          },
          "metadata": {},
          "execution_count": 5
        }
      ]
    },
    {
      "cell_type": "markdown",
      "metadata": {
        "id": "MiyIKkxsQn9j"
      },
      "source": [
        "Asegúrate de que tu conexión esté funcionando. Cualquier duda que tengas, la puedes expresar a tu experta. Es muy importante que te conectes exitosamente para poder realizar todos los Retos siguientes."
      ]
    },
    {
      "cell_type": "code",
      "execution_count": null,
      "metadata": {
        "id": "i3gDA7CRQn9j"
      },
      "outputs": [],
      "source": []
    }
  ],
  "metadata": {
    "kernelspec": {
      "display_name": "Python 3",
      "language": "python",
      "name": "python3"
    },
    "language_info": {
      "codemirror_mode": {
        "name": "ipython",
        "version": 3
      },
      "file_extension": ".py",
      "mimetype": "text/x-python",
      "name": "python",
      "nbconvert_exporter": "python",
      "pygments_lexer": "ipython3",
      "version": "3.8.3"
    },
    "colab": {
      "provenance": []
    }
  },
  "nbformat": 4,
  "nbformat_minor": 0
}