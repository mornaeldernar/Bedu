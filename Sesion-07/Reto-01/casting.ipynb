{
  "cells": [
    {
      "cell_type": "markdown",
      "metadata": {
        "id": "ypEKeuk1tnnc"
      },
      "source": [
        "## Reto 1: Casting\n",
        "\n",
        "### 1. Objetivos:\n",
        "    - Aplicar diversas técnicas de casting a un dataset nuevo\n",
        " \n",
        "---\n",
        "    \n",
        "### 2. Desarrollo:"
      ]
    },
    {
      "cell_type": "markdown",
      "metadata": {
        "id": "yJbuepRCtnnj"
      },
      "source": [
        "#### a) Transformando tipos de datos\n",
        "\n",
        "Vamos a trabajar con una versión un poco modificada del dataset que creaste en la sesión pasada. Si bien recuerdas, al final de la sesión pasada automatizamos un programa de Python para obtener un `DataFrame` con todos los objetos que orbitaron cerca de la Tierra en Enero y Febrero de 1995. Para construir este dataset, usamos el API gratuito que ofrece la [NASA](https://api.nasa.gov/).\n",
        "\n",
        "Me tomé la libertad de modificar un poco dicho dataset para que pudiera ser utilizado más efectivamente para los fines de esta sesión. Encontrarás la versión modificada en la ruta '../../Datasets/near_earth_objects-jan_feb_1995-dirty.csv'. Todos los Retos de esta sesión los harás con ese conjunto de datos.\n",
        "\n",
        "Te recomiendo que al finalizar cada reto guardes la nueva versión modificada de tu dataset bajo un nombre que indique el reto realizado (por ejemplo, 'near_earth_objects-jan_feb_1995-reto_1.csv'), para que puedas ir trabajando incrementalmente a través de los retos y no tengas que repetir procesos. Puedes guardar conjuntos de datos en formato `csv` usando el método `DataFrame.to_csv('ruta')`."
      ]
    },
    {
      "cell_type": "markdown",
      "metadata": {
        "id": "6veWsrx7tnnk"
      },
      "source": [
        "Tu primer Reto consistirá en seguir los siguientes pasos:\n",
        "\n",
        "1. Lee el dataset y crea un `DataFrame` con él.\n",
        "2. Realiza una pequeña exploración para familiarizarte con él.\n",
        "3. Convierte la columna `relative_velocity.kilometers_per_hour` de `object` a `float64`.\n",
        "4. Convierte la columna `close_approach_date` a tipo de dato `datetime64[ms]` usando el método `astype` y un diccionario de conversión.\n",
        "5. Convierte la columna `epoch_date_close_approach` a tipo de dato `datetime64[ms]` usando el método `to_datetime`.\n",
        "6. Asigna el `DataFrame` resultante a la variable `df_reto_1`.\n",
        "7. Guarda tu resultado en un archivo .csv."
      ]
    },
    {
      "cell_type": "code",
      "source": [
        "#imports\n",
        "import pandas as pd"
      ],
      "metadata": {
        "id": "lpZ-Lrk0tsxr"
      },
      "execution_count": 84,
      "outputs": []
    },
    {
      "cell_type": "code",
      "execution_count": 88,
      "metadata": {
        "id": "4SPxnf3Dtnnl",
        "outputId": "4898f189-1722-441b-eb1f-f3e2d12f518f",
        "colab": {
          "base_uri": "https://localhost:8080/"
        }
      },
      "outputs": [
        {
          "output_type": "execute_result",
          "data": {
            "text/plain": [
              "Unnamed: 0                                            int64\n",
              "id_name                                              object\n",
              "is_potentially_hazardous_asteroid                      bool\n",
              "estimated_diameter.meters.estimated_diameter_min    float64\n",
              "estimated_diameter.meters.estimated_diameter_max    float64\n",
              "close_approach_date                                  object\n",
              "epoch_date_close_approach                             int64\n",
              "orbiting_body                                        object\n",
              "relative_velocity.kilometers_per_second             float64\n",
              "relative_velocity.kilometers_per_hour                object\n",
              "orbit_class_description                              object\n",
              "dtype: object"
            ]
          },
          "metadata": {},
          "execution_count": 88
        }
      ],
      "source": [
        "#cargamos el archivo\n",
        "df_reto_1 = pd.read_csv('https://raw.githubusercontent.com/beduExpert/Procesamiento-de-Datos-con-Python-Santander_2020_2021/master/Datasets/near_earth_objects-jan_feb_1995-dirty.csv')\n",
        "df_reto_1.dtypes"
      ]
    },
    {
      "cell_type": "code",
      "source": [
        "df_reto_1['relative_velocity.kilometers_per_hour'] = pd.to_numeric(df_reto_1['relative_velocity.kilometers_per_hour'], errors='coerce')\n"
      ],
      "metadata": {
        "id": "iStteoED1to7"
      },
      "execution_count": 89,
      "outputs": []
    },
    {
      "cell_type": "code",
      "source": [
        "diccionario_de_conversion = {\n",
        "    'close_approach_date': 'datetime64[ms]',\n",
        "\n",
        "}\n",
        "df_reto_1 = df_reto_1.astype(diccionario_de_conversion)\n"
      ],
      "metadata": {
        "id": "FqIn8Q1it-6W"
      },
      "execution_count": 90,
      "outputs": []
    },
    {
      "cell_type": "code",
      "source": [
        "df_reto_1['epoch_date_close_approach'] = pd.to_datetime(df_reto_1['epoch_date_close_approach'], unit='ms')\n",
        "df_reto_1.dtypes"
      ],
      "metadata": {
        "id": "0fy_C-cRt-1F",
        "outputId": "7f49c8fb-f11a-4a0e-bd7a-46ec41893af9",
        "colab": {
          "base_uri": "https://localhost:8080/"
        }
      },
      "execution_count": 91,
      "outputs": [
        {
          "output_type": "execute_result",
          "data": {
            "text/plain": [
              "Unnamed: 0                                                   int64\n",
              "id_name                                                     object\n",
              "is_potentially_hazardous_asteroid                             bool\n",
              "estimated_diameter.meters.estimated_diameter_min           float64\n",
              "estimated_diameter.meters.estimated_diameter_max           float64\n",
              "close_approach_date                                 datetime64[ns]\n",
              "epoch_date_close_approach                           datetime64[ns]\n",
              "orbiting_body                                               object\n",
              "relative_velocity.kilometers_per_second                    float64\n",
              "relative_velocity.kilometers_per_hour                      float64\n",
              "orbit_class_description                                     object\n",
              "dtype: object"
            ]
          },
          "metadata": {},
          "execution_count": 91
        }
      ]
    },
    {
      "cell_type": "markdown",
      "metadata": {
        "id": "Im1MDDw2tnnm"
      },
      "source": [
        "Pídele a tu experta la función de verificación `checar_conversiones` (encontrada en el archivo `helpers.py` de la carpeta donde se encuentra este Reto), pégala debajo y corre la celda para verificar tu resultado:"
      ]
    },
    {
      "cell_type": "code",
      "execution_count": 87,
      "metadata": {
        "id": "MeG9hWEHtnnn",
        "outputId": "842575e0-d72c-4d54-e0c5-bcefe58aca39",
        "colab": {
          "base_uri": "https://localhost:8080/"
        }
      },
      "outputs": [
        {
          "output_type": "stream",
          "name": "stdout",
          "text": [
            "¡Éxito! ¡Todas tus conversiones fueron realizadas adecuadamente!\n"
          ]
        }
      ],
      "source": [
        "# Pega aquí la función de verificación\n",
        "def checar_conversiones(df_reto_1):\n",
        "    \n",
        "    import pandas as pd\n",
        "    import pandas.api.types as ptypes\n",
        "    \n",
        "    assert ptypes.is_float_dtype(df_reto_1['relative_velocity.kilometers_per_hour']), 'Cuidado... La columna `relative_velocity.kilometers_per_hour` no es de tipo `float64`'\n",
        "    assert ptypes.is_datetime64_any_dtype(df_reto_1['close_approach_date']), 'Cuidado... La columna `close_approach_date` no es de tipo `datetime64[ns]`'\n",
        "    assert ptypes.is_datetime64_any_dtype(df_reto_1['epoch_date_close_approach']), 'Cuidado... La columna `epoch_date_close_approach` no es de tipo `datetime64[ns]'\n",
        "    \n",
        "    print(f'¡Éxito! ¡Todas tus conversiones fueron realizadas adecuadamente!')\n",
        "checar_conversiones(df_reto_1)"
      ]
    }
  ],
  "metadata": {
    "kernelspec": {
      "display_name": "Python 3",
      "language": "python",
      "name": "python3"
    },
    "language_info": {
      "codemirror_mode": {
        "name": "ipython",
        "version": 3
      },
      "file_extension": ".py",
      "mimetype": "text/x-python",
      "name": "python",
      "nbconvert_exporter": "python",
      "pygments_lexer": "ipython3",
      "version": "3.8.3"
    },
    "colab": {
      "provenance": []
    }
  },
  "nbformat": 4,
  "nbformat_minor": 0
}