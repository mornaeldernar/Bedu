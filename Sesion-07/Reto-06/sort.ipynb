{
  "cells": [
    {
      "cell_type": "markdown",
      "metadata": {
        "id": "grMg54D_7Ykp"
      },
      "source": [
        "## Reto 6: Sort\n",
        "\n",
        "### 1. Objetivos:\n",
        "    - Practicar el uso de `sort_values` para obtener datos específicos\n",
        "    \n",
        "---\n",
        "    \n",
        "### 2. Desarrollo:"
      ]
    },
    {
      "cell_type": "markdown",
      "metadata": {
        "id": "DM1ob5hX7Ykr"
      },
      "source": [
        "#### a) Reordenamiento para hallazgo de valores\n",
        "\n",
        "Vamos a trabajar sobre el dataset que guardaste en la sesión anterior. Tu Reto consiste en lo siguiente:\n",
        "\n",
        "1. Usa `sort_values` y `loc` para obtener el valor de la velocidad en kilómetros por segundo más lenta de todos los objetos que tenemos en el dataset y asígnalo a `velocidad_en_kilometros_por_segundo_de_objeto_mas_lento`.\n",
        "2. Usa `sort_values` y `loc` para obtener el valor del diámetro más grande medido que existe en nuestro dataset y asígnalo a `medida_de_diametro_mas_grande`"
      ]
    },
    {
      "cell_type": "code",
      "source": [
        "import pandas as pd"
      ],
      "metadata": {
        "id": "oj-Fv4wA7aRm"
      },
      "execution_count": 1,
      "outputs": []
    },
    {
      "cell_type": "code",
      "source": [
        "from google.colab import drive\n",
        "drive.mount('/content/drive')"
      ],
      "metadata": {
        "id": "gBLr6Tx67drz",
        "outputId": "91f33028-0dee-4baf-e46d-adeeee7664d9",
        "colab": {
          "base_uri": "https://localhost:8080/"
        }
      },
      "execution_count": 2,
      "outputs": [
        {
          "output_type": "stream",
          "name": "stdout",
          "text": [
            "Mounted at /content/drive\n"
          ]
        }
      ]
    },
    {
      "cell_type": "code",
      "source": [
        "df = pd.read_csv('/content/drive/MyDrive/BEDU/reto07_neat.csv')"
      ],
      "metadata": {
        "id": "EE_XAOnY7aO3"
      },
      "execution_count": 3,
      "outputs": []
    },
    {
      "cell_type": "code",
      "source": [
        "df.dtypes"
      ],
      "metadata": {
        "id": "PGWPcHhL7aMK",
        "outputId": "bffff9ee-8e2f-47ad-f059-c50f94a88230",
        "colab": {
          "base_uri": "https://localhost:8080/"
        }
      },
      "execution_count": 4,
      "outputs": [
        {
          "output_type": "execute_result",
          "data": {
            "text/plain": [
              "Unnamed: 0.1                                          int64\n",
              "Unnamed: 0                                            int64\n",
              "id_name                                              object\n",
              "is_potentially_hazardous_asteroid                      bool\n",
              "estimated_diameter.meters.estimated_diameter_min    float64\n",
              "estimated_diameter.meters.estimated_diameter_max    float64\n",
              "close_approach_date                                  object\n",
              "epoch_date_close_approach                            object\n",
              "orbiting_body                                        object\n",
              "relative_velocity.kilometers_per_second             float64\n",
              "relative_velocity.kilometers_per_hour               float64\n",
              "orbit_class_description                              object\n",
              "dtype: object"
            ]
          },
          "metadata": {},
          "execution_count": 4
        }
      ]
    },
    {
      "cell_type": "code",
      "source": [
        "df.sort_values('relative_velocity.kilometers_per_second')"
      ],
      "metadata": {
        "id": "FLM4VQdd7aJb",
        "outputId": "e25d9dfd-d2aa-4e1e-e942-74b624a51cb0",
        "colab": {
          "base_uri": "https://localhost:8080/",
          "height": 904
        }
      },
      "execution_count": 5,
      "outputs": [
        {
          "output_type": "execute_result",
          "data": {
            "text/plain": [
              "     Unnamed: 0.1  Unnamed: 0                     id_name  \\\n",
              "313           313         313         3781977-(2017 SV19)   \n",
              "177           177         177         3837847-(2019 AC11)   \n",
              "262           262         262          3447920-(2009 DF1)   \n",
              "248           248         248          3648878-(2013 TG6)   \n",
              "226           226         226         3438964-(2008 VA15)   \n",
              "..            ...         ...                         ...   \n",
              "151           151         151          3019640-(1999 JE1)   \n",
              "157           157         157   2508774-508774 (1999 JE1)   \n",
              "309           309         309  2455594-455594 (2004 SV55)   \n",
              "214           214         214          3446396-(2009 CT5)   \n",
              "195           195         195  2455176-455176 (1999 VF22)   \n",
              "\n",
              "     is_potentially_hazardous_asteroid  \\\n",
              "313                              False   \n",
              "177                              False   \n",
              "262                              False   \n",
              "248                              False   \n",
              "226                              False   \n",
              "..                                 ...   \n",
              "151                               True   \n",
              "157                               True   \n",
              "309                              False   \n",
              "214                              False   \n",
              "195                               True   \n",
              "\n",
              "     estimated_diameter.meters.estimated_diameter_min  \\\n",
              "313                                         26.580000   \n",
              "177                                        127.219879   \n",
              "262                                        201.629919   \n",
              "248                                         12.721988   \n",
              "226                                         48.367649   \n",
              "..                                                ...   \n",
              "151                                        278.326768   \n",
              "157                                        291.443905   \n",
              "309                                        699.125232   \n",
              "214                                        461.907460   \n",
              "195                                        192.555078   \n",
              "\n",
              "     estimated_diameter.meters.estimated_diameter_max close_approach_date  \\\n",
              "313                                         59.434687          1995-02-20   \n",
              "177                                        284.472297          1995-02-05   \n",
              "262                                        450.858206          1995-02-15   \n",
              "248                                         28.447230          1995-02-17   \n",
              "226                                        108.153351          1995-02-07   \n",
              "..                                                ...                 ...   \n",
              "151                                        622.357573          1995-01-26   \n",
              "157                                        651.688382          1995-01-26   \n",
              "309                                       1563.291544          1995-02-23   \n",
              "214                                       1032.856481          1995-02-08   \n",
              "195                                        430.566244          1995-02-01   \n",
              "\n",
              "    epoch_date_close_approach orbiting_body  \\\n",
              "313       1995-02-20 22:41:00         earth   \n",
              "177       1995-02-05 23:00:00         earth   \n",
              "262       1995-02-15 22:36:00         earth   \n",
              "248       1995-02-17 08:54:00         earth   \n",
              "226       1995-02-07 19:37:00         earth   \n",
              "..                        ...           ...   \n",
              "151       1995-01-26 08:00:00         earth   \n",
              "157       1995-01-26 09:25:00         earth   \n",
              "309       1995-02-23 15:11:00         earth   \n",
              "214       1995-02-08 12:55:00         earth   \n",
              "195       1995-02-01 00:09:00         earth   \n",
              "\n",
              "     relative_velocity.kilometers_per_second  \\\n",
              "313                                 0.681437   \n",
              "177                                 1.333357   \n",
              "262                                 2.164376   \n",
              "248                                 2.344519   \n",
              "226                                 2.637492   \n",
              "..                                       ...   \n",
              "151                                36.927161   \n",
              "157                                36.927161   \n",
              "309                                37.610169   \n",
              "214                                39.605328   \n",
              "195                                40.527428   \n",
              "\n",
              "     relative_velocity.kilometers_per_hour  \\\n",
              "313                            2453.172023   \n",
              "177                                    NaN   \n",
              "262                            7791.753083   \n",
              "248                            8440.267424   \n",
              "226                            9494.972594   \n",
              "..                                     ...   \n",
              "151                          132937.779226   \n",
              "157                          132937.779820   \n",
              "309                          135396.608951   \n",
              "214                          142579.180493   \n",
              "195                          145898.742108   \n",
              "\n",
              "                               orbit_class_description  \n",
              "313    Near-Earth-asteroid-orbits-which-cross-the-E...  \n",
              "177    Near-Earth-asteroid-orbits-similar-to-that-o...  \n",
              "262    Near-Earth-asteroid-orbits-which-cross-the-E...  \n",
              "248    Near-Earth-asteroid-orbits-similar-to-that-o...  \n",
              "226   An-asteroid-orbit-contained-entirely-within-t...  \n",
              "..                                                 ...  \n",
              "151   Near-Earth-asteroid-orbits-similar-to-that-of...  \n",
              "157   Near-Earth-asteroid-orbits-similar-to-that-of...  \n",
              "309    Near-Earth-asteroid-orbits-which-cross-the-E...  \n",
              "214    Near-Earth-asteroid-orbits-similar-to-that-o...  \n",
              "195   Near-Earth-asteroid-orbits-similar-to-that-of...  \n",
              "\n",
              "[333 rows x 12 columns]"
            ],
            "text/html": [
              "\n",
              "\n",
              "  <div id=\"df-957825c3-db09-48ea-864c-2c56629bfc29\">\n",
              "    <div class=\"colab-df-container\">\n",
              "      <div>\n",
              "<style scoped>\n",
              "    .dataframe tbody tr th:only-of-type {\n",
              "        vertical-align: middle;\n",
              "    }\n",
              "\n",
              "    .dataframe tbody tr th {\n",
              "        vertical-align: top;\n",
              "    }\n",
              "\n",
              "    .dataframe thead th {\n",
              "        text-align: right;\n",
              "    }\n",
              "</style>\n",
              "<table border=\"1\" class=\"dataframe\">\n",
              "  <thead>\n",
              "    <tr style=\"text-align: right;\">\n",
              "      <th></th>\n",
              "      <th>Unnamed: 0.1</th>\n",
              "      <th>Unnamed: 0</th>\n",
              "      <th>id_name</th>\n",
              "      <th>is_potentially_hazardous_asteroid</th>\n",
              "      <th>estimated_diameter.meters.estimated_diameter_min</th>\n",
              "      <th>estimated_diameter.meters.estimated_diameter_max</th>\n",
              "      <th>close_approach_date</th>\n",
              "      <th>epoch_date_close_approach</th>\n",
              "      <th>orbiting_body</th>\n",
              "      <th>relative_velocity.kilometers_per_second</th>\n",
              "      <th>relative_velocity.kilometers_per_hour</th>\n",
              "      <th>orbit_class_description</th>\n",
              "    </tr>\n",
              "  </thead>\n",
              "  <tbody>\n",
              "    <tr>\n",
              "      <th>313</th>\n",
              "      <td>313</td>\n",
              "      <td>313</td>\n",
              "      <td>3781977-(2017 SV19)</td>\n",
              "      <td>False</td>\n",
              "      <td>26.580000</td>\n",
              "      <td>59.434687</td>\n",
              "      <td>1995-02-20</td>\n",
              "      <td>1995-02-20 22:41:00</td>\n",
              "      <td>earth</td>\n",
              "      <td>0.681437</td>\n",
              "      <td>2453.172023</td>\n",
              "      <td>Near-Earth-asteroid-orbits-which-cross-the-E...</td>\n",
              "    </tr>\n",
              "    <tr>\n",
              "      <th>177</th>\n",
              "      <td>177</td>\n",
              "      <td>177</td>\n",
              "      <td>3837847-(2019 AC11)</td>\n",
              "      <td>False</td>\n",
              "      <td>127.219879</td>\n",
              "      <td>284.472297</td>\n",
              "      <td>1995-02-05</td>\n",
              "      <td>1995-02-05 23:00:00</td>\n",
              "      <td>earth</td>\n",
              "      <td>1.333357</td>\n",
              "      <td>NaN</td>\n",
              "      <td>Near-Earth-asteroid-orbits-similar-to-that-o...</td>\n",
              "    </tr>\n",
              "    <tr>\n",
              "      <th>262</th>\n",
              "      <td>262</td>\n",
              "      <td>262</td>\n",
              "      <td>3447920-(2009 DF1)</td>\n",
              "      <td>False</td>\n",
              "      <td>201.629919</td>\n",
              "      <td>450.858206</td>\n",
              "      <td>1995-02-15</td>\n",
              "      <td>1995-02-15 22:36:00</td>\n",
              "      <td>earth</td>\n",
              "      <td>2.164376</td>\n",
              "      <td>7791.753083</td>\n",
              "      <td>Near-Earth-asteroid-orbits-which-cross-the-E...</td>\n",
              "    </tr>\n",
              "    <tr>\n",
              "      <th>248</th>\n",
              "      <td>248</td>\n",
              "      <td>248</td>\n",
              "      <td>3648878-(2013 TG6)</td>\n",
              "      <td>False</td>\n",
              "      <td>12.721988</td>\n",
              "      <td>28.447230</td>\n",
              "      <td>1995-02-17</td>\n",
              "      <td>1995-02-17 08:54:00</td>\n",
              "      <td>earth</td>\n",
              "      <td>2.344519</td>\n",
              "      <td>8440.267424</td>\n",
              "      <td>Near-Earth-asteroid-orbits-similar-to-that-o...</td>\n",
              "    </tr>\n",
              "    <tr>\n",
              "      <th>226</th>\n",
              "      <td>226</td>\n",
              "      <td>226</td>\n",
              "      <td>3438964-(2008 VA15)</td>\n",
              "      <td>False</td>\n",
              "      <td>48.367649</td>\n",
              "      <td>108.153351</td>\n",
              "      <td>1995-02-07</td>\n",
              "      <td>1995-02-07 19:37:00</td>\n",
              "      <td>earth</td>\n",
              "      <td>2.637492</td>\n",
              "      <td>9494.972594</td>\n",
              "      <td>An-asteroid-orbit-contained-entirely-within-t...</td>\n",
              "    </tr>\n",
              "    <tr>\n",
              "      <th>...</th>\n",
              "      <td>...</td>\n",
              "      <td>...</td>\n",
              "      <td>...</td>\n",
              "      <td>...</td>\n",
              "      <td>...</td>\n",
              "      <td>...</td>\n",
              "      <td>...</td>\n",
              "      <td>...</td>\n",
              "      <td>...</td>\n",
              "      <td>...</td>\n",
              "      <td>...</td>\n",
              "      <td>...</td>\n",
              "    </tr>\n",
              "    <tr>\n",
              "      <th>151</th>\n",
              "      <td>151</td>\n",
              "      <td>151</td>\n",
              "      <td>3019640-(1999 JE1)</td>\n",
              "      <td>True</td>\n",
              "      <td>278.326768</td>\n",
              "      <td>622.357573</td>\n",
              "      <td>1995-01-26</td>\n",
              "      <td>1995-01-26 08:00:00</td>\n",
              "      <td>earth</td>\n",
              "      <td>36.927161</td>\n",
              "      <td>132937.779226</td>\n",
              "      <td>Near-Earth-asteroid-orbits-similar-to-that-of...</td>\n",
              "    </tr>\n",
              "    <tr>\n",
              "      <th>157</th>\n",
              "      <td>157</td>\n",
              "      <td>157</td>\n",
              "      <td>2508774-508774 (1999 JE1)</td>\n",
              "      <td>True</td>\n",
              "      <td>291.443905</td>\n",
              "      <td>651.688382</td>\n",
              "      <td>1995-01-26</td>\n",
              "      <td>1995-01-26 09:25:00</td>\n",
              "      <td>earth</td>\n",
              "      <td>36.927161</td>\n",
              "      <td>132937.779820</td>\n",
              "      <td>Near-Earth-asteroid-orbits-similar-to-that-of...</td>\n",
              "    </tr>\n",
              "    <tr>\n",
              "      <th>309</th>\n",
              "      <td>309</td>\n",
              "      <td>309</td>\n",
              "      <td>2455594-455594 (2004 SV55)</td>\n",
              "      <td>False</td>\n",
              "      <td>699.125232</td>\n",
              "      <td>1563.291544</td>\n",
              "      <td>1995-02-23</td>\n",
              "      <td>1995-02-23 15:11:00</td>\n",
              "      <td>earth</td>\n",
              "      <td>37.610169</td>\n",
              "      <td>135396.608951</td>\n",
              "      <td>Near-Earth-asteroid-orbits-which-cross-the-E...</td>\n",
              "    </tr>\n",
              "    <tr>\n",
              "      <th>214</th>\n",
              "      <td>214</td>\n",
              "      <td>214</td>\n",
              "      <td>3446396-(2009 CT5)</td>\n",
              "      <td>False</td>\n",
              "      <td>461.907460</td>\n",
              "      <td>1032.856481</td>\n",
              "      <td>1995-02-08</td>\n",
              "      <td>1995-02-08 12:55:00</td>\n",
              "      <td>earth</td>\n",
              "      <td>39.605328</td>\n",
              "      <td>142579.180493</td>\n",
              "      <td>Near-Earth-asteroid-orbits-similar-to-that-o...</td>\n",
              "    </tr>\n",
              "    <tr>\n",
              "      <th>195</th>\n",
              "      <td>195</td>\n",
              "      <td>195</td>\n",
              "      <td>2455176-455176 (1999 VF22)</td>\n",
              "      <td>True</td>\n",
              "      <td>192.555078</td>\n",
              "      <td>430.566244</td>\n",
              "      <td>1995-02-01</td>\n",
              "      <td>1995-02-01 00:09:00</td>\n",
              "      <td>earth</td>\n",
              "      <td>40.527428</td>\n",
              "      <td>145898.742108</td>\n",
              "      <td>Near-Earth-asteroid-orbits-similar-to-that-of...</td>\n",
              "    </tr>\n",
              "  </tbody>\n",
              "</table>\n",
              "<p>333 rows × 12 columns</p>\n",
              "</div>\n",
              "      <button class=\"colab-df-convert\" onclick=\"convertToInteractive('df-957825c3-db09-48ea-864c-2c56629bfc29')\"\n",
              "              title=\"Convert this dataframe to an interactive table.\"\n",
              "              style=\"display:none;\">\n",
              "\n",
              "  <svg xmlns=\"http://www.w3.org/2000/svg\" height=\"24px\"viewBox=\"0 0 24 24\"\n",
              "       width=\"24px\">\n",
              "    <path d=\"M0 0h24v24H0V0z\" fill=\"none\"/>\n",
              "    <path d=\"M18.56 5.44l.94 2.06.94-2.06 2.06-.94-2.06-.94-.94-2.06-.94 2.06-2.06.94zm-11 1L8.5 8.5l.94-2.06 2.06-.94-2.06-.94L8.5 2.5l-.94 2.06-2.06.94zm10 10l.94 2.06.94-2.06 2.06-.94-2.06-.94-.94-2.06-.94 2.06-2.06.94z\"/><path d=\"M17.41 7.96l-1.37-1.37c-.4-.4-.92-.59-1.43-.59-.52 0-1.04.2-1.43.59L10.3 9.45l-7.72 7.72c-.78.78-.78 2.05 0 2.83L4 21.41c.39.39.9.59 1.41.59.51 0 1.02-.2 1.41-.59l7.78-7.78 2.81-2.81c.8-.78.8-2.07 0-2.86zM5.41 20L4 18.59l7.72-7.72 1.47 1.35L5.41 20z\"/>\n",
              "  </svg>\n",
              "      </button>\n",
              "\n",
              "\n",
              "\n",
              "    <div id=\"df-7ee19d4e-c8b9-4b8d-8dfe-f3e44537795a\">\n",
              "      <button class=\"colab-df-quickchart\" onclick=\"quickchart('df-7ee19d4e-c8b9-4b8d-8dfe-f3e44537795a')\"\n",
              "              title=\"Suggest charts.\"\n",
              "              style=\"display:none;\">\n",
              "\n",
              "<svg xmlns=\"http://www.w3.org/2000/svg\" height=\"24px\"viewBox=\"0 0 24 24\"\n",
              "     width=\"24px\">\n",
              "    <g>\n",
              "        <path d=\"M19 3H5c-1.1 0-2 .9-2 2v14c0 1.1.9 2 2 2h14c1.1 0 2-.9 2-2V5c0-1.1-.9-2-2-2zM9 17H7v-7h2v7zm4 0h-2V7h2v10zm4 0h-2v-4h2v4z\"/>\n",
              "    </g>\n",
              "</svg>\n",
              "      </button>\n",
              "    </div>\n",
              "\n",
              "<style>\n",
              "  .colab-df-quickchart {\n",
              "    background-color: #E8F0FE;\n",
              "    border: none;\n",
              "    border-radius: 50%;\n",
              "    cursor: pointer;\n",
              "    display: none;\n",
              "    fill: #1967D2;\n",
              "    height: 32px;\n",
              "    padding: 0 0 0 0;\n",
              "    width: 32px;\n",
              "  }\n",
              "\n",
              "  .colab-df-quickchart:hover {\n",
              "    background-color: #E2EBFA;\n",
              "    box-shadow: 0px 1px 2px rgba(60, 64, 67, 0.3), 0px 1px 3px 1px rgba(60, 64, 67, 0.15);\n",
              "    fill: #174EA6;\n",
              "  }\n",
              "\n",
              "  [theme=dark] .colab-df-quickchart {\n",
              "    background-color: #3B4455;\n",
              "    fill: #D2E3FC;\n",
              "  }\n",
              "\n",
              "  [theme=dark] .colab-df-quickchart:hover {\n",
              "    background-color: #434B5C;\n",
              "    box-shadow: 0px 1px 3px 1px rgba(0, 0, 0, 0.15);\n",
              "    filter: drop-shadow(0px 1px 2px rgba(0, 0, 0, 0.3));\n",
              "    fill: #FFFFFF;\n",
              "  }\n",
              "</style>\n",
              "\n",
              "    <script>\n",
              "      async function quickchart(key) {\n",
              "        const containerElement = document.querySelector('#' + key);\n",
              "        const charts = await google.colab.kernel.invokeFunction(\n",
              "            'suggestCharts', [key], {});\n",
              "      }\n",
              "    </script>\n",
              "\n",
              "      <script>\n",
              "\n",
              "function displayQuickchartButton(domScope) {\n",
              "  let quickchartButtonEl =\n",
              "    domScope.querySelector('#df-7ee19d4e-c8b9-4b8d-8dfe-f3e44537795a button.colab-df-quickchart');\n",
              "  quickchartButtonEl.style.display =\n",
              "    google.colab.kernel.accessAllowed ? 'block' : 'none';\n",
              "}\n",
              "\n",
              "        displayQuickchartButton(document);\n",
              "      </script>\n",
              "      <style>\n",
              "    .colab-df-container {\n",
              "      display:flex;\n",
              "      flex-wrap:wrap;\n",
              "      gap: 12px;\n",
              "    }\n",
              "\n",
              "    .colab-df-convert {\n",
              "      background-color: #E8F0FE;\n",
              "      border: none;\n",
              "      border-radius: 50%;\n",
              "      cursor: pointer;\n",
              "      display: none;\n",
              "      fill: #1967D2;\n",
              "      height: 32px;\n",
              "      padding: 0 0 0 0;\n",
              "      width: 32px;\n",
              "    }\n",
              "\n",
              "    .colab-df-convert:hover {\n",
              "      background-color: #E2EBFA;\n",
              "      box-shadow: 0px 1px 2px rgba(60, 64, 67, 0.3), 0px 1px 3px 1px rgba(60, 64, 67, 0.15);\n",
              "      fill: #174EA6;\n",
              "    }\n",
              "\n",
              "    [theme=dark] .colab-df-convert {\n",
              "      background-color: #3B4455;\n",
              "      fill: #D2E3FC;\n",
              "    }\n",
              "\n",
              "    [theme=dark] .colab-df-convert:hover {\n",
              "      background-color: #434B5C;\n",
              "      box-shadow: 0px 1px 3px 1px rgba(0, 0, 0, 0.15);\n",
              "      filter: drop-shadow(0px 1px 2px rgba(0, 0, 0, 0.3));\n",
              "      fill: #FFFFFF;\n",
              "    }\n",
              "  </style>\n",
              "\n",
              "      <script>\n",
              "        const buttonEl =\n",
              "          document.querySelector('#df-957825c3-db09-48ea-864c-2c56629bfc29 button.colab-df-convert');\n",
              "        buttonEl.style.display =\n",
              "          google.colab.kernel.accessAllowed ? 'block' : 'none';\n",
              "\n",
              "        async function convertToInteractive(key) {\n",
              "          const element = document.querySelector('#df-957825c3-db09-48ea-864c-2c56629bfc29');\n",
              "          const dataTable =\n",
              "            await google.colab.kernel.invokeFunction('convertToInteractive',\n",
              "                                                     [key], {});\n",
              "          if (!dataTable) return;\n",
              "\n",
              "          const docLinkHtml = 'Like what you see? Visit the ' +\n",
              "            '<a target=\"_blank\" href=https://colab.research.google.com/notebooks/data_table.ipynb>data table notebook</a>'\n",
              "            + ' to learn more about interactive tables.';\n",
              "          element.innerHTML = '';\n",
              "          dataTable['output_type'] = 'display_data';\n",
              "          await google.colab.output.renderOutput(dataTable, element);\n",
              "          const docLink = document.createElement('div');\n",
              "          docLink.innerHTML = docLinkHtml;\n",
              "          element.appendChild(docLink);\n",
              "        }\n",
              "      </script>\n",
              "    </div>\n",
              "  </div>\n"
            ]
          },
          "metadata": {},
          "execution_count": 5
        }
      ]
    },
    {
      "cell_type": "code",
      "source": [
        "df.sort_values('relative_velocity.kilometers_per_second').head(1)['relative_velocity.kilometers_per_second']"
      ],
      "metadata": {
        "id": "zzw15dl98cP9",
        "outputId": "6f5d5fa6-c71b-4a10-d374-da90659437f4",
        "colab": {
          "base_uri": "https://localhost:8080/"
        }
      },
      "execution_count": 22,
      "outputs": [
        {
          "output_type": "execute_result",
          "data": {
            "text/plain": [
              "313    0.681437\n",
              "Name: relative_velocity.kilometers_per_second, dtype: float64"
            ]
          },
          "metadata": {},
          "execution_count": 22
        }
      ]
    },
    {
      "cell_type": "code",
      "source": [],
      "metadata": {
        "id": "9ziNetCv8cKg"
      },
      "execution_count": null,
      "outputs": []
    },
    {
      "cell_type": "code",
      "execution_count": 40,
      "metadata": {
        "id": "q_unSAPO7Ykr"
      },
      "outputs": [],
      "source": [
        "velocidad_en_kilometros_por_segundo_de_objeto_mas_lento = df.sort_values('relative_velocity.kilometers_per_second').iloc[0]['relative_velocity.kilometers_per_second']\n",
        "medida_de_diametro_mas_grande = df.sort_values('estimated_diameter.meters.estimated_diameter_max',ascending=False).iloc[0]['estimated_diameter.meters.estimated_diameter_max']"
      ]
    },
    {
      "cell_type": "code",
      "source": [
        "velocidad_en_kilometros_por_segundo_de_objeto_mas_lento"
      ],
      "metadata": {
        "id": "_FH9fbuf9CrD",
        "outputId": "77e8d819-a7a9-4dcb-e9ab-dbf281c1f2c6",
        "colab": {
          "base_uri": "https://localhost:8080/"
        }
      },
      "execution_count": 39,
      "outputs": [
        {
          "output_type": "execute_result",
          "data": {
            "text/plain": [
              "0.681436673"
            ]
          },
          "metadata": {},
          "execution_count": 39
        }
      ]
    },
    {
      "cell_type": "code",
      "source": [
        "medida_de_diametro_mas_grande"
      ],
      "metadata": {
        "id": "b1zEVjxG8Lsd",
        "outputId": "cfa91fd6-9179-468c-d866-f668d1835fa7",
        "colab": {
          "base_uri": "https://localhost:8080/"
        }
      },
      "execution_count": 41,
      "outputs": [
        {
          "output_type": "execute_result",
          "data": {
            "text/plain": [
              "6516.883821679"
            ]
          },
          "metadata": {},
          "execution_count": 41
        }
      ]
    },
    {
      "cell_type": "markdown",
      "metadata": {
        "id": "gWcOB33Z7Yks"
      },
      "source": [
        "Pídele a tu experta la función de verificación `corroborar_hallazgos` (encontrada en el archivo `helpers.py` de la carpeta donde se encuentra este Reto), pégala debajo y corre la celda para verificar tu resultado:"
      ]
    },
    {
      "cell_type": "code",
      "execution_count": 42,
      "metadata": {
        "id": "H7Uoqhqe7Ykt"
      },
      "outputs": [],
      "source": [
        "# Pega aquí la función de verificación\n",
        "def corroborar_hallazgos(velocidad_en_kilometros_por_segundo_de_objeto_mas_lento, medida_de_diametro_mas_grande):\n",
        "\n",
        "    assert velocidad_en_kilometros_por_segundo_de_objeto_mas_lento == 0.681436673, 'Esa no es la velocidad en kilómetros por segundo del objeto más lento'\n",
        "    assert medida_de_diametro_mas_grande == 6516.883821679, 'Ese no es el diámetro más grande medido en nuestro dataset'\n",
        "\n",
        "    print('Tus hallazgos son correctos. ¡Bien hecho!')"
      ]
    },
    {
      "cell_type": "code",
      "source": [
        "corroborar_hallazgos(velocidad_en_kilometros_por_segundo_de_objeto_mas_lento, medida_de_diametro_mas_grande)"
      ],
      "metadata": {
        "id": "0Cl7OThY9J-8",
        "outputId": "89f7d68f-20af-4a2c-a000-3f1e7db08c2b",
        "colab": {
          "base_uri": "https://localhost:8080/"
        }
      },
      "execution_count": 43,
      "outputs": [
        {
          "output_type": "stream",
          "name": "stdout",
          "text": [
            "Tus hallazgos son correctos. ¡Bien hecho!\n"
          ]
        }
      ]
    }
  ],
  "metadata": {
    "kernelspec": {
      "display_name": "Python 3",
      "language": "python",
      "name": "python3"
    },
    "language_info": {
      "codemirror_mode": {
        "name": "ipython",
        "version": 3
      },
      "file_extension": ".py",
      "mimetype": "text/x-python",
      "name": "python",
      "nbconvert_exporter": "python",
      "pygments_lexer": "ipython3",
      "version": "3.8.3"
    },
    "colab": {
      "provenance": []
    }
  },
  "nbformat": 4,
  "nbformat_minor": 0
}