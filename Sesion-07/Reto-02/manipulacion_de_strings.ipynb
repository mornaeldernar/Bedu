{
  "cells": [
    {
      "cell_type": "markdown",
      "metadata": {
        "id": "Vs1iwN394Pug"
      },
      "source": [
        "## Reto 2: Manipulación de Strings\n",
        "\n",
        "### 1. Objetivos:\n",
        "    - Practicar manipular `strings` usando métodos como `split`, `title`, `strip, etc.\n",
        " \n",
        "---\n",
        "    \n",
        "### 2. Desarrollo:"
      ]
    },
    {
      "cell_type": "markdown",
      "metadata": {
        "id": "MBVJDLhJ4Puo"
      },
      "source": [
        "#### Limpiando strings usando la propiedad `str`\n",
        "\n",
        "Vamos a trabajar en la versión del dataset que guardaste en el reto pasado. Las acciones que tienes que tomar en este Reto son las siguientes:\n",
        "\n",
        "1. Reemplaza los guiones en las `strings` de la columna `orbit_class_description` por espacios.\n",
        "2. Elimina los espacios vacíos al principio y final de las `strings` de la misma columna.\n",
        "3. Hay una columna llamada `id_name` que contiene el 'id' y el nombre de cada objeto separados por un guión. Separa estos datos en dos columnas llamadas `id` y `name`.\n",
        "4. Haz que las `strings` de la columna `orbiting_body` empiecen con mayúscula.\n",
        "5. Asigna el `DataFrame` resultante a la variable `df_reto_2`.\n",
        "6. Guarda tu resultado en un archivo .csv."
      ]
    },
    {
      "cell_type": "code",
      "source": [
        "import pandas as pd"
      ],
      "metadata": {
        "id": "MNX4JM_x4YSg"
      },
      "execution_count": 1,
      "outputs": []
    },
    {
      "cell_type": "code",
      "source": [
        "df = pd.read_csv('near_earth_objects-jan_feb_1995-reto_1.csv', index_col = 0)\n",
        "df.head()"
      ],
      "metadata": {
        "id": "rVaHGGzz4YOP",
        "outputId": "729b372d-fc37-4b77-c604-01b3a0cbd0b4",
        "colab": {
          "base_uri": "https://localhost:8080/",
          "height": 478
        }
      },
      "execution_count": 2,
      "outputs": [
        {
          "output_type": "execute_result",
          "data": {
            "text/plain": [
              "   Unnamed: 0.1                     id_name  \\\n",
              "0             0  2154652-154652 (2004 EP20)   \n",
              "1             1           3153509-(2003 HM)   \n",
              "3             3          3837644-(2019 AY3)   \n",
              "4             4           3843493-(2019 PY)   \n",
              "5             5         3765015-(2016 WR48)   \n",
              "\n",
              "   is_potentially_hazardous_asteroid  \\\n",
              "0                              False   \n",
              "1                               True   \n",
              "3                              False   \n",
              "4                              False   \n",
              "5                              False   \n",
              "\n",
              "   estimated_diameter.meters.estimated_diameter_min  \\\n",
              "0                                        483.676488   \n",
              "1                                         96.506147   \n",
              "3                                         46.190746   \n",
              "4                                         22.108281   \n",
              "5                                        160.160338   \n",
              "\n",
              "   estimated_diameter.meters.estimated_diameter_max  \\\n",
              "0                                       1081.533507   \n",
              "1                                        215.794305   \n",
              "3                                        103.285648   \n",
              "4                                         49.435619   \n",
              "5                                        358.129403   \n",
              "\n",
              "          close_approach_date   epoch_date_close_approach orbiting_body  \\\n",
              "0  1995-01-07 00:00:00.000000  1970-01-01 00:13:09.467580         earth   \n",
              "1  1995-01-07 00:00:00.000000  1970-01-01 00:13:09.491340         earth   \n",
              "3  1995-01-07 00:00:00.000000  1970-01-01 00:13:09.513900         earth   \n",
              "4  1995-01-07 00:00:00.000000  1970-01-01 00:13:09.446700         earth   \n",
              "5  1995-01-08 00:00:00.000000  1970-01-01 00:13:09.569160         earth   \n",
              "\n",
              "   relative_velocity.kilometers_per_second  \\\n",
              "0                                16.142864   \n",
              "1                                12.351044   \n",
              "3                                22.478615   \n",
              "4                                 4.998691   \n",
              "5                                 7.465089   \n",
              "\n",
              "   relative_velocity.kilometers_per_hour  \\\n",
              "0                           58114.308667   \n",
              "1                           44463.757734   \n",
              "3                           80923.015021   \n",
              "4                           17995.288355   \n",
              "5                           26874.321682   \n",
              "\n",
              "                             orbit_class_description  \n",
              "0    Near-Earth-asteroid-orbits-similar-to-that-o...  \n",
              "1    Near-Earth-asteroid-orbits-which-cross-the-E...  \n",
              "3    Near-Earth-asteroid-orbits-similar-to-that-o...  \n",
              "4   Near-Earth-asteroid-orbits-similar-to-that-of...  \n",
              "5   An-asteroid-orbit-contained-entirely-within-t...  "
            ],
            "text/html": [
              "\n",
              "  <div id=\"df-92929fb9-91a4-49bb-844d-d07f1fed5301\">\n",
              "    <div class=\"colab-df-container\">\n",
              "      <div>\n",
              "<style scoped>\n",
              "    .dataframe tbody tr th:only-of-type {\n",
              "        vertical-align: middle;\n",
              "    }\n",
              "\n",
              "    .dataframe tbody tr th {\n",
              "        vertical-align: top;\n",
              "    }\n",
              "\n",
              "    .dataframe thead th {\n",
              "        text-align: right;\n",
              "    }\n",
              "</style>\n",
              "<table border=\"1\" class=\"dataframe\">\n",
              "  <thead>\n",
              "    <tr style=\"text-align: right;\">\n",
              "      <th></th>\n",
              "      <th>Unnamed: 0.1</th>\n",
              "      <th>id_name</th>\n",
              "      <th>is_potentially_hazardous_asteroid</th>\n",
              "      <th>estimated_diameter.meters.estimated_diameter_min</th>\n",
              "      <th>estimated_diameter.meters.estimated_diameter_max</th>\n",
              "      <th>close_approach_date</th>\n",
              "      <th>epoch_date_close_approach</th>\n",
              "      <th>orbiting_body</th>\n",
              "      <th>relative_velocity.kilometers_per_second</th>\n",
              "      <th>relative_velocity.kilometers_per_hour</th>\n",
              "      <th>orbit_class_description</th>\n",
              "    </tr>\n",
              "  </thead>\n",
              "  <tbody>\n",
              "    <tr>\n",
              "      <th>0</th>\n",
              "      <td>0</td>\n",
              "      <td>2154652-154652 (2004 EP20)</td>\n",
              "      <td>False</td>\n",
              "      <td>483.676488</td>\n",
              "      <td>1081.533507</td>\n",
              "      <td>1995-01-07 00:00:00.000000</td>\n",
              "      <td>1970-01-01 00:13:09.467580</td>\n",
              "      <td>earth</td>\n",
              "      <td>16.142864</td>\n",
              "      <td>58114.308667</td>\n",
              "      <td>Near-Earth-asteroid-orbits-similar-to-that-o...</td>\n",
              "    </tr>\n",
              "    <tr>\n",
              "      <th>1</th>\n",
              "      <td>1</td>\n",
              "      <td>3153509-(2003 HM)</td>\n",
              "      <td>True</td>\n",
              "      <td>96.506147</td>\n",
              "      <td>215.794305</td>\n",
              "      <td>1995-01-07 00:00:00.000000</td>\n",
              "      <td>1970-01-01 00:13:09.491340</td>\n",
              "      <td>earth</td>\n",
              "      <td>12.351044</td>\n",
              "      <td>44463.757734</td>\n",
              "      <td>Near-Earth-asteroid-orbits-which-cross-the-E...</td>\n",
              "    </tr>\n",
              "    <tr>\n",
              "      <th>3</th>\n",
              "      <td>3</td>\n",
              "      <td>3837644-(2019 AY3)</td>\n",
              "      <td>False</td>\n",
              "      <td>46.190746</td>\n",
              "      <td>103.285648</td>\n",
              "      <td>1995-01-07 00:00:00.000000</td>\n",
              "      <td>1970-01-01 00:13:09.513900</td>\n",
              "      <td>earth</td>\n",
              "      <td>22.478615</td>\n",
              "      <td>80923.015021</td>\n",
              "      <td>Near-Earth-asteroid-orbits-similar-to-that-o...</td>\n",
              "    </tr>\n",
              "    <tr>\n",
              "      <th>4</th>\n",
              "      <td>4</td>\n",
              "      <td>3843493-(2019 PY)</td>\n",
              "      <td>False</td>\n",
              "      <td>22.108281</td>\n",
              "      <td>49.435619</td>\n",
              "      <td>1995-01-07 00:00:00.000000</td>\n",
              "      <td>1970-01-01 00:13:09.446700</td>\n",
              "      <td>earth</td>\n",
              "      <td>4.998691</td>\n",
              "      <td>17995.288355</td>\n",
              "      <td>Near-Earth-asteroid-orbits-similar-to-that-of...</td>\n",
              "    </tr>\n",
              "    <tr>\n",
              "      <th>5</th>\n",
              "      <td>5</td>\n",
              "      <td>3765015-(2016 WR48)</td>\n",
              "      <td>False</td>\n",
              "      <td>160.160338</td>\n",
              "      <td>358.129403</td>\n",
              "      <td>1995-01-08 00:00:00.000000</td>\n",
              "      <td>1970-01-01 00:13:09.569160</td>\n",
              "      <td>earth</td>\n",
              "      <td>7.465089</td>\n",
              "      <td>26874.321682</td>\n",
              "      <td>An-asteroid-orbit-contained-entirely-within-t...</td>\n",
              "    </tr>\n",
              "  </tbody>\n",
              "</table>\n",
              "</div>\n",
              "      <button class=\"colab-df-convert\" onclick=\"convertToInteractive('df-92929fb9-91a4-49bb-844d-d07f1fed5301')\"\n",
              "              title=\"Convert this dataframe to an interactive table.\"\n",
              "              style=\"display:none;\">\n",
              "        \n",
              "  <svg xmlns=\"http://www.w3.org/2000/svg\" height=\"24px\"viewBox=\"0 0 24 24\"\n",
              "       width=\"24px\">\n",
              "    <path d=\"M0 0h24v24H0V0z\" fill=\"none\"/>\n",
              "    <path d=\"M18.56 5.44l.94 2.06.94-2.06 2.06-.94-2.06-.94-.94-2.06-.94 2.06-2.06.94zm-11 1L8.5 8.5l.94-2.06 2.06-.94-2.06-.94L8.5 2.5l-.94 2.06-2.06.94zm10 10l.94 2.06.94-2.06 2.06-.94-2.06-.94-.94-2.06-.94 2.06-2.06.94z\"/><path d=\"M17.41 7.96l-1.37-1.37c-.4-.4-.92-.59-1.43-.59-.52 0-1.04.2-1.43.59L10.3 9.45l-7.72 7.72c-.78.78-.78 2.05 0 2.83L4 21.41c.39.39.9.59 1.41.59.51 0 1.02-.2 1.41-.59l7.78-7.78 2.81-2.81c.8-.78.8-2.07 0-2.86zM5.41 20L4 18.59l7.72-7.72 1.47 1.35L5.41 20z\"/>\n",
              "  </svg>\n",
              "      </button>\n",
              "      \n",
              "  <style>\n",
              "    .colab-df-container {\n",
              "      display:flex;\n",
              "      flex-wrap:wrap;\n",
              "      gap: 12px;\n",
              "    }\n",
              "\n",
              "    .colab-df-convert {\n",
              "      background-color: #E8F0FE;\n",
              "      border: none;\n",
              "      border-radius: 50%;\n",
              "      cursor: pointer;\n",
              "      display: none;\n",
              "      fill: #1967D2;\n",
              "      height: 32px;\n",
              "      padding: 0 0 0 0;\n",
              "      width: 32px;\n",
              "    }\n",
              "\n",
              "    .colab-df-convert:hover {\n",
              "      background-color: #E2EBFA;\n",
              "      box-shadow: 0px 1px 2px rgba(60, 64, 67, 0.3), 0px 1px 3px 1px rgba(60, 64, 67, 0.15);\n",
              "      fill: #174EA6;\n",
              "    }\n",
              "\n",
              "    [theme=dark] .colab-df-convert {\n",
              "      background-color: #3B4455;\n",
              "      fill: #D2E3FC;\n",
              "    }\n",
              "\n",
              "    [theme=dark] .colab-df-convert:hover {\n",
              "      background-color: #434B5C;\n",
              "      box-shadow: 0px 1px 3px 1px rgba(0, 0, 0, 0.15);\n",
              "      filter: drop-shadow(0px 1px 2px rgba(0, 0, 0, 0.3));\n",
              "      fill: #FFFFFF;\n",
              "    }\n",
              "  </style>\n",
              "\n",
              "      <script>\n",
              "        const buttonEl =\n",
              "          document.querySelector('#df-92929fb9-91a4-49bb-844d-d07f1fed5301 button.colab-df-convert');\n",
              "        buttonEl.style.display =\n",
              "          google.colab.kernel.accessAllowed ? 'block' : 'none';\n",
              "\n",
              "        async function convertToInteractive(key) {\n",
              "          const element = document.querySelector('#df-92929fb9-91a4-49bb-844d-d07f1fed5301');\n",
              "          const dataTable =\n",
              "            await google.colab.kernel.invokeFunction('convertToInteractive',\n",
              "                                                     [key], {});\n",
              "          if (!dataTable) return;\n",
              "\n",
              "          const docLinkHtml = 'Like what you see? Visit the ' +\n",
              "            '<a target=\"_blank\" href=https://colab.research.google.com/notebooks/data_table.ipynb>data table notebook</a>'\n",
              "            + ' to learn more about interactive tables.';\n",
              "          element.innerHTML = '';\n",
              "          dataTable['output_type'] = 'display_data';\n",
              "          await google.colab.output.renderOutput(dataTable, element);\n",
              "          const docLink = document.createElement('div');\n",
              "          docLink.innerHTML = docLinkHtml;\n",
              "          element.appendChild(docLink);\n",
              "        }\n",
              "      </script>\n",
              "    </div>\n",
              "  </div>\n",
              "  "
            ]
          },
          "metadata": {},
          "execution_count": 2
        }
      ]
    },
    {
      "cell_type": "code",
      "source": [
        "df['orbit_class_description'] = df['orbit_class_description'].str.replace(\"-\",\" \")"
      ],
      "metadata": {
        "id": "zpA-MvMv4oNp"
      },
      "execution_count": 5,
      "outputs": []
    },
    {
      "cell_type": "code",
      "source": [
        "df['orbit_class_description'][0]"
      ],
      "metadata": {
        "id": "Tg2OptDz5Bjc",
        "outputId": "77b4c5a3-7faa-41bf-95ba-51853160b0ef",
        "colab": {
          "base_uri": "https://localhost:8080/",
          "height": 36
        }
      },
      "execution_count": 6,
      "outputs": [
        {
          "output_type": "execute_result",
          "data": {
            "text/plain": [
              "'  Near Earth asteroid orbits similar to that of 2062 Aten  '"
            ],
            "application/vnd.google.colaboratory.intrinsic+json": {
              "type": "string"
            }
          },
          "metadata": {},
          "execution_count": 6
        }
      ]
    },
    {
      "cell_type": "code",
      "source": [
        "df['orbit_class_description'] = df['orbit_class_description'].str.strip()"
      ],
      "metadata": {
        "id": "DUR7ANrt5Ecr"
      },
      "execution_count": 7,
      "outputs": []
    },
    {
      "cell_type": "code",
      "source": [
        "df['orbit_class_description'][0]"
      ],
      "metadata": {
        "id": "xNyVlgtb5EZw",
        "outputId": "d2220bdd-fb2b-4df6-ff88-1c23b878cca5",
        "colab": {
          "base_uri": "https://localhost:8080/",
          "height": 36
        }
      },
      "execution_count": 8,
      "outputs": [
        {
          "output_type": "execute_result",
          "data": {
            "text/plain": [
              "'Near Earth asteroid orbits similar to that of 2062 Aten'"
            ],
            "application/vnd.google.colaboratory.intrinsic+json": {
              "type": "string"
            }
          },
          "metadata": {},
          "execution_count": 8
        }
      ]
    },
    {
      "cell_type": "code",
      "source": [
        "df['id_name']"
      ],
      "metadata": {
        "id": "ul3YP1Ar5UHV",
        "outputId": "317f8c36-793a-4ab3-a828-c2e34cd72c89",
        "colab": {
          "base_uri": "https://localhost:8080/"
        }
      },
      "execution_count": 9,
      "outputs": [
        {
          "output_type": "execute_result",
          "data": {
            "text/plain": [
              "0       2154652-154652 (2004 EP20)\n",
              "1                3153509-(2003 HM)\n",
              "3               3837644-(2019 AY3)\n",
              "4                3843493-(2019 PY)\n",
              "5              3765015-(2016 WR48)\n",
              "                  ...             \n",
              "327    2311554-311554 (2006 BQ147)\n",
              "328    2267136-267136 (2000 EF104)\n",
              "329             3360486-(2006 WE4)\n",
              "330             3656919-(2014 BG3)\n",
              "331             3803762-(2018 GY4)\n",
              "Name: id_name, Length: 301, dtype: object"
            ]
          },
          "metadata": {},
          "execution_count": 9
        }
      ]
    },
    {
      "cell_type": "code",
      "source": [
        "df[['id','name']] = df['id_name'].str.split('-',expand=True)"
      ],
      "metadata": {
        "id": "gLMrkh025YuE"
      },
      "execution_count": 10,
      "outputs": []
    },
    {
      "cell_type": "code",
      "source": [
        "df.head()"
      ],
      "metadata": {
        "id": "a5_DJ7lp5EWk",
        "outputId": "8c36e2a0-df4b-48cf-c7e9-dabdae140f12",
        "colab": {
          "base_uri": "https://localhost:8080/",
          "height": 478
        }
      },
      "execution_count": 11,
      "outputs": [
        {
          "output_type": "execute_result",
          "data": {
            "text/plain": [
              "   Unnamed: 0.1                     id_name  \\\n",
              "0             0  2154652-154652 (2004 EP20)   \n",
              "1             1           3153509-(2003 HM)   \n",
              "3             3          3837644-(2019 AY3)   \n",
              "4             4           3843493-(2019 PY)   \n",
              "5             5         3765015-(2016 WR48)   \n",
              "\n",
              "   is_potentially_hazardous_asteroid  \\\n",
              "0                              False   \n",
              "1                               True   \n",
              "3                              False   \n",
              "4                              False   \n",
              "5                              False   \n",
              "\n",
              "   estimated_diameter.meters.estimated_diameter_min  \\\n",
              "0                                        483.676488   \n",
              "1                                         96.506147   \n",
              "3                                         46.190746   \n",
              "4                                         22.108281   \n",
              "5                                        160.160338   \n",
              "\n",
              "   estimated_diameter.meters.estimated_diameter_max  \\\n",
              "0                                       1081.533507   \n",
              "1                                        215.794305   \n",
              "3                                        103.285648   \n",
              "4                                         49.435619   \n",
              "5                                        358.129403   \n",
              "\n",
              "          close_approach_date   epoch_date_close_approach orbiting_body  \\\n",
              "0  1995-01-07 00:00:00.000000  1970-01-01 00:13:09.467580         earth   \n",
              "1  1995-01-07 00:00:00.000000  1970-01-01 00:13:09.491340         earth   \n",
              "3  1995-01-07 00:00:00.000000  1970-01-01 00:13:09.513900         earth   \n",
              "4  1995-01-07 00:00:00.000000  1970-01-01 00:13:09.446700         earth   \n",
              "5  1995-01-08 00:00:00.000000  1970-01-01 00:13:09.569160         earth   \n",
              "\n",
              "   relative_velocity.kilometers_per_second  \\\n",
              "0                                16.142864   \n",
              "1                                12.351044   \n",
              "3                                22.478615   \n",
              "4                                 4.998691   \n",
              "5                                 7.465089   \n",
              "\n",
              "   relative_velocity.kilometers_per_hour  \\\n",
              "0                           58114.308667   \n",
              "1                           44463.757734   \n",
              "3                           80923.015021   \n",
              "4                           17995.288355   \n",
              "5                           26874.321682   \n",
              "\n",
              "                             orbit_class_description       id  \\\n",
              "0  Near Earth asteroid orbits similar to that of ...  2154652   \n",
              "1  Near Earth asteroid orbits which cross the Ear...  3153509   \n",
              "3  Near Earth asteroid orbits similar to that of ...  3837644   \n",
              "4  Near Earth asteroid orbits similar to that of ...  3843493   \n",
              "5  An asteroid orbit contained entirely within th...  3765015   \n",
              "\n",
              "                 name  \n",
              "0  154652 (2004 EP20)  \n",
              "1           (2003 HM)  \n",
              "3          (2019 AY3)  \n",
              "4           (2019 PY)  \n",
              "5         (2016 WR48)  "
            ],
            "text/html": [
              "\n",
              "  <div id=\"df-5ef70bb4-a193-4d65-a738-d1c4951192c8\">\n",
              "    <div class=\"colab-df-container\">\n",
              "      <div>\n",
              "<style scoped>\n",
              "    .dataframe tbody tr th:only-of-type {\n",
              "        vertical-align: middle;\n",
              "    }\n",
              "\n",
              "    .dataframe tbody tr th {\n",
              "        vertical-align: top;\n",
              "    }\n",
              "\n",
              "    .dataframe thead th {\n",
              "        text-align: right;\n",
              "    }\n",
              "</style>\n",
              "<table border=\"1\" class=\"dataframe\">\n",
              "  <thead>\n",
              "    <tr style=\"text-align: right;\">\n",
              "      <th></th>\n",
              "      <th>Unnamed: 0.1</th>\n",
              "      <th>id_name</th>\n",
              "      <th>is_potentially_hazardous_asteroid</th>\n",
              "      <th>estimated_diameter.meters.estimated_diameter_min</th>\n",
              "      <th>estimated_diameter.meters.estimated_diameter_max</th>\n",
              "      <th>close_approach_date</th>\n",
              "      <th>epoch_date_close_approach</th>\n",
              "      <th>orbiting_body</th>\n",
              "      <th>relative_velocity.kilometers_per_second</th>\n",
              "      <th>relative_velocity.kilometers_per_hour</th>\n",
              "      <th>orbit_class_description</th>\n",
              "      <th>id</th>\n",
              "      <th>name</th>\n",
              "    </tr>\n",
              "  </thead>\n",
              "  <tbody>\n",
              "    <tr>\n",
              "      <th>0</th>\n",
              "      <td>0</td>\n",
              "      <td>2154652-154652 (2004 EP20)</td>\n",
              "      <td>False</td>\n",
              "      <td>483.676488</td>\n",
              "      <td>1081.533507</td>\n",
              "      <td>1995-01-07 00:00:00.000000</td>\n",
              "      <td>1970-01-01 00:13:09.467580</td>\n",
              "      <td>earth</td>\n",
              "      <td>16.142864</td>\n",
              "      <td>58114.308667</td>\n",
              "      <td>Near Earth asteroid orbits similar to that of ...</td>\n",
              "      <td>2154652</td>\n",
              "      <td>154652 (2004 EP20)</td>\n",
              "    </tr>\n",
              "    <tr>\n",
              "      <th>1</th>\n",
              "      <td>1</td>\n",
              "      <td>3153509-(2003 HM)</td>\n",
              "      <td>True</td>\n",
              "      <td>96.506147</td>\n",
              "      <td>215.794305</td>\n",
              "      <td>1995-01-07 00:00:00.000000</td>\n",
              "      <td>1970-01-01 00:13:09.491340</td>\n",
              "      <td>earth</td>\n",
              "      <td>12.351044</td>\n",
              "      <td>44463.757734</td>\n",
              "      <td>Near Earth asteroid orbits which cross the Ear...</td>\n",
              "      <td>3153509</td>\n",
              "      <td>(2003 HM)</td>\n",
              "    </tr>\n",
              "    <tr>\n",
              "      <th>3</th>\n",
              "      <td>3</td>\n",
              "      <td>3837644-(2019 AY3)</td>\n",
              "      <td>False</td>\n",
              "      <td>46.190746</td>\n",
              "      <td>103.285648</td>\n",
              "      <td>1995-01-07 00:00:00.000000</td>\n",
              "      <td>1970-01-01 00:13:09.513900</td>\n",
              "      <td>earth</td>\n",
              "      <td>22.478615</td>\n",
              "      <td>80923.015021</td>\n",
              "      <td>Near Earth asteroid orbits similar to that of ...</td>\n",
              "      <td>3837644</td>\n",
              "      <td>(2019 AY3)</td>\n",
              "    </tr>\n",
              "    <tr>\n",
              "      <th>4</th>\n",
              "      <td>4</td>\n",
              "      <td>3843493-(2019 PY)</td>\n",
              "      <td>False</td>\n",
              "      <td>22.108281</td>\n",
              "      <td>49.435619</td>\n",
              "      <td>1995-01-07 00:00:00.000000</td>\n",
              "      <td>1970-01-01 00:13:09.446700</td>\n",
              "      <td>earth</td>\n",
              "      <td>4.998691</td>\n",
              "      <td>17995.288355</td>\n",
              "      <td>Near Earth asteroid orbits similar to that of ...</td>\n",
              "      <td>3843493</td>\n",
              "      <td>(2019 PY)</td>\n",
              "    </tr>\n",
              "    <tr>\n",
              "      <th>5</th>\n",
              "      <td>5</td>\n",
              "      <td>3765015-(2016 WR48)</td>\n",
              "      <td>False</td>\n",
              "      <td>160.160338</td>\n",
              "      <td>358.129403</td>\n",
              "      <td>1995-01-08 00:00:00.000000</td>\n",
              "      <td>1970-01-01 00:13:09.569160</td>\n",
              "      <td>earth</td>\n",
              "      <td>7.465089</td>\n",
              "      <td>26874.321682</td>\n",
              "      <td>An asteroid orbit contained entirely within th...</td>\n",
              "      <td>3765015</td>\n",
              "      <td>(2016 WR48)</td>\n",
              "    </tr>\n",
              "  </tbody>\n",
              "</table>\n",
              "</div>\n",
              "      <button class=\"colab-df-convert\" onclick=\"convertToInteractive('df-5ef70bb4-a193-4d65-a738-d1c4951192c8')\"\n",
              "              title=\"Convert this dataframe to an interactive table.\"\n",
              "              style=\"display:none;\">\n",
              "        \n",
              "  <svg xmlns=\"http://www.w3.org/2000/svg\" height=\"24px\"viewBox=\"0 0 24 24\"\n",
              "       width=\"24px\">\n",
              "    <path d=\"M0 0h24v24H0V0z\" fill=\"none\"/>\n",
              "    <path d=\"M18.56 5.44l.94 2.06.94-2.06 2.06-.94-2.06-.94-.94-2.06-.94 2.06-2.06.94zm-11 1L8.5 8.5l.94-2.06 2.06-.94-2.06-.94L8.5 2.5l-.94 2.06-2.06.94zm10 10l.94 2.06.94-2.06 2.06-.94-2.06-.94-.94-2.06-.94 2.06-2.06.94z\"/><path d=\"M17.41 7.96l-1.37-1.37c-.4-.4-.92-.59-1.43-.59-.52 0-1.04.2-1.43.59L10.3 9.45l-7.72 7.72c-.78.78-.78 2.05 0 2.83L4 21.41c.39.39.9.59 1.41.59.51 0 1.02-.2 1.41-.59l7.78-7.78 2.81-2.81c.8-.78.8-2.07 0-2.86zM5.41 20L4 18.59l7.72-7.72 1.47 1.35L5.41 20z\"/>\n",
              "  </svg>\n",
              "      </button>\n",
              "      \n",
              "  <style>\n",
              "    .colab-df-container {\n",
              "      display:flex;\n",
              "      flex-wrap:wrap;\n",
              "      gap: 12px;\n",
              "    }\n",
              "\n",
              "    .colab-df-convert {\n",
              "      background-color: #E8F0FE;\n",
              "      border: none;\n",
              "      border-radius: 50%;\n",
              "      cursor: pointer;\n",
              "      display: none;\n",
              "      fill: #1967D2;\n",
              "      height: 32px;\n",
              "      padding: 0 0 0 0;\n",
              "      width: 32px;\n",
              "    }\n",
              "\n",
              "    .colab-df-convert:hover {\n",
              "      background-color: #E2EBFA;\n",
              "      box-shadow: 0px 1px 2px rgba(60, 64, 67, 0.3), 0px 1px 3px 1px rgba(60, 64, 67, 0.15);\n",
              "      fill: #174EA6;\n",
              "    }\n",
              "\n",
              "    [theme=dark] .colab-df-convert {\n",
              "      background-color: #3B4455;\n",
              "      fill: #D2E3FC;\n",
              "    }\n",
              "\n",
              "    [theme=dark] .colab-df-convert:hover {\n",
              "      background-color: #434B5C;\n",
              "      box-shadow: 0px 1px 3px 1px rgba(0, 0, 0, 0.15);\n",
              "      filter: drop-shadow(0px 1px 2px rgba(0, 0, 0, 0.3));\n",
              "      fill: #FFFFFF;\n",
              "    }\n",
              "  </style>\n",
              "\n",
              "      <script>\n",
              "        const buttonEl =\n",
              "          document.querySelector('#df-5ef70bb4-a193-4d65-a738-d1c4951192c8 button.colab-df-convert');\n",
              "        buttonEl.style.display =\n",
              "          google.colab.kernel.accessAllowed ? 'block' : 'none';\n",
              "\n",
              "        async function convertToInteractive(key) {\n",
              "          const element = document.querySelector('#df-5ef70bb4-a193-4d65-a738-d1c4951192c8');\n",
              "          const dataTable =\n",
              "            await google.colab.kernel.invokeFunction('convertToInteractive',\n",
              "                                                     [key], {});\n",
              "          if (!dataTable) return;\n",
              "\n",
              "          const docLinkHtml = 'Like what you see? Visit the ' +\n",
              "            '<a target=\"_blank\" href=https://colab.research.google.com/notebooks/data_table.ipynb>data table notebook</a>'\n",
              "            + ' to learn more about interactive tables.';\n",
              "          element.innerHTML = '';\n",
              "          dataTable['output_type'] = 'display_data';\n",
              "          await google.colab.output.renderOutput(dataTable, element);\n",
              "          const docLink = document.createElement('div');\n",
              "          docLink.innerHTML = docLinkHtml;\n",
              "          element.appendChild(docLink);\n",
              "        }\n",
              "      </script>\n",
              "    </div>\n",
              "  </div>\n",
              "  "
            ]
          },
          "metadata": {},
          "execution_count": 11
        }
      ]
    },
    {
      "cell_type": "code",
      "source": [
        "df['orbiting_body']=df['orbiting_body'].str.capitalize()"
      ],
      "metadata": {
        "id": "BRymeQ2P5y1y"
      },
      "execution_count": 12,
      "outputs": []
    },
    {
      "cell_type": "code",
      "source": [
        "df['orbiting_body'].head(3)"
      ],
      "metadata": {
        "id": "VXbR7uFi5yzL",
        "outputId": "f7ad1803-abc8-45e5-e48f-6cd39052e381",
        "colab": {
          "base_uri": "https://localhost:8080/"
        }
      },
      "execution_count": 13,
      "outputs": [
        {
          "output_type": "execute_result",
          "data": {
            "text/plain": [
              "0    Earth\n",
              "1    Earth\n",
              "3    Earth\n",
              "Name: orbiting_body, dtype: object"
            ]
          },
          "metadata": {},
          "execution_count": 13
        }
      ]
    },
    {
      "cell_type": "code",
      "execution_count": 14,
      "metadata": {
        "id": "4kaoM0KY4Puq"
      },
      "outputs": [],
      "source": [
        "df_reto_2 = df"
      ]
    },
    {
      "cell_type": "code",
      "source": [
        "df_reto_2.to_csv('df_reto_2.csv')"
      ],
      "metadata": {
        "id": "fKcDQFnH6Pnw"
      },
      "execution_count": 15,
      "outputs": []
    },
    {
      "cell_type": "markdown",
      "metadata": {
        "id": "L-Qqy1pM4Pus"
      },
      "source": [
        "¡Compara con tus compañeros y con la experta tu solución para asegurarte de que realizaste los procesos adecuadamente!"
      ]
    }
  ],
  "metadata": {
    "kernelspec": {
      "display_name": "Python 3",
      "language": "python",
      "name": "python3"
    },
    "language_info": {
      "codemirror_mode": {
        "name": "ipython",
        "version": 3
      },
      "file_extension": ".py",
      "mimetype": "text/x-python",
      "name": "python",
      "nbconvert_exporter": "python",
      "pygments_lexer": "ipython3",
      "version": "3.8.3"
    },
    "colab": {
      "provenance": []
    }
  },
  "nbformat": 4,
  "nbformat_minor": 0
}