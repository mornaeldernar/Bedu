{
  "cells": [
    {
      "cell_type": "markdown",
      "metadata": {
        "id": "ryOui22wuzxV"
      },
      "source": [
        "## Ejemplo 5: Interpolación de strings\n",
        "\n",
        "### 1. Objetivos:\n",
        "    - Aprender a imprimir strings\n",
        "    - Aprender a interpolar variables dentro de strings\n",
        " \n",
        "---\n",
        "    \n",
        "### 2. Desarrollo:"
      ]
    },
    {
      "cell_type": "markdown",
      "metadata": {
        "id": "S1EIuirvuzxb"
      },
      "source": [
        "Podemos hacer anotaciones en los outputs de nuestro código de esta manera:"
      ]
    },
    {
      "cell_type": "code",
      "execution_count": 1,
      "metadata": {
        "id": "0uxesKtsuzxc",
        "outputId": "f86b24d8-7864-4ab5-d044-b661d3845146",
        "colab": {
          "base_uri": "https://localhost:8080/"
        }
      },
      "outputs": [
        {
          "output_type": "stream",
          "name": "stdout",
          "text": [
            "Suma de var_1 y var_2\n",
            "38.7\n"
          ]
        }
      ],
      "source": [
        "var_1 = 15.3\n",
        "var_2 = 23.4\n",
        "\n",
        "print(\"Suma de var_1 y var_2\")\n",
        "print(var_1 + var_2)"
      ]
    },
    {
      "cell_type": "markdown",
      "metadata": {
        "id": "10kh9Q-Auzxe"
      },
      "source": [
        "Pero a veces resulta necesario o deseable interpolar el valor de la variable dentro de dicha string. Para eso utilizamos las llamadas `f-strings`. El formato de una `f-string` es el siguiente:\n",
        "\n",
        "`f\"Esto es texto {esto_es_una_variable} esto es más texto\"`\n",
        "\n",
        "Escribiendo una `f` antes de las comillas le indicamos a Python que lo que pongas dentro de las llaves (`{}`) será código de Python. En este caso, una variable asignada previamente.\n",
        "\n",
        "Ahora podemos hacer lo siguiente:"
      ]
    },
    {
      "cell_type": "code",
      "execution_count": 6,
      "metadata": {
        "id": "D8a4Zl8Guzxf",
        "outputId": "240a48ac-3d59-4881-c6bb-4814a111afcd",
        "colab": {
          "base_uri": "https://localhost:8080/"
        }
      },
      "outputs": [
        {
          "output_type": "stream",
          "name": "stdout",
          "text": [
            "La suma de var_3 y var_4 es: 67.3\n"
          ]
        }
      ],
      "source": [
        "var_3 = 43\n",
        "var_4 = 24.3\n",
        "\n",
        "suma = var_3 + var_4\n",
        "\n",
        "print(f'La suma de var_3 y var_4 es: {suma}')"
      ]
    },
    {
      "cell_type": "markdown",
      "metadata": {
        "id": "tbvmt6Kauzxg"
      },
      "source": [
        "O incluso puedes hacer algo como esto:"
      ]
    },
    {
      "cell_type": "code",
      "execution_count": 7,
      "metadata": {
        "id": "zRTbYfAguzxg",
        "outputId": "4967430d-f613-4ace-d1da-4a9d629b7833",
        "colab": {
          "base_uri": "https://localhost:8080/"
        }
      },
      "outputs": [
        {
          "output_type": "stream",
          "name": "stdout",
          "text": [
            "La suma de 43 y 24.3 es: 67.3\n"
          ]
        }
      ],
      "source": [
        "print(f'La suma de {var_3} y {var_4} es: {var_3 + var_4}')"
      ]
    },
    {
      "cell_type": "markdown",
      "metadata": {
        "id": "NRURehnuuzxh"
      },
      "source": [
        "Vas a ver muchas anotaciones como éstas a través del código de este módulo. Ahora ya sabes qué significan y cómo crearlas."
      ]
    },
    {
      "cell_type": "code",
      "execution_count": null,
      "metadata": {
        "id": "E5V7f97Yuzxh"
      },
      "outputs": [],
      "source": [
        ""
      ]
    }
  ],
  "metadata": {
    "kernelspec": {
      "display_name": "Python (data_science)",
      "language": "python",
      "name": "data_science"
    },
    "language_info": {
      "codemirror_mode": {
        "name": "ipython",
        "version": 3
      },
      "file_extension": ".py",
      "mimetype": "text/x-python",
      "name": "python",
      "nbconvert_exporter": "python",
      "pygments_lexer": "ipython3",
      "version": "3.8.5"
    },
    "colab": {
      "provenance": []
    }
  },
  "nbformat": 4,
  "nbformat_minor": 0
}