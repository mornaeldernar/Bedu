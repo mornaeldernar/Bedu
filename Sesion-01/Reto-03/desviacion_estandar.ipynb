{
  "cells": [
    {
      "cell_type": "markdown",
      "metadata": {
        "id": "EKZZH8nOhTCr"
      },
      "source": [
        "## Reto 3: Desviación estándar\n",
        "\n",
        "### 1. Objetivos:\n",
        "    - Utilizar la desviación estándar para realizar un análisis de dispersión de nuestros datos\n",
        "\n",
        "---\n",
        "    \n",
        "### 2. Desarrollo:"
      ]
    },
    {
      "cell_type": "markdown",
      "metadata": {
        "id": "ifvWSmDLhTCv"
      },
      "source": [
        "#### a) Desviación estándar y distribución de los datos\n",
        "\n",
        "Como ya vimos, la desviación estándar es la medida que nos da la \"desviación típica\" (o esperada) de nuestros datos a comparación del promedio. Eso quiere decir que normalmente vamos a esperar que una gran parte de nuestros datos se encuentren a 1 desviación estándar de distancia del promedio. Entre más nos alejamos, menos muestras deberíamos de encontrar.\n",
        "\n",
        "Vamos a comprobar esto usando nuestro dataset de meteoritos que orbitan cerca de la Tierra. Tu Reto consiste en los siguientes pasos:\n",
        "\n",
        "1. Crea un DataFrame con el dataset 'near_earth_objects-jan_feb_1995-clean.csv'.\n",
        "2. Obtén la cantidad total de muestras en tu DataFrame.\n",
        "3. Obtén la desviación estándar de la columna 'estimated_diameter.meters.estimated_diameter_max'. Los siguientes pasos realízalos todos utilizando esta columna.\n",
        "4. Obtén el porcentaje de muestras que están a una distancia de 1 desviación estándar del promedio.\n",
        "5. Obtén el porcentaje de muestras que están a una distancia de 2 desviaciones estándares del promedio.\n",
        "6. Obtén el porcentaje de muestras que están a una distancia de 3 desviaciones estándares del promedio.\n",
        "7. Compara los porcentajes obtenidos y comenta con tus compañeros y la experta tus hallazgos. ¿Qué significa esto? ¿La definición de desviación estándar tiene sentido? ¿Qué puedo inferir acerca de la dispersión de mis datos a partir de los valores obtenidos?\n",
        "\n",
        "> Nota: Para obtener los porcentajes de los subconjuntos primero necesitas filtrar el DataFrame original para que sólo permanezcan las muestras que cumplan con los requisitos.\n",
        "\n",
        "> Nota: Este Reto está diseñado para tener una dificultad media. No te frustres si al principio parece demasiado difícil. Comienza poco a poco, resolviendo el problema en pedazos pequeños, y si no tienes la menor idea de cómo proceder recuerda que la experta está ahí para ayudarte."
      ]
    },
    {
      "cell_type": "code",
      "source": [
        "import pandas as pd"
      ],
      "metadata": {
        "id": "FHBJMZGWhWzd"
      },
      "execution_count": 1,
      "outputs": []
    },
    {
      "cell_type": "code",
      "source": [
        "from google.colab import drive\n",
        "drive.mount('/content/drive')"
      ],
      "metadata": {
        "id": "_1X4z6nAhcGa",
        "outputId": "6813dcb8-7d1c-4f8a-9a4e-395bfefe8723",
        "colab": {
          "base_uri": "https://localhost:8080/"
        }
      },
      "execution_count": 2,
      "outputs": [
        {
          "output_type": "stream",
          "name": "stdout",
          "text": [
            "Mounted at /content/drive\n"
          ]
        }
      ]
    },
    {
      "cell_type": "code",
      "source": [
        "df = pd.read_csv('/content/drive/MyDrive/Datasets/near_earth_objects-jan_feb_1995-raw.csv')"
      ],
      "metadata": {
        "id": "rK6l6NtChWwm"
      },
      "execution_count": 4,
      "outputs": []
    },
    {
      "cell_type": "code",
      "source": [
        "columna = 'estimated_diameter.meters.estimated_diameter_max'"
      ],
      "metadata": {
        "id": "pRJd3E_7jY21"
      },
      "execution_count": 37,
      "outputs": []
    },
    {
      "cell_type": "code",
      "source": [
        "totales = df.shape[0]\n",
        "totales"
      ],
      "metadata": {
        "id": "QK_ZaagohWt_",
        "outputId": "46672a82-0045-4c29-9b69-56c647c80ac5",
        "colab": {
          "base_uri": "https://localhost:8080/"
        }
      },
      "execution_count": 38,
      "outputs": [
        {
          "output_type": "execute_result",
          "data": {
            "text/plain": [
              "333"
            ]
          },
          "metadata": {},
          "execution_count": 38
        }
      ]
    },
    {
      "cell_type": "code",
      "source": [
        "std = df[columna].std()\n",
        "mean = df[columna].mean()\n",
        "print(f'std: {std} mean:{mean}')"
      ],
      "metadata": {
        "id": "CO1dxjeAhWsX",
        "outputId": "5d608eaa-4fe4-4db1-ccc8-2ff305ce7c17",
        "colab": {
          "base_uri": "https://localhost:8080/"
        }
      },
      "execution_count": 39,
      "outputs": [
        {
          "output_type": "stream",
          "name": "stdout",
          "text": [
            "std: 614.6915918552232 mean:410.08604223976545\n"
          ]
        }
      ]
    },
    {
      "cell_type": "code",
      "source": [
        "# creamos el filtro de n desviaciones estandard\n",
        "def filter(number_of_std):\n",
        "  min = df[columna] >= mean - number_of_std*std\n",
        "  max = df[columna] <= mean + number_of_std*std\n",
        "  return min & max"
      ],
      "metadata": {
        "id": "HdTb0ZvYhWnl"
      },
      "execution_count": 41,
      "outputs": []
    },
    {
      "cell_type": "code",
      "source": [
        "df[filter(1)].shape[0]"
      ],
      "metadata": {
        "id": "Amc0OJdNhWlH",
        "outputId": "19e537e3-b3ac-4564-ff3a-31acac9fb155",
        "colab": {
          "base_uri": "https://localhost:8080/"
        }
      },
      "execution_count": 42,
      "outputs": [
        {
          "output_type": "execute_result",
          "data": {
            "text/plain": [
              "301"
            ]
          },
          "metadata": {},
          "execution_count": 42
        }
      ]
    },
    {
      "cell_type": "code",
      "source": [
        "# obtenemos el porcentaje de datos de n desviaciones estandard\n",
        "def getPorcentaje(number_of_std) :\n",
        "  return df[filter(number_of_std)].shape[0] * 100 / totales"
      ],
      "metadata": {
        "id": "jTbBICUXj_T9"
      },
      "execution_count": 44,
      "outputs": []
    },
    {
      "cell_type": "code",
      "execution_count": 52,
      "metadata": {
        "id": "VSnJMqLhhTCx",
        "outputId": "a411e141-b4df-4621-c319-5043be5d1d50",
        "colab": {
          "base_uri": "https://localhost:8080/"
        }
      },
      "outputs": [
        {
          "output_type": "stream",
          "name": "stdout",
          "text": [
            "El porcentaje de datos a una desviacion estandar es 90.3903903903904 %\n"
          ]
        }
      ],
      "source": [
        "print(f'El porcentaje de datos a una desviacion estandar es {getPorcentaje(1)}%')"
      ]
    },
    {
      "cell_type": "code",
      "source": [
        "print(f'El porcentaje de datos a dos desviaciones estandar es {getPorcentaje(2)}%')"
      ],
      "metadata": {
        "id": "QiLjnIIfj-Dm",
        "outputId": "778ae942-9483-42c2-dbaa-a3ef4c9bd28f",
        "colab": {
          "base_uri": "https://localhost:8080/"
        }
      },
      "execution_count": 53,
      "outputs": [
        {
          "output_type": "stream",
          "name": "stdout",
          "text": [
            "El porcentaje de datos a dos desviaciones estandar es 96.3963963963964%\n"
          ]
        }
      ]
    },
    {
      "cell_type": "code",
      "source": [
        "print(f'El porcentaje de datos a tres desviaciones estandar es {getPorcentaje(3)}%')"
      ],
      "metadata": {
        "id": "H2nyHlJbkMFX",
        "outputId": "45e5915f-6202-4840-f048-010e91176999",
        "colab": {
          "base_uri": "https://localhost:8080/"
        }
      },
      "execution_count": 54,
      "outputs": [
        {
          "output_type": "stream",
          "name": "stdout",
          "text": [
            "El porcentaje de datos a tres desviaciones estandar es 97.89789789789789%\n"
          ]
        }
      ]
    },
    {
      "cell_type": "markdown",
      "metadata": {
        "id": "XYivJb4rhTCz"
      },
      "source": [
        "<details><summary>Solución</summary>\n",
        "\n",
        "```python\n",
        "import pandas as pd\n",
        "\n",
        "df = pd.read_csv('../../Datasets/near_earth_objects-jan_feb_1995-clean.csv', index_col=0)\n",
        "diameter_column = 'estimated_diameter.meters.estimated_diameter_max'\n",
        "total_count = df.shape[0]\n",
        "mean = df[diameter_column].mean()\n",
        "std = df[diameter_column].std()\n",
        "\n",
        "within_one_std_filter_bottom = df[diameter_column] >= (mean - std)\n",
        "within_one_std_filter_top = df[diameter_column] <= (mean + std)\n",
        "within_one_std = df[within_one_std_filter_bottom & within_one_std_filter_top]\n",
        "percentage_of_data_within_one_std = within_one_std.shape[0] * 100 / total_count\n",
        "\n",
        "within_two_std_filter_bottom = df[diameter_column] >= (mean - 2 * std)\n",
        "within_two_std_filter_top = df[diameter_column] <= (mean + 2 * std)\n",
        "within_two_std = df[within_two_std_filter_bottom & within_two_std_filter_top]\n",
        "percentage_of_data_within_two_std = within_two_std.shape[0] * 100 / total_count\n",
        "\n",
        "within_three_std_filter_bottom = df[diameter_column] >= (mean - 3 * std)\n",
        "within_three_std_filter_top = df[diameter_column] <= (mean + 3 * std)\n",
        "within_three_std = df[within_three_std_filter_bottom & within_three_std_filter_top]\n",
        "percentage_of_data_within_three_std = within_three_std.shape[0] * 100 / total_count\n",
        "```\n",
        "    \n",
        "</details>"
      ]
    }
  ],
  "metadata": {
    "kernelspec": {
      "display_name": "Python (data_science)",
      "language": "python",
      "name": "data_science"
    },
    "language_info": {
      "codemirror_mode": {
        "name": "ipython",
        "version": 3
      },
      "file_extension": ".py",
      "mimetype": "text/x-python",
      "name": "python",
      "nbconvert_exporter": "python",
      "pygments_lexer": "ipython3",
      "version": "3.8.5"
    },
    "colab": {
      "provenance": []
    }
  },
  "nbformat": 4,
  "nbformat_minor": 0
}