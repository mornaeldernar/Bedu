{
  "cells": [
    {
      "cell_type": "markdown",
      "metadata": {
        "id": "6sDmSGrZpI8P"
      },
      "source": [
        "## Ejemplo 3: Operaciones numéricas\n",
        "\n",
        "### 1. Objetivos:\n",
        "\n",
        "- Mostrar cómo usar los operadores aritméticos\n",
        "- Practicar asignación de variables y output de celdas\n",
        "\n",
        "---\n",
        "\n",
        "### 2. Desarrollo:"
      ]
    },
    {
      "cell_type": "markdown",
      "metadata": {
        "id": "aVfHRY3WpI8S"
      },
      "source": [
        "Primero asignemos unas variables:"
      ]
    },
    {
      "cell_type": "code",
      "execution_count": 1,
      "metadata": {
        "id": "iy68GuMlpI8T"
      },
      "outputs": [],
      "source": [
        "var_1 = 4\n",
        "var_2 = 54\n",
        "var_3 = 23\n",
        "var_4 = 89"
      ]
    },
    {
      "cell_type": "markdown",
      "metadata": {
        "id": "zytww6BJpI8V"
      },
      "source": [
        "Para realizar operaciones numéricas con estas variables, basta con escribir la operación en una celda y correrla. Veremos el resultado como output debajo de la celda:"
      ]
    },
    {
      "cell_type": "code",
      "execution_count": 2,
      "metadata": {
        "id": "LxmpkFKXpI8W",
        "outputId": "58edc799-aa6b-4616-f57a-20f956209687",
        "colab": {
          "base_uri": "https://localhost:8080/"
        }
      },
      "outputs": [
        {
          "output_type": "execute_result",
          "data": {
            "text/plain": [
              "58"
            ]
          },
          "metadata": {},
          "execution_count": 2
        }
      ],
      "source": [
        "var_1 + var_2"
      ]
    },
    {
      "cell_type": "code",
      "execution_count": 3,
      "metadata": {
        "id": "nTb8YeBdpI8X",
        "outputId": "7e3c47a0-7352-4798-a29f-f57c3d32515f",
        "colab": {
          "base_uri": "https://localhost:8080/"
        }
      },
      "outputs": [
        {
          "output_type": "execute_result",
          "data": {
            "text/plain": [
              "-35"
            ]
          },
          "metadata": {},
          "execution_count": 3
        }
      ],
      "source": [
        "var_2 - var_4"
      ]
    },
    {
      "cell_type": "code",
      "execution_count": 4,
      "metadata": {
        "id": "6ioS3Z-bpI8Y",
        "outputId": "bda2aff4-6f0b-4306-d3f6-5a8873a0fa7a",
        "colab": {
          "base_uri": "https://localhost:8080/"
        }
      },
      "outputs": [
        {
          "output_type": "execute_result",
          "data": {
            "text/plain": [
              "92"
            ]
          },
          "metadata": {},
          "execution_count": 4
        }
      ],
      "source": [
        "var_3 * var_1"
      ]
    },
    {
      "cell_type": "code",
      "execution_count": 5,
      "metadata": {
        "id": "qVKkPYlnpI8Z",
        "outputId": "37436186-50d6-44d7-9b24-dca410cd1494",
        "colab": {
          "base_uri": "https://localhost:8080/"
        }
      },
      "outputs": [
        {
          "output_type": "execute_result",
          "data": {
            "text/plain": [
              "1.6481481481481481"
            ]
          },
          "metadata": {},
          "execution_count": 5
        }
      ],
      "source": [
        "var_4 / var_2"
      ]
    },
    {
      "cell_type": "code",
      "source": [
        "var_4 // var_2  # Division entera"
      ],
      "metadata": {
        "id": "kptPY49ypZxY",
        "outputId": "acb425bf-7379-4911-c4c3-99b660fd0664",
        "colab": {
          "base_uri": "https://localhost:8080/"
        }
      },
      "execution_count": 9,
      "outputs": [
        {
          "output_type": "execute_result",
          "data": {
            "text/plain": [
              "1"
            ]
          },
          "metadata": {},
          "execution_count": 9
        }
      ]
    },
    {
      "cell_type": "code",
      "source": [
        "var_4 % var_2 "
      ],
      "metadata": {
        "id": "O906wjEGpeXD",
        "outputId": "fe276e82-e01f-4dcc-e047-e55d62f66917",
        "colab": {
          "base_uri": "https://localhost:8080/"
        }
      },
      "execution_count": 8,
      "outputs": [
        {
          "output_type": "execute_result",
          "data": {
            "text/plain": [
              "35"
            ]
          },
          "metadata": {},
          "execution_count": 8
        }
      ]
    },
    {
      "cell_type": "code",
      "execution_count": 6,
      "metadata": {
        "id": "i8LGjMBFpI8a",
        "outputId": "589f8f93-1db7-4eaf-fb40-6b8cadc417c8",
        "colab": {
          "base_uri": "https://localhost:8080/"
        }
      },
      "outputs": [
        {
          "output_type": "execute_result",
          "data": {
            "text/plain": [
              "8503056"
            ]
          },
          "metadata": {},
          "execution_count": 6
        }
      ],
      "source": [
        "var_2 ** var_1"
      ]
    },
    {
      "cell_type": "markdown",
      "metadata": {
        "id": "ad-m4wTHpI8b"
      },
      "source": [
        "Si queremos imprimir más de una operación en la misma celda, podemos usar la función `print`:"
      ]
    },
    {
      "cell_type": "code",
      "execution_count": 10,
      "metadata": {
        "id": "T0vbRZRLpI8d",
        "outputId": "6d3e5c0f-8059-401e-95d3-8d06c216e14a",
        "colab": {
          "base_uri": "https://localhost:8080/"
        }
      },
      "outputs": [
        {
          "output_type": "stream",
          "name": "stdout",
          "text": [
            "58\n",
            "-66\n",
            "2916\n"
          ]
        }
      ],
      "source": [
        "print(var_1 + var_2)\n",
        "print(var_3 - var_4)\n",
        "print(var_2 * var_2)"
      ]
    },
    {
      "cell_type": "markdown",
      "metadata": {
        "id": "kqtQlfYipI8d"
      },
      "source": [
        "También podemos asignar los resultados de nuestras operaciones a otras variables:"
      ]
    },
    {
      "cell_type": "code",
      "execution_count": 11,
      "metadata": {
        "id": "bqsdePsXpI8d",
        "outputId": "57808707-c164-465a-be29-3068404d8220",
        "colab": {
          "base_uri": "https://localhost:8080/"
        }
      },
      "outputs": [
        {
          "output_type": "execute_result",
          "data": {
            "text/plain": [
              "27"
            ]
          },
          "metadata": {},
          "execution_count": 11
        }
      ],
      "source": [
        "resultado_suma = var_1 + var_3\n",
        "\n",
        "resultado_suma"
      ]
    },
    {
      "cell_type": "code",
      "execution_count": 12,
      "metadata": {
        "id": "PMeZ054WpI8e",
        "outputId": "41169507-ec8c-487c-bdba-32177ca52de6",
        "colab": {
          "base_uri": "https://localhost:8080/"
        }
      },
      "outputs": [
        {
          "output_type": "execute_result",
          "data": {
            "text/plain": [
              "35"
            ]
          },
          "metadata": {},
          "execution_count": 12
        }
      ],
      "source": [
        "resultado_resta = var_4 - var_2\n",
        "\n",
        "resultado_resta"
      ]
    },
    {
      "cell_type": "markdown",
      "metadata": {
        "id": "PK69BOpJpI8e"
      },
      "source": [
        "¡Hora de practicar!"
      ]
    },
    {
      "cell_type": "code",
      "execution_count": null,
      "metadata": {
        "id": "eZtVY_-dpI8e"
      },
      "outputs": [],
      "source": [
        ""
      ]
    }
  ],
  "metadata": {
    "kernelspec": {
      "display_name": "Python (data_science)",
      "language": "python",
      "name": "data_science"
    },
    "language_info": {
      "codemirror_mode": {
        "name": "ipython",
        "version": 3
      },
      "file_extension": ".py",
      "mimetype": "text/x-python",
      "name": "python",
      "nbconvert_exporter": "python",
      "pygments_lexer": "ipython3",
      "version": "3.8.5"
    },
    "colab": {
      "provenance": []
    }
  },
  "nbformat": 4,
  "nbformat_minor": 0
}