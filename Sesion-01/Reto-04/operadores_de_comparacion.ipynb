{
  "cells": [
    {
      "cell_type": "markdown",
      "metadata": {
        "id": "zCYF9J7J0b8U"
      },
      "source": [
        "## Reto 4: Operadores de comparación\n",
        "\n",
        "### 1. Objetivos:\n",
        "    - Practicar la comparación de números, strings y booleanos\n",
        " \n",
        "---\n",
        "    \n",
        "### 2. Desarrollo:"
      ]
    },
    {
      "cell_type": "markdown",
      "metadata": {
        "id": "aEt65L8t0b8X"
      },
      "source": [
        "A continuación tienes algunas variables que han sido asignadas:"
      ]
    },
    {
      "cell_type": "code",
      "execution_count": 1,
      "metadata": {
        "id": "96ZMvY810b8X"
      },
      "outputs": [],
      "source": [
        "var_1 = 3\n",
        "var_2 = 5\n",
        "var_3 = 9\n",
        "var_4 = 1\n",
        "var_5 = 9\n",
        "var_6 = -6\n",
        "var_7 = 5\n",
        "var_8 = 4"
      ]
    },
    {
      "cell_type": "markdown",
      "metadata": {
        "id": "8y8Qh1bX0b8Y"
      },
      "source": [
        "A continuación tienes algunas comparaciones que se encuentran incompletas, junto con el resultado que se espera de dicha comparación. Agrega los `operadores de comparación` adecuados, en medio de las variables, para que al correr las celdas se obtengan los `Resultados esperados`. Para este reto, los operadores `==` y `!=` no están permitidos."
      ]
    },
    {
      "cell_type": "code",
      "execution_count": 2,
      "metadata": {
        "id": "t00C78350b8Y",
        "outputId": "1fc2bc78-4226-4026-c08a-63c8814b2e7f",
        "colab": {
          "base_uri": "https://localhost:8080/"
        }
      },
      "outputs": [
        {
          "output_type": "execute_result",
          "data": {
            "text/plain": [
              "False"
            ]
          },
          "metadata": {},
          "execution_count": 2
        }
      ],
      "source": [
        "var_1 > var_3  # Resultado esperado: False"
      ]
    },
    {
      "cell_type": "code",
      "execution_count": 3,
      "metadata": {
        "id": "8n9Se4xq0b8Z",
        "outputId": "26cc9484-7138-4391-95c1-3ea765232fcf",
        "colab": {
          "base_uri": "https://localhost:8080/"
        }
      },
      "outputs": [
        {
          "output_type": "execute_result",
          "data": {
            "text/plain": [
              "True"
            ]
          },
          "metadata": {},
          "execution_count": 3
        }
      ],
      "source": [
        "var_1 > var_4 # Resultado esperado: True"
      ]
    },
    {
      "cell_type": "code",
      "execution_count": 4,
      "metadata": {
        "id": "YDWbjZCN0b8Z",
        "outputId": "c2f2a799-d193-4898-ca3d-42166eed3c3e",
        "colab": {
          "base_uri": "https://localhost:8080/"
        }
      },
      "outputs": [
        {
          "output_type": "execute_result",
          "data": {
            "text/plain": [
              "True"
            ]
          },
          "metadata": {},
          "execution_count": 4
        }
      ],
      "source": [
        "var_2 == var_7  # Resultado esperado: True"
      ]
    },
    {
      "cell_type": "code",
      "execution_count": 5,
      "metadata": {
        "id": "WEsvrFk90b8a",
        "outputId": "b3d180f1-dde1-40f2-8544-6a95292af685",
        "colab": {
          "base_uri": "https://localhost:8080/"
        }
      },
      "outputs": [
        {
          "output_type": "execute_result",
          "data": {
            "text/plain": [
              "True"
            ]
          },
          "metadata": {},
          "execution_count": 5
        }
      ],
      "source": [
        "var_8 > var_6  # Resultado esperado: True"
      ]
    },
    {
      "cell_type": "code",
      "execution_count": 6,
      "metadata": {
        "id": "2OowYjYr0b8a",
        "outputId": "871b408d-af6b-4ad2-d037-4e0ea196763e",
        "colab": {
          "base_uri": "https://localhost:8080/"
        }
      },
      "outputs": [
        {
          "output_type": "execute_result",
          "data": {
            "text/plain": [
              "False"
            ]
          },
          "metadata": {},
          "execution_count": 6
        }
      ],
      "source": [
        "var_3 != var_5  # Resultado esperado: False"
      ]
    },
    {
      "cell_type": "code",
      "execution_count": 7,
      "metadata": {
        "id": "O7xtKwEg0b8b",
        "outputId": "e77c448b-5807-4e58-93ea-0f68b2f1b703",
        "colab": {
          "base_uri": "https://localhost:8080/"
        }
      },
      "outputs": [
        {
          "output_type": "execute_result",
          "data": {
            "text/plain": [
              "True"
            ]
          },
          "metadata": {},
          "execution_count": 7
        }
      ],
      "source": [
        "var_1 < var_3  # Resultado esperado: True"
      ]
    },
    {
      "cell_type": "code",
      "execution_count": 8,
      "metadata": {
        "id": "NHRveoJN0b8b",
        "outputId": "fd70bb15-a56e-4a53-ce41-a6323dcfb0b2",
        "colab": {
          "base_uri": "https://localhost:8080/"
        }
      },
      "outputs": [
        {
          "output_type": "execute_result",
          "data": {
            "text/plain": [
              "False"
            ]
          },
          "metadata": {},
          "execution_count": 8
        }
      ],
      "source": [
        "var_5 < var_4  # Resultado esperado: False"
      ]
    },
    {
      "cell_type": "code",
      "execution_count": 9,
      "metadata": {
        "id": "WteGCATM0b8c",
        "outputId": "9fd7068b-95de-4faa-ba76-179fe10b5aa7",
        "colab": {
          "base_uri": "https://localhost:8080/"
        }
      },
      "outputs": [
        {
          "output_type": "execute_result",
          "data": {
            "text/plain": [
              "True"
            ]
          },
          "metadata": {},
          "execution_count": 9
        }
      ],
      "source": [
        "var_3 == var_5  # Resultado esperado: True"
      ]
    },
    {
      "cell_type": "code",
      "execution_count": null,
      "metadata": {
        "id": "AgsuGqYV0b8c"
      },
      "outputs": [],
      "source": [
        ""
      ]
    }
  ],
  "metadata": {
    "kernelspec": {
      "display_name": "Python 3",
      "language": "python",
      "name": "python3"
    },
    "language_info": {
      "codemirror_mode": {
        "name": "ipython",
        "version": 3
      },
      "file_extension": ".py",
      "mimetype": "text/x-python",
      "name": "python",
      "nbconvert_exporter": "python",
      "pygments_lexer": "ipython3",
      "version": "3.8.3"
    },
    "colab": {
      "provenance": []
    }
  },
  "nbformat": 4,
  "nbformat_minor": 0
}