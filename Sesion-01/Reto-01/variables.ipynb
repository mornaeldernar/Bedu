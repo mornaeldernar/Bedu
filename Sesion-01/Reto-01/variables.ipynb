{
  "cells": [
    {
      "cell_type": "markdown",
      "metadata": {
        "id": "view-in-github",
        "colab_type": "text"
      },
      "source": [
        "<a href=\"https://colab.research.google.com/github/mornaeldernar/Bedu/blob/main/Sesion-01/Reto-01/variables.ipynb\" target=\"_parent\"><img src=\"https://colab.research.google.com/assets/colab-badge.svg\" alt=\"Open In Colab\"/></a>"
      ]
    },
    {
      "cell_type": "markdown",
      "metadata": {
        "id": "-Dvb-NaGiK7R"
      },
      "source": [
        "## Reto 1: Variables\n",
        "\n",
        "### 1. Objetivos:\n",
        "    - Practicar convención de nombramiento y asignación de variables\n",
        " \n",
        "---\n",
        "    \n",
        "### 2. Desarrollo:"
      ]
    },
    {
      "cell_type": "markdown",
      "metadata": {
        "id": "AY26Ti3TiK7S"
      },
      "source": [
        "Indica cuáles nombres de variables son válidos y cuáles con inválidos. Puedes hacerlo colocando un comentario al lado de cada asignación (`# esto es un comentario`). Los comentarios son texto que Python ignora a la hora de correr una celda. Nos sirven para hacer anotaciones."
      ]
    },
    {
      "cell_type": "code",
      "execution_count": 1,
      "metadata": {
        "id": "GftP4ywniK7T"
      },
      "outputs": [],
      "source": [
        "var_1 = 5\n",
        "\n",
        "variable_nueva_2 = 10\n",
        "\n",
        "#Variable_nueva_3 = 11\n",
        "\n",
        "var_3_1 = 14\n",
        "\n",
        "#varNueva4 = 44\n",
        "\n",
        "#var_nuevaNumero = 98\n",
        "\n",
        "var_num = 22\n",
        "\n",
        "#VarNum = 11\n",
        "\n",
        "#soyUnaVariable = 14"
      ]
    },
    {
      "cell_type": "markdown",
      "metadata": {
        "id": "Drhj7h5EiK7U"
      },
      "source": [
        "Ahora practica realizar algunas asignaciones en la celda de abajo. ¡Puedes asignarle a tus variables números enteros y también decimales!"
      ]
    },
    {
      "cell_type": "code",
      "execution_count": 3,
      "metadata": {
        "id": "AucTHhmsiK7U",
        "outputId": "dfe50743-e5ae-4e93-f183-1cb812104fc6",
        "colab": {
          "base_uri": "https://localhost:8080/"
        }
      },
      "outputs": [
        {
          "output_type": "execute_result",
          "data": {
            "text/plain": [
              "12.332"
            ]
          },
          "metadata": {},
          "execution_count": 3
        }
      ],
      "source": [
        "# Asigna el número 12345 a una variable llamada variable_locochona\n",
        "\n",
        "# Tu código va aquí...\n",
        "variable_locochona = 12345\n",
        "\n",
        "# Asigna el número 14.567 a una variable llamada var_decimal\n",
        "\n",
        "# ...\n",
        "var_decimal = 14.567\n",
        "\n",
        "# Asigna cualquier número a una varible que tenga 5 palabras en su nombre (recuerda las convenciones)\n",
        "\n",
        "# ....\n",
        "var_con_cinco_palabras_numerica = 2341\n",
        "\n",
        "# Asigna cualquier número a una variable que incluya palabras y números en su nombre\n",
        "\n",
        "# ...\n",
        "var_con_3_palabras = 8\n",
        "\n",
        "# Asigna variables a discreción\n",
        "\n",
        "# ...\n",
        "var_numeros_9 = 213\n",
        "var_texto = \"jlkasdf\"\n",
        "var_flotante = 12.332\n",
        "var_flotante"
      ]
    },
    {
      "cell_type": "code",
      "execution_count": null,
      "metadata": {
        "id": "n5gSXTOBiK7V"
      },
      "outputs": [],
      "source": [
        ""
      ]
    }
  ],
  "metadata": {
    "kernelspec": {
      "display_name": "Python 3",
      "language": "python",
      "name": "python3"
    },
    "language_info": {
      "codemirror_mode": {
        "name": "ipython",
        "version": 3
      },
      "file_extension": ".py",
      "mimetype": "text/x-python",
      "name": "python",
      "nbconvert_exporter": "python",
      "pygments_lexer": "ipython3",
      "version": "3.8.3"
    },
    "colab": {
      "provenance": [],
      "include_colab_link": true
    }
  },
  "nbformat": 4,
  "nbformat_minor": 0
}