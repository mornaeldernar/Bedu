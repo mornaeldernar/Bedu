{
  "cells": [
    {
      "cell_type": "markdown",
      "metadata": {
        "id": "np02U4OQ0_Ys"
      },
      "source": [
        "## Ejemplo 7: Estructuras de control de flujo\n",
        "\n",
        "### 1. Objetivos:\n",
        "    - Conocer las estructuras de control, cómo funcionan y para qué sirven\n",
        " \n",
        "---\n",
        "    \n",
        "### 2. Desarrollo:"
      ]
    },
    {
      "cell_type": "markdown",
      "metadata": {
        "id": "vuEA-L7S0_Yw"
      },
      "source": [
        "Queremos darle a nuestro programa la capacidad de tomar decisiones. Esto puede hacerse usando una `sentencia if`. Una `sentencia if` usa una comparación para obtener un booleano. Si el booleano es `True`, el bloque de la sentencia se corre. Si el booleano es `False` nos saltamos a lo que sigue después del bloque."
      ]
    },
    {
      "cell_type": "code",
      "execution_count": 1,
      "metadata": {
        "id": "RZwI98R70_Yx"
      },
      "outputs": [],
      "source": [
        "var_1 = 4\n",
        "var_2 = 5"
      ]
    },
    {
      "cell_type": "code",
      "execution_count": 2,
      "metadata": {
        "id": "U3cUsfbc0_Yy",
        "outputId": "dd488e3c-ab98-4127-d1a3-0e11f00f2d75",
        "colab": {
          "base_uri": "https://localhost:8080/"
        }
      },
      "outputs": [
        {
          "output_type": "stream",
          "name": "stdout",
          "text": [
            "El bloque se ha corrido\n"
          ]
        }
      ],
      "source": [
        "if var_1 < var_2:\n",
        "    print(\"El bloque se ha corrido\")"
      ]
    },
    {
      "cell_type": "code",
      "execution_count": 3,
      "metadata": {
        "id": "BOsfJroZ0_Yy",
        "outputId": "ec98b6d2-1946-4d3a-fb79-e0a49e093df0",
        "colab": {
          "base_uri": "https://localhost:8080/"
        }
      },
      "outputs": [
        {
          "output_type": "stream",
          "name": "stdout",
          "text": [
            "Yo estoy afuera del bloque, y de todas maneras me van a llamar\n"
          ]
        }
      ],
      "source": [
        "if var_1 > var_2:\n",
        "    print(\"El bloque se ha corrido\")\n",
        "    \n",
        "print(\"Yo estoy afuera del bloque, y de todas maneras me van a llamar\")"
      ]
    },
    {
      "cell_type": "markdown",
      "metadata": {
        "id": "uc3_FnX50_Yz"
      },
      "source": [
        "Hay veces que queremos tener una acción `default`, que queremos que suceda en caso de que la comparación sea `False`. Para eso podemos usar una sentencia `else`. Piénsalo como preguntarse a uno mismo: \"Si meto mi mano a la bolsa y resulta que encuentro un billete de $50, me compro unos nachos; si no hay nada, veré la película llorando de tristeza\".\n",
        "\n",
        "Implementamos la acción `default` así:"
      ]
    },
    {
      "cell_type": "code",
      "execution_count": 4,
      "metadata": {
        "id": "U38iU9h80_Yz",
        "outputId": "23185f8c-a539-4c3e-cf98-0ac6f4dd5732",
        "colab": {
          "base_uri": "https://localhost:8080/"
        }
      },
      "outputs": [
        {
          "output_type": "stream",
          "name": "stdout",
          "text": [
            "La condición no se ha cumplido, y por lo tanto yo me imprimo\n"
          ]
        }
      ],
      "source": [
        "if var_1 > var_2:\n",
        "    print(\"La condición se ha cumplido\")\n",
        "else:\n",
        "    print(\"La condición no se ha cumplido, y por lo tanto yo me imprimo\")"
      ]
    },
    {
      "cell_type": "markdown",
      "metadata": {
        "id": "tB8RcrPM0_Y0"
      },
      "source": [
        "Si queremos que haya más de dos opciones, podemos agregar opciones usando la sentencia `elif`:"
      ]
    },
    {
      "cell_type": "code",
      "execution_count": 5,
      "metadata": {
        "id": "tW-8iseE0_Y1",
        "outputId": "a1e87259-4276-4756-fadd-96dce89cb3d0",
        "colab": {
          "base_uri": "https://localhost:8080/"
        }
      },
      "outputs": [
        {
          "output_type": "stream",
          "name": "stdout",
          "text": [
            "La segunda condición se ha cumplido\n"
          ]
        }
      ],
      "source": [
        "if var_1 > var_2:\n",
        "    print(\"La primera condición se ha cumplido\")\n",
        "elif var_1 < var_2:\n",
        "    print(\"La segunda condición se ha cumplido\")\n",
        "else:\n",
        "    print(\"Las primeras dos comparaciones fueron Falsas\")"
      ]
    },
    {
      "cell_type": "markdown",
      "metadata": {
        "id": "kASTNCNo0_Y1"
      },
      "source": [
        "¿Puedes pensar bajo condiciones se correría la sentencia `else`?\n",
        "\n",
        "¡Vayamos al último reto de la sesión!"
      ]
    },
    {
      "cell_type": "code",
      "execution_count": null,
      "metadata": {
        "id": "dHGV6_wM0_Y2"
      },
      "outputs": [],
      "source": [
        ""
      ]
    }
  ],
  "metadata": {
    "kernelspec": {
      "display_name": "Python (data_science)",
      "language": "python",
      "name": "data_science"
    },
    "language_info": {
      "codemirror_mode": {
        "name": "ipython",
        "version": 3
      },
      "file_extension": ".py",
      "mimetype": "text/x-python",
      "name": "python",
      "nbconvert_exporter": "python",
      "pygments_lexer": "ipython3",
      "version": "3.8.5"
    },
    "colab": {
      "provenance": []
    }
  },
  "nbformat": 4,
  "nbformat_minor": 0
}