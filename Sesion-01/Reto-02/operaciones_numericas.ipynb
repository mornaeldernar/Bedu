{
  "cells": [
    {
      "cell_type": "markdown",
      "metadata": {
        "id": "9cMr8mTAqi_L"
      },
      "source": [
        "## Reto 2: Operaciones numéricas\n",
        "\n",
        "### 1. Objetivos:\n",
        "    - Practicar asignación de variables y operaciones aritméticas en Python\n",
        " \n",
        "---\n",
        "    \n",
        "### 2. Desarrollo:"
      ]
    },
    {
      "cell_type": "markdown",
      "metadata": {
        "id": "3m4GboC6qi_M"
      },
      "source": [
        "#### 1. Asignación de los números correctos\n",
        "\n",
        "A continuación, verás unas variables que tienen nombre pero que todavía no tienen ningún valor asignado:"
      ]
    },
    {
      "cell_type": "code",
      "execution_count": 22,
      "metadata": {
        "id": "OHJ-mooSqi_N"
      },
      "outputs": [],
      "source": [
        "var_1 = 6\n",
        "\n",
        "var_2 = 8\n",
        "\n",
        "var_3 = 4\n",
        "\n",
        "var_4 = 16\n",
        "\n",
        "var_5 = 4"
      ]
    },
    {
      "cell_type": "markdown",
      "metadata": {
        "id": "fcgwJy2yqi_O"
      },
      "source": [
        "Ahora, tenemos debajo operaciones aritméticas que se han realizado con estas variables, junto a los resultados numéricos que esperamos obtener de estas operaciones:"
      ]
    },
    {
      "cell_type": "code",
      "execution_count": 23,
      "metadata": {
        "id": "wG7gNmbCqi_Q",
        "outputId": "dd72a868-bb58-4a54-a983-14b75b4427e8",
        "colab": {
          "base_uri": "https://localhost:8080/"
        }
      },
      "outputs": [
        {
          "output_type": "execute_result",
          "data": {
            "text/plain": [
              "14"
            ]
          },
          "metadata": {},
          "execution_count": 23
        }
      ],
      "source": [
        "var_1 + var_2  # Resultado esperado: 14"
      ]
    },
    {
      "cell_type": "code",
      "execution_count": 24,
      "metadata": {
        "id": "jtVp90Cyqi_Q",
        "outputId": "2b074515-a193-4e53-8694-86e498ebc6b5",
        "colab": {
          "base_uri": "https://localhost:8080/"
        }
      },
      "outputs": [
        {
          "output_type": "execute_result",
          "data": {
            "text/plain": [
              "-4"
            ]
          },
          "metadata": {},
          "execution_count": 24
        }
      ],
      "source": [
        "var_3 - var_2  # Resultado esperado: -4"
      ]
    },
    {
      "cell_type": "code",
      "execution_count": 25,
      "metadata": {
        "id": "J_XRCn4Mqi_R",
        "outputId": "3d381379-3ecb-4fe1-80a4-f9f4611fb8f9",
        "colab": {
          "base_uri": "https://localhost:8080/"
        }
      },
      "outputs": [
        {
          "output_type": "execute_result",
          "data": {
            "text/plain": [
              "24"
            ]
          },
          "metadata": {},
          "execution_count": 25
        }
      ],
      "source": [
        "var_3 * var_1  # Resultado esperado: 24"
      ]
    },
    {
      "cell_type": "code",
      "execution_count": 26,
      "metadata": {
        "id": "DHLFgRjWqi_R",
        "outputId": "b794b10e-3e74-4bd9-988e-dbe48792d3cb",
        "colab": {
          "base_uri": "https://localhost:8080/"
        }
      },
      "outputs": [
        {
          "output_type": "execute_result",
          "data": {
            "text/plain": [
              "8"
            ]
          },
          "metadata": {},
          "execution_count": 26
        }
      ],
      "source": [
        "var_5 + var_3  # Resultado esperado: 8"
      ]
    },
    {
      "cell_type": "code",
      "execution_count": 27,
      "metadata": {
        "id": "hxX1KGb6qi_S",
        "outputId": "e6c03a25-e54e-4a31-d74c-aaad28c42b88",
        "colab": {
          "base_uri": "https://localhost:8080/"
        }
      },
      "outputs": [
        {
          "output_type": "execute_result",
          "data": {
            "text/plain": [
              "4.0"
            ]
          },
          "metadata": {},
          "execution_count": 27
        }
      ],
      "source": [
        "var_4 / var_5  # Resultado esperado: 4"
      ]
    },
    {
      "cell_type": "markdown",
      "metadata": {
        "id": "Qy79cMICqi_T"
      },
      "source": [
        "El reto es asignar los números correctos a las variables de arriba de manera que al correr las celdas que contienen operaciones numéricas obtengamos los `Resultados esperados`.\n",
        "\n",
        ">*Tip*: Todos los números son pares"
      ]
    },
    {
      "cell_type": "code",
      "execution_count": null,
      "metadata": {
        "id": "WKziVaXKqi_T"
      },
      "outputs": [],
      "source": [
        ""
      ]
    }
  ],
  "metadata": {
    "kernelspec": {
      "display_name": "Python 3",
      "language": "python",
      "name": "python3"
    },
    "language_info": {
      "codemirror_mode": {
        "name": "ipython",
        "version": 3
      },
      "file_extension": ".py",
      "mimetype": "text/x-python",
      "name": "python",
      "nbconvert_exporter": "python",
      "pygments_lexer": "ipython3",
      "version": "3.8.3"
    },
    "colab": {
      "provenance": []
    }
  },
  "nbformat": 4,
  "nbformat_minor": 0
}