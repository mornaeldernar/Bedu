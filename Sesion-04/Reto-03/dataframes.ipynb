{
  "cells": [
    {
      "cell_type": "markdown",
      "metadata": {
        "id": "iGRBExgYapHr"
      },
      "source": [
        "## Reto 3: DataFrames\n",
        "\n",
        "### 1. Objetivos:\n",
        "    - Aprender a crear `DataFrames` e indexar por columna y por fila\n",
        " \n",
        "---\n",
        "    \n",
        "### 2. Desarrollo:"
      ]
    },
    {
      "cell_type": "markdown",
      "metadata": {
        "id": "_89Ymwp6apHt"
      },
      "source": [
        "#### a) Creación e indexación de `DataFrames`\n",
        "\n",
        "Eres el Data Wrangler (procesador de datos) de EyePoker Inc. Tienes el siguiente diccionario con datos que se refieren a diferentes productos que vende la empresa. Este es tu conjunto de datos y el índice que le corresponde:"
      ]
    },
    {
      "cell_type": "code",
      "execution_count": null,
      "metadata": {
        "id": "RzGg6CYCapHu"
      },
      "outputs": [],
      "source": [
        "datos_productos = {\n",
        "    \"nombre\": [\"Pokemaster\", \"Cegatron\", \"Pikame Mucho\", \"Lazarillo de Tormes\", \"Stevie Wonder\", \"Needle\", \"El AyMeDuele\"],\n",
        "    \"precio\": [10000, 5500, 3500, 750, 15500, 12250, 23000],\n",
        "    \"peso\": [1.2, 1.5, 2.3, 5.5, 3.4, 2.4, 8.8],\n",
        "    \"capacidad de destrucción retinal\": [3, 7, 6, 8, 9, 2, 10],\n",
        "    \"disponible\": [True, False, True, True, False, False, True]\n",
        "}\n",
        "\n",
        "indice = [1, 2, 3, 4, 5, 6, 7]"
      ]
    },
    {
      "cell_type": "markdown",
      "metadata": {
        "id": "ohiMLMdlapHw"
      },
      "source": [
        "El Analista de Datos de la empresa quiere realizar algunas visualizaciones con este conjunto de datos, pero no es muy buen procesador de datos, así que te pide a ti ayuda para crear los subconjuntos de datos que necesita para sus visualizaciones.\n",
        "\n",
        "Te ha dado las descripciones de los subconjuntos que necesita, en el orden en el que los quiere.\n",
        "\n",
        "Tu primer paso es convertir tu `diccionario` a `DataFrame` usando `datos_productos` e `indice`:"
      ]
    },
    {
      "cell_type": "code",
      "execution_count": null,
      "metadata": {
        "id": "wHWWym6japHx"
      },
      "outputs": [],
      "source": [
        "## Realiza aquí los imports que necesites\n",
        "import pandas as pd\n"
      ]
    },
    {
      "cell_type": "code",
      "execution_count": null,
      "metadata": {
        "id": "Fa0cH8MIapHx"
      },
      "outputs": [],
      "source": [
        "df_productos = pd.DataFrame(datos_productos,index=indice)"
      ]
    },
    {
      "cell_type": "code",
      "execution_count": null,
      "metadata": {
        "id": "26mJWA7bapHx",
        "outputId": "fd289787-bf76-4f78-ee00-8c52975d884c",
        "colab": {
          "base_uri": "https://localhost:8080/",
          "height": 269
        }
      },
      "outputs": [
        {
          "output_type": "execute_result",
          "data": {
            "text/plain": [
              "                nombre  precio  peso  capacidad de destrucción retinal  \\\n",
              "1           Pokemaster   10000   1.2                                 3   \n",
              "2             Cegatron    5500   1.5                                 7   \n",
              "3         Pikame Mucho    3500   2.3                                 6   \n",
              "4  Lazarillo de Tormes     750   5.5                                 8   \n",
              "5        Stevie Wonder   15500   3.4                                 9   \n",
              "6               Needle   12250   2.4                                 2   \n",
              "7         El AyMeDuele   23000   8.8                                10   \n",
              "\n",
              "   disponible  \n",
              "1        True  \n",
              "2       False  \n",
              "3        True  \n",
              "4        True  \n",
              "5       False  \n",
              "6       False  \n",
              "7        True  "
            ],
            "text/html": [
              "\n",
              "  <div id=\"df-f0d8ee66-39b7-4f42-a256-02e3f62b7e60\">\n",
              "    <div class=\"colab-df-container\">\n",
              "      <div>\n",
              "<style scoped>\n",
              "    .dataframe tbody tr th:only-of-type {\n",
              "        vertical-align: middle;\n",
              "    }\n",
              "\n",
              "    .dataframe tbody tr th {\n",
              "        vertical-align: top;\n",
              "    }\n",
              "\n",
              "    .dataframe thead th {\n",
              "        text-align: right;\n",
              "    }\n",
              "</style>\n",
              "<table border=\"1\" class=\"dataframe\">\n",
              "  <thead>\n",
              "    <tr style=\"text-align: right;\">\n",
              "      <th></th>\n",
              "      <th>nombre</th>\n",
              "      <th>precio</th>\n",
              "      <th>peso</th>\n",
              "      <th>capacidad de destrucción retinal</th>\n",
              "      <th>disponible</th>\n",
              "    </tr>\n",
              "  </thead>\n",
              "  <tbody>\n",
              "    <tr>\n",
              "      <th>1</th>\n",
              "      <td>Pokemaster</td>\n",
              "      <td>10000</td>\n",
              "      <td>1.2</td>\n",
              "      <td>3</td>\n",
              "      <td>True</td>\n",
              "    </tr>\n",
              "    <tr>\n",
              "      <th>2</th>\n",
              "      <td>Cegatron</td>\n",
              "      <td>5500</td>\n",
              "      <td>1.5</td>\n",
              "      <td>7</td>\n",
              "      <td>False</td>\n",
              "    </tr>\n",
              "    <tr>\n",
              "      <th>3</th>\n",
              "      <td>Pikame Mucho</td>\n",
              "      <td>3500</td>\n",
              "      <td>2.3</td>\n",
              "      <td>6</td>\n",
              "      <td>True</td>\n",
              "    </tr>\n",
              "    <tr>\n",
              "      <th>4</th>\n",
              "      <td>Lazarillo de Tormes</td>\n",
              "      <td>750</td>\n",
              "      <td>5.5</td>\n",
              "      <td>8</td>\n",
              "      <td>True</td>\n",
              "    </tr>\n",
              "    <tr>\n",
              "      <th>5</th>\n",
              "      <td>Stevie Wonder</td>\n",
              "      <td>15500</td>\n",
              "      <td>3.4</td>\n",
              "      <td>9</td>\n",
              "      <td>False</td>\n",
              "    </tr>\n",
              "    <tr>\n",
              "      <th>6</th>\n",
              "      <td>Needle</td>\n",
              "      <td>12250</td>\n",
              "      <td>2.4</td>\n",
              "      <td>2</td>\n",
              "      <td>False</td>\n",
              "    </tr>\n",
              "    <tr>\n",
              "      <th>7</th>\n",
              "      <td>El AyMeDuele</td>\n",
              "      <td>23000</td>\n",
              "      <td>8.8</td>\n",
              "      <td>10</td>\n",
              "      <td>True</td>\n",
              "    </tr>\n",
              "  </tbody>\n",
              "</table>\n",
              "</div>\n",
              "      <button class=\"colab-df-convert\" onclick=\"convertToInteractive('df-f0d8ee66-39b7-4f42-a256-02e3f62b7e60')\"\n",
              "              title=\"Convert this dataframe to an interactive table.\"\n",
              "              style=\"display:none;\">\n",
              "        \n",
              "  <svg xmlns=\"http://www.w3.org/2000/svg\" height=\"24px\"viewBox=\"0 0 24 24\"\n",
              "       width=\"24px\">\n",
              "    <path d=\"M0 0h24v24H0V0z\" fill=\"none\"/>\n",
              "    <path d=\"M18.56 5.44l.94 2.06.94-2.06 2.06-.94-2.06-.94-.94-2.06-.94 2.06-2.06.94zm-11 1L8.5 8.5l.94-2.06 2.06-.94-2.06-.94L8.5 2.5l-.94 2.06-2.06.94zm10 10l.94 2.06.94-2.06 2.06-.94-2.06-.94-.94-2.06-.94 2.06-2.06.94z\"/><path d=\"M17.41 7.96l-1.37-1.37c-.4-.4-.92-.59-1.43-.59-.52 0-1.04.2-1.43.59L10.3 9.45l-7.72 7.72c-.78.78-.78 2.05 0 2.83L4 21.41c.39.39.9.59 1.41.59.51 0 1.02-.2 1.41-.59l7.78-7.78 2.81-2.81c.8-.78.8-2.07 0-2.86zM5.41 20L4 18.59l7.72-7.72 1.47 1.35L5.41 20z\"/>\n",
              "  </svg>\n",
              "      </button>\n",
              "      \n",
              "  <style>\n",
              "    .colab-df-container {\n",
              "      display:flex;\n",
              "      flex-wrap:wrap;\n",
              "      gap: 12px;\n",
              "    }\n",
              "\n",
              "    .colab-df-convert {\n",
              "      background-color: #E8F0FE;\n",
              "      border: none;\n",
              "      border-radius: 50%;\n",
              "      cursor: pointer;\n",
              "      display: none;\n",
              "      fill: #1967D2;\n",
              "      height: 32px;\n",
              "      padding: 0 0 0 0;\n",
              "      width: 32px;\n",
              "    }\n",
              "\n",
              "    .colab-df-convert:hover {\n",
              "      background-color: #E2EBFA;\n",
              "      box-shadow: 0px 1px 2px rgba(60, 64, 67, 0.3), 0px 1px 3px 1px rgba(60, 64, 67, 0.15);\n",
              "      fill: #174EA6;\n",
              "    }\n",
              "\n",
              "    [theme=dark] .colab-df-convert {\n",
              "      background-color: #3B4455;\n",
              "      fill: #D2E3FC;\n",
              "    }\n",
              "\n",
              "    [theme=dark] .colab-df-convert:hover {\n",
              "      background-color: #434B5C;\n",
              "      box-shadow: 0px 1px 3px 1px rgba(0, 0, 0, 0.15);\n",
              "      filter: drop-shadow(0px 1px 2px rgba(0, 0, 0, 0.3));\n",
              "      fill: #FFFFFF;\n",
              "    }\n",
              "  </style>\n",
              "\n",
              "      <script>\n",
              "        const buttonEl =\n",
              "          document.querySelector('#df-f0d8ee66-39b7-4f42-a256-02e3f62b7e60 button.colab-df-convert');\n",
              "        buttonEl.style.display =\n",
              "          google.colab.kernel.accessAllowed ? 'block' : 'none';\n",
              "\n",
              "        async function convertToInteractive(key) {\n",
              "          const element = document.querySelector('#df-f0d8ee66-39b7-4f42-a256-02e3f62b7e60');\n",
              "          const dataTable =\n",
              "            await google.colab.kernel.invokeFunction('convertToInteractive',\n",
              "                                                     [key], {});\n",
              "          if (!dataTable) return;\n",
              "\n",
              "          const docLinkHtml = 'Like what you see? Visit the ' +\n",
              "            '<a target=\"_blank\" href=https://colab.research.google.com/notebooks/data_table.ipynb>data table notebook</a>'\n",
              "            + ' to learn more about interactive tables.';\n",
              "          element.innerHTML = '';\n",
              "          dataTable['output_type'] = 'display_data';\n",
              "          await google.colab.output.renderOutput(dataTable, element);\n",
              "          const docLink = document.createElement('div');\n",
              "          docLink.innerHTML = docLinkHtml;\n",
              "          element.appendChild(docLink);\n",
              "        }\n",
              "      </script>\n",
              "    </div>\n",
              "  </div>\n",
              "  "
            ]
          },
          "metadata": {},
          "execution_count": 4
        }
      ],
      "source": [
        "df_productos"
      ]
    },
    {
      "cell_type": "markdown",
      "metadata": {
        "id": "zKtrelWMapHy"
      },
      "source": [
        "Ahora, indexa tu `DataFrame` para obtener los subconjuntos requeridos. Los productos en existencia tienen un orden específico en la base de datos. El orden correcto es el que está definido en `datos_productos`. Eso significa que el \"Pokemaster\" tiene el índice `1` y es el *primer* producto; y el \"El AyMeDuele\" tiene el ìndice `7` y es el *último* producto.\n",
        "\n",
        "Realiza las indexaciones debajo. Recuerda ordenar tus `DataFrames` en el orden en el que los menciona el Analista:"
      ]
    },
    {
      "cell_type": "code",
      "execution_count": null,
      "metadata": {
        "id": "ywwQTpFFapHz"
      },
      "outputs": [],
      "source": [
        "\n",
        "# Quiero un DataFrame que contenga los productos \"Pikame Mucho\" y \"Stevie Wonder\"\n",
        "pm_sw = df_productos.loc[[3,5]]\n",
        "\n",
        "# Quiero un DataFrame que contenga desde el producto #4 hasta el último\n",
        "p4_final = df_productos.loc[4:]\n",
        "\n",
        "# Quiero un DataFrame que contenga los productos \"El AyMeDuele\", \"Lazarillo de Tormes\" y \"Needle\"\n",
        "amd_lt_n = df_productos.loc[[7,4,6]]\n",
        "\n",
        "# Quiero un DataFrame que contenga desde el primer producto hasta el producto #5\n",
        "primer_p5 = df_productos.loc[:5]\n",
        "\n",
        "# Quiero un DataFrame que contenga los productos \"Pikame Mucho\" y \"Lazarillo de Tormes\", pero sólo con las columnas \"nombre\", \"precio\" y \"peso\"\n",
        "pm_lt_pp = df_productos.loc[3:4,:'peso']\n",
        "\n",
        "# Quiero un DataFrame que contenga todos los productos pero con sólo las columnas 'nombre', 'precio' y 'capacidad de destrucción retinal'\n",
        "t_pcdr = df_productos.loc[:,['nombre','precio','capacidad de destrucción retinal']]\n",
        "\n",
        "# Quiero un DataFrame que contenga desde el producto #3 hasta el #6, pero sólo las columnas 'nombre', 'precio' y 'disponible'\n",
        "p3_p6_pd = df_productos.loc[3:6,['nombre','precio','disponible']]"
      ]
    },
    {
      "cell_type": "markdown",
      "metadata": {
        "id": "ShV_t3TBapH0"
      },
      "source": [
        "Pídele a tu experta la función de verificación `verificar_indexaciones` (encontrada en el archivo `helpers.py` de la carpeta donde se encuentra este Reto), pégala debajo y corre la celda para verificar tu resultado:"
      ]
    },
    {
      "cell_type": "code",
      "execution_count": null,
      "metadata": {
        "id": "iOnh2WFQapH0",
        "outputId": "67d4508e-b4f3-43ec-ee93-fdfb1ad05098",
        "colab": {
          "base_uri": "https://localhost:8080/"
        }
      },
      "outputs": [
        {
          "output_type": "stream",
          "name": "stdout",
          "text": [
            "== Verificación de Indexaciones ==\n",
            "\n",
            "\n",
            "- Descripción de pedido: DataFrame que contenga los productos \"Pikame Mucho\" y \"Stevie Wonder\"\n",
            "El pedido es Correcto ... Muchas gracias!\n",
            "\n",
            "- Descripción de pedido: DataFrame que contenga desde el producto #4 hasta el último\n",
            "El pedido es Correcto ... Muchas gracias!\n",
            "\n",
            "- Descripción de pedido: DataFrame que contenga los productos \"El AyMeDuele\", \"Lazarillo de Tormes\" y \"Needle\"\n",
            "El pedido es Correcto ... Muchas gracias!\n",
            "\n",
            "- Descripción de pedido: DataFrame que contenga desde el primer producto hasta el producto #5\n",
            "El pedido es Correcto ... Muchas gracias!\n",
            "\n",
            "- Descripción de pedido: DataFrame que contenga los productos \"Pikame Mucho\" y \"Lazarillo de Tormes\", pero sólo con las columnas \"nombre\", \"precio\" y \"peso\"\n",
            "El pedido es Correcto ... Muchas gracias!\n",
            "\n",
            "- Descripción de pedido: DataFrame que contenga todos los productos pero con sólo las columnas 'nombre', 'precio' y 'capacidad de destrucción retinal'\n",
            "El pedido es Correcto ... Muchas gracias!\n",
            "\n",
            "- Descripción de pedido: DataFrame que contenga desde el producto #3 hasta el #6, pero sólo las columnas 'nombre', 'precio' y 'disponible'\n",
            "El pedido es Correcto ... Muchas gracias!\n"
          ]
        }
      ],
      "source": [
        "# Pega aquí la función de verificación\n",
        "def verificar_indexaciones(datos_productos, indice, df_productos, pm_sw, p4_final, amd_lt_n, primer_p5, pm_lt_pp, t_pcdr, p3_p6_pd):\n",
        "    \n",
        "    import pandas as pd\n",
        "    \n",
        "    df_productos_esperado = pd.DataFrame(datos_productos, index=indice)\n",
        "    if not df_productos_esperado.equals(df_productos):\n",
        "        print(f'df_productos ha sido creado incorrectamente ... Favor de revisar')\n",
        "        return\n",
        "    \n",
        "    print(f'== Verificación de Indexaciones ==\\n')\n",
        "    verificar_indexacion(df_productos.loc[[3, 5]], pm_sw, 'DataFrame que contenga los productos \"Pikame Mucho\" y \"Stevie Wonder\"')\n",
        "    verificar_indexacion(df_productos.loc[4:], p4_final, 'DataFrame que contenga desde el producto #4 hasta el último')\n",
        "    verificar_indexacion(df_productos.loc[[7, 4, 6]], amd_lt_n, 'DataFrame que contenga los productos \"El AyMeDuele\", \"Lazarillo de Tormes\" y \"Needle\"')\n",
        "    verificar_indexacion(df_productos.loc[:5], primer_p5, 'DataFrame que contenga desde el primer producto hasta el producto #5')\n",
        "    verificar_indexacion(df_productos.loc[[3, 4], ['nombre', 'precio', 'peso']], pm_lt_pp, 'DataFrame que contenga los productos \"Pikame Mucho\" y \"Lazarillo de Tormes\", pero sólo con las columnas \"nombre\", \"precio\" y \"peso\"')\n",
        "    verificar_indexacion(df_productos[['nombre', 'precio', 'capacidad de destrucción retinal']], t_pcdr, \"DataFrame que contenga todos los productos pero con sólo las columnas 'nombre', 'precio' y 'capacidad de destrucción retinal'\")\n",
        "    verificar_indexacion(df_productos.loc[3:6, ['nombre', 'precio', 'disponible']], p3_p6_pd, \"DataFrame que contenga desde el producto #3 hasta el #6, pero sólo las columnas 'nombre', 'precio' y 'disponible'\")\n",
        "    \n",
        "def verificar_indexacion(esperada, recibida, descripcion):\n",
        "    es_correcta = \"Correcto\" if esperada.equals(recibida) else \"Incorrecto\"\n",
        "    respuesta = \"Muchas gracias!\" if es_correcta == \"Correcto\" else \"Favor de revisar\"\n",
        "    print(f\"\\n- Descripción de pedido: {descripcion}\")\n",
        "    print(f\"El pedido es {es_correcta} ... {respuesta}\")\n",
        "verificar_indexaciones(datos_productos, indice, df_productos, pm_sw, p4_final, amd_lt_n, primer_p5, pm_lt_pp, t_pcdr, p3_p6_pd)"
      ]
    },
    {
      "cell_type": "code",
      "execution_count": null,
      "metadata": {
        "id": "mgntwkQOapH1"
      },
      "outputs": [],
      "source": []
    }
  ],
  "metadata": {
    "kernelspec": {
      "display_name": "Python 3",
      "language": "python",
      "name": "python3"
    },
    "language_info": {
      "codemirror_mode": {
        "name": "ipython",
        "version": 3
      },
      "file_extension": ".py",
      "mimetype": "text/x-python",
      "name": "python",
      "nbconvert_exporter": "python",
      "pygments_lexer": "ipython3",
      "version": "3.8.3"
    },
    "colab": {
      "provenance": []
    }
  },
  "nbformat": 4,
  "nbformat_minor": 0
}