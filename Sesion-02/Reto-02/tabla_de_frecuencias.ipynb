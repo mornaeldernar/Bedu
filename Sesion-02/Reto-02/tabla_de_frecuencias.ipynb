{
  "cells": [
    {
      "cell_type": "markdown",
      "metadata": {
        "id": "G_NPIao4S1rg"
      },
      "source": [
        "## Reto 2: Tablas de frecuencias\n",
        "\n",
        "### 1. Objetivos:\n",
        "    - Aprender a generar tablas de frecuencias segmentando nuestros datos\n",
        "\n",
        "---\n",
        "    \n",
        "### 2. Desarrollo:"
      ]
    },
    {
      "cell_type": "markdown",
      "metadata": {
        "id": "k7986CqnS1rl"
      },
      "source": [
        "#### a) Analizando distribución con tablas de frecuencias\n",
        "\n",
        "Vamos a generar tablas de frecuencias de los siguientes datasets y columnas:\n",
        "\n",
        "1. Dataset: 'near_earth_objects-jan_feb_1995-clean.csv'\n",
        "    - Columnas a graficar: 'estimated_diameter.meters.estimated_diameter_max' y 'relative_velocity.kilometers_per_second'\n",
        "2. Dataset: 'new_york_times_bestsellers-clean.json'\n",
        "    - Columnas a graficar: 'price.numberDouble'\n",
        "3. Dataset: 'melbourne_housing-clean.csv'\n",
        "    - Columnas a graficar: 'land_size'\n",
        "    \n",
        "Estos conjuntos de datos son los mismos que graficamos en el Reto anterior. Antes de generar las tablas de frecuencias, revisa el rango de tus conjuntos de datos y decide el número de segmentos adecuado para cada uno.\n",
        "\n",
        "Después, genera las tablas de frecuencias para cada uno de estos conjuntos de datos y compáralos con las gráficas de caja que realizaste en el Reto anterior. ¿Hay información nueva? ¿Qué ventajas o desventajas nos da esta nueva perspectiva?\n",
        "\n",
        "Piensa cuál de las dos aproximaciones (boxplots y tablas de frecuencia) resulta más útil para detectar valores atípicos. ¿O simplemente son útiles en diferentes contextos?"
      ]
    },
    {
      "cell_type": "code",
      "source": [
        "import pandas as pd\n"
      ],
      "metadata": {
        "id": "HgGpyjmoS7kS"
      },
      "execution_count": 4,
      "outputs": []
    },
    {
      "cell_type": "code",
      "source": [
        "from google.colab import drive\n",
        "drive.mount('/content/drive')"
      ],
      "metadata": {
        "id": "4NcKnsPeTMb4",
        "outputId": "573a4bd2-fe57-4831-e8f4-1e5a6d310bd3",
        "colab": {
          "base_uri": "https://localhost:8080/"
        }
      },
      "execution_count": 5,
      "outputs": [
        {
          "output_type": "stream",
          "name": "stdout",
          "text": [
            "Mounted at /content/drive\n"
          ]
        }
      ]
    },
    {
      "cell_type": "code",
      "source": [
        "df = pd.read_csv('/content/drive/MyDrive/Datasets/near_earth_objects-jan_feb_1995-raw.csv',index_col='Unnamed: 0')"
      ],
      "metadata": {
        "id": "tkAeB1gVS7g2"
      },
      "execution_count": 6,
      "outputs": []
    },
    {
      "cell_type": "code",
      "source": [
        "df2 = pd.read_json('/content/drive/MyDrive/Datasets/new_york_times_bestsellers-clean.json')"
      ],
      "metadata": {
        "id": "BzqOL6n9S7eB"
      },
      "execution_count": 7,
      "outputs": []
    },
    {
      "cell_type": "code",
      "source": [
        "df3 = pd.read_csv('/content/drive/MyDrive/Datasets/melbourne_housing-no_nans.csv',index_col='Unnamed: 0')"
      ],
      "metadata": {
        "id": "M6PAXLvRS7bb"
      },
      "execution_count": 8,
      "outputs": []
    },
    {
      "cell_type": "code",
      "source": [
        "diameter = df['estimated_diameter.meters.estimated_diameter_max']\n",
        "velocity = df['relative_velocity.kilometers_per_second']"
      ],
      "metadata": {
        "id": "oCztumj4T8yw"
      },
      "execution_count": 26,
      "outputs": []
    },
    {
      "cell_type": "code",
      "source": [
        "price=df2['price.numberDouble']"
      ],
      "metadata": {
        "id": "i5Vuev8tU5Be"
      },
      "execution_count": 31,
      "outputs": []
    },
    {
      "cell_type": "code",
      "source": [
        "landsize = df3['Landsize']"
      ],
      "metadata": {
        "id": "jS8VZk_HU4-K"
      },
      "execution_count": 34,
      "outputs": []
    },
    {
      "cell_type": "code",
      "source": [
        "diameter.min()"
      ],
      "metadata": {
        "id": "Jm7jtQOtTvg1",
        "outputId": "5335d4e9-0ae8-42fa-9be1-2e7d6eecdbd9",
        "colab": {
          "base_uri": "https://localhost:8080/"
        }
      },
      "execution_count": 16,
      "outputs": [
        {
          "output_type": "execute_result",
          "data": {
            "text/plain": [
              "2.978790628"
            ]
          },
          "metadata": {},
          "execution_count": 16
        }
      ]
    },
    {
      "cell_type": "code",
      "source": [
        "diameter.max()"
      ],
      "metadata": {
        "id": "ZyVhxkBKTcTt",
        "outputId": "42ba07cd-6b95-44f9-9984-950a4d44cb73",
        "colab": {
          "base_uri": "https://localhost:8080/"
        }
      },
      "execution_count": 17,
      "outputs": [
        {
          "output_type": "execute_result",
          "data": {
            "text/plain": [
              "6516.883821679"
            ]
          },
          "metadata": {},
          "execution_count": 17
        }
      ]
    },
    {
      "cell_type": "code",
      "source": [
        "diameter.max()-diameter.min()"
      ],
      "metadata": {
        "id": "FzcEWDWWT5OK",
        "outputId": "07958eb1-2928-464a-90c6-844cc634118b",
        "colab": {
          "base_uri": "https://localhost:8080/"
        }
      },
      "execution_count": 18,
      "outputs": [
        {
          "output_type": "execute_result",
          "data": {
            "text/plain": [
              "6513.905031051"
            ]
          },
          "metadata": {},
          "execution_count": 18
        }
      ]
    },
    {
      "cell_type": "code",
      "source": [
        "velocity.max()-velocity.min()"
      ],
      "metadata": {
        "id": "fbDrOyuVUewu",
        "outputId": "b62c74e3-a1b8-4d42-eac7-0443f542ba2d",
        "colab": {
          "base_uri": "https://localhost:8080/"
        }
      },
      "execution_count": 28,
      "outputs": [
        {
          "output_type": "execute_result",
          "data": {
            "text/plain": [
              "39.8459916905"
            ]
          },
          "metadata": {},
          "execution_count": 28
        }
      ]
    },
    {
      "cell_type": "markdown",
      "source": [
        "## Diameter"
      ],
      "metadata": {
        "id": "7Icwa39IVpn1"
      }
    },
    {
      "cell_type": "code",
      "source": [
        "bins = pd.cut(diameter,20)\n",
        "diameter.groupby(bins).count()"
      ],
      "metadata": {
        "id": "TOuJ9-GhS7YZ",
        "outputId": "ab2a0d14-599c-43d2-b832-d2ca332c79b0",
        "colab": {
          "base_uri": "https://localhost:8080/"
        }
      },
      "execution_count": 29,
      "outputs": [
        {
          "output_type": "execute_result",
          "data": {
            "text/plain": [
              "estimated_diameter.meters.estimated_diameter_max\n",
              "(-3.535, 328.674]       207\n",
              "(328.674, 654.369]       67\n",
              "(654.369, 980.065]       24\n",
              "(980.065, 1305.76]       18\n",
              "(1305.76, 1631.455]       4\n",
              "(1631.455, 1957.15]       6\n",
              "(1957.15, 2282.846]       1\n",
              "(2282.846, 2608.541]      1\n",
              "(2608.541, 2934.236]      1\n",
              "(2934.236, 3259.931]      1\n",
              "(3259.931, 3585.627]      1\n",
              "(3585.627, 3911.322]      1\n",
              "(3911.322, 4237.017]      0\n",
              "(4237.017, 4562.712]      0\n",
              "(4562.712, 4888.408]      0\n",
              "(4888.408, 5214.103]      0\n",
              "(5214.103, 5539.798]      0\n",
              "(5539.798, 5865.493]      0\n",
              "(5865.493, 6191.189]      0\n",
              "(6191.189, 6516.884]      1\n",
              "Name: estimated_diameter.meters.estimated_diameter_max, dtype: int64"
            ]
          },
          "metadata": {},
          "execution_count": 29
        }
      ]
    },
    {
      "cell_type": "markdown",
      "source": [
        "## Velocity"
      ],
      "metadata": {
        "id": "irfcdDT2Vnpy"
      }
    },
    {
      "cell_type": "code",
      "source": [
        "bins2 = pd.cut(velocity,20)\n",
        "velocity.groupby(bins2).count()"
      ],
      "metadata": {
        "id": "uHWAKrOuS7VK",
        "outputId": "fcf54c7a-dd60-49d8-eaca-3231eedfec6a",
        "colab": {
          "base_uri": "https://localhost:8080/"
        }
      },
      "execution_count": 30,
      "outputs": [
        {
          "output_type": "execute_result",
          "data": {
            "text/plain": [
              "relative_velocity.kilometers_per_second\n",
              "(0.642, 2.674]       5\n",
              "(2.674, 4.666]      14\n",
              "(4.666, 6.658]      33\n",
              "(6.658, 8.651]      33\n",
              "(8.651, 10.643]     31\n",
              "(10.643, 12.635]    28\n",
              "(12.635, 14.628]    26\n",
              "(14.628, 16.62]     41\n",
              "(16.62, 18.612]     36\n",
              "(18.612, 20.604]    18\n",
              "(20.604, 22.597]    16\n",
              "(22.597, 24.589]     9\n",
              "(24.589, 26.581]    11\n",
              "(26.581, 28.574]     6\n",
              "(28.574, 30.566]    11\n",
              "(30.566, 32.558]     5\n",
              "(32.558, 34.551]     2\n",
              "(34.551, 36.543]     3\n",
              "(36.543, 38.535]     3\n",
              "(38.535, 40.527]     2\n",
              "Name: relative_velocity.kilometers_per_second, dtype: int64"
            ]
          },
          "metadata": {},
          "execution_count": 30
        }
      ]
    },
    {
      "cell_type": "markdown",
      "source": [
        "## Price"
      ],
      "metadata": {
        "id": "jvCJ6d5CVkWI"
      }
    },
    {
      "cell_type": "code",
      "source": [
        "bins3 = pd.cut(price,20)\n",
        "price.groupby(bins3).count()"
      ],
      "metadata": {
        "id": "8GmuDLoEU36X",
        "outputId": "ed16a758-a99d-4e38-b2d0-a50a1a394945",
        "colab": {
          "base_uri": "https://localhost:8080/"
        }
      },
      "execution_count": 36,
      "outputs": [
        {
          "output_type": "execute_result",
          "data": {
            "text/plain": [
              "price.numberDouble\n",
              "(14.97, 15.99]      3\n",
              "(15.99, 16.99]     11\n",
              "(16.99, 17.99]      0\n",
              "(17.99, 18.99]      0\n",
              "(18.99, 19.99]     33\n",
              "(19.99, 20.99]      0\n",
              "(20.99, 21.99]     24\n",
              "(21.99, 22.99]      9\n",
              "(22.99, 23.99]     39\n",
              "(23.99, 24.99]    407\n",
              "(24.99, 25.99]    666\n",
              "(25.99, 26.99]    591\n",
              "(26.99, 27.99]    986\n",
              "(27.99, 28.99]    168\n",
              "(28.99, 29.99]     75\n",
              "(29.99, 30.99]      9\n",
              "(30.99, 31.99]      0\n",
              "(31.99, 32.99]      0\n",
              "(32.99, 33.99]      0\n",
              "(33.99, 34.99]     12\n",
              "Name: price.numberDouble, dtype: int64"
            ]
          },
          "metadata": {},
          "execution_count": 36
        }
      ]
    },
    {
      "cell_type": "markdown",
      "source": [
        "## Land size"
      ],
      "metadata": {
        "id": "KgmcTAikVhFT"
      }
    },
    {
      "cell_type": "code",
      "source": [
        "bins4 = pd.cut(landsize,30)\n",
        "landsize.groupby(bins4).count()"
      ],
      "metadata": {
        "id": "eKua_POHU33B",
        "outputId": "1571d302-bdb4-41c1-8b15-05041c3a83ec",
        "colab": {
          "base_uri": "https://localhost:8080/"
        }
      },
      "execution_count": 41,
      "outputs": [
        {
          "output_type": "execute_result",
          "data": {
            "text/plain": [
              "Landsize\n",
              "(-76.0, 2533.333]         11512\n",
              "(2533.333, 5066.667]         88\n",
              "(5066.667, 7600.0]           19\n",
              "(7600.0, 10133.333]           9\n",
              "(10133.333, 12666.667]        0\n",
              "(12666.667, 15200.0]          3\n",
              "(15200.0, 17733.333]          7\n",
              "(17733.333, 20266.667]        0\n",
              "(20266.667, 22800.0]          2\n",
              "(22800.0, 25333.333]          0\n",
              "(25333.333, 27866.667]        0\n",
              "(27866.667, 30400.0]          0\n",
              "(30400.0, 32933.333]          0\n",
              "(32933.333, 35466.667]        0\n",
              "(35466.667, 38000.0]          2\n",
              "(38000.0, 40533.333]          1\n",
              "(40533.333, 43066.667]        1\n",
              "(43066.667, 45600.0]          0\n",
              "(45600.0, 48133.333]          0\n",
              "(48133.333, 50666.667]        0\n",
              "(50666.667, 53200.0]          0\n",
              "(53200.0, 55733.333]          0\n",
              "(55733.333, 58266.667]        0\n",
              "(58266.667, 60800.0]          0\n",
              "(60800.0, 63333.333]          0\n",
              "(63333.333, 65866.667]        0\n",
              "(65866.667, 68400.0]          0\n",
              "(68400.0, 70933.333]          0\n",
              "(70933.333, 73466.667]        0\n",
              "(73466.667, 76000.0]          2\n",
              "Name: Landsize, dtype: int64"
            ]
          },
          "metadata": {},
          "execution_count": 41
        }
      ]
    },
    {
      "cell_type": "code",
      "source": [],
      "metadata": {
        "id": "nd24AsYlU30O"
      },
      "execution_count": null,
      "outputs": []
    },
    {
      "cell_type": "code",
      "source": [],
      "metadata": {
        "id": "7zytSa9yU3xS"
      },
      "execution_count": null,
      "outputs": []
    },
    {
      "cell_type": "code",
      "source": [],
      "metadata": {
        "id": "lK-gY_UCU3uZ"
      },
      "execution_count": null,
      "outputs": []
    }
  ],
  "metadata": {
    "kernelspec": {
      "display_name": "Python (data_science)",
      "language": "python",
      "name": "data_science"
    },
    "language_info": {
      "codemirror_mode": {
        "name": "ipython",
        "version": 3
      },
      "file_extension": ".py",
      "mimetype": "text/x-python",
      "name": "python",
      "nbconvert_exporter": "python",
      "pygments_lexer": "ipython3",
      "version": "3.8.5"
    },
    "colab": {
      "provenance": []
    }
  },
  "nbformat": 4,
  "nbformat_minor": 0
}