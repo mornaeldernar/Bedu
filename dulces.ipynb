{
  "nbformat": 4,
  "nbformat_minor": 0,
  "metadata": {
    "colab": {
      "provenance": [],
      "collapsed_sections": [],
      "toc_visible": true,
      "include_colab_link": true
    },
    "kernelspec": {
      "name": "python3",
      "display_name": "Python 3"
    },
    "language_info": {
      "name": "python"
    }
  },
  "cells": [
    {
      "cell_type": "markdown",
      "metadata": {
        "id": "view-in-github",
        "colab_type": "text"
      },
      "source": [
        "<a href=\"https://colab.research.google.com/github/mornaeldernar/Bedu/blob/main/dulces.ipynb\" target=\"_parent\"><img src=\"https://colab.research.google.com/assets/colab-badge.svg\" alt=\"Open In Colab\"/></a>"
      ]
    },
    {
      "cell_type": "markdown",
      "source": [
        "# README"
      ],
      "metadata": {
        "id": "CaBS7sSbfF76"
      }
    },
    {
      "cell_type": "markdown",
      "source": [
        "## Equipo 18\n",
        "- Alef Gama\n",
        "- Arturo Solís\n",
        "- Jacob Muñoz\n",
        "- Javier Castillo\n",
        "- Rafael Jiménez"
      ],
      "metadata": {
        "id": "gCiF4EBel_pm"
      }
    },
    {
      "cell_type": "markdown",
      "source": [
        "## Identificación del problema"
      ],
      "metadata": {
        "id": "6z-7Utv-l_ms"
      }
    },
    {
      "cell_type": "markdown",
      "source": [
        "¡Se aproxima Halloween! Y nos surgió la duda de cuáles son los dulces que mas les gustan a las personas. A través del análisis de datos podremos responder esta pregunta.\n",
        "\n",
        "Este trabajo se divide en:\n",
        "1. Introducción (README)\n",
        "2. Recolectar datos\n",
        "3. Analizar los datos\n",
        "4. Limpiar los datos\n",
        "5. Responder las preguntas planteadas"
      ],
      "metadata": {
        "id": "dF6vdtSil_kN"
      }
    },
    {
      "cell_type": "markdown",
      "source": [
        "## Planteamiento de preguntas"
      ],
      "metadata": {
        "id": "Dx8p6Pdgl_hr"
      }
    },
    {
      "cell_type": "markdown",
      "source": [
        "* ¿Cuál es el dulce que más le gusta a las personas?\n",
        "* ¿Hay dulces que le gusten más a cierto rango de edad?\n",
        "* ¿Cuál dulce le gusta más a los hombres?\n",
        "* ¿Cuál dulce le gusta más a las mujeres?\n",
        "* ¿Cuales son el top 5 de dulces en estados unidos?\n",
        "* ¿Podremos obtener información de los dulces de otros paises?\n"
      ],
      "metadata": {
        "id": "kO49TdYOl_e-"
      }
    },
    {
      "cell_type": "markdown",
      "source": [
        "# Recolección de datos"
      ],
      "metadata": {
        "id": "vl0mqaLXl_b9"
      }
    },
    {
      "cell_type": "markdown",
      "source": [
        "## Fuentes"
      ],
      "metadata": {
        "id": "w-DbctIGAa9T"
      }
    },
    {
      "cell_type": "markdown",
      "source": [
        "Estuvimos buscando datos que nos ayudaran a resolver las preguntas planteadas y encontramos una página que se dedicó a hacer encuestas sobre los dulces en el 2017:"
      ],
      "metadata": {
        "id": "rQIkYmEMnMPm"
      }
    },
    {
      "cell_type": "markdown",
      "source": [
        "|||\n",
        "| --- | :---|\n",
        "|**Archivo CSV:** | https://www.scq.ubc.ca/wp-content/uploads/2017/10/candyhierarchy2017.csv |\n",
        "|**Archivo XLSX:** | https://www.scq.ubc.ca/wp-content/uploads/2017/10/candyhierarchy2017.xlsx |\n",
        "|**Encuesta:** | https://www.scq.ubc.ca/wp-content/uploads/2017/10/candyhierarchysurvey2017.pdf |\n",
        "|**Fuente:** | https://www.scq.ubc.ca/so-much-candy-data-seriously/ |"
      ],
      "metadata": {
        "id": "TUEErmpCnMNI"
      }
    },
    {
      "cell_type": "markdown",
      "source": [
        "## Importando librerias"
      ],
      "metadata": {
        "id": "TXi07QLJnL8S"
      }
    },
    {
      "cell_type": "code",
      "execution_count": null,
      "metadata": {
        "id": "ZQpufhc-oreV"
      },
      "outputs": [],
      "source": [
        "import pandas as pd\n",
        "import numpy as np\n",
        "from google.colab import files, data_table"
      ]
    },
    {
      "cell_type": "markdown",
      "source": [
        "## Carga de nuestro conjunto de datos"
      ],
      "metadata": {
        "id": "TkS8bw9AoIWu"
      }
    },
    {
      "cell_type": "code",
      "source": [
        "# Subir CSV como DataFrame\n",
        "print('''1.- Descarga el archivo \"candyhierarchy2017.csv\" desde:\n",
        "https://www.scq.ubc.ca/wp-content/uploads/2017/10/candyhierarchy2017.csv\n",
        "2.- ↓ Desde tu equipo, elige el archivo ↓\n",
        "(Si ya lo subiste sólo da click en \"cancel update\")''')\n",
        "files.upload()\n",
        "try:\n",
        "  df = pd.read_csv('candyhierarchy2017.csv', encoding = \"ISO-8859-1\")\n",
        "  print('''\n",
        "Archivo \"candyhierarchy2017.csv\" guardado como DataFrame.\n",
        "Puedes comenzar tu análisis''')\n",
        "except:\n",
        "  print('Ocurrió un error. Revisa el archivo CSV y tu ruta de acceso')"
      ],
      "metadata": {
        "colab": {
          "base_uri": "https://localhost:8080/",
          "height": 194
        },
        "id": "-MelWDoLDFTa",
        "outputId": "2b2cd94b-a4ed-4cf4-9c7f-41556202a985"
      },
      "execution_count": null,
      "outputs": [
        {
          "output_type": "stream",
          "name": "stdout",
          "text": [
            "1.- Descarga el archivo \"candyhierarchy2017.csv\" desde:\n",
            "https://www.scq.ubc.ca/wp-content/uploads/2017/10/candyhierarchy2017.csv\n",
            "2.- ↓ Desde tu equipo, elige el archivo ↓\n",
            "(Si ya lo subiste sólo da click en \"cancel update\")\n"
          ]
        },
        {
          "output_type": "display_data",
          "data": {
            "text/plain": [
              "<IPython.core.display.HTML object>"
            ],
            "text/html": [
              "\n",
              "     <input type=\"file\" id=\"files-9e080915-0943-44eb-beff-2acc79a864c5\" name=\"files[]\" multiple disabled\n",
              "        style=\"border:none\" />\n",
              "     <output id=\"result-9e080915-0943-44eb-beff-2acc79a864c5\">\n",
              "      Upload widget is only available when the cell has been executed in the\n",
              "      current browser session. Please rerun this cell to enable.\n",
              "      </output>\n",
              "      <script>// Copyright 2017 Google LLC\n",
              "//\n",
              "// Licensed under the Apache License, Version 2.0 (the \"License\");\n",
              "// you may not use this file except in compliance with the License.\n",
              "// You may obtain a copy of the License at\n",
              "//\n",
              "//      http://www.apache.org/licenses/LICENSE-2.0\n",
              "//\n",
              "// Unless required by applicable law or agreed to in writing, software\n",
              "// distributed under the License is distributed on an \"AS IS\" BASIS,\n",
              "// WITHOUT WARRANTIES OR CONDITIONS OF ANY KIND, either express or implied.\n",
              "// See the License for the specific language governing permissions and\n",
              "// limitations under the License.\n",
              "\n",
              "/**\n",
              " * @fileoverview Helpers for google.colab Python module.\n",
              " */\n",
              "(function(scope) {\n",
              "function span(text, styleAttributes = {}) {\n",
              "  const element = document.createElement('span');\n",
              "  element.textContent = text;\n",
              "  for (const key of Object.keys(styleAttributes)) {\n",
              "    element.style[key] = styleAttributes[key];\n",
              "  }\n",
              "  return element;\n",
              "}\n",
              "\n",
              "// Max number of bytes which will be uploaded at a time.\n",
              "const MAX_PAYLOAD_SIZE = 100 * 1024;\n",
              "\n",
              "function _uploadFiles(inputId, outputId) {\n",
              "  const steps = uploadFilesStep(inputId, outputId);\n",
              "  const outputElement = document.getElementById(outputId);\n",
              "  // Cache steps on the outputElement to make it available for the next call\n",
              "  // to uploadFilesContinue from Python.\n",
              "  outputElement.steps = steps;\n",
              "\n",
              "  return _uploadFilesContinue(outputId);\n",
              "}\n",
              "\n",
              "// This is roughly an async generator (not supported in the browser yet),\n",
              "// where there are multiple asynchronous steps and the Python side is going\n",
              "// to poll for completion of each step.\n",
              "// This uses a Promise to block the python side on completion of each step,\n",
              "// then passes the result of the previous step as the input to the next step.\n",
              "function _uploadFilesContinue(outputId) {\n",
              "  const outputElement = document.getElementById(outputId);\n",
              "  const steps = outputElement.steps;\n",
              "\n",
              "  const next = steps.next(outputElement.lastPromiseValue);\n",
              "  return Promise.resolve(next.value.promise).then((value) => {\n",
              "    // Cache the last promise value to make it available to the next\n",
              "    // step of the generator.\n",
              "    outputElement.lastPromiseValue = value;\n",
              "    return next.value.response;\n",
              "  });\n",
              "}\n",
              "\n",
              "/**\n",
              " * Generator function which is called between each async step of the upload\n",
              " * process.\n",
              " * @param {string} inputId Element ID of the input file picker element.\n",
              " * @param {string} outputId Element ID of the output display.\n",
              " * @return {!Iterable<!Object>} Iterable of next steps.\n",
              " */\n",
              "function* uploadFilesStep(inputId, outputId) {\n",
              "  const inputElement = document.getElementById(inputId);\n",
              "  inputElement.disabled = false;\n",
              "\n",
              "  const outputElement = document.getElementById(outputId);\n",
              "  outputElement.innerHTML = '';\n",
              "\n",
              "  const pickedPromise = new Promise((resolve) => {\n",
              "    inputElement.addEventListener('change', (e) => {\n",
              "      resolve(e.target.files);\n",
              "    });\n",
              "  });\n",
              "\n",
              "  const cancel = document.createElement('button');\n",
              "  inputElement.parentElement.appendChild(cancel);\n",
              "  cancel.textContent = 'Cancel upload';\n",
              "  const cancelPromise = new Promise((resolve) => {\n",
              "    cancel.onclick = () => {\n",
              "      resolve(null);\n",
              "    };\n",
              "  });\n",
              "\n",
              "  // Wait for the user to pick the files.\n",
              "  const files = yield {\n",
              "    promise: Promise.race([pickedPromise, cancelPromise]),\n",
              "    response: {\n",
              "      action: 'starting',\n",
              "    }\n",
              "  };\n",
              "\n",
              "  cancel.remove();\n",
              "\n",
              "  // Disable the input element since further picks are not allowed.\n",
              "  inputElement.disabled = true;\n",
              "\n",
              "  if (!files) {\n",
              "    return {\n",
              "      response: {\n",
              "        action: 'complete',\n",
              "      }\n",
              "    };\n",
              "  }\n",
              "\n",
              "  for (const file of files) {\n",
              "    const li = document.createElement('li');\n",
              "    li.append(span(file.name, {fontWeight: 'bold'}));\n",
              "    li.append(span(\n",
              "        `(${file.type || 'n/a'}) - ${file.size} bytes, ` +\n",
              "        `last modified: ${\n",
              "            file.lastModifiedDate ? file.lastModifiedDate.toLocaleDateString() :\n",
              "                                    'n/a'} - `));\n",
              "    const percent = span('0% done');\n",
              "    li.appendChild(percent);\n",
              "\n",
              "    outputElement.appendChild(li);\n",
              "\n",
              "    const fileDataPromise = new Promise((resolve) => {\n",
              "      const reader = new FileReader();\n",
              "      reader.onload = (e) => {\n",
              "        resolve(e.target.result);\n",
              "      };\n",
              "      reader.readAsArrayBuffer(file);\n",
              "    });\n",
              "    // Wait for the data to be ready.\n",
              "    let fileData = yield {\n",
              "      promise: fileDataPromise,\n",
              "      response: {\n",
              "        action: 'continue',\n",
              "      }\n",
              "    };\n",
              "\n",
              "    // Use a chunked sending to avoid message size limits. See b/62115660.\n",
              "    let position = 0;\n",
              "    do {\n",
              "      const length = Math.min(fileData.byteLength - position, MAX_PAYLOAD_SIZE);\n",
              "      const chunk = new Uint8Array(fileData, position, length);\n",
              "      position += length;\n",
              "\n",
              "      const base64 = btoa(String.fromCharCode.apply(null, chunk));\n",
              "      yield {\n",
              "        response: {\n",
              "          action: 'append',\n",
              "          file: file.name,\n",
              "          data: base64,\n",
              "        },\n",
              "      };\n",
              "\n",
              "      let percentDone = fileData.byteLength === 0 ?\n",
              "          100 :\n",
              "          Math.round((position / fileData.byteLength) * 100);\n",
              "      percent.textContent = `${percentDone}% done`;\n",
              "\n",
              "    } while (position < fileData.byteLength);\n",
              "  }\n",
              "\n",
              "  // All done.\n",
              "  yield {\n",
              "    response: {\n",
              "      action: 'complete',\n",
              "    }\n",
              "  };\n",
              "}\n",
              "\n",
              "scope.google = scope.google || {};\n",
              "scope.google.colab = scope.google.colab || {};\n",
              "scope.google.colab._files = {\n",
              "  _uploadFiles,\n",
              "  _uploadFilesContinue,\n",
              "};\n",
              "})(self);\n",
              "</script> "
            ]
          },
          "metadata": {}
        },
        {
          "output_type": "stream",
          "name": "stdout",
          "text": [
            "Saving candyhierarchy2017.csv to candyhierarchy2017.csv\n",
            "\n",
            "Archivo \"candyhierarchy2017.csv\" guardado como DataFrame.\n",
            "Puedes comenzar tu análisis\n"
          ]
        }
      ]
    },
    {
      "cell_type": "markdown",
      "source": [
        "# Análisis exploratorio de datos\n",
        "Visualizamos los datos para darnos una idea de como estan\n",
        "\n",
        "\n"
      ],
      "metadata": {
        "id": "0uK-88gvpRKW"
      }
    },
    {
      "cell_type": "code",
      "source": [
        "df.head()"
      ],
      "metadata": {
        "colab": {
          "base_uri": "https://localhost:8080/",
          "height": 560
        },
        "id": "ckkl9xYnr7ny",
        "outputId": "ebef6681-d798-4884-bbd9-0efd934461fb"
      },
      "execution_count": null,
      "outputs": [
        {
          "output_type": "execute_result",
          "data": {
            "text/plain": [
              "   Internal ID Q1: GOING OUT? Q2: GENDER Q3: AGE Q4: COUNTRY  \\\n",
              "0     90258773            NaN        NaN     NaN         NaN   \n",
              "1     90272821             No       Male      44        USA    \n",
              "2     90272829            NaN       Male      49         USA   \n",
              "3     90272840             No       Male      40          us   \n",
              "4     90272841             No       Male      23         usa   \n",
              "\n",
              "  Q5: STATE, PROVINCE, COUNTY, ETC Q6 | 100 Grand Bar  \\\n",
              "0                              NaN                NaN   \n",
              "1                               NM                MEH   \n",
              "2                         Virginia                NaN   \n",
              "3                               or                MEH   \n",
              "4                         exton pa                JOY   \n",
              "\n",
              "  Q6 | Anonymous brown globs that come in black and orange wrappers\\t(a.k.a. Mary Janes)  \\\n",
              "0                                                NaN                                       \n",
              "1                                            DESPAIR                                       \n",
              "2                                                NaN                                       \n",
              "3                                            DESPAIR                                       \n",
              "4                                            DESPAIR                                       \n",
              "\n",
              "  Q6 | Any full-sized candy bar Q6 | Black Jacks  ... Q8: DESPAIR OTHER  \\\n",
              "0                           NaN              NaN  ...               NaN   \n",
              "1                           JOY              MEH  ...               NaN   \n",
              "2                           NaN              NaN  ...               NaN   \n",
              "3                           JOY              MEH  ...               NaN   \n",
              "4                           JOY          DESPAIR  ...               NaN   \n",
              "\n",
              "                                  Q9: OTHER COMMENTS      Q10: DRESS  \\\n",
              "0                                                NaN             NaN   \n",
              "1  Bottom line is Twix is really the only candy w...  White and gold   \n",
              "2                                                NaN             NaN   \n",
              "3                             Raisins can go to hell  White and gold   \n",
              "4                                                NaN  White and gold   \n",
              "\n",
              "  Unnamed: 113 Q11: DAY Q12: MEDIA [Daily Dish] Q12: MEDIA [Science]  \\\n",
              "0          NaN      NaN                     NaN                  NaN   \n",
              "1          NaN   Sunday                     NaN                  1.0   \n",
              "2          NaN      NaN                     NaN                  NaN   \n",
              "3          NaN   Sunday                     NaN                  1.0   \n",
              "4          NaN   Friday                     NaN                  1.0   \n",
              "\n",
              "  Q12: MEDIA [ESPN] Q12: MEDIA [Yahoo] Click Coordinates (x, y)  \n",
              "0               NaN                NaN                      NaN  \n",
              "1               NaN                NaN                 (84, 25)  \n",
              "2               NaN                NaN                      NaN  \n",
              "3               NaN                NaN                 (75, 23)  \n",
              "4               NaN                NaN                 (70, 10)  \n",
              "\n",
              "[5 rows x 120 columns]"
            ],
            "text/html": [
              "\n",
              "  <div id=\"df-8f35b8da-9cb5-41b3-b8d4-43081cba7f12\">\n",
              "    <div class=\"colab-df-container\">\n",
              "      <div>\n",
              "<style scoped>\n",
              "    .dataframe tbody tr th:only-of-type {\n",
              "        vertical-align: middle;\n",
              "    }\n",
              "\n",
              "    .dataframe tbody tr th {\n",
              "        vertical-align: top;\n",
              "    }\n",
              "\n",
              "    .dataframe thead th {\n",
              "        text-align: right;\n",
              "    }\n",
              "</style>\n",
              "<table border=\"1\" class=\"dataframe\">\n",
              "  <thead>\n",
              "    <tr style=\"text-align: right;\">\n",
              "      <th></th>\n",
              "      <th>Internal ID</th>\n",
              "      <th>Q1: GOING OUT?</th>\n",
              "      <th>Q2: GENDER</th>\n",
              "      <th>Q3: AGE</th>\n",
              "      <th>Q4: COUNTRY</th>\n",
              "      <th>Q5: STATE, PROVINCE, COUNTY, ETC</th>\n",
              "      <th>Q6 | 100 Grand Bar</th>\n",
              "      <th>Q6 | Anonymous brown globs that come in black and orange wrappers\\t(a.k.a. Mary Janes)</th>\n",
              "      <th>Q6 | Any full-sized candy bar</th>\n",
              "      <th>Q6 | Black Jacks</th>\n",
              "      <th>...</th>\n",
              "      <th>Q8: DESPAIR OTHER</th>\n",
              "      <th>Q9: OTHER COMMENTS</th>\n",
              "      <th>Q10: DRESS</th>\n",
              "      <th>Unnamed: 113</th>\n",
              "      <th>Q11: DAY</th>\n",
              "      <th>Q12: MEDIA [Daily Dish]</th>\n",
              "      <th>Q12: MEDIA [Science]</th>\n",
              "      <th>Q12: MEDIA [ESPN]</th>\n",
              "      <th>Q12: MEDIA [Yahoo]</th>\n",
              "      <th>Click Coordinates (x, y)</th>\n",
              "    </tr>\n",
              "  </thead>\n",
              "  <tbody>\n",
              "    <tr>\n",
              "      <th>0</th>\n",
              "      <td>90258773</td>\n",
              "      <td>NaN</td>\n",
              "      <td>NaN</td>\n",
              "      <td>NaN</td>\n",
              "      <td>NaN</td>\n",
              "      <td>NaN</td>\n",
              "      <td>NaN</td>\n",
              "      <td>NaN</td>\n",
              "      <td>NaN</td>\n",
              "      <td>NaN</td>\n",
              "      <td>...</td>\n",
              "      <td>NaN</td>\n",
              "      <td>NaN</td>\n",
              "      <td>NaN</td>\n",
              "      <td>NaN</td>\n",
              "      <td>NaN</td>\n",
              "      <td>NaN</td>\n",
              "      <td>NaN</td>\n",
              "      <td>NaN</td>\n",
              "      <td>NaN</td>\n",
              "      <td>NaN</td>\n",
              "    </tr>\n",
              "    <tr>\n",
              "      <th>1</th>\n",
              "      <td>90272821</td>\n",
              "      <td>No</td>\n",
              "      <td>Male</td>\n",
              "      <td>44</td>\n",
              "      <td>USA</td>\n",
              "      <td>NM</td>\n",
              "      <td>MEH</td>\n",
              "      <td>DESPAIR</td>\n",
              "      <td>JOY</td>\n",
              "      <td>MEH</td>\n",
              "      <td>...</td>\n",
              "      <td>NaN</td>\n",
              "      <td>Bottom line is Twix is really the only candy w...</td>\n",
              "      <td>White and gold</td>\n",
              "      <td>NaN</td>\n",
              "      <td>Sunday</td>\n",
              "      <td>NaN</td>\n",
              "      <td>1.0</td>\n",
              "      <td>NaN</td>\n",
              "      <td>NaN</td>\n",
              "      <td>(84, 25)</td>\n",
              "    </tr>\n",
              "    <tr>\n",
              "      <th>2</th>\n",
              "      <td>90272829</td>\n",
              "      <td>NaN</td>\n",
              "      <td>Male</td>\n",
              "      <td>49</td>\n",
              "      <td>USA</td>\n",
              "      <td>Virginia</td>\n",
              "      <td>NaN</td>\n",
              "      <td>NaN</td>\n",
              "      <td>NaN</td>\n",
              "      <td>NaN</td>\n",
              "      <td>...</td>\n",
              "      <td>NaN</td>\n",
              "      <td>NaN</td>\n",
              "      <td>NaN</td>\n",
              "      <td>NaN</td>\n",
              "      <td>NaN</td>\n",
              "      <td>NaN</td>\n",
              "      <td>NaN</td>\n",
              "      <td>NaN</td>\n",
              "      <td>NaN</td>\n",
              "      <td>NaN</td>\n",
              "    </tr>\n",
              "    <tr>\n",
              "      <th>3</th>\n",
              "      <td>90272840</td>\n",
              "      <td>No</td>\n",
              "      <td>Male</td>\n",
              "      <td>40</td>\n",
              "      <td>us</td>\n",
              "      <td>or</td>\n",
              "      <td>MEH</td>\n",
              "      <td>DESPAIR</td>\n",
              "      <td>JOY</td>\n",
              "      <td>MEH</td>\n",
              "      <td>...</td>\n",
              "      <td>NaN</td>\n",
              "      <td>Raisins can go to hell</td>\n",
              "      <td>White and gold</td>\n",
              "      <td>NaN</td>\n",
              "      <td>Sunday</td>\n",
              "      <td>NaN</td>\n",
              "      <td>1.0</td>\n",
              "      <td>NaN</td>\n",
              "      <td>NaN</td>\n",
              "      <td>(75, 23)</td>\n",
              "    </tr>\n",
              "    <tr>\n",
              "      <th>4</th>\n",
              "      <td>90272841</td>\n",
              "      <td>No</td>\n",
              "      <td>Male</td>\n",
              "      <td>23</td>\n",
              "      <td>usa</td>\n",
              "      <td>exton pa</td>\n",
              "      <td>JOY</td>\n",
              "      <td>DESPAIR</td>\n",
              "      <td>JOY</td>\n",
              "      <td>DESPAIR</td>\n",
              "      <td>...</td>\n",
              "      <td>NaN</td>\n",
              "      <td>NaN</td>\n",
              "      <td>White and gold</td>\n",
              "      <td>NaN</td>\n",
              "      <td>Friday</td>\n",
              "      <td>NaN</td>\n",
              "      <td>1.0</td>\n",
              "      <td>NaN</td>\n",
              "      <td>NaN</td>\n",
              "      <td>(70, 10)</td>\n",
              "    </tr>\n",
              "  </tbody>\n",
              "</table>\n",
              "<p>5 rows × 120 columns</p>\n",
              "</div>\n",
              "      <button class=\"colab-df-convert\" onclick=\"convertToInteractive('df-8f35b8da-9cb5-41b3-b8d4-43081cba7f12')\"\n",
              "              title=\"Convert this dataframe to an interactive table.\"\n",
              "              style=\"display:none;\">\n",
              "        \n",
              "  <svg xmlns=\"http://www.w3.org/2000/svg\" height=\"24px\"viewBox=\"0 0 24 24\"\n",
              "       width=\"24px\">\n",
              "    <path d=\"M0 0h24v24H0V0z\" fill=\"none\"/>\n",
              "    <path d=\"M18.56 5.44l.94 2.06.94-2.06 2.06-.94-2.06-.94-.94-2.06-.94 2.06-2.06.94zm-11 1L8.5 8.5l.94-2.06 2.06-.94-2.06-.94L8.5 2.5l-.94 2.06-2.06.94zm10 10l.94 2.06.94-2.06 2.06-.94-2.06-.94-.94-2.06-.94 2.06-2.06.94z\"/><path d=\"M17.41 7.96l-1.37-1.37c-.4-.4-.92-.59-1.43-.59-.52 0-1.04.2-1.43.59L10.3 9.45l-7.72 7.72c-.78.78-.78 2.05 0 2.83L4 21.41c.39.39.9.59 1.41.59.51 0 1.02-.2 1.41-.59l7.78-7.78 2.81-2.81c.8-.78.8-2.07 0-2.86zM5.41 20L4 18.59l7.72-7.72 1.47 1.35L5.41 20z\"/>\n",
              "  </svg>\n",
              "      </button>\n",
              "      \n",
              "  <style>\n",
              "    .colab-df-container {\n",
              "      display:flex;\n",
              "      flex-wrap:wrap;\n",
              "      gap: 12px;\n",
              "    }\n",
              "\n",
              "    .colab-df-convert {\n",
              "      background-color: #E8F0FE;\n",
              "      border: none;\n",
              "      border-radius: 50%;\n",
              "      cursor: pointer;\n",
              "      display: none;\n",
              "      fill: #1967D2;\n",
              "      height: 32px;\n",
              "      padding: 0 0 0 0;\n",
              "      width: 32px;\n",
              "    }\n",
              "\n",
              "    .colab-df-convert:hover {\n",
              "      background-color: #E2EBFA;\n",
              "      box-shadow: 0px 1px 2px rgba(60, 64, 67, 0.3), 0px 1px 3px 1px rgba(60, 64, 67, 0.15);\n",
              "      fill: #174EA6;\n",
              "    }\n",
              "\n",
              "    [theme=dark] .colab-df-convert {\n",
              "      background-color: #3B4455;\n",
              "      fill: #D2E3FC;\n",
              "    }\n",
              "\n",
              "    [theme=dark] .colab-df-convert:hover {\n",
              "      background-color: #434B5C;\n",
              "      box-shadow: 0px 1px 3px 1px rgba(0, 0, 0, 0.15);\n",
              "      filter: drop-shadow(0px 1px 2px rgba(0, 0, 0, 0.3));\n",
              "      fill: #FFFFFF;\n",
              "    }\n",
              "  </style>\n",
              "\n",
              "      <script>\n",
              "        const buttonEl =\n",
              "          document.querySelector('#df-8f35b8da-9cb5-41b3-b8d4-43081cba7f12 button.colab-df-convert');\n",
              "        buttonEl.style.display =\n",
              "          google.colab.kernel.accessAllowed ? 'block' : 'none';\n",
              "\n",
              "        async function convertToInteractive(key) {\n",
              "          const element = document.querySelector('#df-8f35b8da-9cb5-41b3-b8d4-43081cba7f12');\n",
              "          const dataTable =\n",
              "            await google.colab.kernel.invokeFunction('convertToInteractive',\n",
              "                                                     [key], {});\n",
              "          if (!dataTable) return;\n",
              "\n",
              "          const docLinkHtml = 'Like what you see? Visit the ' +\n",
              "            '<a target=\"_blank\" href=https://colab.research.google.com/notebooks/data_table.ipynb>data table notebook</a>'\n",
              "            + ' to learn more about interactive tables.';\n",
              "          element.innerHTML = '';\n",
              "          dataTable['output_type'] = 'display_data';\n",
              "          await google.colab.output.renderOutput(dataTable, element);\n",
              "          const docLink = document.createElement('div');\n",
              "          docLink.innerHTML = docLinkHtml;\n",
              "          element.appendChild(docLink);\n",
              "        }\n",
              "      </script>\n",
              "    </div>\n",
              "  </div>\n",
              "  "
            ]
          },
          "metadata": {},
          "execution_count": 3
        }
      ]
    },
    {
      "cell_type": "code",
      "source": [
        "df.shape"
      ],
      "metadata": {
        "colab": {
          "base_uri": "https://localhost:8080/"
        },
        "id": "acUmRLl0pZKR",
        "outputId": "51fcd87a-516c-4b94-c3eb-7d536196d299"
      },
      "execution_count": null,
      "outputs": [
        {
          "output_type": "execute_result",
          "data": {
            "text/plain": [
              "(2460, 120)"
            ]
          },
          "metadata": {},
          "execution_count": 4
        }
      ]
    },
    {
      "cell_type": "markdown",
      "source": [
        "Como son 120 columnas, se crea una función para ver las columnas, el total de NaNs y el porcentaje de NaNs como tabla interactiva. Para facilitar la exploración de los datos."
      ],
      "metadata": {
        "id": "OlitPcnDY0gD"
      }
    },
    {
      "cell_type": "code",
      "source": [
        "# Ver columna + Total Nans + Porcentaje\n",
        "def porcentaje_vacios ():\n",
        "  nans = pd.DataFrame({'columns': df.columns, 'totalNans': df.isna().sum(), 'percentages' : df.isna().sum()/len(df)*100})\n",
        "  data_table.enable_dataframe_formatter()\n",
        "  return data_table.DataTable(nans, include_index=False, num_rows_per_page=20)\n",
        "  data_table.disable_dataframe_formatter()"
      ],
      "metadata": {
        "id": "plGEJcfSBFL1"
      },
      "execution_count": null,
      "outputs": []
    },
    {
      "cell_type": "code",
      "source": [
        "porcentaje_vacios()"
      ],
      "metadata": {
        "colab": {
          "base_uri": "https://localhost:8080/",
          "height": 525
        },
        "id": "6xx5B1X_wPMh",
        "outputId": "2c943949-066d-472b-cb78-2d45ef232bf6"
      },
      "execution_count": null,
      "outputs": [
        {
          "output_type": "execute_result",
          "data": {
            "text/html": [
              "<div>\n",
              "<style scoped>\n",
              "    .dataframe tbody tr th:only-of-type {\n",
              "        vertical-align: middle;\n",
              "    }\n",
              "\n",
              "    .dataframe tbody tr th {\n",
              "        vertical-align: top;\n",
              "    }\n",
              "\n",
              "    .dataframe thead th {\n",
              "        text-align: right;\n",
              "    }\n",
              "</style>\n",
              "<table border=\"1\" class=\"dataframe\">\n",
              "  <thead>\n",
              "    <tr style=\"text-align: right;\">\n",
              "      <th></th>\n",
              "      <th>columns</th>\n",
              "      <th>totalNans</th>\n",
              "      <th>percentages</th>\n",
              "    </tr>\n",
              "  </thead>\n",
              "  <tbody>\n",
              "    <tr>\n",
              "      <th>Internal ID</th>\n",
              "      <td>Internal ID</td>\n",
              "      <td>0</td>\n",
              "      <td>0.000000</td>\n",
              "    </tr>\n",
              "    <tr>\n",
              "      <th>Q1: GOING OUT?</th>\n",
              "      <td>Q1: GOING OUT?</td>\n",
              "      <td>110</td>\n",
              "      <td>4.471545</td>\n",
              "    </tr>\n",
              "    <tr>\n",
              "      <th>Q2: GENDER</th>\n",
              "      <td>Q2: GENDER</td>\n",
              "      <td>41</td>\n",
              "      <td>1.666667</td>\n",
              "    </tr>\n",
              "    <tr>\n",
              "      <th>Q3: AGE</th>\n",
              "      <td>Q3: AGE</td>\n",
              "      <td>84</td>\n",
              "      <td>3.414634</td>\n",
              "    </tr>\n",
              "    <tr>\n",
              "      <th>Q4: COUNTRY</th>\n",
              "      <td>Q4: COUNTRY</td>\n",
              "      <td>64</td>\n",
              "      <td>2.601626</td>\n",
              "    </tr>\n",
              "    <tr>\n",
              "      <th>...</th>\n",
              "      <td>...</td>\n",
              "      <td>...</td>\n",
              "      <td>...</td>\n",
              "    </tr>\n",
              "    <tr>\n",
              "      <th>Q12: MEDIA [Daily Dish]</th>\n",
              "      <td>Q12: MEDIA [Daily Dish]</td>\n",
              "      <td>2375</td>\n",
              "      <td>96.544715</td>\n",
              "    </tr>\n",
              "    <tr>\n",
              "      <th>Q12: MEDIA [Science]</th>\n",
              "      <td>Q12: MEDIA [Science]</td>\n",
              "      <td>1098</td>\n",
              "      <td>44.634146</td>\n",
              "    </tr>\n",
              "    <tr>\n",
              "      <th>Q12: MEDIA [ESPN]</th>\n",
              "      <td>Q12: MEDIA [ESPN]</td>\n",
              "      <td>2361</td>\n",
              "      <td>95.975610</td>\n",
              "    </tr>\n",
              "    <tr>\n",
              "      <th>Q12: MEDIA [Yahoo]</th>\n",
              "      <td>Q12: MEDIA [Yahoo]</td>\n",
              "      <td>2393</td>\n",
              "      <td>97.276423</td>\n",
              "    </tr>\n",
              "    <tr>\n",
              "      <th>Click Coordinates (x, y)</th>\n",
              "      <td>Click Coordinates (x, y)</td>\n",
              "      <td>855</td>\n",
              "      <td>34.756098</td>\n",
              "    </tr>\n",
              "  </tbody>\n",
              "</table>\n",
              "<p>120 rows × 3 columns</p>\n",
              "</div>"
            ],
            "application/vnd.google.colaboratory.module+javascript": "\n      import \"https://ssl.gstatic.com/colaboratory/data_table/a8bd4d5e58f96183/data_table.js\";\n\n      window.createDataTable({\n        data: [[\"Internal ID\",\n{\n            'v': 0,\n            'f': \"0\",\n        },\n{\n            'v': 0.0,\n            'f': \"0.0\",\n        }],\n [\"Q1: GOING OUT?\",\n{\n            'v': 110,\n            'f': \"110\",\n        },\n{\n            'v': 4.471544715447155,\n            'f': \"4.471544715447155\",\n        }],\n [\"Q2: GENDER\",\n{\n            'v': 41,\n            'f': \"41\",\n        },\n{\n            'v': 1.6666666666666667,\n            'f': \"1.6666666666666667\",\n        }],\n [\"Q3: AGE\",\n{\n            'v': 84,\n            'f': \"84\",\n        },\n{\n            'v': 3.414634146341464,\n            'f': \"3.414634146341464\",\n        }],\n [\"Q4: COUNTRY\",\n{\n            'v': 64,\n            'f': \"64\",\n        },\n{\n            'v': 2.6016260162601625,\n            'f': \"2.6016260162601625\",\n        }],\n [\"Q5: STATE, PROVINCE, COUNTY, ETC\",\n{\n            'v': 100,\n            'f': \"100\",\n        },\n{\n            'v': 4.0650406504065035,\n            'f': \"4.0650406504065035\",\n        }],\n [\"Q6 | 100 Grand Bar\",\n{\n            'v': 747,\n            'f': \"747\",\n        },\n{\n            'v': 30.365853658536583,\n            'f': \"30.365853658536583\",\n        }],\n [\"Q6 | Anonymous brown globs that come in black and orange wrappers\\t(a.k.a. Mary Janes)\",\n{\n            'v': 734,\n            'f': \"734\",\n        },\n{\n            'v': 29.837398373983742,\n            'f': \"29.837398373983742\",\n        }],\n [\"Q6 | Any full-sized candy bar\",\n{\n            'v': 672,\n            'f': \"672\",\n        },\n{\n            'v': 27.31707317073171,\n            'f': \"27.31707317073171\",\n        }],\n [\"Q6 | Black Jacks\",\n{\n            'v': 958,\n            'f': \"958\",\n        },\n{\n            'v': 38.943089430894304,\n            'f': \"38.943089430894304\",\n        }],\n [\"Q6 | Bonkers (the candy)\",\n{\n            'v': 992,\n            'f': \"992\",\n        },\n{\n            'v': 40.32520325203252,\n            'f': \"40.32520325203252\",\n        }],\n [\"Q6 | Bonkers (the board game)\",\n{\n            'v': 1006,\n            'f': \"1006\",\n        },\n{\n            'v': 40.89430894308943,\n            'f': \"40.89430894308943\",\n        }],\n [\"Q6 | Bottle Caps\",\n{\n            'v': 765,\n            'f': \"765\",\n        },\n{\n            'v': 31.097560975609756,\n            'f': \"31.097560975609756\",\n        }],\n [\"Q6 | Box'o'Raisins\",\n{\n            'v': 688,\n            'f': \"688\",\n        },\n{\n            'v': 27.967479674796746,\n            'f': \"27.967479674796746\",\n        }],\n [\"Q6 | Broken glow stick\",\n{\n            'v': 706,\n            'f': \"706\",\n        },\n{\n            'v': 28.69918699186992,\n            'f': \"28.69918699186992\",\n        }],\n [\"Q6 | Butterfinger\",\n{\n            'v': 682,\n            'f': \"682\",\n        },\n{\n            'v': 27.723577235772357,\n            'f': \"27.723577235772357\",\n        }],\n [\"Q6 | Cadbury Creme Eggs\",\n{\n            'v': 683,\n            'f': \"683\",\n        },\n{\n            'v': 27.764227642276424,\n            'f': \"27.764227642276424\",\n        }],\n [\"Q6 | Candy Corn\",\n{\n            'v': 678,\n            'f': \"678\",\n        },\n{\n            'v': 27.5609756097561,\n            'f': \"27.5609756097561\",\n        }],\n [\"Q6 | Candy that is clearly just the stuff given out for free at restaurants\",\n{\n            'v': 691,\n            'f': \"691\",\n        },\n{\n            'v': 28.089430894308943,\n            'f': \"28.089430894308943\",\n        }],\n [\"Q6 | Caramellos\",\n{\n            'v': 752,\n            'f': \"752\",\n        },\n{\n            'v': 30.569105691056908,\n            'f': \"30.569105691056908\",\n        }],\n [\"Q6 | Cash, or other forms of legal tender\",\n{\n            'v': 680,\n            'f': \"680\",\n        },\n{\n            'v': 27.64227642276423,\n            'f': \"27.64227642276423\",\n        }],\n [\"Q6 | Chardonnay\",\n{\n            'v': 743,\n            'f': \"743\",\n        },\n{\n            'v': 30.20325203252033,\n            'f': \"30.20325203252033\",\n        }],\n [\"Q6 | Chick-o-Sticks (we don\\u00d5t know what that is)\",\n{\n            'v': 946,\n            'f': \"946\",\n        },\n{\n            'v': 38.455284552845534,\n            'f': \"38.455284552845534\",\n        }],\n [\"Q6 | Chiclets\",\n{\n            'v': 711,\n            'f': \"711\",\n        },\n{\n            'v': 28.90243902439024,\n            'f': \"28.90243902439024\",\n        }],\n [\"Q6 | Coffee Crisp\",\n{\n            'v': 853,\n            'f': \"853\",\n        },\n{\n            'v': 34.67479674796748,\n            'f': \"34.67479674796748\",\n        }],\n [\"Q6 | Creepy Religious comics/Chick Tracts\",\n{\n            'v': 704,\n            'f': \"704\",\n        },\n{\n            'v': 28.61788617886179,\n            'f': \"28.61788617886179\",\n        }],\n [\"Q6 | Dental paraphenalia\",\n{\n            'v': 692,\n            'f': \"692\",\n        },\n{\n            'v': 28.13008130081301,\n            'f': \"28.13008130081301\",\n        }],\n [\"Q6 | Dots\",\n{\n            'v': 729,\n            'f': \"729\",\n        },\n{\n            'v': 29.634146341463413,\n            'f': \"29.634146341463413\",\n        }],\n [\"Q6 | Dove Bars\",\n{\n            'v': 702,\n            'f': \"702\",\n        },\n{\n            'v': 28.536585365853657,\n            'f': \"28.536585365853657\",\n        }],\n [\"Q6 | Fuzzy Peaches\",\n{\n            'v': 823,\n            'f': \"823\",\n        },\n{\n            'v': 33.45528455284553,\n            'f': \"33.45528455284553\",\n        }],\n [\"Q6 | Generic Brand Acetaminophen\",\n{\n            'v': 731,\n            'f': \"731\",\n        },\n{\n            'v': 29.715447154471548,\n            'f': \"29.715447154471548\",\n        }],\n [\"Q6 | Glow sticks\",\n{\n            'v': 697,\n            'f': \"697\",\n        },\n{\n            'v': 28.333333333333332,\n            'f': \"28.333333333333332\",\n        }],\n [\"Q6 | Goo Goo Clusters\",\n{\n            'v': 879,\n            'f': \"879\",\n        },\n{\n            'v': 35.731707317073166,\n            'f': \"35.731707317073166\",\n        }],\n [\"Q6 | Good N' Plenty\",\n{\n            'v': 734,\n            'f': \"734\",\n        },\n{\n            'v': 29.837398373983742,\n            'f': \"29.837398373983742\",\n        }],\n [\"Q6 | Gum from baseball cards\",\n{\n            'v': 716,\n            'f': \"716\",\n        },\n{\n            'v': 29.105691056910572,\n            'f': \"29.105691056910572\",\n        }],\n [\"Q6 | Gummy Bears straight up\",\n{\n            'v': 697,\n            'f': \"697\",\n        },\n{\n            'v': 28.333333333333332,\n            'f': \"28.333333333333332\",\n        }],\n [\"Q6 | Hard Candy\",\n{\n            'v': 695,\n            'f': \"695\",\n        },\n{\n            'v': 28.252032520325205,\n            'f': \"28.252032520325205\",\n        }],\n [\"Q6 | Healthy Fruit\",\n{\n            'v': 694,\n            'f': \"694\",\n        },\n{\n            'v': 28.211382113821138,\n            'f': \"28.211382113821138\",\n        }],\n [\"Q6 | Heath Bar\",\n{\n            'v': 712,\n            'f': \"712\",\n        },\n{\n            'v': 28.943089430894307,\n            'f': \"28.943089430894307\",\n        }],\n [\"Q6 | Hershey's Dark Chocolate\",\n{\n            'v': 673,\n            'f': \"673\",\n        },\n{\n            'v': 27.35772357723577,\n            'f': \"27.35772357723577\",\n        }],\n [\"Q6 | Hershey\\u00d5s Milk Chocolate\",\n{\n            'v': 672,\n            'f': \"672\",\n        },\n{\n            'v': 27.31707317073171,\n            'f': \"27.31707317073171\",\n        }],\n [\"Q6 | Hershey's Kisses\",\n{\n            'v': 678,\n            'f': \"678\",\n        },\n{\n            'v': 27.5609756097561,\n            'f': \"27.5609756097561\",\n        }],\n [\"Q6 | Hugs (actual physical hugs)\",\n{\n            'v': 713,\n            'f': \"713\",\n        },\n{\n            'v': 28.983739837398375,\n            'f': \"28.983739837398375\",\n        }],\n [\"Q6 | Jolly Rancher (bad flavor)\",\n{\n            'v': 694,\n            'f': \"694\",\n        },\n{\n            'v': 28.211382113821138,\n            'f': \"28.211382113821138\",\n        }],\n [\"Q6 | Jolly Ranchers (good flavor)\",\n{\n            'v': 695,\n            'f': \"695\",\n        },\n{\n            'v': 28.252032520325205,\n            'f': \"28.252032520325205\",\n        }],\n [\"Q6 | JoyJoy (Mit Iodine!)\",\n{\n            'v': 1026,\n            'f': \"1026\",\n        },\n{\n            'v': 41.70731707317073,\n            'f': \"41.70731707317073\",\n        }],\n [\"Q6 | Junior Mints\",\n{\n            'v': 698,\n            'f': \"698\",\n        },\n{\n            'v': 28.3739837398374,\n            'f': \"28.3739837398374\",\n        }],\n [\"Q6 | Senior Mints\",\n{\n            'v': 942,\n            'f': \"942\",\n        },\n{\n            'v': 38.29268292682927,\n            'f': \"38.29268292682927\",\n        }],\n [\"Q6 | Kale smoothie\",\n{\n            'v': 744,\n            'f': \"744\",\n        },\n{\n            'v': 30.24390243902439,\n            'f': \"30.24390243902439\",\n        }],\n [\"Q6 | Kinder Happy Hippo\",\n{\n            'v': 945,\n            'f': \"945\",\n        },\n{\n            'v': 38.41463414634146,\n            'f': \"38.41463414634146\",\n        }],\n [\"Q6 | Kit Kat\",\n{\n            'v': 674,\n            'f': \"674\",\n        },\n{\n            'v': 27.398373983739837,\n            'f': \"27.398373983739837\",\n        }],\n [\"Q6 | LaffyTaffy\",\n{\n            'v': 736,\n            'f': \"736\",\n        },\n{\n            'v': 29.91869918699187,\n            'f': \"29.91869918699187\",\n        }],\n [\"Q6 | LemonHeads\",\n{\n            'v': 730,\n            'f': \"730\",\n        },\n{\n            'v': 29.67479674796748,\n            'f': \"29.67479674796748\",\n        }],\n [\"Q6 | Licorice (not black)\",\n{\n            'v': 686,\n            'f': \"686\",\n        },\n{\n            'v': 27.88617886178862,\n            'f': \"27.88617886178862\",\n        }],\n [\"Q6 | Licorice (yes black)\",\n{\n            'v': 685,\n            'f': \"685\",\n        },\n{\n            'v': 27.84552845528455,\n            'f': \"27.84552845528455\",\n        }],\n [\"Q6 | Lindt Truffle\",\n{\n            'v': 718,\n            'f': \"718\",\n        },\n{\n            'v': 29.1869918699187,\n            'f': \"29.1869918699187\",\n        }],\n [\"Q6 | Lollipops\",\n{\n            'v': 691,\n            'f': \"691\",\n        },\n{\n            'v': 28.089430894308943,\n            'f': \"28.089430894308943\",\n        }],\n [\"Q6 | Mars\",\n{\n            'v': 725,\n            'f': \"725\",\n        },\n{\n            'v': 29.471544715447155,\n            'f': \"29.471544715447155\",\n        }],\n [\"Q6 | Maynards\",\n{\n            'v': 1024,\n            'f': \"1024\",\n        },\n{\n            'v': 41.6260162601626,\n            'f': \"41.6260162601626\",\n        }],\n [\"Q6 | Mike and Ike\",\n{\n            'v': 729,\n            'f': \"729\",\n        },\n{\n            'v': 29.634146341463413,\n            'f': \"29.634146341463413\",\n        }],\n [\"Q6 | Milk Duds\",\n{\n            'v': 693,\n            'f': \"693\",\n        },\n{\n            'v': 28.17073170731707,\n            'f': \"28.17073170731707\",\n        }],\n [\"Q6 | Milky Way\",\n{\n            'v': 688,\n            'f': \"688\",\n        },\n{\n            'v': 27.967479674796746,\n            'f': \"27.967479674796746\",\n        }],\n [\"Q6 | Regular M&Ms\",\n{\n            'v': 675,\n            'f': \"675\",\n        },\n{\n            'v': 27.439024390243905,\n            'f': \"27.439024390243905\",\n        }],\n [\"Q6 | Peanut M&M\\u00d5s\",\n{\n            'v': 671,\n            'f': \"671\",\n        },\n{\n            'v': 27.276422764227643,\n            'f': \"27.276422764227643\",\n        }],\n [\"Q6 | Blue M&M's\",\n{\n            'v': 727,\n            'f': \"727\",\n        },\n{\n            'v': 29.552845528455286,\n            'f': \"29.552845528455286\",\n        }],\n [\"Q6 | Red M&M's\",\n{\n            'v': 729,\n            'f': \"729\",\n        },\n{\n            'v': 29.634146341463413,\n            'f': \"29.634146341463413\",\n        }],\n [\"Q6 | Green Party M&M's\",\n{\n            'v': 764,\n            'f': \"764\",\n        },\n{\n            'v': 31.05691056910569,\n            'f': \"31.05691056910569\",\n        }],\n [\"Q6 | Independent M&M's\",\n{\n            'v': 813,\n            'f': \"813\",\n        },\n{\n            'v': 33.048780487804876,\n            'f': \"33.048780487804876\",\n        }],\n [\"Q6 | Abstained from M&M'ing.\",\n{\n            'v': 942,\n            'f': \"942\",\n        },\n{\n            'v': 38.29268292682927,\n            'f': \"38.29268292682927\",\n        }],\n [\"Q6 | Minibags of chips\",\n{\n            'v': 724,\n            'f': \"724\",\n        },\n{\n            'v': 29.43089430894309,\n            'f': \"29.43089430894309\",\n        }],\n [\"Q6 | Mint Kisses\",\n{\n            'v': 776,\n            'f': \"776\",\n        },\n{\n            'v': 31.54471544715447,\n            'f': \"31.54471544715447\",\n        }],\n [\"Q6 | Mint Juleps\",\n{\n            'v': 811,\n            'f': \"811\",\n        },\n{\n            'v': 32.96747967479675,\n            'f': \"32.96747967479675\",\n        }],\n [\"Q6 | Mr. Goodbar\",\n{\n            'v': 740,\n            'f': \"740\",\n        },\n{\n            'v': 30.081300813008134,\n            'f': \"30.081300813008134\",\n        }],\n [\"Q6 | Necco Wafers\",\n{\n            'v': 744,\n            'f': \"744\",\n        },\n{\n            'v': 30.24390243902439,\n            'f': \"30.24390243902439\",\n        }],\n [\"Q6 | Nerds\",\n{\n            'v': 723,\n            'f': \"723\",\n        },\n{\n            'v': 29.39024390243902,\n            'f': \"29.39024390243902\",\n        }],\n [\"Q6 | Nestle Crunch\",\n{\n            'v': 698,\n            'f': \"698\",\n        },\n{\n            'v': 28.3739837398374,\n            'f': \"28.3739837398374\",\n        }],\n [\"Q6 | Now'n'Laters\",\n{\n            'v': 817,\n            'f': \"817\",\n        },\n{\n            'v': 33.21138211382114,\n            'f': \"33.21138211382114\",\n        }],\n [\"Q6 | Peeps\",\n{\n            'v': 710,\n            'f': \"710\",\n        },\n{\n            'v': 28.86178861788618,\n            'f': \"28.86178861788618\",\n        }],\n [\"Q6 | Pencils\",\n{\n            'v': 709,\n            'f': \"709\",\n        },\n{\n            'v': 28.821138211382113,\n            'f': \"28.821138211382113\",\n        }],\n [\"Q6 | Pixy Stix\",\n{\n            'v': 722,\n            'f': \"722\",\n        },\n{\n            'v': 29.34959349593496,\n            'f': \"29.34959349593496\",\n        }],\n [\"Q6 | Real Housewives of Orange County Season 9 Blue-Ray\",\n{\n            'v': 753,\n            'f': \"753\",\n        },\n{\n            'v': 30.609756097560975,\n            'f': \"30.609756097560975\",\n        }],\n [\"Q6 | Reese\\u00d5s Peanut Butter Cups\",\n{\n            'v': 679,\n            'f': \"679\",\n        },\n{\n            'v': 27.601626016260163,\n            'f': \"27.601626016260163\",\n        }],\n [\"Q6 | Reese's Pieces\",\n{\n            'v': 691,\n            'f': \"691\",\n        },\n{\n            'v': 28.089430894308943,\n            'f': \"28.089430894308943\",\n        }],\n [\"Q6 | Reggie Jackson Bar\",\n{\n            'v': 1014,\n            'f': \"1014\",\n        },\n{\n            'v': 41.21951219512195,\n            'f': \"41.21951219512195\",\n        }],\n [\"Q6 | Rolos\",\n{\n            'v': 714,\n            'f': \"714\",\n        },\n{\n            'v': 29.024390243902438,\n            'f': \"29.024390243902438\",\n        }],\n [\"Q6 | Sandwich-sized bags filled with BooBerry Crunch\",\n{\n            'v': 776,\n            'f': \"776\",\n        },\n{\n            'v': 31.54471544715447,\n            'f': \"31.54471544715447\",\n        }],\n [\"Q6 | Skittles\",\n{\n            'v': 706,\n            'f': \"706\",\n        },\n{\n            'v': 28.69918699186992,\n            'f': \"28.69918699186992\",\n        }],\n [\"Q6 | Smarties (American)\",\n{\n            'v': 725,\n            'f': \"725\",\n        },\n{\n            'v': 29.471544715447155,\n            'f': \"29.471544715447155\",\n        }],\n [\"Q6 | Smarties (Commonwealth)\",\n{\n            'v': 901,\n            'f': \"901\",\n        },\n{\n            'v': 36.6260162601626,\n            'f': \"36.6260162601626\",\n        }],\n [\"Q6 | Snickers\",\n{\n            'v': 690,\n            'f': \"690\",\n        },\n{\n            'v': 28.04878048780488,\n            'f': \"28.04878048780488\",\n        }],\n [\"Q6 | Sourpatch Kids (i.e. abominations of nature)\",\n{\n            'v': 738,\n            'f': \"738\",\n        },\n{\n            'v': 30.0,\n            'f': \"30.0\",\n        }],\n [\"Q6 | Spotted Dick\",\n{\n            'v': 882,\n            'f': \"882\",\n        },\n{\n            'v': 35.853658536585364,\n            'f': \"35.853658536585364\",\n        }],\n [\"Q6 | Starburst\",\n{\n            'v': 693,\n            'f': \"693\",\n        },\n{\n            'v': 28.17073170731707,\n            'f': \"28.17073170731707\",\n        }],\n [\"Q6 | Sweet Tarts\",\n{\n            'v': 708,\n            'f': \"708\",\n        },\n{\n            'v': 28.780487804878046,\n            'f': \"28.780487804878046\",\n        }],\n [\"Q6 | Swedish Fish\",\n{\n            'v': 715,\n            'f': \"715\",\n        },\n{\n            'v': 29.065040650406505,\n            'f': \"29.065040650406505\",\n        }],\n [\"Q6 | Sweetums (a friend to diabetes)\",\n{\n            'v': 1002,\n            'f': \"1002\",\n        },\n{\n            'v': 40.731707317073166,\n            'f': \"40.731707317073166\",\n        }],\n [\"Q6 | Take 5\",\n{\n            'v': 917,\n            'f': \"917\",\n        },\n{\n            'v': 37.27642276422764,\n            'f': \"37.27642276422764\",\n        }],\n [\"Q6 | Tic Tacs\",\n{\n            'v': 714,\n            'f': \"714\",\n        },\n{\n            'v': 29.024390243902438,\n            'f': \"29.024390243902438\",\n        }],\n [\"Q6 | Those odd marshmallow circus peanut things\",\n{\n            'v': 736,\n            'f': \"736\",\n        },\n{\n            'v': 29.91869918699187,\n            'f': \"29.91869918699187\",\n        }],\n [\"Q6 | Three Musketeers\",\n{\n            'v': 708,\n            'f': \"708\",\n        },\n{\n            'v': 28.780487804878046,\n            'f': \"28.780487804878046\",\n        }],\n [\"Q6 | Tolberone something or other\",\n{\n            'v': 706,\n            'f': \"706\",\n        },\n{\n            'v': 28.69918699186992,\n            'f': \"28.69918699186992\",\n        }],\n [\"Q6 | Trail Mix\",\n{\n            'v': 708,\n            'f': \"708\",\n        },\n{\n            'v': 28.780487804878046,\n            'f': \"28.780487804878046\",\n        }],\n [\"Q6 | Twix\",\n{\n            'v': 690,\n            'f': \"690\",\n        },\n{\n            'v': 28.04878048780488,\n            'f': \"28.04878048780488\",\n        }],\n [\"Q6 | Vials of pure high fructose corn syrup, for main-lining into your vein\",\n{\n            'v': 792,\n            'f': \"792\",\n        },\n{\n            'v': 32.19512195121951,\n            'f': \"32.19512195121951\",\n        }],\n [\"Q6 | Vicodin\",\n{\n            'v': 789,\n            'f': \"789\",\n        },\n{\n            'v': 32.073170731707314,\n            'f': \"32.073170731707314\",\n        }],\n [\"Q6 | Whatchamacallit Bars\",\n{\n            'v': 823,\n            'f': \"823\",\n        },\n{\n            'v': 33.45528455284553,\n            'f': \"33.45528455284553\",\n        }],\n [\"Q6 | White Bread\",\n{\n            'v': 757,\n            'f': \"757\",\n        },\n{\n            'v': 30.772357723577237,\n            'f': \"30.772357723577237\",\n        }],\n [\"Q6 | Whole Wheat anything\",\n{\n            'v': 747,\n            'f': \"747\",\n        },\n{\n            'v': 30.365853658536583,\n            'f': \"30.365853658536583\",\n        }],\n [\"Q6 | York Peppermint Patties\",\n{\n            'v': 705,\n            'f': \"705\",\n        },\n{\n            'v': 28.65853658536585,\n            'f': \"28.65853658536585\",\n        }],\n [\"Q7: JOY OTHER\",\n{\n            'v': 1549,\n            'f': \"1549\",\n        },\n{\n            'v': 62.96747967479674,\n            'f': \"62.96747967479674\",\n        }],\n [\"Q8: DESPAIR OTHER\",\n{\n            'v': 1743,\n            'f': \"1743\",\n        },\n{\n            'v': 70.85365853658536,\n            'f': \"70.85365853658536\",\n        }],\n [\"Q9: OTHER COMMENTS\",\n{\n            'v': 2074,\n            'f': \"2074\",\n        },\n{\n            'v': 84.3089430894309,\n            'f': \"84.3089430894309\",\n        }],\n [\"Q10: DRESS\",\n{\n            'v': 744,\n            'f': \"744\",\n        },\n{\n            'v': 30.24390243902439,\n            'f': \"30.24390243902439\",\n        }],\n [\"Unnamed: 113\",\n{\n            'v': 2451,\n            'f': \"2451\",\n        },\n{\n            'v': 99.63414634146342,\n            'f': \"99.63414634146342\",\n        }],\n [\"Q11: DAY\",\n{\n            'v': 725,\n            'f': \"725\",\n        },\n{\n            'v': 29.471544715447155,\n            'f': \"29.471544715447155\",\n        }],\n [\"Q12: MEDIA [Daily Dish]\",\n{\n            'v': 2375,\n            'f': \"2375\",\n        },\n{\n            'v': 96.54471544715447,\n            'f': \"96.54471544715447\",\n        }],\n [\"Q12: MEDIA [Science]\",\n{\n            'v': 1098,\n            'f': \"1098\",\n        },\n{\n            'v': 44.63414634146341,\n            'f': \"44.63414634146341\",\n        }],\n [\"Q12: MEDIA [ESPN]\",\n{\n            'v': 2361,\n            'f': \"2361\",\n        },\n{\n            'v': 95.97560975609755,\n            'f': \"95.97560975609755\",\n        }],\n [\"Q12: MEDIA [Yahoo]\",\n{\n            'v': 2393,\n            'f': \"2393\",\n        },\n{\n            'v': 97.27642276422765,\n            'f': \"97.27642276422765\",\n        }],\n [\"Click Coordinates (x, y)\",\n{\n            'v': 855,\n            'f': \"855\",\n        },\n{\n            'v': 34.756097560975604,\n            'f': \"34.756097560975604\",\n        }]],\n        columns: [[\"string\", \"columns\"], [\"number\", \"totalNans\"], [\"number\", \"percentages\"]],\n        columnOptions: [],\n        rowsPerPage: 20,\n        helpUrl: \"https://colab.research.google.com/notebooks/data_table.ipynb\",\n        suppressOutputScrolling: true,\n        minimumWidth: undefined,\n      });\n    ",
            "text/plain": [
              "<google.colab.data_table.DataTable object>"
            ]
          },
          "metadata": {},
          "execution_count": 7
        }
      ]
    },
    {
      "cell_type": "markdown",
      "source": [
        "# Limpieza de datos"
      ],
      "metadata": {
        "id": "OjImOYTl_vtK"
      }
    },
    {
      "cell_type": "markdown",
      "source": [
        "## Columnas 'internal_id' y 'Unnamed:113'"
      ],
      "metadata": {
        "id": "FB9xZfpB_yp1"
      }
    },
    {
      "cell_type": "markdown",
      "source": [
        "Eliminamos el internal id y Unnamed:113 que es la imagen de un vestido(no es una pregunta en realidad), y las preguntas q7,q8,q9 son preguntas abiertas."
      ],
      "metadata": {
        "id": "U9_uJn9Sqy1q"
      }
    },
    {
      "cell_type": "code",
      "source": [
        "df.drop(columns=['Internal ID','Unnamed: 113','Q9: OTHER COMMENTS','Q8: DESPAIR OTHER','Q7: JOY OTHER'], inplace=True)"
      ],
      "metadata": {
        "id": "KiCUcGWzq1XQ"
      },
      "execution_count": null,
      "outputs": []
    },
    {
      "cell_type": "code",
      "source": [
        "df.head()"
      ],
      "metadata": {
        "colab": {
          "base_uri": "https://localhost:8080/",
          "height": 508
        },
        "id": "JgbAtIle0Oh6",
        "outputId": "be5a738d-2556-4cc0-ecba-1aa41e5e3116"
      },
      "execution_count": null,
      "outputs": [
        {
          "output_type": "stream",
          "name": "stdout",
          "text": [
            "Warning: Total number of columns (115) exceeds max_columns (20). Falling back to pandas display.\n"
          ]
        },
        {
          "output_type": "execute_result",
          "data": {
            "text/plain": [
              "  Q1: GOING OUT? Q2: GENDER Q3: AGE Q4: COUNTRY  \\\n",
              "0            NaN        NaN     NaN         NaN   \n",
              "1             No       Male      44        USA    \n",
              "2            NaN       Male      49         USA   \n",
              "3             No       Male      40          us   \n",
              "4             No       Male      23         usa   \n",
              "\n",
              "  Q5: STATE, PROVINCE, COUNTY, ETC Q6 | 100 Grand Bar  \\\n",
              "0                              NaN                NaN   \n",
              "1                               NM                MEH   \n",
              "2                         Virginia                NaN   \n",
              "3                               or                MEH   \n",
              "4                         exton pa                JOY   \n",
              "\n",
              "  Q6 | Anonymous brown globs that come in black and orange wrappers\\t(a.k.a. Mary Janes)  \\\n",
              "0                                                NaN                                       \n",
              "1                                            DESPAIR                                       \n",
              "2                                                NaN                                       \n",
              "3                                            DESPAIR                                       \n",
              "4                                            DESPAIR                                       \n",
              "\n",
              "  Q6 | Any full-sized candy bar Q6 | Black Jacks Q6 | Bonkers (the candy)  \\\n",
              "0                           NaN              NaN                      NaN   \n",
              "1                           JOY              MEH                  DESPAIR   \n",
              "2                           NaN              NaN                      NaN   \n",
              "3                           JOY              MEH                      MEH   \n",
              "4                           JOY          DESPAIR                      MEH   \n",
              "\n",
              "   ... Q6 | White Bread Q6 | Whole Wheat anything  \\\n",
              "0  ...              NaN                       NaN   \n",
              "1  ...          DESPAIR                   DESPAIR   \n",
              "2  ...              NaN                       NaN   \n",
              "3  ...          DESPAIR                   DESPAIR   \n",
              "4  ...          DESPAIR                   DESPAIR   \n",
              "\n",
              "  Q6 | York Peppermint Patties      Q10: DRESS Q11: DAY  \\\n",
              "0                          NaN             NaN      NaN   \n",
              "1                      DESPAIR  White and gold   Sunday   \n",
              "2                          NaN             NaN      NaN   \n",
              "3                      DESPAIR  White and gold   Sunday   \n",
              "4                          JOY  White and gold   Friday   \n",
              "\n",
              "  Q12: MEDIA [Daily Dish] Q12: MEDIA [Science] Q12: MEDIA [ESPN]  \\\n",
              "0                     NaN                  NaN               NaN   \n",
              "1                     NaN                  1.0               NaN   \n",
              "2                     NaN                  NaN               NaN   \n",
              "3                     NaN                  1.0               NaN   \n",
              "4                     NaN                  1.0               NaN   \n",
              "\n",
              "  Q12: MEDIA [Yahoo] Click Coordinates (x, y)  \n",
              "0                NaN                      NaN  \n",
              "1                NaN                 (84, 25)  \n",
              "2                NaN                      NaN  \n",
              "3                NaN                 (75, 23)  \n",
              "4                NaN                 (70, 10)  \n",
              "\n",
              "[5 rows x 115 columns]"
            ],
            "text/html": [
              "\n",
              "  <div id=\"df-bf9003d1-df7b-4864-987b-32ae3047e0c9\">\n",
              "    <div class=\"colab-df-container\">\n",
              "      <div>\n",
              "<style scoped>\n",
              "    .dataframe tbody tr th:only-of-type {\n",
              "        vertical-align: middle;\n",
              "    }\n",
              "\n",
              "    .dataframe tbody tr th {\n",
              "        vertical-align: top;\n",
              "    }\n",
              "\n",
              "    .dataframe thead th {\n",
              "        text-align: right;\n",
              "    }\n",
              "</style>\n",
              "<table border=\"1\" class=\"dataframe\">\n",
              "  <thead>\n",
              "    <tr style=\"text-align: right;\">\n",
              "      <th></th>\n",
              "      <th>Q1: GOING OUT?</th>\n",
              "      <th>Q2: GENDER</th>\n",
              "      <th>Q3: AGE</th>\n",
              "      <th>Q4: COUNTRY</th>\n",
              "      <th>Q5: STATE, PROVINCE, COUNTY, ETC</th>\n",
              "      <th>Q6 | 100 Grand Bar</th>\n",
              "      <th>Q6 | Anonymous brown globs that come in black and orange wrappers\\t(a.k.a. Mary Janes)</th>\n",
              "      <th>Q6 | Any full-sized candy bar</th>\n",
              "      <th>Q6 | Black Jacks</th>\n",
              "      <th>Q6 | Bonkers (the candy)</th>\n",
              "      <th>...</th>\n",
              "      <th>Q6 | White Bread</th>\n",
              "      <th>Q6 | Whole Wheat anything</th>\n",
              "      <th>Q6 | York Peppermint Patties</th>\n",
              "      <th>Q10: DRESS</th>\n",
              "      <th>Q11: DAY</th>\n",
              "      <th>Q12: MEDIA [Daily Dish]</th>\n",
              "      <th>Q12: MEDIA [Science]</th>\n",
              "      <th>Q12: MEDIA [ESPN]</th>\n",
              "      <th>Q12: MEDIA [Yahoo]</th>\n",
              "      <th>Click Coordinates (x, y)</th>\n",
              "    </tr>\n",
              "  </thead>\n",
              "  <tbody>\n",
              "    <tr>\n",
              "      <th>0</th>\n",
              "      <td>NaN</td>\n",
              "      <td>NaN</td>\n",
              "      <td>NaN</td>\n",
              "      <td>NaN</td>\n",
              "      <td>NaN</td>\n",
              "      <td>NaN</td>\n",
              "      <td>NaN</td>\n",
              "      <td>NaN</td>\n",
              "      <td>NaN</td>\n",
              "      <td>NaN</td>\n",
              "      <td>...</td>\n",
              "      <td>NaN</td>\n",
              "      <td>NaN</td>\n",
              "      <td>NaN</td>\n",
              "      <td>NaN</td>\n",
              "      <td>NaN</td>\n",
              "      <td>NaN</td>\n",
              "      <td>NaN</td>\n",
              "      <td>NaN</td>\n",
              "      <td>NaN</td>\n",
              "      <td>NaN</td>\n",
              "    </tr>\n",
              "    <tr>\n",
              "      <th>1</th>\n",
              "      <td>No</td>\n",
              "      <td>Male</td>\n",
              "      <td>44</td>\n",
              "      <td>USA</td>\n",
              "      <td>NM</td>\n",
              "      <td>MEH</td>\n",
              "      <td>DESPAIR</td>\n",
              "      <td>JOY</td>\n",
              "      <td>MEH</td>\n",
              "      <td>DESPAIR</td>\n",
              "      <td>...</td>\n",
              "      <td>DESPAIR</td>\n",
              "      <td>DESPAIR</td>\n",
              "      <td>DESPAIR</td>\n",
              "      <td>White and gold</td>\n",
              "      <td>Sunday</td>\n",
              "      <td>NaN</td>\n",
              "      <td>1.0</td>\n",
              "      <td>NaN</td>\n",
              "      <td>NaN</td>\n",
              "      <td>(84, 25)</td>\n",
              "    </tr>\n",
              "    <tr>\n",
              "      <th>2</th>\n",
              "      <td>NaN</td>\n",
              "      <td>Male</td>\n",
              "      <td>49</td>\n",
              "      <td>USA</td>\n",
              "      <td>Virginia</td>\n",
              "      <td>NaN</td>\n",
              "      <td>NaN</td>\n",
              "      <td>NaN</td>\n",
              "      <td>NaN</td>\n",
              "      <td>NaN</td>\n",
              "      <td>...</td>\n",
              "      <td>NaN</td>\n",
              "      <td>NaN</td>\n",
              "      <td>NaN</td>\n",
              "      <td>NaN</td>\n",
              "      <td>NaN</td>\n",
              "      <td>NaN</td>\n",
              "      <td>NaN</td>\n",
              "      <td>NaN</td>\n",
              "      <td>NaN</td>\n",
              "      <td>NaN</td>\n",
              "    </tr>\n",
              "    <tr>\n",
              "      <th>3</th>\n",
              "      <td>No</td>\n",
              "      <td>Male</td>\n",
              "      <td>40</td>\n",
              "      <td>us</td>\n",
              "      <td>or</td>\n",
              "      <td>MEH</td>\n",
              "      <td>DESPAIR</td>\n",
              "      <td>JOY</td>\n",
              "      <td>MEH</td>\n",
              "      <td>MEH</td>\n",
              "      <td>...</td>\n",
              "      <td>DESPAIR</td>\n",
              "      <td>DESPAIR</td>\n",
              "      <td>DESPAIR</td>\n",
              "      <td>White and gold</td>\n",
              "      <td>Sunday</td>\n",
              "      <td>NaN</td>\n",
              "      <td>1.0</td>\n",
              "      <td>NaN</td>\n",
              "      <td>NaN</td>\n",
              "      <td>(75, 23)</td>\n",
              "    </tr>\n",
              "    <tr>\n",
              "      <th>4</th>\n",
              "      <td>No</td>\n",
              "      <td>Male</td>\n",
              "      <td>23</td>\n",
              "      <td>usa</td>\n",
              "      <td>exton pa</td>\n",
              "      <td>JOY</td>\n",
              "      <td>DESPAIR</td>\n",
              "      <td>JOY</td>\n",
              "      <td>DESPAIR</td>\n",
              "      <td>MEH</td>\n",
              "      <td>...</td>\n",
              "      <td>DESPAIR</td>\n",
              "      <td>DESPAIR</td>\n",
              "      <td>JOY</td>\n",
              "      <td>White and gold</td>\n",
              "      <td>Friday</td>\n",
              "      <td>NaN</td>\n",
              "      <td>1.0</td>\n",
              "      <td>NaN</td>\n",
              "      <td>NaN</td>\n",
              "      <td>(70, 10)</td>\n",
              "    </tr>\n",
              "  </tbody>\n",
              "</table>\n",
              "<p>5 rows × 115 columns</p>\n",
              "</div>\n",
              "      <button class=\"colab-df-convert\" onclick=\"convertToInteractive('df-bf9003d1-df7b-4864-987b-32ae3047e0c9')\"\n",
              "              title=\"Convert this dataframe to an interactive table.\"\n",
              "              style=\"display:none;\">\n",
              "        \n",
              "  <svg xmlns=\"http://www.w3.org/2000/svg\" height=\"24px\"viewBox=\"0 0 24 24\"\n",
              "       width=\"24px\">\n",
              "    <path d=\"M0 0h24v24H0V0z\" fill=\"none\"/>\n",
              "    <path d=\"M18.56 5.44l.94 2.06.94-2.06 2.06-.94-2.06-.94-.94-2.06-.94 2.06-2.06.94zm-11 1L8.5 8.5l.94-2.06 2.06-.94-2.06-.94L8.5 2.5l-.94 2.06-2.06.94zm10 10l.94 2.06.94-2.06 2.06-.94-2.06-.94-.94-2.06-.94 2.06-2.06.94z\"/><path d=\"M17.41 7.96l-1.37-1.37c-.4-.4-.92-.59-1.43-.59-.52 0-1.04.2-1.43.59L10.3 9.45l-7.72 7.72c-.78.78-.78 2.05 0 2.83L4 21.41c.39.39.9.59 1.41.59.51 0 1.02-.2 1.41-.59l7.78-7.78 2.81-2.81c.8-.78.8-2.07 0-2.86zM5.41 20L4 18.59l7.72-7.72 1.47 1.35L5.41 20z\"/>\n",
              "  </svg>\n",
              "      </button>\n",
              "      \n",
              "  <style>\n",
              "    .colab-df-container {\n",
              "      display:flex;\n",
              "      flex-wrap:wrap;\n",
              "      gap: 12px;\n",
              "    }\n",
              "\n",
              "    .colab-df-convert {\n",
              "      background-color: #E8F0FE;\n",
              "      border: none;\n",
              "      border-radius: 50%;\n",
              "      cursor: pointer;\n",
              "      display: none;\n",
              "      fill: #1967D2;\n",
              "      height: 32px;\n",
              "      padding: 0 0 0 0;\n",
              "      width: 32px;\n",
              "    }\n",
              "\n",
              "    .colab-df-convert:hover {\n",
              "      background-color: #E2EBFA;\n",
              "      box-shadow: 0px 1px 2px rgba(60, 64, 67, 0.3), 0px 1px 3px 1px rgba(60, 64, 67, 0.15);\n",
              "      fill: #174EA6;\n",
              "    }\n",
              "\n",
              "    [theme=dark] .colab-df-convert {\n",
              "      background-color: #3B4455;\n",
              "      fill: #D2E3FC;\n",
              "    }\n",
              "\n",
              "    [theme=dark] .colab-df-convert:hover {\n",
              "      background-color: #434B5C;\n",
              "      box-shadow: 0px 1px 3px 1px rgba(0, 0, 0, 0.15);\n",
              "      filter: drop-shadow(0px 1px 2px rgba(0, 0, 0, 0.3));\n",
              "      fill: #FFFFFF;\n",
              "    }\n",
              "  </style>\n",
              "\n",
              "      <script>\n",
              "        const buttonEl =\n",
              "          document.querySelector('#df-bf9003d1-df7b-4864-987b-32ae3047e0c9 button.colab-df-convert');\n",
              "        buttonEl.style.display =\n",
              "          google.colab.kernel.accessAllowed ? 'block' : 'none';\n",
              "\n",
              "        async function convertToInteractive(key) {\n",
              "          const element = document.querySelector('#df-bf9003d1-df7b-4864-987b-32ae3047e0c9');\n",
              "          const dataTable =\n",
              "            await google.colab.kernel.invokeFunction('convertToInteractive',\n",
              "                                                     [key], {});\n",
              "          if (!dataTable) return;\n",
              "\n",
              "          const docLinkHtml = 'Like what you see? Visit the ' +\n",
              "            '<a target=\"_blank\" href=https://colab.research.google.com/notebooks/data_table.ipynb>data table notebook</a>'\n",
              "            + ' to learn more about interactive tables.';\n",
              "          element.innerHTML = '';\n",
              "          dataTable['output_type'] = 'display_data';\n",
              "          await google.colab.output.renderOutput(dataTable, element);\n",
              "          const docLink = document.createElement('div');\n",
              "          docLink.innerHTML = docLinkHtml;\n",
              "          element.appendChild(docLink);\n",
              "        }\n",
              "      </script>\n",
              "    </div>\n",
              "  </div>\n",
              "  "
            ]
          },
          "metadata": {},
          "execution_count": 9
        }
      ]
    },
    {
      "cell_type": "code",
      "source": [
        "df.shape"
      ],
      "metadata": {
        "colab": {
          "base_uri": "https://localhost:8080/"
        },
        "id": "tyX1n8jQrBxQ",
        "outputId": "d6e12bc2-23a7-431e-e64b-6fdc36daaab7"
      },
      "execution_count": null,
      "outputs": [
        {
          "output_type": "execute_result",
          "data": {
            "text/plain": [
              "(2460, 115)"
            ]
          },
          "metadata": {},
          "execution_count": 10
        }
      ]
    },
    {
      "cell_type": "markdown",
      "source": [
        "## Filas con NaNs"
      ],
      "metadata": {
        "id": "HC-feEOW_792"
      }
    },
    {
      "cell_type": "code",
      "source": [
        "df.dropna(how=\"all\", inplace=True)"
      ],
      "metadata": {
        "id": "NOTTjnsypcio"
      },
      "execution_count": null,
      "outputs": []
    },
    {
      "cell_type": "code",
      "source": [
        "df.shape"
      ],
      "metadata": {
        "colab": {
          "base_uri": "https://localhost:8080/"
        },
        "id": "JkNHf5bKsKb4",
        "outputId": "1b3769b2-8415-4062-e2b2-6e6e79bff63d"
      },
      "execution_count": null,
      "outputs": [
        {
          "output_type": "execute_result",
          "data": {
            "text/plain": [
              "(2439, 115)"
            ]
          },
          "metadata": {},
          "execution_count": 12
        }
      ]
    },
    {
      "cell_type": "code",
      "source": [
        "porcentaje_vacios()"
      ],
      "metadata": {
        "colab": {
          "base_uri": "https://localhost:8080/",
          "height": 525
        },
        "id": "coxAEIl-RQly",
        "outputId": "c0b46546-c9a1-486b-d503-5c15a1c37647"
      },
      "execution_count": null,
      "outputs": [
        {
          "output_type": "execute_result",
          "data": {
            "text/html": [
              "<div>\n",
              "<style scoped>\n",
              "    .dataframe tbody tr th:only-of-type {\n",
              "        vertical-align: middle;\n",
              "    }\n",
              "\n",
              "    .dataframe tbody tr th {\n",
              "        vertical-align: top;\n",
              "    }\n",
              "\n",
              "    .dataframe thead th {\n",
              "        text-align: right;\n",
              "    }\n",
              "</style>\n",
              "<table border=\"1\" class=\"dataframe\">\n",
              "  <thead>\n",
              "    <tr style=\"text-align: right;\">\n",
              "      <th></th>\n",
              "      <th>columns</th>\n",
              "      <th>totalNans</th>\n",
              "      <th>percentages</th>\n",
              "    </tr>\n",
              "  </thead>\n",
              "  <tbody>\n",
              "    <tr>\n",
              "      <th>Q1: GOING OUT?</th>\n",
              "      <td>Q1: GOING OUT?</td>\n",
              "      <td>89</td>\n",
              "      <td>3.649036</td>\n",
              "    </tr>\n",
              "    <tr>\n",
              "      <th>Q2: GENDER</th>\n",
              "      <td>Q2: GENDER</td>\n",
              "      <td>20</td>\n",
              "      <td>0.820008</td>\n",
              "    </tr>\n",
              "    <tr>\n",
              "      <th>Q3: AGE</th>\n",
              "      <td>Q3: AGE</td>\n",
              "      <td>63</td>\n",
              "      <td>2.583026</td>\n",
              "    </tr>\n",
              "    <tr>\n",
              "      <th>Q4: COUNTRY</th>\n",
              "      <td>Q4: COUNTRY</td>\n",
              "      <td>43</td>\n",
              "      <td>1.763018</td>\n",
              "    </tr>\n",
              "    <tr>\n",
              "      <th>Q5: STATE, PROVINCE, COUNTY, ETC</th>\n",
              "      <td>Q5: STATE, PROVINCE, COUNTY, ETC</td>\n",
              "      <td>79</td>\n",
              "      <td>3.239032</td>\n",
              "    </tr>\n",
              "    <tr>\n",
              "      <th>...</th>\n",
              "      <td>...</td>\n",
              "      <td>...</td>\n",
              "      <td>...</td>\n",
              "    </tr>\n",
              "    <tr>\n",
              "      <th>Q12: MEDIA [Daily Dish]</th>\n",
              "      <td>Q12: MEDIA [Daily Dish]</td>\n",
              "      <td>2354</td>\n",
              "      <td>96.514965</td>\n",
              "    </tr>\n",
              "    <tr>\n",
              "      <th>Q12: MEDIA [Science]</th>\n",
              "      <td>Q12: MEDIA [Science]</td>\n",
              "      <td>1077</td>\n",
              "      <td>44.157442</td>\n",
              "    </tr>\n",
              "    <tr>\n",
              "      <th>Q12: MEDIA [ESPN]</th>\n",
              "      <td>Q12: MEDIA [ESPN]</td>\n",
              "      <td>2340</td>\n",
              "      <td>95.940959</td>\n",
              "    </tr>\n",
              "    <tr>\n",
              "      <th>Q12: MEDIA [Yahoo]</th>\n",
              "      <td>Q12: MEDIA [Yahoo]</td>\n",
              "      <td>2372</td>\n",
              "      <td>97.252973</td>\n",
              "    </tr>\n",
              "    <tr>\n",
              "      <th>Click Coordinates (x, y)</th>\n",
              "      <td>Click Coordinates (x, y)</td>\n",
              "      <td>834</td>\n",
              "      <td>34.194342</td>\n",
              "    </tr>\n",
              "  </tbody>\n",
              "</table>\n",
              "<p>115 rows × 3 columns</p>\n",
              "</div>"
            ],
            "application/vnd.google.colaboratory.module+javascript": "\n      import \"https://ssl.gstatic.com/colaboratory/data_table/a8bd4d5e58f96183/data_table.js\";\n\n      window.createDataTable({\n        data: [[\"Q1: GOING OUT?\",\n{\n            'v': 89,\n            'f': \"89\",\n        },\n{\n            'v': 3.6490364903649035,\n            'f': \"3.6490364903649035\",\n        }],\n [\"Q2: GENDER\",\n{\n            'v': 20,\n            'f': \"20\",\n        },\n{\n            'v': 0.8200082000820008,\n            'f': \"0.8200082000820008\",\n        }],\n [\"Q3: AGE\",\n{\n            'v': 63,\n            'f': \"63\",\n        },\n{\n            'v': 2.5830258302583027,\n            'f': \"2.5830258302583027\",\n        }],\n [\"Q4: COUNTRY\",\n{\n            'v': 43,\n            'f': \"43\",\n        },\n{\n            'v': 1.7630176301763019,\n            'f': \"1.7630176301763019\",\n        }],\n [\"Q5: STATE, PROVINCE, COUNTY, ETC\",\n{\n            'v': 79,\n            'f': \"79\",\n        },\n{\n            'v': 3.239032390323903,\n            'f': \"3.239032390323903\",\n        }],\n [\"Q6 | 100 Grand Bar\",\n{\n            'v': 726,\n            'f': \"726\",\n        },\n{\n            'v': 29.766297662976633,\n            'f': \"29.766297662976633\",\n        }],\n [\"Q6 | Anonymous brown globs that come in black and orange wrappers\\t(a.k.a. Mary Janes)\",\n{\n            'v': 713,\n            'f': \"713\",\n        },\n{\n            'v': 29.233292332923327,\n            'f': \"29.233292332923327\",\n        }],\n [\"Q6 | Any full-sized candy bar\",\n{\n            'v': 651,\n            'f': \"651\",\n        },\n{\n            'v': 26.691266912669125,\n            'f': \"26.691266912669125\",\n        }],\n [\"Q6 | Black Jacks\",\n{\n            'v': 937,\n            'f': \"937\",\n        },\n{\n            'v': 38.41738417384174,\n            'f': \"38.41738417384174\",\n        }],\n [\"Q6 | Bonkers (the candy)\",\n{\n            'v': 971,\n            'f': \"971\",\n        },\n{\n            'v': 39.81139811398114,\n            'f': \"39.81139811398114\",\n        }],\n [\"Q6 | Bonkers (the board game)\",\n{\n            'v': 985,\n            'f': \"985\",\n        },\n{\n            'v': 40.38540385403854,\n            'f': \"40.38540385403854\",\n        }],\n [\"Q6 | Bottle Caps\",\n{\n            'v': 744,\n            'f': \"744\",\n        },\n{\n            'v': 30.50430504305043,\n            'f': \"30.50430504305043\",\n        }],\n [\"Q6 | Box'o'Raisins\",\n{\n            'v': 667,\n            'f': \"667\",\n        },\n{\n            'v': 27.347273472734727,\n            'f': \"27.347273472734727\",\n        }],\n [\"Q6 | Broken glow stick\",\n{\n            'v': 685,\n            'f': \"685\",\n        },\n{\n            'v': 28.08528085280853,\n            'f': \"28.08528085280853\",\n        }],\n [\"Q6 | Butterfinger\",\n{\n            'v': 661,\n            'f': \"661\",\n        },\n{\n            'v': 27.101271012710125,\n            'f': \"27.101271012710125\",\n        }],\n [\"Q6 | Cadbury Creme Eggs\",\n{\n            'v': 662,\n            'f': \"662\",\n        },\n{\n            'v': 27.142271422714227,\n            'f': \"27.142271422714227\",\n        }],\n [\"Q6 | Candy Corn\",\n{\n            'v': 657,\n            'f': \"657\",\n        },\n{\n            'v': 26.937269372693727,\n            'f': \"26.937269372693727\",\n        }],\n [\"Q6 | Candy that is clearly just the stuff given out for free at restaurants\",\n{\n            'v': 670,\n            'f': \"670\",\n        },\n{\n            'v': 27.470274702747027,\n            'f': \"27.470274702747027\",\n        }],\n [\"Q6 | Caramellos\",\n{\n            'v': 731,\n            'f': \"731\",\n        },\n{\n            'v': 29.97129971299713,\n            'f': \"29.97129971299713\",\n        }],\n [\"Q6 | Cash, or other forms of legal tender\",\n{\n            'v': 659,\n            'f': \"659\",\n        },\n{\n            'v': 27.019270192701928,\n            'f': \"27.019270192701928\",\n        }],\n [\"Q6 | Chardonnay\",\n{\n            'v': 722,\n            'f': \"722\",\n        },\n{\n            'v': 29.60229602296023,\n            'f': \"29.60229602296023\",\n        }],\n [\"Q6 | Chick-o-Sticks (we don\\u00d5t know what that is)\",\n{\n            'v': 925,\n            'f': \"925\",\n        },\n{\n            'v': 37.92537925379254,\n            'f': \"37.92537925379254\",\n        }],\n [\"Q6 | Chiclets\",\n{\n            'v': 690,\n            'f': \"690\",\n        },\n{\n            'v': 28.290282902829027,\n            'f': \"28.290282902829027\",\n        }],\n [\"Q6 | Coffee Crisp\",\n{\n            'v': 832,\n            'f': \"832\",\n        },\n{\n            'v': 34.112341123411234,\n            'f': \"34.112341123411234\",\n        }],\n [\"Q6 | Creepy Religious comics/Chick Tracts\",\n{\n            'v': 683,\n            'f': \"683\",\n        },\n{\n            'v': 28.003280032800326,\n            'f': \"28.003280032800326\",\n        }],\n [\"Q6 | Dental paraphenalia\",\n{\n            'v': 671,\n            'f': \"671\",\n        },\n{\n            'v': 27.511275112751125,\n            'f': \"27.511275112751125\",\n        }],\n [\"Q6 | Dots\",\n{\n            'v': 708,\n            'f': \"708\",\n        },\n{\n            'v': 29.02829028290283,\n            'f': \"29.02829028290283\",\n        }],\n [\"Q6 | Dove Bars\",\n{\n            'v': 681,\n            'f': \"681\",\n        },\n{\n            'v': 27.92127921279213,\n            'f': \"27.92127921279213\",\n        }],\n [\"Q6 | Fuzzy Peaches\",\n{\n            'v': 802,\n            'f': \"802\",\n        },\n{\n            'v': 32.88232882328823,\n            'f': \"32.88232882328823\",\n        }],\n [\"Q6 | Generic Brand Acetaminophen\",\n{\n            'v': 710,\n            'f': \"710\",\n        },\n{\n            'v': 29.110291102911027,\n            'f': \"29.110291102911027\",\n        }],\n [\"Q6 | Glow sticks\",\n{\n            'v': 676,\n            'f': \"676\",\n        },\n{\n            'v': 27.71627716277163,\n            'f': \"27.71627716277163\",\n        }],\n [\"Q6 | Goo Goo Clusters\",\n{\n            'v': 858,\n            'f': \"858\",\n        },\n{\n            'v': 35.17835178351783,\n            'f': \"35.17835178351783\",\n        }],\n [\"Q6 | Good N' Plenty\",\n{\n            'v': 713,\n            'f': \"713\",\n        },\n{\n            'v': 29.233292332923327,\n            'f': \"29.233292332923327\",\n        }],\n [\"Q6 | Gum from baseball cards\",\n{\n            'v': 695,\n            'f': \"695\",\n        },\n{\n            'v': 28.49528495284953,\n            'f': \"28.49528495284953\",\n        }],\n [\"Q6 | Gummy Bears straight up\",\n{\n            'v': 676,\n            'f': \"676\",\n        },\n{\n            'v': 27.71627716277163,\n            'f': \"27.71627716277163\",\n        }],\n [\"Q6 | Hard Candy\",\n{\n            'v': 674,\n            'f': \"674\",\n        },\n{\n            'v': 27.634276342763425,\n            'f': \"27.634276342763425\",\n        }],\n [\"Q6 | Healthy Fruit\",\n{\n            'v': 673,\n            'f': \"673\",\n        },\n{\n            'v': 27.593275932759326,\n            'f': \"27.593275932759326\",\n        }],\n [\"Q6 | Heath Bar\",\n{\n            'v': 691,\n            'f': \"691\",\n        },\n{\n            'v': 28.33128331283313,\n            'f': \"28.33128331283313\",\n        }],\n [\"Q6 | Hershey's Dark Chocolate\",\n{\n            'v': 652,\n            'f': \"652\",\n        },\n{\n            'v': 26.732267322673227,\n            'f': \"26.732267322673227\",\n        }],\n [\"Q6 | Hershey\\u00d5s Milk Chocolate\",\n{\n            'v': 651,\n            'f': \"651\",\n        },\n{\n            'v': 26.691266912669125,\n            'f': \"26.691266912669125\",\n        }],\n [\"Q6 | Hershey's Kisses\",\n{\n            'v': 657,\n            'f': \"657\",\n        },\n{\n            'v': 26.937269372693727,\n            'f': \"26.937269372693727\",\n        }],\n [\"Q6 | Hugs (actual physical hugs)\",\n{\n            'v': 692,\n            'f': \"692\",\n        },\n{\n            'v': 28.372283722837228,\n            'f': \"28.372283722837228\",\n        }],\n [\"Q6 | Jolly Rancher (bad flavor)\",\n{\n            'v': 673,\n            'f': \"673\",\n        },\n{\n            'v': 27.593275932759326,\n            'f': \"27.593275932759326\",\n        }],\n [\"Q6 | Jolly Ranchers (good flavor)\",\n{\n            'v': 674,\n            'f': \"674\",\n        },\n{\n            'v': 27.634276342763425,\n            'f': \"27.634276342763425\",\n        }],\n [\"Q6 | JoyJoy (Mit Iodine!)\",\n{\n            'v': 1005,\n            'f': \"1005\",\n        },\n{\n            'v': 41.20541205412054,\n            'f': \"41.20541205412054\",\n        }],\n [\"Q6 | Junior Mints\",\n{\n            'v': 677,\n            'f': \"677\",\n        },\n{\n            'v': 27.757277572775727,\n            'f': \"27.757277572775727\",\n        }],\n [\"Q6 | Senior Mints\",\n{\n            'v': 921,\n            'f': \"921\",\n        },\n{\n            'v': 37.76137761377613,\n            'f': \"37.76137761377613\",\n        }],\n [\"Q6 | Kale smoothie\",\n{\n            'v': 723,\n            'f': \"723\",\n        },\n{\n            'v': 29.643296432964327,\n            'f': \"29.643296432964327\",\n        }],\n [\"Q6 | Kinder Happy Hippo\",\n{\n            'v': 924,\n            'f': \"924\",\n        },\n{\n            'v': 37.88437884378843,\n            'f': \"37.88437884378843\",\n        }],\n [\"Q6 | Kit Kat\",\n{\n            'v': 653,\n            'f': \"653\",\n        },\n{\n            'v': 26.773267732677326,\n            'f': \"26.773267732677326\",\n        }],\n [\"Q6 | LaffyTaffy\",\n{\n            'v': 715,\n            'f': \"715\",\n        },\n{\n            'v': 29.31529315293153,\n            'f': \"29.31529315293153\",\n        }],\n [\"Q6 | LemonHeads\",\n{\n            'v': 709,\n            'f': \"709\",\n        },\n{\n            'v': 29.06929069290693,\n            'f': \"29.06929069290693\",\n        }],\n [\"Q6 | Licorice (not black)\",\n{\n            'v': 665,\n            'f': \"665\",\n        },\n{\n            'v': 27.26527265272653,\n            'f': \"27.26527265272653\",\n        }],\n [\"Q6 | Licorice (yes black)\",\n{\n            'v': 664,\n            'f': \"664\",\n        },\n{\n            'v': 27.224272242722424,\n            'f': \"27.224272242722424\",\n        }],\n [\"Q6 | Lindt Truffle\",\n{\n            'v': 697,\n            'f': \"697\",\n        },\n{\n            'v': 28.57728577285773,\n            'f': \"28.57728577285773\",\n        }],\n [\"Q6 | Lollipops\",\n{\n            'v': 670,\n            'f': \"670\",\n        },\n{\n            'v': 27.470274702747027,\n            'f': \"27.470274702747027\",\n        }],\n [\"Q6 | Mars\",\n{\n            'v': 704,\n            'f': \"704\",\n        },\n{\n            'v': 28.864288642886425,\n            'f': \"28.864288642886425\",\n        }],\n [\"Q6 | Maynards\",\n{\n            'v': 1003,\n            'f': \"1003\",\n        },\n{\n            'v': 41.12341123411234,\n            'f': \"41.12341123411234\",\n        }],\n [\"Q6 | Mike and Ike\",\n{\n            'v': 708,\n            'f': \"708\",\n        },\n{\n            'v': 29.02829028290283,\n            'f': \"29.02829028290283\",\n        }],\n [\"Q6 | Milk Duds\",\n{\n            'v': 672,\n            'f': \"672\",\n        },\n{\n            'v': 27.552275522755227,\n            'f': \"27.552275522755227\",\n        }],\n [\"Q6 | Milky Way\",\n{\n            'v': 667,\n            'f': \"667\",\n        },\n{\n            'v': 27.347273472734727,\n            'f': \"27.347273472734727\",\n        }],\n [\"Q6 | Regular M&Ms\",\n{\n            'v': 654,\n            'f': \"654\",\n        },\n{\n            'v': 26.814268142681424,\n            'f': \"26.814268142681424\",\n        }],\n [\"Q6 | Peanut M&M\\u00d5s\",\n{\n            'v': 650,\n            'f': \"650\",\n        },\n{\n            'v': 26.650266502665026,\n            'f': \"26.650266502665026\",\n        }],\n [\"Q6 | Blue M&M's\",\n{\n            'v': 706,\n            'f': \"706\",\n        },\n{\n            'v': 28.94628946289463,\n            'f': \"28.94628946289463\",\n        }],\n [\"Q6 | Red M&M's\",\n{\n            'v': 708,\n            'f': \"708\",\n        },\n{\n            'v': 29.02829028290283,\n            'f': \"29.02829028290283\",\n        }],\n [\"Q6 | Green Party M&M's\",\n{\n            'v': 743,\n            'f': \"743\",\n        },\n{\n            'v': 30.463304633046327,\n            'f': \"30.463304633046327\",\n        }],\n [\"Q6 | Independent M&M's\",\n{\n            'v': 792,\n            'f': \"792\",\n        },\n{\n            'v': 32.47232472324723,\n            'f': \"32.47232472324723\",\n        }],\n [\"Q6 | Abstained from M&M'ing.\",\n{\n            'v': 921,\n            'f': \"921\",\n        },\n{\n            'v': 37.76137761377613,\n            'f': \"37.76137761377613\",\n        }],\n [\"Q6 | Minibags of chips\",\n{\n            'v': 703,\n            'f': \"703\",\n        },\n{\n            'v': 28.823288232882327,\n            'f': \"28.823288232882327\",\n        }],\n [\"Q6 | Mint Kisses\",\n{\n            'v': 755,\n            'f': \"755\",\n        },\n{\n            'v': 30.955309553095532,\n            'f': \"30.955309553095532\",\n        }],\n [\"Q6 | Mint Juleps\",\n{\n            'v': 790,\n            'f': \"790\",\n        },\n{\n            'v': 32.39032390323903,\n            'f': \"32.39032390323903\",\n        }],\n [\"Q6 | Mr. Goodbar\",\n{\n            'v': 719,\n            'f': \"719\",\n        },\n{\n            'v': 29.47929479294793,\n            'f': \"29.47929479294793\",\n        }],\n [\"Q6 | Necco Wafers\",\n{\n            'v': 723,\n            'f': \"723\",\n        },\n{\n            'v': 29.643296432964327,\n            'f': \"29.643296432964327\",\n        }],\n [\"Q6 | Nerds\",\n{\n            'v': 702,\n            'f': \"702\",\n        },\n{\n            'v': 28.782287822878228,\n            'f': \"28.782287822878228\",\n        }],\n [\"Q6 | Nestle Crunch\",\n{\n            'v': 677,\n            'f': \"677\",\n        },\n{\n            'v': 27.757277572775727,\n            'f': \"27.757277572775727\",\n        }],\n [\"Q6 | Now'n'Laters\",\n{\n            'v': 796,\n            'f': \"796\",\n        },\n{\n            'v': 32.636326363263635,\n            'f': \"32.636326363263635\",\n        }],\n [\"Q6 | Peeps\",\n{\n            'v': 689,\n            'f': \"689\",\n        },\n{\n            'v': 28.24928249282493,\n            'f': \"28.24928249282493\",\n        }],\n [\"Q6 | Pencils\",\n{\n            'v': 688,\n            'f': \"688\",\n        },\n{\n            'v': 28.20828208282083,\n            'f': \"28.20828208282083\",\n        }],\n [\"Q6 | Pixy Stix\",\n{\n            'v': 701,\n            'f': \"701\",\n        },\n{\n            'v': 28.74128741287413,\n            'f': \"28.74128741287413\",\n        }],\n [\"Q6 | Real Housewives of Orange County Season 9 Blue-Ray\",\n{\n            'v': 732,\n            'f': \"732\",\n        },\n{\n            'v': 30.01230012300123,\n            'f': \"30.01230012300123\",\n        }],\n [\"Q6 | Reese\\u00d5s Peanut Butter Cups\",\n{\n            'v': 658,\n            'f': \"658\",\n        },\n{\n            'v': 26.97826978269783,\n            'f': \"26.97826978269783\",\n        }],\n [\"Q6 | Reese's Pieces\",\n{\n            'v': 670,\n            'f': \"670\",\n        },\n{\n            'v': 27.470274702747027,\n            'f': \"27.470274702747027\",\n        }],\n [\"Q6 | Reggie Jackson Bar\",\n{\n            'v': 993,\n            'f': \"993\",\n        },\n{\n            'v': 40.71340713407134,\n            'f': \"40.71340713407134\",\n        }],\n [\"Q6 | Rolos\",\n{\n            'v': 693,\n            'f': \"693\",\n        },\n{\n            'v': 28.413284132841326,\n            'f': \"28.413284132841326\",\n        }],\n [\"Q6 | Sandwich-sized bags filled with BooBerry Crunch\",\n{\n            'v': 755,\n            'f': \"755\",\n        },\n{\n            'v': 30.955309553095532,\n            'f': \"30.955309553095532\",\n        }],\n [\"Q6 | Skittles\",\n{\n            'v': 685,\n            'f': \"685\",\n        },\n{\n            'v': 28.08528085280853,\n            'f': \"28.08528085280853\",\n        }],\n [\"Q6 | Smarties (American)\",\n{\n            'v': 704,\n            'f': \"704\",\n        },\n{\n            'v': 28.864288642886425,\n            'f': \"28.864288642886425\",\n        }],\n [\"Q6 | Smarties (Commonwealth)\",\n{\n            'v': 880,\n            'f': \"880\",\n        },\n{\n            'v': 36.08036080360804,\n            'f': \"36.08036080360804\",\n        }],\n [\"Q6 | Snickers\",\n{\n            'v': 669,\n            'f': \"669\",\n        },\n{\n            'v': 27.429274292742928,\n            'f': \"27.429274292742928\",\n        }],\n [\"Q6 | Sourpatch Kids (i.e. abominations of nature)\",\n{\n            'v': 717,\n            'f': \"717\",\n        },\n{\n            'v': 29.397293972939732,\n            'f': \"29.397293972939732\",\n        }],\n [\"Q6 | Spotted Dick\",\n{\n            'v': 861,\n            'f': \"861\",\n        },\n{\n            'v': 35.30135301353013,\n            'f': \"35.30135301353013\",\n        }],\n [\"Q6 | Starburst\",\n{\n            'v': 672,\n            'f': \"672\",\n        },\n{\n            'v': 27.552275522755227,\n            'f': \"27.552275522755227\",\n        }],\n [\"Q6 | Sweet Tarts\",\n{\n            'v': 687,\n            'f': \"687\",\n        },\n{\n            'v': 28.16728167281673,\n            'f': \"28.16728167281673\",\n        }],\n [\"Q6 | Swedish Fish\",\n{\n            'v': 694,\n            'f': \"694\",\n        },\n{\n            'v': 28.454284542845425,\n            'f': \"28.454284542845425\",\n        }],\n [\"Q6 | Sweetums (a friend to diabetes)\",\n{\n            'v': 981,\n            'f': \"981\",\n        },\n{\n            'v': 40.22140221402214,\n            'f': \"40.22140221402214\",\n        }],\n [\"Q6 | Take 5\",\n{\n            'v': 896,\n            'f': \"896\",\n        },\n{\n            'v': 36.73636736367364,\n            'f': \"36.73636736367364\",\n        }],\n [\"Q6 | Tic Tacs\",\n{\n            'v': 693,\n            'f': \"693\",\n        },\n{\n            'v': 28.413284132841326,\n            'f': \"28.413284132841326\",\n        }],\n [\"Q6 | Those odd marshmallow circus peanut things\",\n{\n            'v': 715,\n            'f': \"715\",\n        },\n{\n            'v': 29.31529315293153,\n            'f': \"29.31529315293153\",\n        }],\n [\"Q6 | Three Musketeers\",\n{\n            'v': 687,\n            'f': \"687\",\n        },\n{\n            'v': 28.16728167281673,\n            'f': \"28.16728167281673\",\n        }],\n [\"Q6 | Tolberone something or other\",\n{\n            'v': 685,\n            'f': \"685\",\n        },\n{\n            'v': 28.08528085280853,\n            'f': \"28.08528085280853\",\n        }],\n [\"Q6 | Trail Mix\",\n{\n            'v': 687,\n            'f': \"687\",\n        },\n{\n            'v': 28.16728167281673,\n            'f': \"28.16728167281673\",\n        }],\n [\"Q6 | Twix\",\n{\n            'v': 669,\n            'f': \"669\",\n        },\n{\n            'v': 27.429274292742928,\n            'f': \"27.429274292742928\",\n        }],\n [\"Q6 | Vials of pure high fructose corn syrup, for main-lining into your vein\",\n{\n            'v': 771,\n            'f': \"771\",\n        },\n{\n            'v': 31.61131611316113,\n            'f': \"31.61131611316113\",\n        }],\n [\"Q6 | Vicodin\",\n{\n            'v': 768,\n            'f': \"768\",\n        },\n{\n            'v': 31.48831488314883,\n            'f': \"31.48831488314883\",\n        }],\n [\"Q6 | Whatchamacallit Bars\",\n{\n            'v': 802,\n            'f': \"802\",\n        },\n{\n            'v': 32.88232882328823,\n            'f': \"32.88232882328823\",\n        }],\n [\"Q6 | White Bread\",\n{\n            'v': 736,\n            'f': \"736\",\n        },\n{\n            'v': 30.176301763017634,\n            'f': \"30.176301763017634\",\n        }],\n [\"Q6 | Whole Wheat anything\",\n{\n            'v': 726,\n            'f': \"726\",\n        },\n{\n            'v': 29.766297662976633,\n            'f': \"29.766297662976633\",\n        }],\n [\"Q6 | York Peppermint Patties\",\n{\n            'v': 684,\n            'f': \"684\",\n        },\n{\n            'v': 28.044280442804425,\n            'f': \"28.044280442804425\",\n        }],\n [\"Q10: DRESS\",\n{\n            'v': 723,\n            'f': \"723\",\n        },\n{\n            'v': 29.643296432964327,\n            'f': \"29.643296432964327\",\n        }],\n [\"Q11: DAY\",\n{\n            'v': 704,\n            'f': \"704\",\n        },\n{\n            'v': 28.864288642886425,\n            'f': \"28.864288642886425\",\n        }],\n [\"Q12: MEDIA [Daily Dish]\",\n{\n            'v': 2354,\n            'f': \"2354\",\n        },\n{\n            'v': 96.5149651496515,\n            'f': \"96.5149651496515\",\n        }],\n [\"Q12: MEDIA [Science]\",\n{\n            'v': 1077,\n            'f': \"1077\",\n        },\n{\n            'v': 44.15744157441574,\n            'f': \"44.15744157441574\",\n        }],\n [\"Q12: MEDIA [ESPN]\",\n{\n            'v': 2340,\n            'f': \"2340\",\n        },\n{\n            'v': 95.9409594095941,\n            'f': \"95.9409594095941\",\n        }],\n [\"Q12: MEDIA [Yahoo]\",\n{\n            'v': 2372,\n            'f': \"2372\",\n        },\n{\n            'v': 97.2529725297253,\n            'f': \"97.2529725297253\",\n        }],\n [\"Click Coordinates (x, y)\",\n{\n            'v': 834,\n            'f': \"834\",\n        },\n{\n            'v': 34.19434194341943,\n            'f': \"34.19434194341943\",\n        }]],\n        columns: [[\"string\", \"columns\"], [\"number\", \"totalNans\"], [\"number\", \"percentages\"]],\n        columnOptions: [],\n        rowsPerPage: 20,\n        helpUrl: \"https://colab.research.google.com/notebooks/data_table.ipynb\",\n        suppressOutputScrolling: true,\n        minimumWidth: undefined,\n      });\n    ",
            "text/plain": [
              "<google.colab.data_table.DataTable object>"
            ]
          },
          "metadata": {},
          "execution_count": 13
        }
      ]
    },
    {
      "cell_type": "markdown",
      "source": [
        "## Corregir nombres de columnas\n",
        "Creamos una funcion para cambiar el nombre a los encabezados sin el número de pregunta (\"Q1:\", \"Q6|\")"
      ],
      "metadata": {
        "id": "WO2vTd1nAM5Z"
      }
    },
    {
      "cell_type": "code",
      "source": [
        "columnas = df.columns.to_list()\n",
        "def new_columns() :\n",
        "  nueva_columna = []\n",
        "  for i in columnas:\n",
        "    if i[2] == ':' :\n",
        "      nueva_columna.append(i[4:])\n",
        "      #print(i[4:])\n",
        "    elif i[3] == ':' or i[3] == '|' :\n",
        "      nueva_columna.append(i[5:])\n",
        "      #print(i[5:])\n",
        "    else:\n",
        "      nueva_columna.append(i)\n",
        "      #print(i)\n",
        "  return nueva_columna\n",
        "df.columns = new_columns()"
      ],
      "metadata": {
        "id": "edwuW0lPpcPW"
      },
      "execution_count": null,
      "outputs": []
    },
    {
      "cell_type": "code",
      "source": [
        "columnas = df.columns[5:].to_list()"
      ],
      "metadata": {
        "id": "IP6BxLplpcM8"
      },
      "execution_count": null,
      "outputs": []
    },
    {
      "cell_type": "code",
      "source": [
        "columnas"
      ],
      "metadata": {
        "colab": {
          "base_uri": "https://localhost:8080/"
        },
        "id": "MvQYt4pEawdc",
        "outputId": "d569dc53-6b9b-4da7-81c1-1232e85621e5"
      },
      "execution_count": null,
      "outputs": [
        {
          "output_type": "execute_result",
          "data": {
            "text/plain": [
              "['100 Grand Bar',\n",
              " 'Anonymous brown globs that come in black and orange wrappers\\t(a.k.a. Mary Janes)',\n",
              " 'Any full-sized candy bar',\n",
              " 'Black Jacks',\n",
              " 'Bonkers (the candy)',\n",
              " 'Bonkers (the board game)',\n",
              " 'Bottle Caps',\n",
              " \"Box'o'Raisins\",\n",
              " 'Broken glow stick',\n",
              " 'Butterfinger',\n",
              " 'Cadbury Creme Eggs',\n",
              " 'Candy Corn',\n",
              " 'Candy that is clearly just the stuff given out for free at restaurants',\n",
              " 'Caramellos',\n",
              " 'Cash, or other forms of legal tender',\n",
              " 'Chardonnay',\n",
              " 'Chick-o-Sticks (we donÕt know what that is)',\n",
              " 'Chiclets',\n",
              " 'Coffee Crisp',\n",
              " 'Creepy Religious comics/Chick Tracts',\n",
              " 'Dental paraphenalia',\n",
              " 'Dots',\n",
              " 'Dove Bars',\n",
              " 'Fuzzy Peaches',\n",
              " 'Generic Brand Acetaminophen',\n",
              " 'Glow sticks',\n",
              " 'Goo Goo Clusters',\n",
              " \"Good N' Plenty\",\n",
              " 'Gum from baseball cards',\n",
              " 'Gummy Bears straight up',\n",
              " 'Hard Candy',\n",
              " 'Healthy Fruit',\n",
              " 'Heath Bar',\n",
              " \"Hershey's Dark Chocolate\",\n",
              " 'HersheyÕs Milk Chocolate',\n",
              " \"Hershey's Kisses\",\n",
              " 'Hugs (actual physical hugs)',\n",
              " 'Jolly Rancher (bad flavor)',\n",
              " 'Jolly Ranchers (good flavor)',\n",
              " 'JoyJoy (Mit Iodine!)',\n",
              " 'Junior Mints',\n",
              " 'Senior Mints',\n",
              " 'Kale smoothie',\n",
              " 'Kinder Happy Hippo',\n",
              " 'Kit Kat',\n",
              " 'LaffyTaffy',\n",
              " 'LemonHeads',\n",
              " 'Licorice (not black)',\n",
              " 'Licorice (yes black)',\n",
              " 'Lindt Truffle',\n",
              " 'Lollipops',\n",
              " 'Mars',\n",
              " 'Maynards',\n",
              " 'Mike and Ike',\n",
              " 'Milk Duds',\n",
              " 'Milky Way',\n",
              " 'Regular M&Ms',\n",
              " 'Peanut M&MÕs',\n",
              " \"Blue M&M's\",\n",
              " \"Red M&M's\",\n",
              " \"Green Party M&M's\",\n",
              " \"Independent M&M's\",\n",
              " \"Abstained from M&M'ing.\",\n",
              " 'Minibags of chips',\n",
              " 'Mint Kisses',\n",
              " 'Mint Juleps',\n",
              " 'Mr. Goodbar',\n",
              " 'Necco Wafers',\n",
              " 'Nerds',\n",
              " 'Nestle Crunch',\n",
              " \"Now'n'Laters\",\n",
              " 'Peeps',\n",
              " 'Pencils',\n",
              " 'Pixy Stix',\n",
              " 'Real Housewives of Orange County Season 9 Blue-Ray',\n",
              " 'ReeseÕs Peanut Butter Cups',\n",
              " \"Reese's Pieces\",\n",
              " 'Reggie Jackson Bar',\n",
              " 'Rolos',\n",
              " 'Sandwich-sized bags filled with BooBerry Crunch',\n",
              " 'Skittles',\n",
              " 'Smarties (American)',\n",
              " 'Smarties (Commonwealth)',\n",
              " 'Snickers',\n",
              " 'Sourpatch Kids (i.e. abominations of nature)',\n",
              " 'Spotted Dick',\n",
              " 'Starburst',\n",
              " 'Sweet Tarts',\n",
              " 'Swedish Fish',\n",
              " 'Sweetums (a friend to diabetes)',\n",
              " 'Take 5',\n",
              " 'Tic Tacs',\n",
              " 'Those odd marshmallow circus peanut things',\n",
              " 'Three Musketeers',\n",
              " 'Tolberone something or other',\n",
              " 'Trail Mix',\n",
              " 'Twix',\n",
              " 'Vials of pure high fructose corn syrup, for main-lining into your vein',\n",
              " 'Vicodin',\n",
              " 'Whatchamacallit Bars',\n",
              " 'White Bread',\n",
              " 'Whole Wheat anything',\n",
              " 'York Peppermint Patties',\n",
              " 'DRESS',\n",
              " 'DAY',\n",
              " 'MEDIA [Daily Dish]',\n",
              " 'MEDIA [Science]',\n",
              " 'MEDIA [ESPN]',\n",
              " 'MEDIA [Yahoo]',\n",
              " 'Click Coordinates (x, y)']"
            ]
          },
          "metadata": {},
          "execution_count": 16
        }
      ]
    },
    {
      "cell_type": "markdown",
      "source": [
        "## Respuestas inválidas y \"MEDIA [ ]\"\n",
        "Eliminamos las filas que no validaron el proceso de envio de la encuesta."
      ],
      "metadata": {
        "id": "hcyFPs_82ZZ3"
      }
    },
    {
      "cell_type": "code",
      "source": [
        "df = df.dropna(subset=['Click Coordinates (x, y)'], axis=0)"
      ],
      "metadata": {
        "id": "MrJMeSkmpcKT"
      },
      "execution_count": null,
      "outputs": []
    },
    {
      "cell_type": "code",
      "source": [
        "df.shape"
      ],
      "metadata": {
        "colab": {
          "base_uri": "https://localhost:8080/"
        },
        "id": "Jn2qkKerpcIa",
        "outputId": "c70a7fdc-8879-4211-fd4a-18b2dda6ef32"
      },
      "execution_count": null,
      "outputs": [
        {
          "output_type": "execute_result",
          "data": {
            "text/plain": [
              "(1605, 115)"
            ]
          },
          "metadata": {},
          "execution_count": 18
        }
      ]
    },
    {
      "cell_type": "markdown",
      "source": [
        "Eliminamos las columnas de validacion de encuesta"
      ],
      "metadata": {
        "id": "z-KI8gMj2s9s"
      }
    },
    {
      "cell_type": "code",
      "source": [
        "df.drop(columns=['MEDIA [ESPN]','MEDIA [Daily Dish]','MEDIA [Science]','MEDIA [Yahoo]','Click Coordinates (x, y)'], inplace=True)"
      ],
      "metadata": {
        "id": "hyG7GwQnpcF2",
        "colab": {
          "base_uri": "https://localhost:8080/"
        },
        "outputId": "6b1098dc-7dcf-40a8-d9aa-0e384939fdbf"
      },
      "execution_count": null,
      "outputs": [
        {
          "output_type": "stream",
          "name": "stderr",
          "text": [
            "/usr/local/lib/python3.7/dist-packages/pandas/core/frame.py:4913: SettingWithCopyWarning: \n",
            "A value is trying to be set on a copy of a slice from a DataFrame\n",
            "\n",
            "See the caveats in the documentation: https://pandas.pydata.org/pandas-docs/stable/user_guide/indexing.html#returning-a-view-versus-a-copy\n",
            "  errors=errors,\n"
          ]
        }
      ]
    },
    {
      "cell_type": "code",
      "source": [
        "df.shape"
      ],
      "metadata": {
        "colab": {
          "base_uri": "https://localhost:8080/"
        },
        "id": "VxK4b4fTpcDv",
        "outputId": "2b78be03-bfc4-41aa-9fad-ba9ca6eb5a48"
      },
      "execution_count": null,
      "outputs": [
        {
          "output_type": "execute_result",
          "data": {
            "text/plain": [
              "(1605, 110)"
            ]
          },
          "metadata": {},
          "execution_count": 20
        }
      ]
    },
    {
      "cell_type": "code",
      "source": [
        "porcentaje_vacios()"
      ],
      "metadata": {
        "colab": {
          "base_uri": "https://localhost:8080/",
          "height": 525
        },
        "id": "rtv9-NxipcA-",
        "outputId": "31663f38-064d-47a5-a1a9-332053bb73eb"
      },
      "execution_count": null,
      "outputs": [
        {
          "output_type": "execute_result",
          "data": {
            "text/html": [
              "<div>\n",
              "<style scoped>\n",
              "    .dataframe tbody tr th:only-of-type {\n",
              "        vertical-align: middle;\n",
              "    }\n",
              "\n",
              "    .dataframe tbody tr th {\n",
              "        vertical-align: top;\n",
              "    }\n",
              "\n",
              "    .dataframe thead th {\n",
              "        text-align: right;\n",
              "    }\n",
              "</style>\n",
              "<table border=\"1\" class=\"dataframe\">\n",
              "  <thead>\n",
              "    <tr style=\"text-align: right;\">\n",
              "      <th></th>\n",
              "      <th>columns</th>\n",
              "      <th>totalNans</th>\n",
              "      <th>percentages</th>\n",
              "    </tr>\n",
              "  </thead>\n",
              "  <tbody>\n",
              "    <tr>\n",
              "      <th>GOING OUT?</th>\n",
              "      <td>GOING OUT?</td>\n",
              "      <td>53</td>\n",
              "      <td>3.302181</td>\n",
              "    </tr>\n",
              "    <tr>\n",
              "      <th>GENDER</th>\n",
              "      <td>GENDER</td>\n",
              "      <td>9</td>\n",
              "      <td>0.560748</td>\n",
              "    </tr>\n",
              "    <tr>\n",
              "      <th>AGE</th>\n",
              "      <td>AGE</td>\n",
              "      <td>30</td>\n",
              "      <td>1.869159</td>\n",
              "    </tr>\n",
              "    <tr>\n",
              "      <th>COUNTRY</th>\n",
              "      <td>COUNTRY</td>\n",
              "      <td>16</td>\n",
              "      <td>0.996885</td>\n",
              "    </tr>\n",
              "    <tr>\n",
              "      <th>STATE, PROVINCE, COUNTY, ETC</th>\n",
              "      <td>STATE, PROVINCE, COUNTY, ETC</td>\n",
              "      <td>35</td>\n",
              "      <td>2.180685</td>\n",
              "    </tr>\n",
              "    <tr>\n",
              "      <th>...</th>\n",
              "      <td>...</td>\n",
              "      <td>...</td>\n",
              "      <td>...</td>\n",
              "    </tr>\n",
              "    <tr>\n",
              "      <th>White Bread</th>\n",
              "      <td>White Bread</td>\n",
              "      <td>79</td>\n",
              "      <td>4.922118</td>\n",
              "    </tr>\n",
              "    <tr>\n",
              "      <th>Whole Wheat anything</th>\n",
              "      <td>Whole Wheat anything</td>\n",
              "      <td>72</td>\n",
              "      <td>4.485981</td>\n",
              "    </tr>\n",
              "    <tr>\n",
              "      <th>York Peppermint Patties</th>\n",
              "      <td>York Peppermint Patties</td>\n",
              "      <td>36</td>\n",
              "      <td>2.242991</td>\n",
              "    </tr>\n",
              "    <tr>\n",
              "      <th>DRESS</th>\n",
              "      <td>DRESS</td>\n",
              "      <td>27</td>\n",
              "      <td>1.682243</td>\n",
              "    </tr>\n",
              "    <tr>\n",
              "      <th>DAY</th>\n",
              "      <td>DAY</td>\n",
              "      <td>11</td>\n",
              "      <td>0.685358</td>\n",
              "    </tr>\n",
              "  </tbody>\n",
              "</table>\n",
              "<p>110 rows × 3 columns</p>\n",
              "</div>"
            ],
            "application/vnd.google.colaboratory.module+javascript": "\n      import \"https://ssl.gstatic.com/colaboratory/data_table/a8bd4d5e58f96183/data_table.js\";\n\n      window.createDataTable({\n        data: [[\"GOING OUT?\",\n{\n            'v': 53,\n            'f': \"53\",\n        },\n{\n            'v': 3.3021806853582554,\n            'f': \"3.3021806853582554\",\n        }],\n [\"GENDER\",\n{\n            'v': 9,\n            'f': \"9\",\n        },\n{\n            'v': 0.5607476635514018,\n            'f': \"0.5607476635514018\",\n        }],\n [\"AGE\",\n{\n            'v': 30,\n            'f': \"30\",\n        },\n{\n            'v': 1.8691588785046727,\n            'f': \"1.8691588785046727\",\n        }],\n [\"COUNTRY\",\n{\n            'v': 16,\n            'f': \"16\",\n        },\n{\n            'v': 0.9968847352024922,\n            'f': \"0.9968847352024922\",\n        }],\n [\"STATE, PROVINCE, COUNTY, ETC\",\n{\n            'v': 35,\n            'f': \"35\",\n        },\n{\n            'v': 2.1806853582554515,\n            'f': \"2.1806853582554515\",\n        }],\n [\"100 Grand Bar\",\n{\n            'v': 82,\n            'f': \"82\",\n        },\n{\n            'v': 5.109034267912772,\n            'f': \"5.109034267912772\",\n        }],\n [\"Anonymous brown globs that come in black and orange wrappers\\t(a.k.a. Mary Janes)\",\n{\n            'v': 70,\n            'f': \"70\",\n        },\n{\n            'v': 4.361370716510903,\n            'f': \"4.361370716510903\",\n        }],\n [\"Any full-sized candy bar\",\n{\n            'v': 14,\n            'f': \"14\",\n        },\n{\n            'v': 0.8722741433021807,\n            'f': \"0.8722741433021807\",\n        }],\n [\"Black Jacks\",\n{\n            'v': 274,\n            'f': \"274\",\n        },\n{\n            'v': 17.07165109034268,\n            'f': \"17.07165109034268\",\n        }],\n [\"Bonkers (the candy)\",\n{\n            'v': 300,\n            'f': \"300\",\n        },\n{\n            'v': 18.69158878504673,\n            'f': \"18.69158878504673\",\n        }],\n [\"Bonkers (the board game)\",\n{\n            'v': 310,\n            'f': \"310\",\n        },\n{\n            'v': 19.314641744548286,\n            'f': \"19.314641744548286\",\n        }],\n [\"Bottle Caps\",\n{\n            'v': 91,\n            'f': \"91\",\n        },\n{\n            'v': 5.669781931464175,\n            'f': \"5.669781931464175\",\n        }],\n [\"Box'o'Raisins\",\n{\n            'v': 22,\n            'f': \"22\",\n        },\n{\n            'v': 1.3707165109034267,\n            'f': \"1.3707165109034267\",\n        }],\n [\"Broken glow stick\",\n{\n            'v': 38,\n            'f': \"38\",\n        },\n{\n            'v': 2.3676012461059193,\n            'f': \"2.3676012461059193\",\n        }],\n [\"Butterfinger\",\n{\n            'v': 23,\n            'f': \"23\",\n        },\n{\n            'v': 1.4330218068535825,\n            'f': \"1.4330218068535825\",\n        }],\n [\"Cadbury Creme Eggs\",\n{\n            'v': 21,\n            'f': \"21\",\n        },\n{\n            'v': 1.3084112149532712,\n            'f': \"1.3084112149532712\",\n        }],\n [\"Candy Corn\",\n{\n            'v': 16,\n            'f': \"16\",\n        },\n{\n            'v': 0.9968847352024922,\n            'f': \"0.9968847352024922\",\n        }],\n [\"Candy that is clearly just the stuff given out for free at restaurants\",\n{\n            'v': 24,\n            'f': \"24\",\n        },\n{\n            'v': 1.4953271028037385,\n            'f': \"1.4953271028037385\",\n        }],\n [\"Caramellos\",\n{\n            'v': 82,\n            'f': \"82\",\n        },\n{\n            'v': 5.109034267912772,\n            'f': \"5.109034267912772\",\n        }],\n [\"Cash, or other forms of legal tender\",\n{\n            'v': 20,\n            'f': \"20\",\n        },\n{\n            'v': 1.2461059190031152,\n            'f': \"1.2461059190031152\",\n        }],\n [\"Chardonnay\",\n{\n            'v': 75,\n            'f': \"75\",\n        },\n{\n            'v': 4.672897196261682,\n            'f': \"4.672897196261682\",\n        }],\n [\"Chick-o-Sticks (we don\\u00d5t know what that is)\",\n{\n            'v': 261,\n            'f': \"261\",\n        },\n{\n            'v': 16.261682242990656,\n            'f': \"16.261682242990656\",\n        }],\n [\"Chiclets\",\n{\n            'v': 42,\n            'f': \"42\",\n        },\n{\n            'v': 2.6168224299065423,\n            'f': \"2.6168224299065423\",\n        }],\n [\"Coffee Crisp\",\n{\n            'v': 177,\n            'f': \"177\",\n        },\n{\n            'v': 11.02803738317757,\n            'f': \"11.02803738317757\",\n        }],\n [\"Creepy Religious comics/Chick Tracts\",\n{\n            'v': 37,\n            'f': \"37\",\n        },\n{\n            'v': 2.3052959501557635,\n            'f': \"2.3052959501557635\",\n        }],\n [\"Dental paraphenalia\",\n{\n            'v': 28,\n            'f': \"28\",\n        },\n{\n            'v': 1.7445482866043613,\n            'f': \"1.7445482866043613\",\n        }],\n [\"Dots\",\n{\n            'v': 57,\n            'f': \"57\",\n        },\n{\n            'v': 3.551401869158879,\n            'f': \"3.551401869158879\",\n        }],\n [\"Dove Bars\",\n{\n            'v': 39,\n            'f': \"39\",\n        },\n{\n            'v': 2.4299065420560746,\n            'f': \"2.4299065420560746\",\n        }],\n [\"Fuzzy Peaches\",\n{\n            'v': 148,\n            'f': \"148\",\n        },\n{\n            'v': 9.221183800623054,\n            'f': \"9.221183800623054\",\n        }],\n [\"Generic Brand Acetaminophen\",\n{\n            'v': 59,\n            'f': \"59\",\n        },\n{\n            'v': 3.67601246105919,\n            'f': \"3.67601246105919\",\n        }],\n [\"Glow sticks\",\n{\n            'v': 33,\n            'f': \"33\",\n        },\n{\n            'v': 2.0560747663551404,\n            'f': \"2.0560747663551404\",\n        }],\n [\"Goo Goo Clusters\",\n{\n            'v': 196,\n            'f': \"196\",\n        },\n{\n            'v': 12.21183800623053,\n            'f': \"12.21183800623053\",\n        }],\n [\"Good N' Plenty\",\n{\n            'v': 65,\n            'f': \"65\",\n        },\n{\n            'v': 4.049844236760125,\n            'f': \"4.049844236760125\",\n        }],\n [\"Gum from baseball cards\",\n{\n            'v': 50,\n            'f': \"50\",\n        },\n{\n            'v': 3.115264797507788,\n            'f': \"3.115264797507788\",\n        }],\n [\"Gummy Bears straight up\",\n{\n            'v': 28,\n            'f': \"28\",\n        },\n{\n            'v': 1.7445482866043613,\n            'f': \"1.7445482866043613\",\n        }],\n [\"Hard Candy\",\n{\n            'v': 27,\n            'f': \"27\",\n        },\n{\n            'v': 1.6822429906542056,\n            'f': \"1.6822429906542056\",\n        }],\n [\"Healthy Fruit\",\n{\n            'v': 33,\n            'f': \"33\",\n        },\n{\n            'v': 2.0560747663551404,\n            'f': \"2.0560747663551404\",\n        }],\n [\"Heath Bar\",\n{\n            'v': 49,\n            'f': \"49\",\n        },\n{\n            'v': 3.0529595015576323,\n            'f': \"3.0529595015576323\",\n        }],\n [\"Hershey's Dark Chocolate\",\n{\n            'v': 11,\n            'f': \"11\",\n        },\n{\n            'v': 0.6853582554517134,\n            'f': \"0.6853582554517134\",\n        }],\n [\"Hershey\\u00d5s Milk Chocolate\",\n{\n            'v': 10,\n            'f': \"10\",\n        },\n{\n            'v': 0.6230529595015576,\n            'f': \"0.6230529595015576\",\n        }],\n [\"Hershey's Kisses\",\n{\n            'v': 15,\n            'f': \"15\",\n        },\n{\n            'v': 0.9345794392523363,\n            'f': \"0.9345794392523363\",\n        }],\n [\"Hugs (actual physical hugs)\",\n{\n            'v': 45,\n            'f': \"45\",\n        },\n{\n            'v': 2.803738317757009,\n            'f': \"2.803738317757009\",\n        }],\n [\"Jolly Rancher (bad flavor)\",\n{\n            'v': 29,\n            'f': \"29\",\n        },\n{\n            'v': 1.8068535825545171,\n            'f': \"1.8068535825545171\",\n        }],\n [\"Jolly Ranchers (good flavor)\",\n{\n            'v': 30,\n            'f': \"30\",\n        },\n{\n            'v': 1.8691588785046727,\n            'f': \"1.8691588785046727\",\n        }],\n [\"JoyJoy (Mit Iodine!)\",\n{\n            'v': 333,\n            'f': \"333\",\n        },\n{\n            'v': 20.747663551401867,\n            'f': \"20.747663551401867\",\n        }],\n [\"Junior Mints\",\n{\n            'v': 33,\n            'f': \"33\",\n        },\n{\n            'v': 2.0560747663551404,\n            'f': \"2.0560747663551404\",\n        }],\n [\"Senior Mints\",\n{\n            'v': 251,\n            'f': \"251\",\n        },\n{\n            'v': 15.638629283489097,\n            'f': \"15.638629283489097\",\n        }],\n [\"Kale smoothie\",\n{\n            'v': 74,\n            'f': \"74\",\n        },\n{\n            'v': 4.610591900311527,\n            'f': \"4.610591900311527\",\n        }],\n [\"Kinder Happy Hippo\",\n{\n            'v': 258,\n            'f': \"258\",\n        },\n{\n            'v': 16.074766355140188,\n            'f': \"16.074766355140188\",\n        }],\n [\"Kit Kat\",\n{\n            'v': 13,\n            'f': \"13\",\n        },\n{\n            'v': 0.809968847352025,\n            'f': \"0.809968847352025\",\n        }],\n [\"LaffyTaffy\",\n{\n            'v': 67,\n            'f': \"67\",\n        },\n{\n            'v': 4.174454828660436,\n            'f': \"4.174454828660436\",\n        }],\n [\"LemonHeads\",\n{\n            'v': 63,\n            'f': \"63\",\n        },\n{\n            'v': 3.925233644859813,\n            'f': \"3.925233644859813\",\n        }],\n [\"Licorice (not black)\",\n{\n            'v': 21,\n            'f': \"21\",\n        },\n{\n            'v': 1.3084112149532712,\n            'f': \"1.3084112149532712\",\n        }],\n [\"Licorice (yes black)\",\n{\n            'v': 21,\n            'f': \"21\",\n        },\n{\n            'v': 1.3084112149532712,\n            'f': \"1.3084112149532712\",\n        }],\n [\"Lindt Truffle\",\n{\n            'v': 50,\n            'f': \"50\",\n        },\n{\n            'v': 3.115264797507788,\n            'f': \"3.115264797507788\",\n        }],\n [\"Lollipops\",\n{\n            'v': 25,\n            'f': \"25\",\n        },\n{\n            'v': 1.557632398753894,\n            'f': \"1.557632398753894\",\n        }],\n [\"Mars\",\n{\n            'v': 55,\n            'f': \"55\",\n        },\n{\n            'v': 3.4267912772585665,\n            'f': \"3.4267912772585665\",\n        }],\n [\"Maynards\",\n{\n            'v': 328,\n            'f': \"328\",\n        },\n{\n            'v': 20.43613707165109,\n            'f': \"20.43613707165109\",\n        }],\n [\"Mike and Ike\",\n{\n            'v': 57,\n            'f': \"57\",\n        },\n{\n            'v': 3.551401869158879,\n            'f': \"3.551401869158879\",\n        }],\n [\"Milk Duds\",\n{\n            'v': 29,\n            'f': \"29\",\n        },\n{\n            'v': 1.8068535825545171,\n            'f': \"1.8068535825545171\",\n        }],\n [\"Milky Way\",\n{\n            'v': 26,\n            'f': \"26\",\n        },\n{\n            'v': 1.61993769470405,\n            'f': \"1.61993769470405\",\n        }],\n [\"Regular M&Ms\",\n{\n            'v': 14,\n            'f': \"14\",\n        },\n{\n            'v': 0.8722741433021807,\n            'f': \"0.8722741433021807\",\n        }],\n [\"Peanut M&M\\u00d5s\",\n{\n            'v': 11,\n            'f': \"11\",\n        },\n{\n            'v': 0.6853582554517134,\n            'f': \"0.6853582554517134\",\n        }],\n [\"Blue M&M's\",\n{\n            'v': 59,\n            'f': \"59\",\n        },\n{\n            'v': 3.67601246105919,\n            'f': \"3.67601246105919\",\n        }],\n [\"Red M&M's\",\n{\n            'v': 61,\n            'f': \"61\",\n        },\n{\n            'v': 3.8006230529595015,\n            'f': \"3.8006230529595015\",\n        }],\n [\"Green Party M&M's\",\n{\n            'v': 96,\n            'f': \"96\",\n        },\n{\n            'v': 5.981308411214954,\n            'f': \"5.981308411214954\",\n        }],\n [\"Independent M&M's\",\n{\n            'v': 139,\n            'f': \"139\",\n        },\n{\n            'v': 8.660436137071652,\n            'f': \"8.660436137071652\",\n        }],\n [\"Abstained from M&M'ing.\",\n{\n            'v': 256,\n            'f': \"256\",\n        },\n{\n            'v': 15.950155763239875,\n            'f': \"15.950155763239875\",\n        }],\n [\"Minibags of chips\",\n{\n            'v': 54,\n            'f': \"54\",\n        },\n{\n            'v': 3.364485981308411,\n            'f': \"3.364485981308411\",\n        }],\n [\"Mint Kisses\",\n{\n            'v': 104,\n            'f': \"104\",\n        },\n{\n            'v': 6.4797507788162,\n            'f': \"6.4797507788162\",\n        }],\n [\"Mint Juleps\",\n{\n            'v': 129,\n            'f': \"129\",\n        },\n{\n            'v': 8.037383177570094,\n            'f': \"8.037383177570094\",\n        }],\n [\"Mr. Goodbar\",\n{\n            'v': 68,\n            'f': \"68\",\n        },\n{\n            'v': 4.2367601246105915,\n            'f': \"4.2367601246105915\",\n        }],\n [\"Necco Wafers\",\n{\n            'v': 72,\n            'f': \"72\",\n        },\n{\n            'v': 4.485981308411215,\n            'f': \"4.485981308411215\",\n        }],\n [\"Nerds\",\n{\n            'v': 52,\n            'f': \"52\",\n        },\n{\n            'v': 3.2398753894081,\n            'f': \"3.2398753894081\",\n        }],\n [\"Nestle Crunch\",\n{\n            'v': 32,\n            'f': \"32\",\n        },\n{\n            'v': 1.9937694704049844,\n            'f': \"1.9937694704049844\",\n        }],\n [\"Now'n'Laters\",\n{\n            'v': 140,\n            'f': \"140\",\n        },\n{\n            'v': 8.722741433021806,\n            'f': \"8.722741433021806\",\n        }],\n [\"Peeps\",\n{\n            'v': 42,\n            'f': \"42\",\n        },\n{\n            'v': 2.6168224299065423,\n            'f': \"2.6168224299065423\",\n        }],\n [\"Pencils\",\n{\n            'v': 37,\n            'f': \"37\",\n        },\n{\n            'v': 2.3052959501557635,\n            'f': \"2.3052959501557635\",\n        }],\n [\"Pixy Stix\",\n{\n            'v': 50,\n            'f': \"50\",\n        },\n{\n            'v': 3.115264797507788,\n            'f': \"3.115264797507788\",\n        }],\n [\"Real Housewives of Orange County Season 9 Blue-Ray\",\n{\n            'v': 79,\n            'f': \"79\",\n        },\n{\n            'v': 4.922118380062305,\n            'f': \"4.922118380062305\",\n        }],\n [\"Reese\\u00d5s Peanut Butter Cups\",\n{\n            'v': 17,\n            'f': \"17\",\n        },\n{\n            'v': 1.0591900311526479,\n            'f': \"1.0591900311526479\",\n        }],\n [\"Reese's Pieces\",\n{\n            'v': 29,\n            'f': \"29\",\n        },\n{\n            'v': 1.8068535825545171,\n            'f': \"1.8068535825545171\",\n        }],\n [\"Reggie Jackson Bar\",\n{\n            'v': 323,\n            'f': \"323\",\n        },\n{\n            'v': 20.12461059190031,\n            'f': \"20.12461059190031\",\n        }],\n [\"Rolos\",\n{\n            'v': 47,\n            'f': \"47\",\n        },\n{\n            'v': 2.9283489096573208,\n            'f': \"2.9283489096573208\",\n        }],\n [\"Sandwich-sized bags filled with BooBerry Crunch\",\n{\n            'v': 97,\n            'f': \"97\",\n        },\n{\n            'v': 6.043613707165109,\n            'f': \"6.043613707165109\",\n        }],\n [\"Skittles\",\n{\n            'v': 38,\n            'f': \"38\",\n        },\n{\n            'v': 2.3676012461059193,\n            'f': \"2.3676012461059193\",\n        }],\n [\"Smarties (American)\",\n{\n            'v': 55,\n            'f': \"55\",\n        },\n{\n            'v': 3.4267912772585665,\n            'f': \"3.4267912772585665\",\n        }],\n [\"Smarties (Commonwealth)\",\n{\n            'v': 213,\n            'f': \"213\",\n        },\n{\n            'v': 13.271028037383179,\n            'f': \"13.271028037383179\",\n        }],\n [\"Snickers\",\n{\n            'v': 25,\n            'f': \"25\",\n        },\n{\n            'v': 1.557632398753894,\n            'f': \"1.557632398753894\",\n        }],\n [\"Sourpatch Kids (i.e. abominations of nature)\",\n{\n            'v': 70,\n            'f': \"70\",\n        },\n{\n            'v': 4.361370716510903,\n            'f': \"4.361370716510903\",\n        }],\n [\"Spotted Dick\",\n{\n            'v': 196,\n            'f': \"196\",\n        },\n{\n            'v': 12.21183800623053,\n            'f': \"12.21183800623053\",\n        }],\n [\"Starburst\",\n{\n            'v': 28,\n            'f': \"28\",\n        },\n{\n            'v': 1.7445482866043613,\n            'f': \"1.7445482866043613\",\n        }],\n [\"Sweet Tarts\",\n{\n            'v': 42,\n            'f': \"42\",\n        },\n{\n            'v': 2.6168224299065423,\n            'f': \"2.6168224299065423\",\n        }],\n [\"Swedish Fish\",\n{\n            'v': 47,\n            'f': \"47\",\n        },\n{\n            'v': 2.9283489096573208,\n            'f': \"2.9283489096573208\",\n        }],\n [\"Sweetums (a friend to diabetes)\",\n{\n            'v': 310,\n            'f': \"310\",\n        },\n{\n            'v': 19.314641744548286,\n            'f': \"19.314641744548286\",\n        }],\n [\"Take 5\",\n{\n            'v': 226,\n            'f': \"226\",\n        },\n{\n            'v': 14.080996884735203,\n            'f': \"14.080996884735203\",\n        }],\n [\"Tic Tacs\",\n{\n            'v': 44,\n            'f': \"44\",\n        },\n{\n            'v': 2.7414330218068534,\n            'f': \"2.7414330218068534\",\n        }],\n [\"Those odd marshmallow circus peanut things\",\n{\n            'v': 66,\n            'f': \"66\",\n        },\n{\n            'v': 4.112149532710281,\n            'f': \"4.112149532710281\",\n        }],\n [\"Three Musketeers\",\n{\n            'v': 44,\n            'f': \"44\",\n        },\n{\n            'v': 2.7414330218068534,\n            'f': \"2.7414330218068534\",\n        }],\n [\"Tolberone something or other\",\n{\n            'v': 37,\n            'f': \"37\",\n        },\n{\n            'v': 2.3052959501557635,\n            'f': \"2.3052959501557635\",\n        }],\n [\"Trail Mix\",\n{\n            'v': 41,\n            'f': \"41\",\n        },\n{\n            'v': 2.554517133956386,\n            'f': \"2.554517133956386\",\n        }],\n [\"Twix\",\n{\n            'v': 27,\n            'f': \"27\",\n        },\n{\n            'v': 1.6822429906542056,\n            'f': \"1.6822429906542056\",\n        }],\n [\"Vials of pure high fructose corn syrup, for main-lining into your vein\",\n{\n            'v': 115,\n            'f': \"115\",\n        },\n{\n            'v': 7.165109034267912,\n            'f': \"7.165109034267912\",\n        }],\n [\"Vicodin\",\n{\n            'v': 112,\n            'f': \"112\",\n        },\n{\n            'v': 6.978193146417445,\n            'f': \"6.978193146417445\",\n        }],\n [\"Whatchamacallit Bars\",\n{\n            'v': 136,\n            'f': \"136\",\n        },\n{\n            'v': 8.473520249221183,\n            'f': \"8.473520249221183\",\n        }],\n [\"White Bread\",\n{\n            'v': 79,\n            'f': \"79\",\n        },\n{\n            'v': 4.922118380062305,\n            'f': \"4.922118380062305\",\n        }],\n [\"Whole Wheat anything\",\n{\n            'v': 72,\n            'f': \"72\",\n        },\n{\n            'v': 4.485981308411215,\n            'f': \"4.485981308411215\",\n        }],\n [\"York Peppermint Patties\",\n{\n            'v': 36,\n            'f': \"36\",\n        },\n{\n            'v': 2.2429906542056073,\n            'f': \"2.2429906542056073\",\n        }],\n [\"DRESS\",\n{\n            'v': 27,\n            'f': \"27\",\n        },\n{\n            'v': 1.6822429906542056,\n            'f': \"1.6822429906542056\",\n        }],\n [\"DAY\",\n{\n            'v': 11,\n            'f': \"11\",\n        },\n{\n            'v': 0.6853582554517134,\n            'f': \"0.6853582554517134\",\n        }]],\n        columns: [[\"string\", \"columns\"], [\"number\", \"totalNans\"], [\"number\", \"percentages\"]],\n        columnOptions: [],\n        rowsPerPage: 20,\n        helpUrl: \"https://colab.research.google.com/notebooks/data_table.ipynb\",\n        suppressOutputScrolling: true,\n        minimumWidth: undefined,\n      });\n    ",
            "text/plain": [
              "<google.colab.data_table.DataTable object>"
            ]
          },
          "metadata": {},
          "execution_count": 21
        }
      ]
    },
    {
      "cell_type": "markdown",
      "source": [
        "logramos bajar a un 20.74% de datos vacios en la columna que tiene mas datos vacios"
      ],
      "metadata": {
        "id": "KARVeX4NbNVg"
      }
    },
    {
      "cell_type": "markdown",
      "source": [
        "## Género"
      ],
      "metadata": {
        "id": "K9ODlZzDCNq2"
      }
    },
    {
      "cell_type": "markdown",
      "source": [
        "checaremos cuantos no contestaron la pregunta de genero"
      ],
      "metadata": {
        "id": "p23MnTwybS62"
      }
    },
    {
      "cell_type": "code",
      "source": [
        "df['GENDER'].isna().sum()"
      ],
      "metadata": {
        "colab": {
          "base_uri": "https://localhost:8080/"
        },
        "id": "a72zal4Q4Udg",
        "outputId": "32499a43-31c0-47b8-f278-292fbe883e3d"
      },
      "execution_count": null,
      "outputs": [
        {
          "output_type": "execute_result",
          "data": {
            "text/plain": [
              "9"
            ]
          },
          "metadata": {},
          "execution_count": 22
        }
      ]
    },
    {
      "cell_type": "markdown",
      "source": [
        "Consideraremos si eliminamos los que no contestaron el genero, pero los dejaremos para después. Por eso no le hacemos un inplace=True o asignamos a la variable df"
      ],
      "metadata": {
        "id": "rNCYtWoybxxL"
      }
    },
    {
      "cell_type": "code",
      "source": [
        "df.dropna(subset=['GENDER'], axis=0)"
      ],
      "metadata": {
        "colab": {
          "base_uri": "https://localhost:8080/",
          "height": 1000
        },
        "id": "F4pFFWsMpb_H",
        "outputId": "70a91e64-7758-47d7-becb-b32e9f458e7d"
      },
      "execution_count": null,
      "outputs": [
        {
          "output_type": "stream",
          "name": "stdout",
          "text": [
            "Warning: Total number of columns (110) exceeds max_columns (20). Falling back to pandas display.\n"
          ]
        },
        {
          "output_type": "execute_result",
          "data": {
            "text/plain": [
              "     GOING OUT?  GENDER  AGE COUNTRY STATE, PROVINCE, COUNTY, ETC  \\\n",
              "1            No    Male   44    USA                            NM   \n",
              "3            No    Male   40      us                           or   \n",
              "4            No    Male   23     usa                     exton pa   \n",
              "5            No    Male  NaN     NaN                          NaN   \n",
              "7            No    Male   33  canada                      ontario   \n",
              "...         ...     ...  ...     ...                          ...   \n",
              "2453         No  Female   40  canada                           bc   \n",
              "2454         No  Female   26     USA                     Michigan   \n",
              "2456         No  Female   33     USA                     New York   \n",
              "2457         No  Female   26    USA                     Tennessee   \n",
              "2459         No  Female   66     usa                 Pennsylvania   \n",
              "\n",
              "     100 Grand Bar  \\\n",
              "1              MEH   \n",
              "3              MEH   \n",
              "4              JOY   \n",
              "5              JOY   \n",
              "7              JOY   \n",
              "...            ...   \n",
              "2453           MEH   \n",
              "2454           JOY   \n",
              "2456           MEH   \n",
              "2457           MEH   \n",
              "2459       DESPAIR   \n",
              "\n",
              "     Anonymous brown globs that come in black and orange wrappers\\t(a.k.a. Mary Janes)  \\\n",
              "1                                               DESPAIR                                  \n",
              "3                                               DESPAIR                                  \n",
              "4                                               DESPAIR                                  \n",
              "5                                               DESPAIR                                  \n",
              "7                                               DESPAIR                                  \n",
              "...                                                 ...                                  \n",
              "2453                                            DESPAIR                                  \n",
              "2454                                                MEH                                  \n",
              "2456                                            DESPAIR                                  \n",
              "2457                                            DESPAIR                                  \n",
              "2459                                            DESPAIR                                  \n",
              "\n",
              "     Any full-sized candy bar Black Jacks Bonkers (the candy)  ... Trail Mix  \\\n",
              "1                         JOY         MEH             DESPAIR  ...   DESPAIR   \n",
              "3                         JOY         MEH                 MEH  ...       MEH   \n",
              "4                         JOY     DESPAIR                 MEH  ...   DESPAIR   \n",
              "5                         JOY         NaN                 NaN  ...       MEH   \n",
              "7                         JOY     DESPAIR             DESPAIR  ...   DESPAIR   \n",
              "...                       ...         ...                 ...  ...       ...   \n",
              "2453                      JOY     DESPAIR                 MEH  ...   DESPAIR   \n",
              "2454                      JOY     DESPAIR                 MEH  ...       JOY   \n",
              "2456                      JOY         NaN                 NaN  ...   DESPAIR   \n",
              "2457                      JOY     DESPAIR                 MEH  ...       MEH   \n",
              "2459                      JOY     DESPAIR             DESPAIR  ...   DESPAIR   \n",
              "\n",
              "         Twix  \\\n",
              "1         JOY   \n",
              "3         JOY   \n",
              "4         JOY   \n",
              "5         JOY   \n",
              "7         JOY   \n",
              "...       ...   \n",
              "2453      JOY   \n",
              "2454      JOY   \n",
              "2456      JOY   \n",
              "2457      MEH   \n",
              "2459  DESPAIR   \n",
              "\n",
              "     Vials of pure high fructose corn syrup, for main-lining into your vein  \\\n",
              "1                                               DESPAIR                       \n",
              "3                                               DESPAIR                       \n",
              "4                                                   MEH                       \n",
              "5                                               DESPAIR                       \n",
              "7                                                   JOY                       \n",
              "...                                                 ...                       \n",
              "2453                                            DESPAIR                       \n",
              "2454                                                MEH                       \n",
              "2456                                                NaN                       \n",
              "2457                                                MEH                       \n",
              "2459                                            DESPAIR                       \n",
              "\n",
              "      Vicodin Whatchamacallit Bars White Bread Whole Wheat anything  \\\n",
              "1     DESPAIR              DESPAIR     DESPAIR              DESPAIR   \n",
              "3         JOY                  JOY     DESPAIR              DESPAIR   \n",
              "4         JOY                  JOY     DESPAIR              DESPAIR   \n",
              "5     DESPAIR                  JOY     DESPAIR              DESPAIR   \n",
              "7         MEH              DESPAIR     DESPAIR              DESPAIR   \n",
              "...       ...                  ...         ...                  ...   \n",
              "2453  DESPAIR                  NaN     DESPAIR              DESPAIR   \n",
              "2454      MEH                  JOY         MEH                  MEH   \n",
              "2456      NaN                  JOY     DESPAIR                  MEH   \n",
              "2457      JOY                  MEH     DESPAIR              DESPAIR   \n",
              "2459      JOY              DESPAIR         MEH              DESPAIR   \n",
              "\n",
              "     York Peppermint Patties           DRESS     DAY  \n",
              "1                    DESPAIR  White and gold  Sunday  \n",
              "3                    DESPAIR  White and gold  Sunday  \n",
              "4                        JOY  White and gold  Friday  \n",
              "5                        JOY             NaN     NaN  \n",
              "7                    DESPAIR  Blue and black  Friday  \n",
              "...                      ...             ...     ...  \n",
              "2453                     JOY  White and gold  Sunday  \n",
              "2454                     JOY  White and gold  Friday  \n",
              "2456                     JOY  Blue and black  Friday  \n",
              "2457                     MEH  Blue and black  Friday  \n",
              "2459                     JOY  White and gold  Sunday  \n",
              "\n",
              "[1596 rows x 110 columns]"
            ],
            "text/html": [
              "\n",
              "  <div id=\"df-40adefcb-ab58-499c-afce-8ff3b4f38a0e\">\n",
              "    <div class=\"colab-df-container\">\n",
              "      <div>\n",
              "<style scoped>\n",
              "    .dataframe tbody tr th:only-of-type {\n",
              "        vertical-align: middle;\n",
              "    }\n",
              "\n",
              "    .dataframe tbody tr th {\n",
              "        vertical-align: top;\n",
              "    }\n",
              "\n",
              "    .dataframe thead th {\n",
              "        text-align: right;\n",
              "    }\n",
              "</style>\n",
              "<table border=\"1\" class=\"dataframe\">\n",
              "  <thead>\n",
              "    <tr style=\"text-align: right;\">\n",
              "      <th></th>\n",
              "      <th>GOING OUT?</th>\n",
              "      <th>GENDER</th>\n",
              "      <th>AGE</th>\n",
              "      <th>COUNTRY</th>\n",
              "      <th>STATE, PROVINCE, COUNTY, ETC</th>\n",
              "      <th>100 Grand Bar</th>\n",
              "      <th>Anonymous brown globs that come in black and orange wrappers\\t(a.k.a. Mary Janes)</th>\n",
              "      <th>Any full-sized candy bar</th>\n",
              "      <th>Black Jacks</th>\n",
              "      <th>Bonkers (the candy)</th>\n",
              "      <th>...</th>\n",
              "      <th>Trail Mix</th>\n",
              "      <th>Twix</th>\n",
              "      <th>Vials of pure high fructose corn syrup, for main-lining into your vein</th>\n",
              "      <th>Vicodin</th>\n",
              "      <th>Whatchamacallit Bars</th>\n",
              "      <th>White Bread</th>\n",
              "      <th>Whole Wheat anything</th>\n",
              "      <th>York Peppermint Patties</th>\n",
              "      <th>DRESS</th>\n",
              "      <th>DAY</th>\n",
              "    </tr>\n",
              "  </thead>\n",
              "  <tbody>\n",
              "    <tr>\n",
              "      <th>1</th>\n",
              "      <td>No</td>\n",
              "      <td>Male</td>\n",
              "      <td>44</td>\n",
              "      <td>USA</td>\n",
              "      <td>NM</td>\n",
              "      <td>MEH</td>\n",
              "      <td>DESPAIR</td>\n",
              "      <td>JOY</td>\n",
              "      <td>MEH</td>\n",
              "      <td>DESPAIR</td>\n",
              "      <td>...</td>\n",
              "      <td>DESPAIR</td>\n",
              "      <td>JOY</td>\n",
              "      <td>DESPAIR</td>\n",
              "      <td>DESPAIR</td>\n",
              "      <td>DESPAIR</td>\n",
              "      <td>DESPAIR</td>\n",
              "      <td>DESPAIR</td>\n",
              "      <td>DESPAIR</td>\n",
              "      <td>White and gold</td>\n",
              "      <td>Sunday</td>\n",
              "    </tr>\n",
              "    <tr>\n",
              "      <th>3</th>\n",
              "      <td>No</td>\n",
              "      <td>Male</td>\n",
              "      <td>40</td>\n",
              "      <td>us</td>\n",
              "      <td>or</td>\n",
              "      <td>MEH</td>\n",
              "      <td>DESPAIR</td>\n",
              "      <td>JOY</td>\n",
              "      <td>MEH</td>\n",
              "      <td>MEH</td>\n",
              "      <td>...</td>\n",
              "      <td>MEH</td>\n",
              "      <td>JOY</td>\n",
              "      <td>DESPAIR</td>\n",
              "      <td>JOY</td>\n",
              "      <td>JOY</td>\n",
              "      <td>DESPAIR</td>\n",
              "      <td>DESPAIR</td>\n",
              "      <td>DESPAIR</td>\n",
              "      <td>White and gold</td>\n",
              "      <td>Sunday</td>\n",
              "    </tr>\n",
              "    <tr>\n",
              "      <th>4</th>\n",
              "      <td>No</td>\n",
              "      <td>Male</td>\n",
              "      <td>23</td>\n",
              "      <td>usa</td>\n",
              "      <td>exton pa</td>\n",
              "      <td>JOY</td>\n",
              "      <td>DESPAIR</td>\n",
              "      <td>JOY</td>\n",
              "      <td>DESPAIR</td>\n",
              "      <td>MEH</td>\n",
              "      <td>...</td>\n",
              "      <td>DESPAIR</td>\n",
              "      <td>JOY</td>\n",
              "      <td>MEH</td>\n",
              "      <td>JOY</td>\n",
              "      <td>JOY</td>\n",
              "      <td>DESPAIR</td>\n",
              "      <td>DESPAIR</td>\n",
              "      <td>JOY</td>\n",
              "      <td>White and gold</td>\n",
              "      <td>Friday</td>\n",
              "    </tr>\n",
              "    <tr>\n",
              "      <th>5</th>\n",
              "      <td>No</td>\n",
              "      <td>Male</td>\n",
              "      <td>NaN</td>\n",
              "      <td>NaN</td>\n",
              "      <td>NaN</td>\n",
              "      <td>JOY</td>\n",
              "      <td>DESPAIR</td>\n",
              "      <td>JOY</td>\n",
              "      <td>NaN</td>\n",
              "      <td>NaN</td>\n",
              "      <td>...</td>\n",
              "      <td>MEH</td>\n",
              "      <td>JOY</td>\n",
              "      <td>DESPAIR</td>\n",
              "      <td>DESPAIR</td>\n",
              "      <td>JOY</td>\n",
              "      <td>DESPAIR</td>\n",
              "      <td>DESPAIR</td>\n",
              "      <td>JOY</td>\n",
              "      <td>NaN</td>\n",
              "      <td>NaN</td>\n",
              "    </tr>\n",
              "    <tr>\n",
              "      <th>7</th>\n",
              "      <td>No</td>\n",
              "      <td>Male</td>\n",
              "      <td>33</td>\n",
              "      <td>canada</td>\n",
              "      <td>ontario</td>\n",
              "      <td>JOY</td>\n",
              "      <td>DESPAIR</td>\n",
              "      <td>JOY</td>\n",
              "      <td>DESPAIR</td>\n",
              "      <td>DESPAIR</td>\n",
              "      <td>...</td>\n",
              "      <td>DESPAIR</td>\n",
              "      <td>JOY</td>\n",
              "      <td>JOY</td>\n",
              "      <td>MEH</td>\n",
              "      <td>DESPAIR</td>\n",
              "      <td>DESPAIR</td>\n",
              "      <td>DESPAIR</td>\n",
              "      <td>DESPAIR</td>\n",
              "      <td>Blue and black</td>\n",
              "      <td>Friday</td>\n",
              "    </tr>\n",
              "    <tr>\n",
              "      <th>...</th>\n",
              "      <td>...</td>\n",
              "      <td>...</td>\n",
              "      <td>...</td>\n",
              "      <td>...</td>\n",
              "      <td>...</td>\n",
              "      <td>...</td>\n",
              "      <td>...</td>\n",
              "      <td>...</td>\n",
              "      <td>...</td>\n",
              "      <td>...</td>\n",
              "      <td>...</td>\n",
              "      <td>...</td>\n",
              "      <td>...</td>\n",
              "      <td>...</td>\n",
              "      <td>...</td>\n",
              "      <td>...</td>\n",
              "      <td>...</td>\n",
              "      <td>...</td>\n",
              "      <td>...</td>\n",
              "      <td>...</td>\n",
              "      <td>...</td>\n",
              "    </tr>\n",
              "    <tr>\n",
              "      <th>2453</th>\n",
              "      <td>No</td>\n",
              "      <td>Female</td>\n",
              "      <td>40</td>\n",
              "      <td>canada</td>\n",
              "      <td>bc</td>\n",
              "      <td>MEH</td>\n",
              "      <td>DESPAIR</td>\n",
              "      <td>JOY</td>\n",
              "      <td>DESPAIR</td>\n",
              "      <td>MEH</td>\n",
              "      <td>...</td>\n",
              "      <td>DESPAIR</td>\n",
              "      <td>JOY</td>\n",
              "      <td>DESPAIR</td>\n",
              "      <td>DESPAIR</td>\n",
              "      <td>NaN</td>\n",
              "      <td>DESPAIR</td>\n",
              "      <td>DESPAIR</td>\n",
              "      <td>JOY</td>\n",
              "      <td>White and gold</td>\n",
              "      <td>Sunday</td>\n",
              "    </tr>\n",
              "    <tr>\n",
              "      <th>2454</th>\n",
              "      <td>No</td>\n",
              "      <td>Female</td>\n",
              "      <td>26</td>\n",
              "      <td>USA</td>\n",
              "      <td>Michigan</td>\n",
              "      <td>JOY</td>\n",
              "      <td>MEH</td>\n",
              "      <td>JOY</td>\n",
              "      <td>DESPAIR</td>\n",
              "      <td>MEH</td>\n",
              "      <td>...</td>\n",
              "      <td>JOY</td>\n",
              "      <td>JOY</td>\n",
              "      <td>MEH</td>\n",
              "      <td>MEH</td>\n",
              "      <td>JOY</td>\n",
              "      <td>MEH</td>\n",
              "      <td>MEH</td>\n",
              "      <td>JOY</td>\n",
              "      <td>White and gold</td>\n",
              "      <td>Friday</td>\n",
              "    </tr>\n",
              "    <tr>\n",
              "      <th>2456</th>\n",
              "      <td>No</td>\n",
              "      <td>Female</td>\n",
              "      <td>33</td>\n",
              "      <td>USA</td>\n",
              "      <td>New York</td>\n",
              "      <td>MEH</td>\n",
              "      <td>DESPAIR</td>\n",
              "      <td>JOY</td>\n",
              "      <td>NaN</td>\n",
              "      <td>NaN</td>\n",
              "      <td>...</td>\n",
              "      <td>DESPAIR</td>\n",
              "      <td>JOY</td>\n",
              "      <td>NaN</td>\n",
              "      <td>NaN</td>\n",
              "      <td>JOY</td>\n",
              "      <td>DESPAIR</td>\n",
              "      <td>MEH</td>\n",
              "      <td>JOY</td>\n",
              "      <td>Blue and black</td>\n",
              "      <td>Friday</td>\n",
              "    </tr>\n",
              "    <tr>\n",
              "      <th>2457</th>\n",
              "      <td>No</td>\n",
              "      <td>Female</td>\n",
              "      <td>26</td>\n",
              "      <td>USA</td>\n",
              "      <td>Tennessee</td>\n",
              "      <td>MEH</td>\n",
              "      <td>DESPAIR</td>\n",
              "      <td>JOY</td>\n",
              "      <td>DESPAIR</td>\n",
              "      <td>MEH</td>\n",
              "      <td>...</td>\n",
              "      <td>MEH</td>\n",
              "      <td>MEH</td>\n",
              "      <td>MEH</td>\n",
              "      <td>JOY</td>\n",
              "      <td>MEH</td>\n",
              "      <td>DESPAIR</td>\n",
              "      <td>DESPAIR</td>\n",
              "      <td>MEH</td>\n",
              "      <td>Blue and black</td>\n",
              "      <td>Friday</td>\n",
              "    </tr>\n",
              "    <tr>\n",
              "      <th>2459</th>\n",
              "      <td>No</td>\n",
              "      <td>Female</td>\n",
              "      <td>66</td>\n",
              "      <td>usa</td>\n",
              "      <td>Pennsylvania</td>\n",
              "      <td>DESPAIR</td>\n",
              "      <td>DESPAIR</td>\n",
              "      <td>JOY</td>\n",
              "      <td>DESPAIR</td>\n",
              "      <td>DESPAIR</td>\n",
              "      <td>...</td>\n",
              "      <td>DESPAIR</td>\n",
              "      <td>DESPAIR</td>\n",
              "      <td>DESPAIR</td>\n",
              "      <td>JOY</td>\n",
              "      <td>DESPAIR</td>\n",
              "      <td>MEH</td>\n",
              "      <td>DESPAIR</td>\n",
              "      <td>JOY</td>\n",
              "      <td>White and gold</td>\n",
              "      <td>Sunday</td>\n",
              "    </tr>\n",
              "  </tbody>\n",
              "</table>\n",
              "<p>1596 rows × 110 columns</p>\n",
              "</div>\n",
              "      <button class=\"colab-df-convert\" onclick=\"convertToInteractive('df-40adefcb-ab58-499c-afce-8ff3b4f38a0e')\"\n",
              "              title=\"Convert this dataframe to an interactive table.\"\n",
              "              style=\"display:none;\">\n",
              "        \n",
              "  <svg xmlns=\"http://www.w3.org/2000/svg\" height=\"24px\"viewBox=\"0 0 24 24\"\n",
              "       width=\"24px\">\n",
              "    <path d=\"M0 0h24v24H0V0z\" fill=\"none\"/>\n",
              "    <path d=\"M18.56 5.44l.94 2.06.94-2.06 2.06-.94-2.06-.94-.94-2.06-.94 2.06-2.06.94zm-11 1L8.5 8.5l.94-2.06 2.06-.94-2.06-.94L8.5 2.5l-.94 2.06-2.06.94zm10 10l.94 2.06.94-2.06 2.06-.94-2.06-.94-.94-2.06-.94 2.06-2.06.94z\"/><path d=\"M17.41 7.96l-1.37-1.37c-.4-.4-.92-.59-1.43-.59-.52 0-1.04.2-1.43.59L10.3 9.45l-7.72 7.72c-.78.78-.78 2.05 0 2.83L4 21.41c.39.39.9.59 1.41.59.51 0 1.02-.2 1.41-.59l7.78-7.78 2.81-2.81c.8-.78.8-2.07 0-2.86zM5.41 20L4 18.59l7.72-7.72 1.47 1.35L5.41 20z\"/>\n",
              "  </svg>\n",
              "      </button>\n",
              "      \n",
              "  <style>\n",
              "    .colab-df-container {\n",
              "      display:flex;\n",
              "      flex-wrap:wrap;\n",
              "      gap: 12px;\n",
              "    }\n",
              "\n",
              "    .colab-df-convert {\n",
              "      background-color: #E8F0FE;\n",
              "      border: none;\n",
              "      border-radius: 50%;\n",
              "      cursor: pointer;\n",
              "      display: none;\n",
              "      fill: #1967D2;\n",
              "      height: 32px;\n",
              "      padding: 0 0 0 0;\n",
              "      width: 32px;\n",
              "    }\n",
              "\n",
              "    .colab-df-convert:hover {\n",
              "      background-color: #E2EBFA;\n",
              "      box-shadow: 0px 1px 2px rgba(60, 64, 67, 0.3), 0px 1px 3px 1px rgba(60, 64, 67, 0.15);\n",
              "      fill: #174EA6;\n",
              "    }\n",
              "\n",
              "    [theme=dark] .colab-df-convert {\n",
              "      background-color: #3B4455;\n",
              "      fill: #D2E3FC;\n",
              "    }\n",
              "\n",
              "    [theme=dark] .colab-df-convert:hover {\n",
              "      background-color: #434B5C;\n",
              "      box-shadow: 0px 1px 3px 1px rgba(0, 0, 0, 0.15);\n",
              "      filter: drop-shadow(0px 1px 2px rgba(0, 0, 0, 0.3));\n",
              "      fill: #FFFFFF;\n",
              "    }\n",
              "  </style>\n",
              "\n",
              "      <script>\n",
              "        const buttonEl =\n",
              "          document.querySelector('#df-40adefcb-ab58-499c-afce-8ff3b4f38a0e button.colab-df-convert');\n",
              "        buttonEl.style.display =\n",
              "          google.colab.kernel.accessAllowed ? 'block' : 'none';\n",
              "\n",
              "        async function convertToInteractive(key) {\n",
              "          const element = document.querySelector('#df-40adefcb-ab58-499c-afce-8ff3b4f38a0e');\n",
              "          const dataTable =\n",
              "            await google.colab.kernel.invokeFunction('convertToInteractive',\n",
              "                                                     [key], {});\n",
              "          if (!dataTable) return;\n",
              "\n",
              "          const docLinkHtml = 'Like what you see? Visit the ' +\n",
              "            '<a target=\"_blank\" href=https://colab.research.google.com/notebooks/data_table.ipynb>data table notebook</a>'\n",
              "            + ' to learn more about interactive tables.';\n",
              "          element.innerHTML = '';\n",
              "          dataTable['output_type'] = 'display_data';\n",
              "          await google.colab.output.renderOutput(dataTable, element);\n",
              "          const docLink = document.createElement('div');\n",
              "          docLink.innerHTML = docLinkHtml;\n",
              "          element.appendChild(docLink);\n",
              "        }\n",
              "      </script>\n",
              "    </div>\n",
              "  </div>\n",
              "  "
            ]
          },
          "metadata": {},
          "execution_count": 23
        }
      ]
    },
    {
      "cell_type": "markdown",
      "source": [
        "## Respuestas JOY, MEH, DESPAIR en columnas de \"Q6 |\""
      ],
      "metadata": {
        "id": "ysm0zzbdCW-3"
      }
    },
    {
      "cell_type": "markdown",
      "source": [
        "Obtenemos todas las columnas que pertenecen a la pregunta 6. La cual es de opcion multiple y tiene 3 opciones: 'JOY','MEH','DESPAIR'"
      ],
      "metadata": {
        "id": "E9lUQww4cB7j"
      }
    },
    {
      "cell_type": "code",
      "source": [
        "columnas_pregunta_6 = df.columns[5:-2]"
      ],
      "metadata": {
        "id": "ILzhKsBGpb8U"
      },
      "execution_count": null,
      "outputs": []
    },
    {
      "cell_type": "markdown",
      "source": [
        "Creamos una función que nos da los valores únicos de respuesta y los transforma en un diccionario para utilizar la función map posteriormente\n",
        "\n",
        "\n"
      ],
      "metadata": {
        "id": "erD53DvIcVrX"
      }
    },
    {
      "cell_type": "code",
      "source": [
        "def column_to_dictionary(column) :\n",
        "  dictionary = pd.DataFrame(column.unique().tolist()).to_dict()[0]\n",
        "  return {x:y for y, x in dictionary.items()}"
      ],
      "metadata": {
        "id": "4ECX2JfM6EZU"
      },
      "execution_count": null,
      "outputs": []
    },
    {
      "cell_type": "markdown",
      "source": [
        "Transformamos las respuestas de la pregunta 6 en un diccionario"
      ],
      "metadata": {
        "id": "TI61gsvE6Ezq"
      }
    },
    {
      "cell_type": "code",
      "source": [
        "series_name = column_to_dictionary(df[df.columns[5]])\n",
        "series_name"
      ],
      "metadata": {
        "colab": {
          "base_uri": "https://localhost:8080/"
        },
        "id": "ax2GsC7q8pH3",
        "outputId": "8e8dd487-b51c-44c4-9199-e9c086d63ef6"
      },
      "execution_count": null,
      "outputs": [
        {
          "output_type": "execute_result",
          "data": {
            "text/plain": [
              "{'MEH': 0, 'JOY': 1, nan: 2, 'DESPAIR': 3}"
            ]
          },
          "metadata": {},
          "execution_count": 26
        }
      ]
    },
    {
      "cell_type": "markdown",
      "source": [
        "observamos que quedan nan en la columna"
      ],
      "metadata": {
        "id": "-TBKfAuMcgdB"
      }
    },
    {
      "cell_type": "code",
      "source": [
        "len(df)"
      ],
      "metadata": {
        "colab": {
          "base_uri": "https://localhost:8080/"
        },
        "id": "psgyyghM-ION",
        "outputId": "ddf09874-a08f-47c5-b08c-470ce099df7d"
      },
      "execution_count": null,
      "outputs": [
        {
          "output_type": "execute_result",
          "data": {
            "text/plain": [
              "1605"
            ]
          },
          "metadata": {},
          "execution_count": 27
        }
      ]
    },
    {
      "cell_type": "markdown",
      "source": [
        "creamos una funcion que cuenta cuantos joy, meh, despair y vacios tiene cada columna que le pasemos"
      ],
      "metadata": {
        "id": "oeQ15fD-cwgT"
      }
    },
    {
      "cell_type": "code",
      "source": [
        "def column_values_count(column_name) :\n",
        "  joy = [i == 'JOY'  for i in df[column_name]].count(True)\n",
        "  meh = [i == 'MEH' for i in df[column_name]].count(True)\n",
        "  despair = [i == 'DESPAIR' for i in df[column_name]].count(True)\n",
        "  nan = len(df) - joy - meh - despair\n",
        "  print(column_name, joy, meh, despair, nan, len(df), max([joy, meh, despair]))"
      ],
      "metadata": {
        "id": "P-XZWccQ6EW7"
      },
      "execution_count": null,
      "outputs": []
    },
    {
      "cell_type": "markdown",
      "source": [
        "hacemos un ciclo con todas las columnas de la pregunta 6 para analizar los datos de joy, meh, despair, para ver si encontramos patrones y saber que hacer con los datos"
      ],
      "metadata": {
        "id": "5Njcyt_ac4hU"
      }
    },
    {
      "cell_type": "code",
      "source": [
        "for i in columnas_pregunta_6 :\n",
        "  column_values_count(i)"
      ],
      "metadata": {
        "colab": {
          "base_uri": "https://localhost:8080/"
        },
        "id": "L5WiCs4t6EUj",
        "outputId": "4c75854a-c2e9-42da-830f-a8f51b97853d"
      },
      "execution_count": null,
      "outputs": [
        {
          "output_type": "stream",
          "name": "stdout",
          "text": [
            "100 Grand Bar 777 674 72 82 1605 777\n",
            "Anonymous brown globs that come in black and orange wrappers\t(a.k.a. Mary Janes) 151 404 980 70 1605 980\n",
            "Any full-sized candy bar 1395 182 14 14 1605 1395\n",
            "Black Jacks 83 544 704 274 1605 704\n",
            "Bonkers (the candy) 102 771 432 300 1605 771\n",
            "Bonkers (the board game) 179 629 487 310 1605 629\n",
            "Bottle Caps 408 602 504 91 1605 602\n",
            "Box'o'Raisins 98 427 1058 22 1605 1058\n",
            "Broken glow stick 22 91 1454 38 1605 1454\n",
            "Butterfinger 1040 412 130 23 1605 1040\n",
            "Cadbury Creme Eggs 742 489 353 21 1605 742\n",
            "Candy Corn 431 500 658 16 1605 658\n",
            "Candy that is clearly just the stuff given out for free at restaurants 37 357 1187 24 1605 1187\n",
            "Caramellos 846 532 145 82 1605 846\n",
            "Cash, or other forms of legal tender 1286 242 57 20 1605 1286\n",
            "Chardonnay 938 316 276 75 1605 938\n",
            "Chick-o-Sticks (we donÕt know what that is) 261 506 577 261 1605 577\n",
            "Chiclets 222 664 677 42 1605 677\n",
            "Coffee Crisp 424 520 484 177 1605 520\n",
            "Creepy Religious comics/Chick Tracts 213 94 1261 37 1605 1261\n",
            "Dental paraphenalia 78 213 1286 28 1605 1286\n",
            "Dots 362 593 593 57 1605 593\n",
            "Dove Bars 1054 419 93 39 1605 1054\n",
            "Fuzzy Peaches 356 495 606 148 1605 606\n",
            "Generic Brand Acetaminophen 140 354 1052 59 1605 1052\n",
            "Glow sticks 549 635 388 33 1605 635\n",
            "Goo Goo Clusters 371 627 411 196 1605 627\n",
            "Good N' Plenty 368 516 656 65 1605 656\n",
            "Gum from baseball cards 39 207 1309 50 1605 1309\n",
            "Gummy Bears straight up 663 527 387 28 1605 663\n",
            "Hard Candy 248 812 518 27 1605 812\n",
            "Healthy Fruit 198 609 765 33 1605 765\n",
            "Heath Bar 952 414 190 49 1605 952\n",
            "Hershey's Dark Chocolate 988 446 160 11 1605 988\n",
            "HersheyÕs Milk Chocolate 803 596 196 10 1605 803\n",
            "Hershey's Kisses 748 650 192 15 1605 748\n",
            "Hugs (actual physical hugs) 388 379 793 45 1605 793\n",
            "Jolly Rancher (bad flavor) 87 533 956 29 1605 956\n",
            "Jolly Ranchers (good flavor) 667 569 339 30 1605 667\n",
            "JoyJoy (Mit Iodine!) 67 354 851 333 1605 851\n",
            "Junior Mints 916 436 220 33 1605 916\n",
            "Senior Mints 141 415 798 251 1605 798\n",
            "Kale smoothie 89 146 1296 74 1605 1296\n",
            "Kinder Happy Hippo 454 388 505 258 1605 505\n",
            "Kit Kat 1287 257 48 13 1605 1287\n",
            "LaffyTaffy 395 652 491 67 1605 652\n",
            "LemonHeads 589 623 330 63 1605 623\n",
            "Licorice (not black) 492 636 456 21 1605 636\n",
            "Licorice (yes black) 481 297 806 21 1605 806\n",
            "Lindt Truffle 1141 330 84 50 1605 1141\n",
            "Lollipops 326 847 407 25 1605 847\n",
            "Mars 917 520 113 55 1605 917\n",
            "Maynards 135 625 517 328 1605 625\n",
            "Mike and Ike 480 585 483 57 1605 585\n",
            "Milk Duds 781 576 219 29 1605 781\n",
            "Milky Way 1069 420 90 26 1605 1069\n",
            "Regular M&Ms 1003 520 68 14 1605 1003\n",
            "Peanut M&MÕs 1148 332 114 11 1605 1148\n",
            "Blue M&M's 917 524 105 59 1605 917\n",
            "Red M&M's 898 532 114 61 1605 898\n",
            "Green Party M&M's 867 518 124 96 1605 867\n",
            "Independent M&M's 680 552 234 139 1605 680\n",
            "Abstained from M&M'ing. 198 532 619 256 1605 619\n",
            "Minibags of chips 484 677 390 54 1605 677\n",
            "Mint Kisses 557 568 376 104 1605 568\n",
            "Mint Juleps 817 296 363 129 1605 817\n",
            "Mr. Goodbar 767 575 195 68 1605 767\n",
            "Necco Wafers 308 509 716 72 1605 716\n",
            "Nerds 690 543 320 52 1605 690\n",
            "Nestle Crunch 1063 418 92 32 1605 1063\n",
            "Now'n'Laters 317 658 490 140 1605 658\n",
            "Peeps 216 382 965 42 1605 965\n",
            "Pencils 163 435 970 37 1605 970\n",
            "Pixy Stix 489 580 486 50 1605 580\n",
            "Real Housewives of Orange County Season 9 Blue-Ray 79 122 1325 79 1605 1325\n",
            "ReeseÕs Peanut Butter Cups 1329 168 91 17 1605 1329\n",
            "Reese's Pieces 1003 413 160 29 1605 1003\n",
            "Reggie Jackson Bar 229 627 426 323 1605 627\n",
            "Rolos 1023 409 126 47 1605 1023\n",
            "Sandwich-sized bags filled with BooBerry Crunch 185 291 1032 97 1605 1032\n",
            "Skittles 744 540 283 38 1605 744\n",
            "Smarties (American) 653 515 382 55 1605 653\n",
            "Smarties (Commonwealth) 491 537 364 213 1605 537\n",
            "Snickers 1254 258 68 25 1605 1254\n",
            "Sourpatch Kids (i.e. abominations of nature) 678 403 454 70 1605 678\n",
            "Spotted Dick 110 277 1022 196 1605 1022\n",
            "Starburst 767 546 264 28 1605 767\n",
            "Sweet Tarts 708 539 316 42 1605 708\n",
            "Swedish Fish 666 486 406 47 1605 666\n",
            "Sweetums (a friend to diabetes) 138 492 665 310 1605 665\n",
            "Take 5 518 550 311 226 1605 550\n",
            "Tic Tacs 237 648 676 44 1605 676\n",
            "Those odd marshmallow circus peanut things 167 247 1125 66 1605 1125\n",
            "Three Musketeers 949 461 151 44 1605 949\n",
            "Tolberone something or other 1187 307 74 37 1605 1187\n",
            "Trail Mix 193 617 754 41 1605 754\n",
            "Twix 1263 249 66 27 1605 1263\n",
            "Vials of pure high fructose corn syrup, for main-lining into your vein 206 259 1025 115 1605 1025\n",
            "Vicodin 647 211 635 112 1605 647\n",
            "Whatchamacallit Bars 752 461 256 136 1605 752\n",
            "White Bread 37 184 1305 79 1605 1305\n",
            "Whole Wheat anything 95 287 1151 72 1605 1151\n",
            "York Peppermint Patties 986 376 207 36 1605 986\n"
          ]
        }
      ]
    },
    {
      "cell_type": "markdown",
      "source": [
        "Como no encontramos patrones visiblemente, decidimos crear una nueva clasificacion llamada NC (No Contestó), para no alterar los datos y llenamos los NaN con esta nueva clasificación"
      ],
      "metadata": {
        "id": "UWmkUrCe_SsC"
      }
    },
    {
      "cell_type": "code",
      "source": [
        "df2 = df.copy()"
      ],
      "metadata": {
        "id": "lpEsvXIQ6ER3"
      },
      "execution_count": null,
      "outputs": []
    },
    {
      "cell_type": "code",
      "source": [
        "df2[df2.columns[5:-2]] = df2[df2.columns[5:-2]].fillna(\"NC\")"
      ],
      "metadata": {
        "id": "Ld5cbIsk_lWp"
      },
      "execution_count": null,
      "outputs": []
    },
    {
      "cell_type": "code",
      "source": [
        "df = df2.copy()"
      ],
      "metadata": {
        "id": "68p4uFwb__px"
      },
      "execution_count": null,
      "outputs": []
    },
    {
      "cell_type": "markdown",
      "source": [
        "para la pregunta 6 ya no hay vacios"
      ],
      "metadata": {
        "id": "aWiopaBAdTgB"
      }
    },
    {
      "cell_type": "code",
      "source": [
        "porcentaje_vacios()"
      ],
      "metadata": {
        "colab": {
          "base_uri": "https://localhost:8080/",
          "height": 525
        },
        "id": "D1_0VSOE_y2_",
        "outputId": "8cc088af-bbba-4c31-e989-2a3271cbfa35"
      },
      "execution_count": null,
      "outputs": [
        {
          "output_type": "execute_result",
          "data": {
            "text/html": [
              "<div>\n",
              "<style scoped>\n",
              "    .dataframe tbody tr th:only-of-type {\n",
              "        vertical-align: middle;\n",
              "    }\n",
              "\n",
              "    .dataframe tbody tr th {\n",
              "        vertical-align: top;\n",
              "    }\n",
              "\n",
              "    .dataframe thead th {\n",
              "        text-align: right;\n",
              "    }\n",
              "</style>\n",
              "<table border=\"1\" class=\"dataframe\">\n",
              "  <thead>\n",
              "    <tr style=\"text-align: right;\">\n",
              "      <th></th>\n",
              "      <th>columns</th>\n",
              "      <th>totalNans</th>\n",
              "      <th>percentages</th>\n",
              "    </tr>\n",
              "  </thead>\n",
              "  <tbody>\n",
              "    <tr>\n",
              "      <th>GOING OUT?</th>\n",
              "      <td>GOING OUT?</td>\n",
              "      <td>53</td>\n",
              "      <td>3.302181</td>\n",
              "    </tr>\n",
              "    <tr>\n",
              "      <th>GENDER</th>\n",
              "      <td>GENDER</td>\n",
              "      <td>9</td>\n",
              "      <td>0.560748</td>\n",
              "    </tr>\n",
              "    <tr>\n",
              "      <th>AGE</th>\n",
              "      <td>AGE</td>\n",
              "      <td>30</td>\n",
              "      <td>1.869159</td>\n",
              "    </tr>\n",
              "    <tr>\n",
              "      <th>COUNTRY</th>\n",
              "      <td>COUNTRY</td>\n",
              "      <td>16</td>\n",
              "      <td>0.996885</td>\n",
              "    </tr>\n",
              "    <tr>\n",
              "      <th>STATE, PROVINCE, COUNTY, ETC</th>\n",
              "      <td>STATE, PROVINCE, COUNTY, ETC</td>\n",
              "      <td>35</td>\n",
              "      <td>2.180685</td>\n",
              "    </tr>\n",
              "    <tr>\n",
              "      <th>...</th>\n",
              "      <td>...</td>\n",
              "      <td>...</td>\n",
              "      <td>...</td>\n",
              "    </tr>\n",
              "    <tr>\n",
              "      <th>White Bread</th>\n",
              "      <td>White Bread</td>\n",
              "      <td>0</td>\n",
              "      <td>0.000000</td>\n",
              "    </tr>\n",
              "    <tr>\n",
              "      <th>Whole Wheat anything</th>\n",
              "      <td>Whole Wheat anything</td>\n",
              "      <td>0</td>\n",
              "      <td>0.000000</td>\n",
              "    </tr>\n",
              "    <tr>\n",
              "      <th>York Peppermint Patties</th>\n",
              "      <td>York Peppermint Patties</td>\n",
              "      <td>0</td>\n",
              "      <td>0.000000</td>\n",
              "    </tr>\n",
              "    <tr>\n",
              "      <th>DRESS</th>\n",
              "      <td>DRESS</td>\n",
              "      <td>27</td>\n",
              "      <td>1.682243</td>\n",
              "    </tr>\n",
              "    <tr>\n",
              "      <th>DAY</th>\n",
              "      <td>DAY</td>\n",
              "      <td>11</td>\n",
              "      <td>0.685358</td>\n",
              "    </tr>\n",
              "  </tbody>\n",
              "</table>\n",
              "<p>110 rows × 3 columns</p>\n",
              "</div>"
            ],
            "application/vnd.google.colaboratory.module+javascript": "\n      import \"https://ssl.gstatic.com/colaboratory/data_table/a8bd4d5e58f96183/data_table.js\";\n\n      window.createDataTable({\n        data: [[\"GOING OUT?\",\n{\n            'v': 53,\n            'f': \"53\",\n        },\n{\n            'v': 3.3021806853582554,\n            'f': \"3.3021806853582554\",\n        }],\n [\"GENDER\",\n{\n            'v': 9,\n            'f': \"9\",\n        },\n{\n            'v': 0.5607476635514018,\n            'f': \"0.5607476635514018\",\n        }],\n [\"AGE\",\n{\n            'v': 30,\n            'f': \"30\",\n        },\n{\n            'v': 1.8691588785046727,\n            'f': \"1.8691588785046727\",\n        }],\n [\"COUNTRY\",\n{\n            'v': 16,\n            'f': \"16\",\n        },\n{\n            'v': 0.9968847352024922,\n            'f': \"0.9968847352024922\",\n        }],\n [\"STATE, PROVINCE, COUNTY, ETC\",\n{\n            'v': 35,\n            'f': \"35\",\n        },\n{\n            'v': 2.1806853582554515,\n            'f': \"2.1806853582554515\",\n        }],\n [\"100 Grand Bar\",\n{\n            'v': 0,\n            'f': \"0\",\n        },\n{\n            'v': 0.0,\n            'f': \"0.0\",\n        }],\n [\"Anonymous brown globs that come in black and orange wrappers\\t(a.k.a. Mary Janes)\",\n{\n            'v': 0,\n            'f': \"0\",\n        },\n{\n            'v': 0.0,\n            'f': \"0.0\",\n        }],\n [\"Any full-sized candy bar\",\n{\n            'v': 0,\n            'f': \"0\",\n        },\n{\n            'v': 0.0,\n            'f': \"0.0\",\n        }],\n [\"Black Jacks\",\n{\n            'v': 0,\n            'f': \"0\",\n        },\n{\n            'v': 0.0,\n            'f': \"0.0\",\n        }],\n [\"Bonkers (the candy)\",\n{\n            'v': 0,\n            'f': \"0\",\n        },\n{\n            'v': 0.0,\n            'f': \"0.0\",\n        }],\n [\"Bonkers (the board game)\",\n{\n            'v': 0,\n            'f': \"0\",\n        },\n{\n            'v': 0.0,\n            'f': \"0.0\",\n        }],\n [\"Bottle Caps\",\n{\n            'v': 0,\n            'f': \"0\",\n        },\n{\n            'v': 0.0,\n            'f': \"0.0\",\n        }],\n [\"Box'o'Raisins\",\n{\n            'v': 0,\n            'f': \"0\",\n        },\n{\n            'v': 0.0,\n            'f': \"0.0\",\n        }],\n [\"Broken glow stick\",\n{\n            'v': 0,\n            'f': \"0\",\n        },\n{\n            'v': 0.0,\n            'f': \"0.0\",\n        }],\n [\"Butterfinger\",\n{\n            'v': 0,\n            'f': \"0\",\n        },\n{\n            'v': 0.0,\n            'f': \"0.0\",\n        }],\n [\"Cadbury Creme Eggs\",\n{\n            'v': 0,\n            'f': \"0\",\n        },\n{\n            'v': 0.0,\n            'f': \"0.0\",\n        }],\n [\"Candy Corn\",\n{\n            'v': 0,\n            'f': \"0\",\n        },\n{\n            'v': 0.0,\n            'f': \"0.0\",\n        }],\n [\"Candy that is clearly just the stuff given out for free at restaurants\",\n{\n            'v': 0,\n            'f': \"0\",\n        },\n{\n            'v': 0.0,\n            'f': \"0.0\",\n        }],\n [\"Caramellos\",\n{\n            'v': 0,\n            'f': \"0\",\n        },\n{\n            'v': 0.0,\n            'f': \"0.0\",\n        }],\n [\"Cash, or other forms of legal tender\",\n{\n            'v': 0,\n            'f': \"0\",\n        },\n{\n            'v': 0.0,\n            'f': \"0.0\",\n        }],\n [\"Chardonnay\",\n{\n            'v': 0,\n            'f': \"0\",\n        },\n{\n            'v': 0.0,\n            'f': \"0.0\",\n        }],\n [\"Chick-o-Sticks (we don\\u00d5t know what that is)\",\n{\n            'v': 0,\n            'f': \"0\",\n        },\n{\n            'v': 0.0,\n            'f': \"0.0\",\n        }],\n [\"Chiclets\",\n{\n            'v': 0,\n            'f': \"0\",\n        },\n{\n            'v': 0.0,\n            'f': \"0.0\",\n        }],\n [\"Coffee Crisp\",\n{\n            'v': 0,\n            'f': \"0\",\n        },\n{\n            'v': 0.0,\n            'f': \"0.0\",\n        }],\n [\"Creepy Religious comics/Chick Tracts\",\n{\n            'v': 0,\n            'f': \"0\",\n        },\n{\n            'v': 0.0,\n            'f': \"0.0\",\n        }],\n [\"Dental paraphenalia\",\n{\n            'v': 0,\n            'f': \"0\",\n        },\n{\n            'v': 0.0,\n            'f': \"0.0\",\n        }],\n [\"Dots\",\n{\n            'v': 0,\n            'f': \"0\",\n        },\n{\n            'v': 0.0,\n            'f': \"0.0\",\n        }],\n [\"Dove Bars\",\n{\n            'v': 0,\n            'f': \"0\",\n        },\n{\n            'v': 0.0,\n            'f': \"0.0\",\n        }],\n [\"Fuzzy Peaches\",\n{\n            'v': 0,\n            'f': \"0\",\n        },\n{\n            'v': 0.0,\n            'f': \"0.0\",\n        }],\n [\"Generic Brand Acetaminophen\",\n{\n            'v': 0,\n            'f': \"0\",\n        },\n{\n            'v': 0.0,\n            'f': \"0.0\",\n        }],\n [\"Glow sticks\",\n{\n            'v': 0,\n            'f': \"0\",\n        },\n{\n            'v': 0.0,\n            'f': \"0.0\",\n        }],\n [\"Goo Goo Clusters\",\n{\n            'v': 0,\n            'f': \"0\",\n        },\n{\n            'v': 0.0,\n            'f': \"0.0\",\n        }],\n [\"Good N' Plenty\",\n{\n            'v': 0,\n            'f': \"0\",\n        },\n{\n            'v': 0.0,\n            'f': \"0.0\",\n        }],\n [\"Gum from baseball cards\",\n{\n            'v': 0,\n            'f': \"0\",\n        },\n{\n            'v': 0.0,\n            'f': \"0.0\",\n        }],\n [\"Gummy Bears straight up\",\n{\n            'v': 0,\n            'f': \"0\",\n        },\n{\n            'v': 0.0,\n            'f': \"0.0\",\n        }],\n [\"Hard Candy\",\n{\n            'v': 0,\n            'f': \"0\",\n        },\n{\n            'v': 0.0,\n            'f': \"0.0\",\n        }],\n [\"Healthy Fruit\",\n{\n            'v': 0,\n            'f': \"0\",\n        },\n{\n            'v': 0.0,\n            'f': \"0.0\",\n        }],\n [\"Heath Bar\",\n{\n            'v': 0,\n            'f': \"0\",\n        },\n{\n            'v': 0.0,\n            'f': \"0.0\",\n        }],\n [\"Hershey's Dark Chocolate\",\n{\n            'v': 0,\n            'f': \"0\",\n        },\n{\n            'v': 0.0,\n            'f': \"0.0\",\n        }],\n [\"Hershey\\u00d5s Milk Chocolate\",\n{\n            'v': 0,\n            'f': \"0\",\n        },\n{\n            'v': 0.0,\n            'f': \"0.0\",\n        }],\n [\"Hershey's Kisses\",\n{\n            'v': 0,\n            'f': \"0\",\n        },\n{\n            'v': 0.0,\n            'f': \"0.0\",\n        }],\n [\"Hugs (actual physical hugs)\",\n{\n            'v': 0,\n            'f': \"0\",\n        },\n{\n            'v': 0.0,\n            'f': \"0.0\",\n        }],\n [\"Jolly Rancher (bad flavor)\",\n{\n            'v': 0,\n            'f': \"0\",\n        },\n{\n            'v': 0.0,\n            'f': \"0.0\",\n        }],\n [\"Jolly Ranchers (good flavor)\",\n{\n            'v': 0,\n            'f': \"0\",\n        },\n{\n            'v': 0.0,\n            'f': \"0.0\",\n        }],\n [\"JoyJoy (Mit Iodine!)\",\n{\n            'v': 0,\n            'f': \"0\",\n        },\n{\n            'v': 0.0,\n            'f': \"0.0\",\n        }],\n [\"Junior Mints\",\n{\n            'v': 0,\n            'f': \"0\",\n        },\n{\n            'v': 0.0,\n            'f': \"0.0\",\n        }],\n [\"Senior Mints\",\n{\n            'v': 0,\n            'f': \"0\",\n        },\n{\n            'v': 0.0,\n            'f': \"0.0\",\n        }],\n [\"Kale smoothie\",\n{\n            'v': 0,\n            'f': \"0\",\n        },\n{\n            'v': 0.0,\n            'f': \"0.0\",\n        }],\n [\"Kinder Happy Hippo\",\n{\n            'v': 0,\n            'f': \"0\",\n        },\n{\n            'v': 0.0,\n            'f': \"0.0\",\n        }],\n [\"Kit Kat\",\n{\n            'v': 0,\n            'f': \"0\",\n        },\n{\n            'v': 0.0,\n            'f': \"0.0\",\n        }],\n [\"LaffyTaffy\",\n{\n            'v': 0,\n            'f': \"0\",\n        },\n{\n            'v': 0.0,\n            'f': \"0.0\",\n        }],\n [\"LemonHeads\",\n{\n            'v': 0,\n            'f': \"0\",\n        },\n{\n            'v': 0.0,\n            'f': \"0.0\",\n        }],\n [\"Licorice (not black)\",\n{\n            'v': 0,\n            'f': \"0\",\n        },\n{\n            'v': 0.0,\n            'f': \"0.0\",\n        }],\n [\"Licorice (yes black)\",\n{\n            'v': 0,\n            'f': \"0\",\n        },\n{\n            'v': 0.0,\n            'f': \"0.0\",\n        }],\n [\"Lindt Truffle\",\n{\n            'v': 0,\n            'f': \"0\",\n        },\n{\n            'v': 0.0,\n            'f': \"0.0\",\n        }],\n [\"Lollipops\",\n{\n            'v': 0,\n            'f': \"0\",\n        },\n{\n            'v': 0.0,\n            'f': \"0.0\",\n        }],\n [\"Mars\",\n{\n            'v': 0,\n            'f': \"0\",\n        },\n{\n            'v': 0.0,\n            'f': \"0.0\",\n        }],\n [\"Maynards\",\n{\n            'v': 0,\n            'f': \"0\",\n        },\n{\n            'v': 0.0,\n            'f': \"0.0\",\n        }],\n [\"Mike and Ike\",\n{\n            'v': 0,\n            'f': \"0\",\n        },\n{\n            'v': 0.0,\n            'f': \"0.0\",\n        }],\n [\"Milk Duds\",\n{\n            'v': 0,\n            'f': \"0\",\n        },\n{\n            'v': 0.0,\n            'f': \"0.0\",\n        }],\n [\"Milky Way\",\n{\n            'v': 0,\n            'f': \"0\",\n        },\n{\n            'v': 0.0,\n            'f': \"0.0\",\n        }],\n [\"Regular M&Ms\",\n{\n            'v': 0,\n            'f': \"0\",\n        },\n{\n            'v': 0.0,\n            'f': \"0.0\",\n        }],\n [\"Peanut M&M\\u00d5s\",\n{\n            'v': 0,\n            'f': \"0\",\n        },\n{\n            'v': 0.0,\n            'f': \"0.0\",\n        }],\n [\"Blue M&M's\",\n{\n            'v': 0,\n            'f': \"0\",\n        },\n{\n            'v': 0.0,\n            'f': \"0.0\",\n        }],\n [\"Red M&M's\",\n{\n            'v': 0,\n            'f': \"0\",\n        },\n{\n            'v': 0.0,\n            'f': \"0.0\",\n        }],\n [\"Green Party M&M's\",\n{\n            'v': 0,\n            'f': \"0\",\n        },\n{\n            'v': 0.0,\n            'f': \"0.0\",\n        }],\n [\"Independent M&M's\",\n{\n            'v': 0,\n            'f': \"0\",\n        },\n{\n            'v': 0.0,\n            'f': \"0.0\",\n        }],\n [\"Abstained from M&M'ing.\",\n{\n            'v': 0,\n            'f': \"0\",\n        },\n{\n            'v': 0.0,\n            'f': \"0.0\",\n        }],\n [\"Minibags of chips\",\n{\n            'v': 0,\n            'f': \"0\",\n        },\n{\n            'v': 0.0,\n            'f': \"0.0\",\n        }],\n [\"Mint Kisses\",\n{\n            'v': 0,\n            'f': \"0\",\n        },\n{\n            'v': 0.0,\n            'f': \"0.0\",\n        }],\n [\"Mint Juleps\",\n{\n            'v': 0,\n            'f': \"0\",\n        },\n{\n            'v': 0.0,\n            'f': \"0.0\",\n        }],\n [\"Mr. Goodbar\",\n{\n            'v': 0,\n            'f': \"0\",\n        },\n{\n            'v': 0.0,\n            'f': \"0.0\",\n        }],\n [\"Necco Wafers\",\n{\n            'v': 0,\n            'f': \"0\",\n        },\n{\n            'v': 0.0,\n            'f': \"0.0\",\n        }],\n [\"Nerds\",\n{\n            'v': 0,\n            'f': \"0\",\n        },\n{\n            'v': 0.0,\n            'f': \"0.0\",\n        }],\n [\"Nestle Crunch\",\n{\n            'v': 0,\n            'f': \"0\",\n        },\n{\n            'v': 0.0,\n            'f': \"0.0\",\n        }],\n [\"Now'n'Laters\",\n{\n            'v': 0,\n            'f': \"0\",\n        },\n{\n            'v': 0.0,\n            'f': \"0.0\",\n        }],\n [\"Peeps\",\n{\n            'v': 0,\n            'f': \"0\",\n        },\n{\n            'v': 0.0,\n            'f': \"0.0\",\n        }],\n [\"Pencils\",\n{\n            'v': 0,\n            'f': \"0\",\n        },\n{\n            'v': 0.0,\n            'f': \"0.0\",\n        }],\n [\"Pixy Stix\",\n{\n            'v': 0,\n            'f': \"0\",\n        },\n{\n            'v': 0.0,\n            'f': \"0.0\",\n        }],\n [\"Real Housewives of Orange County Season 9 Blue-Ray\",\n{\n            'v': 0,\n            'f': \"0\",\n        },\n{\n            'v': 0.0,\n            'f': \"0.0\",\n        }],\n [\"Reese\\u00d5s Peanut Butter Cups\",\n{\n            'v': 0,\n            'f': \"0\",\n        },\n{\n            'v': 0.0,\n            'f': \"0.0\",\n        }],\n [\"Reese's Pieces\",\n{\n            'v': 0,\n            'f': \"0\",\n        },\n{\n            'v': 0.0,\n            'f': \"0.0\",\n        }],\n [\"Reggie Jackson Bar\",\n{\n            'v': 0,\n            'f': \"0\",\n        },\n{\n            'v': 0.0,\n            'f': \"0.0\",\n        }],\n [\"Rolos\",\n{\n            'v': 0,\n            'f': \"0\",\n        },\n{\n            'v': 0.0,\n            'f': \"0.0\",\n        }],\n [\"Sandwich-sized bags filled with BooBerry Crunch\",\n{\n            'v': 0,\n            'f': \"0\",\n        },\n{\n            'v': 0.0,\n            'f': \"0.0\",\n        }],\n [\"Skittles\",\n{\n            'v': 0,\n            'f': \"0\",\n        },\n{\n            'v': 0.0,\n            'f': \"0.0\",\n        }],\n [\"Smarties (American)\",\n{\n            'v': 0,\n            'f': \"0\",\n        },\n{\n            'v': 0.0,\n            'f': \"0.0\",\n        }],\n [\"Smarties (Commonwealth)\",\n{\n            'v': 0,\n            'f': \"0\",\n        },\n{\n            'v': 0.0,\n            'f': \"0.0\",\n        }],\n [\"Snickers\",\n{\n            'v': 0,\n            'f': \"0\",\n        },\n{\n            'v': 0.0,\n            'f': \"0.0\",\n        }],\n [\"Sourpatch Kids (i.e. abominations of nature)\",\n{\n            'v': 0,\n            'f': \"0\",\n        },\n{\n            'v': 0.0,\n            'f': \"0.0\",\n        }],\n [\"Spotted Dick\",\n{\n            'v': 0,\n            'f': \"0\",\n        },\n{\n            'v': 0.0,\n            'f': \"0.0\",\n        }],\n [\"Starburst\",\n{\n            'v': 0,\n            'f': \"0\",\n        },\n{\n            'v': 0.0,\n            'f': \"0.0\",\n        }],\n [\"Sweet Tarts\",\n{\n            'v': 0,\n            'f': \"0\",\n        },\n{\n            'v': 0.0,\n            'f': \"0.0\",\n        }],\n [\"Swedish Fish\",\n{\n            'v': 0,\n            'f': \"0\",\n        },\n{\n            'v': 0.0,\n            'f': \"0.0\",\n        }],\n [\"Sweetums (a friend to diabetes)\",\n{\n            'v': 0,\n            'f': \"0\",\n        },\n{\n            'v': 0.0,\n            'f': \"0.0\",\n        }],\n [\"Take 5\",\n{\n            'v': 0,\n            'f': \"0\",\n        },\n{\n            'v': 0.0,\n            'f': \"0.0\",\n        }],\n [\"Tic Tacs\",\n{\n            'v': 0,\n            'f': \"0\",\n        },\n{\n            'v': 0.0,\n            'f': \"0.0\",\n        }],\n [\"Those odd marshmallow circus peanut things\",\n{\n            'v': 0,\n            'f': \"0\",\n        },\n{\n            'v': 0.0,\n            'f': \"0.0\",\n        }],\n [\"Three Musketeers\",\n{\n            'v': 0,\n            'f': \"0\",\n        },\n{\n            'v': 0.0,\n            'f': \"0.0\",\n        }],\n [\"Tolberone something or other\",\n{\n            'v': 0,\n            'f': \"0\",\n        },\n{\n            'v': 0.0,\n            'f': \"0.0\",\n        }],\n [\"Trail Mix\",\n{\n            'v': 0,\n            'f': \"0\",\n        },\n{\n            'v': 0.0,\n            'f': \"0.0\",\n        }],\n [\"Twix\",\n{\n            'v': 0,\n            'f': \"0\",\n        },\n{\n            'v': 0.0,\n            'f': \"0.0\",\n        }],\n [\"Vials of pure high fructose corn syrup, for main-lining into your vein\",\n{\n            'v': 0,\n            'f': \"0\",\n        },\n{\n            'v': 0.0,\n            'f': \"0.0\",\n        }],\n [\"Vicodin\",\n{\n            'v': 0,\n            'f': \"0\",\n        },\n{\n            'v': 0.0,\n            'f': \"0.0\",\n        }],\n [\"Whatchamacallit Bars\",\n{\n            'v': 0,\n            'f': \"0\",\n        },\n{\n            'v': 0.0,\n            'f': \"0.0\",\n        }],\n [\"White Bread\",\n{\n            'v': 0,\n            'f': \"0\",\n        },\n{\n            'v': 0.0,\n            'f': \"0.0\",\n        }],\n [\"Whole Wheat anything\",\n{\n            'v': 0,\n            'f': \"0\",\n        },\n{\n            'v': 0.0,\n            'f': \"0.0\",\n        }],\n [\"York Peppermint Patties\",\n{\n            'v': 0,\n            'f': \"0\",\n        },\n{\n            'v': 0.0,\n            'f': \"0.0\",\n        }],\n [\"DRESS\",\n{\n            'v': 27,\n            'f': \"27\",\n        },\n{\n            'v': 1.6822429906542056,\n            'f': \"1.6822429906542056\",\n        }],\n [\"DAY\",\n{\n            'v': 11,\n            'f': \"11\",\n        },\n{\n            'v': 0.6853582554517134,\n            'f': \"0.6853582554517134\",\n        }]],\n        columns: [[\"string\", \"columns\"], [\"number\", \"totalNans\"], [\"number\", \"percentages\"]],\n        columnOptions: [],\n        rowsPerPage: 20,\n        helpUrl: \"https://colab.research.google.com/notebooks/data_table.ipynb\",\n        suppressOutputScrolling: true,\n        minimumWidth: undefined,\n      });\n    ",
            "text/plain": [
              "<google.colab.data_table.DataTable object>"
            ]
          },
          "metadata": {},
          "execution_count": 33
        }
      ]
    },
    {
      "cell_type": "markdown",
      "source": [
        "## Diccionario y respuestas de \"Q6 |\" a int"
      ],
      "metadata": {
        "id": "Lljh8q86DRcf"
      }
    },
    {
      "cell_type": "code",
      "source": [
        "series_name = column_to_dictionary(df[df.columns[5]])\n",
        "series_name"
      ],
      "metadata": {
        "colab": {
          "base_uri": "https://localhost:8080/"
        },
        "id": "03YB8cwj_y0l",
        "outputId": "db66a806-a4c5-45e2-d97e-c5ad5516b3f6"
      },
      "execution_count": null,
      "outputs": [
        {
          "output_type": "execute_result",
          "data": {
            "text/plain": [
              "{'MEH': 0, 'JOY': 1, 'NC': 2, 'DESPAIR': 3}"
            ]
          },
          "metadata": {},
          "execution_count": 34
        }
      ]
    },
    {
      "cell_type": "markdown",
      "source": [
        "Transformamos los datos de estas columnas a numerico con el diccionario que viene arriba"
      ],
      "metadata": {
        "id": "D_yn-62CdZFS"
      }
    },
    {
      "cell_type": "code",
      "source": [
        "for column_name in df.columns[5:-2]:\n",
        "  df[column_name]=df[column_name].map(series_name)\n",
        "df.head()"
      ],
      "metadata": {
        "colab": {
          "base_uri": "https://localhost:8080/",
          "height": 647
        },
        "id": "gF1MGI_x_yyG",
        "outputId": "791050d3-f681-4f76-e45f-37c9ea9c24f8"
      },
      "execution_count": null,
      "outputs": [
        {
          "output_type": "stream",
          "name": "stdout",
          "text": [
            "Warning: Total number of columns (110) exceeds max_columns (20). Falling back to pandas display.\n"
          ]
        },
        {
          "output_type": "execute_result",
          "data": {
            "text/plain": [
              "  GOING OUT? GENDER  AGE COUNTRY STATE, PROVINCE, COUNTY, ETC  100 Grand Bar  \\\n",
              "1         No   Male   44    USA                            NM              0   \n",
              "3         No   Male   40      us                           or              0   \n",
              "4         No   Male   23     usa                     exton pa              1   \n",
              "5         No   Male  NaN     NaN                          NaN              1   \n",
              "7         No   Male   33  canada                      ontario              1   \n",
              "\n",
              "   Anonymous brown globs that come in black and orange wrappers\\t(a.k.a. Mary Janes)  \\\n",
              "1                                                  3                                   \n",
              "3                                                  3                                   \n",
              "4                                                  3                                   \n",
              "5                                                  3                                   \n",
              "7                                                  3                                   \n",
              "\n",
              "   Any full-sized candy bar  Black Jacks  Bonkers (the candy)  ...  Trail Mix  \\\n",
              "1                         1            0                    3  ...          3   \n",
              "3                         1            0                    0  ...          0   \n",
              "4                         1            3                    0  ...          3   \n",
              "5                         1            2                    2  ...          0   \n",
              "7                         1            3                    3  ...          3   \n",
              "\n",
              "   Twix  \\\n",
              "1     1   \n",
              "3     1   \n",
              "4     1   \n",
              "5     1   \n",
              "7     1   \n",
              "\n",
              "   Vials of pure high fructose corn syrup, for main-lining into your vein  \\\n",
              "1                                                  3                        \n",
              "3                                                  3                        \n",
              "4                                                  0                        \n",
              "5                                                  3                        \n",
              "7                                                  1                        \n",
              "\n",
              "   Vicodin  Whatchamacallit Bars  White Bread  Whole Wheat anything  \\\n",
              "1        3                     3            3                     3   \n",
              "3        1                     1            3                     3   \n",
              "4        1                     1            3                     3   \n",
              "5        3                     1            3                     3   \n",
              "7        0                     3            3                     3   \n",
              "\n",
              "   York Peppermint Patties           DRESS     DAY  \n",
              "1                        3  White and gold  Sunday  \n",
              "3                        3  White and gold  Sunday  \n",
              "4                        1  White and gold  Friday  \n",
              "5                        1             NaN     NaN  \n",
              "7                        3  Blue and black  Friday  \n",
              "\n",
              "[5 rows x 110 columns]"
            ],
            "text/html": [
              "\n",
              "  <div id=\"df-883ac1f5-374e-43f1-85b1-388ce3f8b893\">\n",
              "    <div class=\"colab-df-container\">\n",
              "      <div>\n",
              "<style scoped>\n",
              "    .dataframe tbody tr th:only-of-type {\n",
              "        vertical-align: middle;\n",
              "    }\n",
              "\n",
              "    .dataframe tbody tr th {\n",
              "        vertical-align: top;\n",
              "    }\n",
              "\n",
              "    .dataframe thead th {\n",
              "        text-align: right;\n",
              "    }\n",
              "</style>\n",
              "<table border=\"1\" class=\"dataframe\">\n",
              "  <thead>\n",
              "    <tr style=\"text-align: right;\">\n",
              "      <th></th>\n",
              "      <th>GOING OUT?</th>\n",
              "      <th>GENDER</th>\n",
              "      <th>AGE</th>\n",
              "      <th>COUNTRY</th>\n",
              "      <th>STATE, PROVINCE, COUNTY, ETC</th>\n",
              "      <th>100 Grand Bar</th>\n",
              "      <th>Anonymous brown globs that come in black and orange wrappers\\t(a.k.a. Mary Janes)</th>\n",
              "      <th>Any full-sized candy bar</th>\n",
              "      <th>Black Jacks</th>\n",
              "      <th>Bonkers (the candy)</th>\n",
              "      <th>...</th>\n",
              "      <th>Trail Mix</th>\n",
              "      <th>Twix</th>\n",
              "      <th>Vials of pure high fructose corn syrup, for main-lining into your vein</th>\n",
              "      <th>Vicodin</th>\n",
              "      <th>Whatchamacallit Bars</th>\n",
              "      <th>White Bread</th>\n",
              "      <th>Whole Wheat anything</th>\n",
              "      <th>York Peppermint Patties</th>\n",
              "      <th>DRESS</th>\n",
              "      <th>DAY</th>\n",
              "    </tr>\n",
              "  </thead>\n",
              "  <tbody>\n",
              "    <tr>\n",
              "      <th>1</th>\n",
              "      <td>No</td>\n",
              "      <td>Male</td>\n",
              "      <td>44</td>\n",
              "      <td>USA</td>\n",
              "      <td>NM</td>\n",
              "      <td>0</td>\n",
              "      <td>3</td>\n",
              "      <td>1</td>\n",
              "      <td>0</td>\n",
              "      <td>3</td>\n",
              "      <td>...</td>\n",
              "      <td>3</td>\n",
              "      <td>1</td>\n",
              "      <td>3</td>\n",
              "      <td>3</td>\n",
              "      <td>3</td>\n",
              "      <td>3</td>\n",
              "      <td>3</td>\n",
              "      <td>3</td>\n",
              "      <td>White and gold</td>\n",
              "      <td>Sunday</td>\n",
              "    </tr>\n",
              "    <tr>\n",
              "      <th>3</th>\n",
              "      <td>No</td>\n",
              "      <td>Male</td>\n",
              "      <td>40</td>\n",
              "      <td>us</td>\n",
              "      <td>or</td>\n",
              "      <td>0</td>\n",
              "      <td>3</td>\n",
              "      <td>1</td>\n",
              "      <td>0</td>\n",
              "      <td>0</td>\n",
              "      <td>...</td>\n",
              "      <td>0</td>\n",
              "      <td>1</td>\n",
              "      <td>3</td>\n",
              "      <td>1</td>\n",
              "      <td>1</td>\n",
              "      <td>3</td>\n",
              "      <td>3</td>\n",
              "      <td>3</td>\n",
              "      <td>White and gold</td>\n",
              "      <td>Sunday</td>\n",
              "    </tr>\n",
              "    <tr>\n",
              "      <th>4</th>\n",
              "      <td>No</td>\n",
              "      <td>Male</td>\n",
              "      <td>23</td>\n",
              "      <td>usa</td>\n",
              "      <td>exton pa</td>\n",
              "      <td>1</td>\n",
              "      <td>3</td>\n",
              "      <td>1</td>\n",
              "      <td>3</td>\n",
              "      <td>0</td>\n",
              "      <td>...</td>\n",
              "      <td>3</td>\n",
              "      <td>1</td>\n",
              "      <td>0</td>\n",
              "      <td>1</td>\n",
              "      <td>1</td>\n",
              "      <td>3</td>\n",
              "      <td>3</td>\n",
              "      <td>1</td>\n",
              "      <td>White and gold</td>\n",
              "      <td>Friday</td>\n",
              "    </tr>\n",
              "    <tr>\n",
              "      <th>5</th>\n",
              "      <td>No</td>\n",
              "      <td>Male</td>\n",
              "      <td>NaN</td>\n",
              "      <td>NaN</td>\n",
              "      <td>NaN</td>\n",
              "      <td>1</td>\n",
              "      <td>3</td>\n",
              "      <td>1</td>\n",
              "      <td>2</td>\n",
              "      <td>2</td>\n",
              "      <td>...</td>\n",
              "      <td>0</td>\n",
              "      <td>1</td>\n",
              "      <td>3</td>\n",
              "      <td>3</td>\n",
              "      <td>1</td>\n",
              "      <td>3</td>\n",
              "      <td>3</td>\n",
              "      <td>1</td>\n",
              "      <td>NaN</td>\n",
              "      <td>NaN</td>\n",
              "    </tr>\n",
              "    <tr>\n",
              "      <th>7</th>\n",
              "      <td>No</td>\n",
              "      <td>Male</td>\n",
              "      <td>33</td>\n",
              "      <td>canada</td>\n",
              "      <td>ontario</td>\n",
              "      <td>1</td>\n",
              "      <td>3</td>\n",
              "      <td>1</td>\n",
              "      <td>3</td>\n",
              "      <td>3</td>\n",
              "      <td>...</td>\n",
              "      <td>3</td>\n",
              "      <td>1</td>\n",
              "      <td>1</td>\n",
              "      <td>0</td>\n",
              "      <td>3</td>\n",
              "      <td>3</td>\n",
              "      <td>3</td>\n",
              "      <td>3</td>\n",
              "      <td>Blue and black</td>\n",
              "      <td>Friday</td>\n",
              "    </tr>\n",
              "  </tbody>\n",
              "</table>\n",
              "<p>5 rows × 110 columns</p>\n",
              "</div>\n",
              "      <button class=\"colab-df-convert\" onclick=\"convertToInteractive('df-883ac1f5-374e-43f1-85b1-388ce3f8b893')\"\n",
              "              title=\"Convert this dataframe to an interactive table.\"\n",
              "              style=\"display:none;\">\n",
              "        \n",
              "  <svg xmlns=\"http://www.w3.org/2000/svg\" height=\"24px\"viewBox=\"0 0 24 24\"\n",
              "       width=\"24px\">\n",
              "    <path d=\"M0 0h24v24H0V0z\" fill=\"none\"/>\n",
              "    <path d=\"M18.56 5.44l.94 2.06.94-2.06 2.06-.94-2.06-.94-.94-2.06-.94 2.06-2.06.94zm-11 1L8.5 8.5l.94-2.06 2.06-.94-2.06-.94L8.5 2.5l-.94 2.06-2.06.94zm10 10l.94 2.06.94-2.06 2.06-.94-2.06-.94-.94-2.06-.94 2.06-2.06.94z\"/><path d=\"M17.41 7.96l-1.37-1.37c-.4-.4-.92-.59-1.43-.59-.52 0-1.04.2-1.43.59L10.3 9.45l-7.72 7.72c-.78.78-.78 2.05 0 2.83L4 21.41c.39.39.9.59 1.41.59.51 0 1.02-.2 1.41-.59l7.78-7.78 2.81-2.81c.8-.78.8-2.07 0-2.86zM5.41 20L4 18.59l7.72-7.72 1.47 1.35L5.41 20z\"/>\n",
              "  </svg>\n",
              "      </button>\n",
              "      \n",
              "  <style>\n",
              "    .colab-df-container {\n",
              "      display:flex;\n",
              "      flex-wrap:wrap;\n",
              "      gap: 12px;\n",
              "    }\n",
              "\n",
              "    .colab-df-convert {\n",
              "      background-color: #E8F0FE;\n",
              "      border: none;\n",
              "      border-radius: 50%;\n",
              "      cursor: pointer;\n",
              "      display: none;\n",
              "      fill: #1967D2;\n",
              "      height: 32px;\n",
              "      padding: 0 0 0 0;\n",
              "      width: 32px;\n",
              "    }\n",
              "\n",
              "    .colab-df-convert:hover {\n",
              "      background-color: #E2EBFA;\n",
              "      box-shadow: 0px 1px 2px rgba(60, 64, 67, 0.3), 0px 1px 3px 1px rgba(60, 64, 67, 0.15);\n",
              "      fill: #174EA6;\n",
              "    }\n",
              "\n",
              "    [theme=dark] .colab-df-convert {\n",
              "      background-color: #3B4455;\n",
              "      fill: #D2E3FC;\n",
              "    }\n",
              "\n",
              "    [theme=dark] .colab-df-convert:hover {\n",
              "      background-color: #434B5C;\n",
              "      box-shadow: 0px 1px 3px 1px rgba(0, 0, 0, 0.15);\n",
              "      filter: drop-shadow(0px 1px 2px rgba(0, 0, 0, 0.3));\n",
              "      fill: #FFFFFF;\n",
              "    }\n",
              "  </style>\n",
              "\n",
              "      <script>\n",
              "        const buttonEl =\n",
              "          document.querySelector('#df-883ac1f5-374e-43f1-85b1-388ce3f8b893 button.colab-df-convert');\n",
              "        buttonEl.style.display =\n",
              "          google.colab.kernel.accessAllowed ? 'block' : 'none';\n",
              "\n",
              "        async function convertToInteractive(key) {\n",
              "          const element = document.querySelector('#df-883ac1f5-374e-43f1-85b1-388ce3f8b893');\n",
              "          const dataTable =\n",
              "            await google.colab.kernel.invokeFunction('convertToInteractive',\n",
              "                                                     [key], {});\n",
              "          if (!dataTable) return;\n",
              "\n",
              "          const docLinkHtml = 'Like what you see? Visit the ' +\n",
              "            '<a target=\"_blank\" href=https://colab.research.google.com/notebooks/data_table.ipynb>data table notebook</a>'\n",
              "            + ' to learn more about interactive tables.';\n",
              "          element.innerHTML = '';\n",
              "          dataTable['output_type'] = 'display_data';\n",
              "          await google.colab.output.renderOutput(dataTable, element);\n",
              "          const docLink = document.createElement('div');\n",
              "          docLink.innerHTML = docLinkHtml;\n",
              "          element.appendChild(docLink);\n",
              "        }\n",
              "      </script>\n",
              "    </div>\n",
              "  </div>\n",
              "  "
            ]
          },
          "metadata": {},
          "execution_count": 35
        }
      ]
    },
    {
      "cell_type": "markdown",
      "source": [
        "## AED tipo objeto"
      ],
      "metadata": {
        "id": "9EAklBY_Dhha"
      }
    },
    {
      "cell_type": "markdown",
      "source": [
        "Buscamos que otras columnas son de tipo objeto y vemos su informacion"
      ],
      "metadata": {
        "id": "CRWa6kVCdiRG"
      }
    },
    {
      "cell_type": "code",
      "source": [
        "df.select_dtypes(include=object).info()"
      ],
      "metadata": {
        "colab": {
          "base_uri": "https://localhost:8080/"
        },
        "id": "KC7-q60g_yvm",
        "outputId": "845b98f1-808b-4dec-e561-119037174147"
      },
      "execution_count": null,
      "outputs": [
        {
          "output_type": "stream",
          "name": "stdout",
          "text": [
            "<class 'pandas.core.frame.DataFrame'>\n",
            "Int64Index: 1605 entries, 1 to 2459\n",
            "Data columns (total 7 columns):\n",
            " #   Column                        Non-Null Count  Dtype \n",
            "---  ------                        --------------  ----- \n",
            " 0   GOING OUT?                    1552 non-null   object\n",
            " 1   GENDER                        1596 non-null   object\n",
            " 2   AGE                           1575 non-null   object\n",
            " 3   COUNTRY                       1589 non-null   object\n",
            " 4   STATE, PROVINCE, COUNTY, ETC  1570 non-null   object\n",
            " 5   DRESS                         1578 non-null   object\n",
            " 6   DAY                           1594 non-null   object\n",
            "dtypes: object(7)\n",
            "memory usage: 100.3+ KB\n"
          ]
        }
      ]
    },
    {
      "cell_type": "markdown",
      "source": [
        "## Edad\n",
        "Analizaremos la edad, para tratar de entender los datos que no son numéricos"
      ],
      "metadata": {
        "id": "0lhi94OcdrSC"
      }
    },
    {
      "cell_type": "code",
      "source": [
        "for val in df['AGE'] :\n",
        "  if(not(str(val).isnumeric())):\n",
        "      print(val)"
      ],
      "metadata": {
        "colab": {
          "base_uri": "https://localhost:8080/"
        },
        "id": "w2oaSZm8_ytP",
        "outputId": "6d1dc924-9eed-4a75-e241-7a1934f46050"
      },
      "execution_count": null,
      "outputs": [
        {
          "output_type": "stream",
          "name": "stdout",
          "text": [
            "nan\n",
            "Old enough\n",
            "Many\n",
            "?\n",
            "no\n",
            "nan\n",
            "nan\n",
            "nan\n",
            "nan\n",
            "45-55\n",
            "nan\n",
            "nan\n",
            "nan\n",
            "hahahahaha\n",
            "nan\n",
            "nan\n",
            "nan\n",
            "nan\n",
            "older than dirt\n",
            "nan\n",
            "nan\n",
            "nan\n",
            "Enough\n",
            "See question 2\n",
            "nan\n",
            "24-50\n",
            "nan\n",
            "ancient\n",
            "nan\n",
            "nan\n",
            "nan\n",
            "nan\n",
            "nan\n",
            "nan\n",
            "old\n",
            "nan\n",
            "nan\n",
            "nan\n",
            "MY NAME JEFF\n",
            "59 on the day after Halloween\n",
            "old enough\n",
            "nan\n",
            "nan\n",
            "nan\n",
            "I can remember when Java was a cool new language\n",
            "nan\n"
          ]
        }
      ]
    },
    {
      "cell_type": "markdown",
      "source": [
        "los datos que intuimos que son numericos pero vienen en forma de rango o con texto extra los transformamos al numero sin el texto, o al promedio del rango"
      ],
      "metadata": {
        "id": "dImh27dUdzZt"
      }
    },
    {
      "cell_type": "code",
      "source": [
        "df['AGE'] = df['AGE'].replace(['59 on the day after Halloween'],59)\n",
        "df['AGE'] = df['AGE'].replace(['24-50'],37)\n",
        "df['AGE'] = df['AGE'].replace(['45-55'],50)\n"
      ],
      "metadata": {
        "id": "AJeE-_BWOG4a"
      },
      "execution_count": null,
      "outputs": []
    },
    {
      "cell_type": "markdown",
      "source": [
        "Transformamos los valores que son texto y no nos dan información de la edad en nan, para luego llenarlos con el promedio"
      ],
      "metadata": {
        "id": "7uUHsYwKPsz7"
      }
    },
    {
      "cell_type": "code",
      "source": [
        "lista_edades_string = []\n",
        "for id, val in enumerate(df['AGE']):\n",
        "  if(not(str(val).isnumeric())):\n",
        "    if not(str(val)) == \"nan\":\n",
        "      lista_edades_string.append(val)\n",
        "df['AGE']=df['AGE'].replace(lista_edades_string, np.nan)"
      ],
      "metadata": {
        "id": "Ykq6uYnQOQ6w"
      },
      "execution_count": null,
      "outputs": []
    },
    {
      "cell_type": "markdown",
      "source": [
        "verificamos que nos queden solo nan"
      ],
      "metadata": {
        "id": "8WkMgHQreA0m"
      }
    },
    {
      "cell_type": "code",
      "source": [
        "for val in df['AGE'] :\n",
        "  if(not(str(val).isnumeric())):\n",
        "      print(val)"
      ],
      "metadata": {
        "colab": {
          "base_uri": "https://localhost:8080/"
        },
        "id": "xIEGNUUqQPPI",
        "outputId": "e4fddbc7-6ddf-4585-dff1-cd239b860ca3"
      },
      "execution_count": null,
      "outputs": [
        {
          "output_type": "stream",
          "name": "stdout",
          "text": [
            "nan\n",
            "nan\n",
            "nan\n",
            "nan\n",
            "nan\n",
            "nan\n",
            "nan\n",
            "nan\n",
            "nan\n",
            "nan\n",
            "nan\n",
            "nan\n",
            "nan\n",
            "nan\n",
            "nan\n",
            "nan\n",
            "nan\n",
            "nan\n",
            "nan\n",
            "nan\n",
            "nan\n",
            "nan\n",
            "nan\n",
            "nan\n",
            "nan\n",
            "nan\n",
            "nan\n",
            "nan\n",
            "nan\n",
            "nan\n",
            "nan\n",
            "nan\n",
            "nan\n",
            "nan\n",
            "nan\n",
            "nan\n",
            "nan\n",
            "nan\n",
            "nan\n",
            "nan\n",
            "nan\n",
            "nan\n",
            "nan\n"
          ]
        }
      ]
    },
    {
      "cell_type": "markdown",
      "source": [
        "Obtenemos el promedio de edad en tipo entero"
      ],
      "metadata": {
        "id": "vdUfoZAceEQ1"
      }
    },
    {
      "cell_type": "code",
      "source": [
        "df[df['AGE'].notna()]['AGE'].astype(int).mean().astype(int)"
      ],
      "metadata": {
        "colab": {
          "base_uri": "https://localhost:8080/"
        },
        "id": "UQHL-kpVRqWy",
        "outputId": "124c135e-7068-4375-f06b-934c063faa0c"
      },
      "execution_count": null,
      "outputs": [
        {
          "output_type": "execute_result",
          "data": {
            "text/plain": [
              "43"
            ]
          },
          "metadata": {},
          "execution_count": 41
        }
      ]
    },
    {
      "cell_type": "markdown",
      "source": [
        "Asignamos a los vacios el promedio de la edad"
      ],
      "metadata": {
        "id": "IfpIRGN-eG_S"
      }
    },
    {
      "cell_type": "code",
      "source": [
        "df['AGE']=df['AGE'].fillna(df[df['AGE'].notna()]['AGE'].astype(int).mean().astype(int))"
      ],
      "metadata": {
        "id": "8ysr5GchQNvg"
      },
      "execution_count": null,
      "outputs": []
    },
    {
      "cell_type": "code",
      "source": [
        "porcentaje_vacios()"
      ],
      "metadata": {
        "colab": {
          "base_uri": "https://localhost:8080/",
          "height": 525
        },
        "id": "hYemRyQGRvVM",
        "outputId": "e375d199-9825-43f5-8519-d9145f336e47"
      },
      "execution_count": null,
      "outputs": [
        {
          "output_type": "execute_result",
          "data": {
            "text/html": [
              "<div>\n",
              "<style scoped>\n",
              "    .dataframe tbody tr th:only-of-type {\n",
              "        vertical-align: middle;\n",
              "    }\n",
              "\n",
              "    .dataframe tbody tr th {\n",
              "        vertical-align: top;\n",
              "    }\n",
              "\n",
              "    .dataframe thead th {\n",
              "        text-align: right;\n",
              "    }\n",
              "</style>\n",
              "<table border=\"1\" class=\"dataframe\">\n",
              "  <thead>\n",
              "    <tr style=\"text-align: right;\">\n",
              "      <th></th>\n",
              "      <th>columns</th>\n",
              "      <th>totalNans</th>\n",
              "      <th>percentages</th>\n",
              "    </tr>\n",
              "  </thead>\n",
              "  <tbody>\n",
              "    <tr>\n",
              "      <th>GOING OUT?</th>\n",
              "      <td>GOING OUT?</td>\n",
              "      <td>53</td>\n",
              "      <td>3.302181</td>\n",
              "    </tr>\n",
              "    <tr>\n",
              "      <th>GENDER</th>\n",
              "      <td>GENDER</td>\n",
              "      <td>9</td>\n",
              "      <td>0.560748</td>\n",
              "    </tr>\n",
              "    <tr>\n",
              "      <th>AGE</th>\n",
              "      <td>AGE</td>\n",
              "      <td>0</td>\n",
              "      <td>0.000000</td>\n",
              "    </tr>\n",
              "    <tr>\n",
              "      <th>COUNTRY</th>\n",
              "      <td>COUNTRY</td>\n",
              "      <td>16</td>\n",
              "      <td>0.996885</td>\n",
              "    </tr>\n",
              "    <tr>\n",
              "      <th>STATE, PROVINCE, COUNTY, ETC</th>\n",
              "      <td>STATE, PROVINCE, COUNTY, ETC</td>\n",
              "      <td>35</td>\n",
              "      <td>2.180685</td>\n",
              "    </tr>\n",
              "    <tr>\n",
              "      <th>...</th>\n",
              "      <td>...</td>\n",
              "      <td>...</td>\n",
              "      <td>...</td>\n",
              "    </tr>\n",
              "    <tr>\n",
              "      <th>White Bread</th>\n",
              "      <td>White Bread</td>\n",
              "      <td>0</td>\n",
              "      <td>0.000000</td>\n",
              "    </tr>\n",
              "    <tr>\n",
              "      <th>Whole Wheat anything</th>\n",
              "      <td>Whole Wheat anything</td>\n",
              "      <td>0</td>\n",
              "      <td>0.000000</td>\n",
              "    </tr>\n",
              "    <tr>\n",
              "      <th>York Peppermint Patties</th>\n",
              "      <td>York Peppermint Patties</td>\n",
              "      <td>0</td>\n",
              "      <td>0.000000</td>\n",
              "    </tr>\n",
              "    <tr>\n",
              "      <th>DRESS</th>\n",
              "      <td>DRESS</td>\n",
              "      <td>27</td>\n",
              "      <td>1.682243</td>\n",
              "    </tr>\n",
              "    <tr>\n",
              "      <th>DAY</th>\n",
              "      <td>DAY</td>\n",
              "      <td>11</td>\n",
              "      <td>0.685358</td>\n",
              "    </tr>\n",
              "  </tbody>\n",
              "</table>\n",
              "<p>110 rows × 3 columns</p>\n",
              "</div>"
            ],
            "application/vnd.google.colaboratory.module+javascript": "\n      import \"https://ssl.gstatic.com/colaboratory/data_table/a8bd4d5e58f96183/data_table.js\";\n\n      window.createDataTable({\n        data: [[\"GOING OUT?\",\n{\n            'v': 53,\n            'f': \"53\",\n        },\n{\n            'v': 3.3021806853582554,\n            'f': \"3.3021806853582554\",\n        }],\n [\"GENDER\",\n{\n            'v': 9,\n            'f': \"9\",\n        },\n{\n            'v': 0.5607476635514018,\n            'f': \"0.5607476635514018\",\n        }],\n [\"AGE\",\n{\n            'v': 0,\n            'f': \"0\",\n        },\n{\n            'v': 0.0,\n            'f': \"0.0\",\n        }],\n [\"COUNTRY\",\n{\n            'v': 16,\n            'f': \"16\",\n        },\n{\n            'v': 0.9968847352024922,\n            'f': \"0.9968847352024922\",\n        }],\n [\"STATE, PROVINCE, COUNTY, ETC\",\n{\n            'v': 35,\n            'f': \"35\",\n        },\n{\n            'v': 2.1806853582554515,\n            'f': \"2.1806853582554515\",\n        }],\n [\"100 Grand Bar\",\n{\n            'v': 0,\n            'f': \"0\",\n        },\n{\n            'v': 0.0,\n            'f': \"0.0\",\n        }],\n [\"Anonymous brown globs that come in black and orange wrappers\\t(a.k.a. Mary Janes)\",\n{\n            'v': 0,\n            'f': \"0\",\n        },\n{\n            'v': 0.0,\n            'f': \"0.0\",\n        }],\n [\"Any full-sized candy bar\",\n{\n            'v': 0,\n            'f': \"0\",\n        },\n{\n            'v': 0.0,\n            'f': \"0.0\",\n        }],\n [\"Black Jacks\",\n{\n            'v': 0,\n            'f': \"0\",\n        },\n{\n            'v': 0.0,\n            'f': \"0.0\",\n        }],\n [\"Bonkers (the candy)\",\n{\n            'v': 0,\n            'f': \"0\",\n        },\n{\n            'v': 0.0,\n            'f': \"0.0\",\n        }],\n [\"Bonkers (the board game)\",\n{\n            'v': 0,\n            'f': \"0\",\n        },\n{\n            'v': 0.0,\n            'f': \"0.0\",\n        }],\n [\"Bottle Caps\",\n{\n            'v': 0,\n            'f': \"0\",\n        },\n{\n            'v': 0.0,\n            'f': \"0.0\",\n        }],\n [\"Box'o'Raisins\",\n{\n            'v': 0,\n            'f': \"0\",\n        },\n{\n            'v': 0.0,\n            'f': \"0.0\",\n        }],\n [\"Broken glow stick\",\n{\n            'v': 0,\n            'f': \"0\",\n        },\n{\n            'v': 0.0,\n            'f': \"0.0\",\n        }],\n [\"Butterfinger\",\n{\n            'v': 0,\n            'f': \"0\",\n        },\n{\n            'v': 0.0,\n            'f': \"0.0\",\n        }],\n [\"Cadbury Creme Eggs\",\n{\n            'v': 0,\n            'f': \"0\",\n        },\n{\n            'v': 0.0,\n            'f': \"0.0\",\n        }],\n [\"Candy Corn\",\n{\n            'v': 0,\n            'f': \"0\",\n        },\n{\n            'v': 0.0,\n            'f': \"0.0\",\n        }],\n [\"Candy that is clearly just the stuff given out for free at restaurants\",\n{\n            'v': 0,\n            'f': \"0\",\n        },\n{\n            'v': 0.0,\n            'f': \"0.0\",\n        }],\n [\"Caramellos\",\n{\n            'v': 0,\n            'f': \"0\",\n        },\n{\n            'v': 0.0,\n            'f': \"0.0\",\n        }],\n [\"Cash, or other forms of legal tender\",\n{\n            'v': 0,\n            'f': \"0\",\n        },\n{\n            'v': 0.0,\n            'f': \"0.0\",\n        }],\n [\"Chardonnay\",\n{\n            'v': 0,\n            'f': \"0\",\n        },\n{\n            'v': 0.0,\n            'f': \"0.0\",\n        }],\n [\"Chick-o-Sticks (we don\\u00d5t know what that is)\",\n{\n            'v': 0,\n            'f': \"0\",\n        },\n{\n            'v': 0.0,\n            'f': \"0.0\",\n        }],\n [\"Chiclets\",\n{\n            'v': 0,\n            'f': \"0\",\n        },\n{\n            'v': 0.0,\n            'f': \"0.0\",\n        }],\n [\"Coffee Crisp\",\n{\n            'v': 0,\n            'f': \"0\",\n        },\n{\n            'v': 0.0,\n            'f': \"0.0\",\n        }],\n [\"Creepy Religious comics/Chick Tracts\",\n{\n            'v': 0,\n            'f': \"0\",\n        },\n{\n            'v': 0.0,\n            'f': \"0.0\",\n        }],\n [\"Dental paraphenalia\",\n{\n            'v': 0,\n            'f': \"0\",\n        },\n{\n            'v': 0.0,\n            'f': \"0.0\",\n        }],\n [\"Dots\",\n{\n            'v': 0,\n            'f': \"0\",\n        },\n{\n            'v': 0.0,\n            'f': \"0.0\",\n        }],\n [\"Dove Bars\",\n{\n            'v': 0,\n            'f': \"0\",\n        },\n{\n            'v': 0.0,\n            'f': \"0.0\",\n        }],\n [\"Fuzzy Peaches\",\n{\n            'v': 0,\n            'f': \"0\",\n        },\n{\n            'v': 0.0,\n            'f': \"0.0\",\n        }],\n [\"Generic Brand Acetaminophen\",\n{\n            'v': 0,\n            'f': \"0\",\n        },\n{\n            'v': 0.0,\n            'f': \"0.0\",\n        }],\n [\"Glow sticks\",\n{\n            'v': 0,\n            'f': \"0\",\n        },\n{\n            'v': 0.0,\n            'f': \"0.0\",\n        }],\n [\"Goo Goo Clusters\",\n{\n            'v': 0,\n            'f': \"0\",\n        },\n{\n            'v': 0.0,\n            'f': \"0.0\",\n        }],\n [\"Good N' Plenty\",\n{\n            'v': 0,\n            'f': \"0\",\n        },\n{\n            'v': 0.0,\n            'f': \"0.0\",\n        }],\n [\"Gum from baseball cards\",\n{\n            'v': 0,\n            'f': \"0\",\n        },\n{\n            'v': 0.0,\n            'f': \"0.0\",\n        }],\n [\"Gummy Bears straight up\",\n{\n            'v': 0,\n            'f': \"0\",\n        },\n{\n            'v': 0.0,\n            'f': \"0.0\",\n        }],\n [\"Hard Candy\",\n{\n            'v': 0,\n            'f': \"0\",\n        },\n{\n            'v': 0.0,\n            'f': \"0.0\",\n        }],\n [\"Healthy Fruit\",\n{\n            'v': 0,\n            'f': \"0\",\n        },\n{\n            'v': 0.0,\n            'f': \"0.0\",\n        }],\n [\"Heath Bar\",\n{\n            'v': 0,\n            'f': \"0\",\n        },\n{\n            'v': 0.0,\n            'f': \"0.0\",\n        }],\n [\"Hershey's Dark Chocolate\",\n{\n            'v': 0,\n            'f': \"0\",\n        },\n{\n            'v': 0.0,\n            'f': \"0.0\",\n        }],\n [\"Hershey\\u00d5s Milk Chocolate\",\n{\n            'v': 0,\n            'f': \"0\",\n        },\n{\n            'v': 0.0,\n            'f': \"0.0\",\n        }],\n [\"Hershey's Kisses\",\n{\n            'v': 0,\n            'f': \"0\",\n        },\n{\n            'v': 0.0,\n            'f': \"0.0\",\n        }],\n [\"Hugs (actual physical hugs)\",\n{\n            'v': 0,\n            'f': \"0\",\n        },\n{\n            'v': 0.0,\n            'f': \"0.0\",\n        }],\n [\"Jolly Rancher (bad flavor)\",\n{\n            'v': 0,\n            'f': \"0\",\n        },\n{\n            'v': 0.0,\n            'f': \"0.0\",\n        }],\n [\"Jolly Ranchers (good flavor)\",\n{\n            'v': 0,\n            'f': \"0\",\n        },\n{\n            'v': 0.0,\n            'f': \"0.0\",\n        }],\n [\"JoyJoy (Mit Iodine!)\",\n{\n            'v': 0,\n            'f': \"0\",\n        },\n{\n            'v': 0.0,\n            'f': \"0.0\",\n        }],\n [\"Junior Mints\",\n{\n            'v': 0,\n            'f': \"0\",\n        },\n{\n            'v': 0.0,\n            'f': \"0.0\",\n        }],\n [\"Senior Mints\",\n{\n            'v': 0,\n            'f': \"0\",\n        },\n{\n            'v': 0.0,\n            'f': \"0.0\",\n        }],\n [\"Kale smoothie\",\n{\n            'v': 0,\n            'f': \"0\",\n        },\n{\n            'v': 0.0,\n            'f': \"0.0\",\n        }],\n [\"Kinder Happy Hippo\",\n{\n            'v': 0,\n            'f': \"0\",\n        },\n{\n            'v': 0.0,\n            'f': \"0.0\",\n        }],\n [\"Kit Kat\",\n{\n            'v': 0,\n            'f': \"0\",\n        },\n{\n            'v': 0.0,\n            'f': \"0.0\",\n        }],\n [\"LaffyTaffy\",\n{\n            'v': 0,\n            'f': \"0\",\n        },\n{\n            'v': 0.0,\n            'f': \"0.0\",\n        }],\n [\"LemonHeads\",\n{\n            'v': 0,\n            'f': \"0\",\n        },\n{\n            'v': 0.0,\n            'f': \"0.0\",\n        }],\n [\"Licorice (not black)\",\n{\n            'v': 0,\n            'f': \"0\",\n        },\n{\n            'v': 0.0,\n            'f': \"0.0\",\n        }],\n [\"Licorice (yes black)\",\n{\n            'v': 0,\n            'f': \"0\",\n        },\n{\n            'v': 0.0,\n            'f': \"0.0\",\n        }],\n [\"Lindt Truffle\",\n{\n            'v': 0,\n            'f': \"0\",\n        },\n{\n            'v': 0.0,\n            'f': \"0.0\",\n        }],\n [\"Lollipops\",\n{\n            'v': 0,\n            'f': \"0\",\n        },\n{\n            'v': 0.0,\n            'f': \"0.0\",\n        }],\n [\"Mars\",\n{\n            'v': 0,\n            'f': \"0\",\n        },\n{\n            'v': 0.0,\n            'f': \"0.0\",\n        }],\n [\"Maynards\",\n{\n            'v': 0,\n            'f': \"0\",\n        },\n{\n            'v': 0.0,\n            'f': \"0.0\",\n        }],\n [\"Mike and Ike\",\n{\n            'v': 0,\n            'f': \"0\",\n        },\n{\n            'v': 0.0,\n            'f': \"0.0\",\n        }],\n [\"Milk Duds\",\n{\n            'v': 0,\n            'f': \"0\",\n        },\n{\n            'v': 0.0,\n            'f': \"0.0\",\n        }],\n [\"Milky Way\",\n{\n            'v': 0,\n            'f': \"0\",\n        },\n{\n            'v': 0.0,\n            'f': \"0.0\",\n        }],\n [\"Regular M&Ms\",\n{\n            'v': 0,\n            'f': \"0\",\n        },\n{\n            'v': 0.0,\n            'f': \"0.0\",\n        }],\n [\"Peanut M&M\\u00d5s\",\n{\n            'v': 0,\n            'f': \"0\",\n        },\n{\n            'v': 0.0,\n            'f': \"0.0\",\n        }],\n [\"Blue M&M's\",\n{\n            'v': 0,\n            'f': \"0\",\n        },\n{\n            'v': 0.0,\n            'f': \"0.0\",\n        }],\n [\"Red M&M's\",\n{\n            'v': 0,\n            'f': \"0\",\n        },\n{\n            'v': 0.0,\n            'f': \"0.0\",\n        }],\n [\"Green Party M&M's\",\n{\n            'v': 0,\n            'f': \"0\",\n        },\n{\n            'v': 0.0,\n            'f': \"0.0\",\n        }],\n [\"Independent M&M's\",\n{\n            'v': 0,\n            'f': \"0\",\n        },\n{\n            'v': 0.0,\n            'f': \"0.0\",\n        }],\n [\"Abstained from M&M'ing.\",\n{\n            'v': 0,\n            'f': \"0\",\n        },\n{\n            'v': 0.0,\n            'f': \"0.0\",\n        }],\n [\"Minibags of chips\",\n{\n            'v': 0,\n            'f': \"0\",\n        },\n{\n            'v': 0.0,\n            'f': \"0.0\",\n        }],\n [\"Mint Kisses\",\n{\n            'v': 0,\n            'f': \"0\",\n        },\n{\n            'v': 0.0,\n            'f': \"0.0\",\n        }],\n [\"Mint Juleps\",\n{\n            'v': 0,\n            'f': \"0\",\n        },\n{\n            'v': 0.0,\n            'f': \"0.0\",\n        }],\n [\"Mr. Goodbar\",\n{\n            'v': 0,\n            'f': \"0\",\n        },\n{\n            'v': 0.0,\n            'f': \"0.0\",\n        }],\n [\"Necco Wafers\",\n{\n            'v': 0,\n            'f': \"0\",\n        },\n{\n            'v': 0.0,\n            'f': \"0.0\",\n        }],\n [\"Nerds\",\n{\n            'v': 0,\n            'f': \"0\",\n        },\n{\n            'v': 0.0,\n            'f': \"0.0\",\n        }],\n [\"Nestle Crunch\",\n{\n            'v': 0,\n            'f': \"0\",\n        },\n{\n            'v': 0.0,\n            'f': \"0.0\",\n        }],\n [\"Now'n'Laters\",\n{\n            'v': 0,\n            'f': \"0\",\n        },\n{\n            'v': 0.0,\n            'f': \"0.0\",\n        }],\n [\"Peeps\",\n{\n            'v': 0,\n            'f': \"0\",\n        },\n{\n            'v': 0.0,\n            'f': \"0.0\",\n        }],\n [\"Pencils\",\n{\n            'v': 0,\n            'f': \"0\",\n        },\n{\n            'v': 0.0,\n            'f': \"0.0\",\n        }],\n [\"Pixy Stix\",\n{\n            'v': 0,\n            'f': \"0\",\n        },\n{\n            'v': 0.0,\n            'f': \"0.0\",\n        }],\n [\"Real Housewives of Orange County Season 9 Blue-Ray\",\n{\n            'v': 0,\n            'f': \"0\",\n        },\n{\n            'v': 0.0,\n            'f': \"0.0\",\n        }],\n [\"Reese\\u00d5s Peanut Butter Cups\",\n{\n            'v': 0,\n            'f': \"0\",\n        },\n{\n            'v': 0.0,\n            'f': \"0.0\",\n        }],\n [\"Reese's Pieces\",\n{\n            'v': 0,\n            'f': \"0\",\n        },\n{\n            'v': 0.0,\n            'f': \"0.0\",\n        }],\n [\"Reggie Jackson Bar\",\n{\n            'v': 0,\n            'f': \"0\",\n        },\n{\n            'v': 0.0,\n            'f': \"0.0\",\n        }],\n [\"Rolos\",\n{\n            'v': 0,\n            'f': \"0\",\n        },\n{\n            'v': 0.0,\n            'f': \"0.0\",\n        }],\n [\"Sandwich-sized bags filled with BooBerry Crunch\",\n{\n            'v': 0,\n            'f': \"0\",\n        },\n{\n            'v': 0.0,\n            'f': \"0.0\",\n        }],\n [\"Skittles\",\n{\n            'v': 0,\n            'f': \"0\",\n        },\n{\n            'v': 0.0,\n            'f': \"0.0\",\n        }],\n [\"Smarties (American)\",\n{\n            'v': 0,\n            'f': \"0\",\n        },\n{\n            'v': 0.0,\n            'f': \"0.0\",\n        }],\n [\"Smarties (Commonwealth)\",\n{\n            'v': 0,\n            'f': \"0\",\n        },\n{\n            'v': 0.0,\n            'f': \"0.0\",\n        }],\n [\"Snickers\",\n{\n            'v': 0,\n            'f': \"0\",\n        },\n{\n            'v': 0.0,\n            'f': \"0.0\",\n        }],\n [\"Sourpatch Kids (i.e. abominations of nature)\",\n{\n            'v': 0,\n            'f': \"0\",\n        },\n{\n            'v': 0.0,\n            'f': \"0.0\",\n        }],\n [\"Spotted Dick\",\n{\n            'v': 0,\n            'f': \"0\",\n        },\n{\n            'v': 0.0,\n            'f': \"0.0\",\n        }],\n [\"Starburst\",\n{\n            'v': 0,\n            'f': \"0\",\n        },\n{\n            'v': 0.0,\n            'f': \"0.0\",\n        }],\n [\"Sweet Tarts\",\n{\n            'v': 0,\n            'f': \"0\",\n        },\n{\n            'v': 0.0,\n            'f': \"0.0\",\n        }],\n [\"Swedish Fish\",\n{\n            'v': 0,\n            'f': \"0\",\n        },\n{\n            'v': 0.0,\n            'f': \"0.0\",\n        }],\n [\"Sweetums (a friend to diabetes)\",\n{\n            'v': 0,\n            'f': \"0\",\n        },\n{\n            'v': 0.0,\n            'f': \"0.0\",\n        }],\n [\"Take 5\",\n{\n            'v': 0,\n            'f': \"0\",\n        },\n{\n            'v': 0.0,\n            'f': \"0.0\",\n        }],\n [\"Tic Tacs\",\n{\n            'v': 0,\n            'f': \"0\",\n        },\n{\n            'v': 0.0,\n            'f': \"0.0\",\n        }],\n [\"Those odd marshmallow circus peanut things\",\n{\n            'v': 0,\n            'f': \"0\",\n        },\n{\n            'v': 0.0,\n            'f': \"0.0\",\n        }],\n [\"Three Musketeers\",\n{\n            'v': 0,\n            'f': \"0\",\n        },\n{\n            'v': 0.0,\n            'f': \"0.0\",\n        }],\n [\"Tolberone something or other\",\n{\n            'v': 0,\n            'f': \"0\",\n        },\n{\n            'v': 0.0,\n            'f': \"0.0\",\n        }],\n [\"Trail Mix\",\n{\n            'v': 0,\n            'f': \"0\",\n        },\n{\n            'v': 0.0,\n            'f': \"0.0\",\n        }],\n [\"Twix\",\n{\n            'v': 0,\n            'f': \"0\",\n        },\n{\n            'v': 0.0,\n            'f': \"0.0\",\n        }],\n [\"Vials of pure high fructose corn syrup, for main-lining into your vein\",\n{\n            'v': 0,\n            'f': \"0\",\n        },\n{\n            'v': 0.0,\n            'f': \"0.0\",\n        }],\n [\"Vicodin\",\n{\n            'v': 0,\n            'f': \"0\",\n        },\n{\n            'v': 0.0,\n            'f': \"0.0\",\n        }],\n [\"Whatchamacallit Bars\",\n{\n            'v': 0,\n            'f': \"0\",\n        },\n{\n            'v': 0.0,\n            'f': \"0.0\",\n        }],\n [\"White Bread\",\n{\n            'v': 0,\n            'f': \"0\",\n        },\n{\n            'v': 0.0,\n            'f': \"0.0\",\n        }],\n [\"Whole Wheat anything\",\n{\n            'v': 0,\n            'f': \"0\",\n        },\n{\n            'v': 0.0,\n            'f': \"0.0\",\n        }],\n [\"York Peppermint Patties\",\n{\n            'v': 0,\n            'f': \"0\",\n        },\n{\n            'v': 0.0,\n            'f': \"0.0\",\n        }],\n [\"DRESS\",\n{\n            'v': 27,\n            'f': \"27\",\n        },\n{\n            'v': 1.6822429906542056,\n            'f': \"1.6822429906542056\",\n        }],\n [\"DAY\",\n{\n            'v': 11,\n            'f': \"11\",\n        },\n{\n            'v': 0.6853582554517134,\n            'f': \"0.6853582554517134\",\n        }]],\n        columns: [[\"string\", \"columns\"], [\"number\", \"totalNans\"], [\"number\", \"percentages\"]],\n        columnOptions: [],\n        rowsPerPage: 20,\n        helpUrl: \"https://colab.research.google.com/notebooks/data_table.ipynb\",\n        suppressOutputScrolling: true,\n        minimumWidth: undefined,\n      });\n    ",
            "text/plain": [
              "<google.colab.data_table.DataTable object>"
            ]
          },
          "metadata": {},
          "execution_count": 43
        }
      ]
    },
    {
      "cell_type": "markdown",
      "source": [
        "## País"
      ],
      "metadata": {
        "id": "LwbJbf6CeK7A"
      }
    },
    {
      "cell_type": "code",
      "source": [
        "df['COUNTRY'].unique()"
      ],
      "metadata": {
        "colab": {
          "base_uri": "https://localhost:8080/"
        },
        "id": "F2I-3yIoR816",
        "outputId": "e0ffb70d-8eeb-4292-fbd5-3efee70e0d18"
      },
      "execution_count": null,
      "outputs": [
        {
          "output_type": "execute_result",
          "data": {
            "text/plain": [
              "array(['USA ', 'us', 'usa', nan, 'canada', 'Canada', 'Us', 'US', 'USA',\n",
              "       'uk', 'United States', 'united states', 'United staes',\n",
              "       'United Kingdom', 'United States of America', 'UAE',\n",
              "       'United States ', 'England', 'Usa', 'canada ', 'United states',\n",
              "       'USAUSAUSA', 'america', 'france', 'United States of America ',\n",
              "       'U.S.A.', 'Mexico', 'Canada ', 'united states of america',\n",
              "       'US of A', 'UK', 'Unites States', 'The United States',\n",
              "       'North Carolina ', 'Netherlands', 'Earth', 'U S', 'u.s.',\n",
              "       'Costa Rica', 'The United States of America', 'insanity lately',\n",
              "       'Greece', 'USA? Hard to tell anymore..', \"'merica\", 'United State',\n",
              "       'France', 'U.S.', 'A', 'Can', 'Canae', 'Trumpistan', 'Ireland',\n",
              "       'United Sates', 'Korea', 'Australia', 'California', 'Japan', 'USa',\n",
              "       'I pretend to be from Canada, but I am really from the United States.',\n",
              "       'Usa ', 'Iceland', 'Scotland', 'Denmark', 'France ', 'Uk',\n",
              "       'Switzerland', 'Ahem....Amerca', 'South Korea', 'New Jersey',\n",
              "       'CANADA', 'United Stated', 'Germany', 'America', 'United Statss',\n",
              "       'endland', 'Atlantis', 'murrika', 'united States ', 'germany',\n",
              "       'N. America', 'Singapore', 'USSA', 'Taiwan', 'China', 'spain',\n",
              "       'Narnia', 'u s a', 'United Statea',\n",
              "       'subscribe to dm4uz3 on youtube', 'USA USA USA!!!!',\n",
              "       \"I don't know anymore\", 'Fear and Loathing'], dtype=object)"
            ]
          },
          "metadata": {},
          "execution_count": 44
        }
      ]
    },
    {
      "cell_type": "markdown",
      "source": [
        "hay muchas formas en las que escriben los paises, empezaremos por limpiar estados unidos"
      ],
      "metadata": {
        "id": "5CjTd9lFeNwf"
      }
    },
    {
      "cell_type": "code",
      "source": [
        "usa = ['USA ', 'us', 'usa',  'Us', 'US', 'USA',\n",
        "       'United States', 'united states', 'United staes','United States of America', \n",
        "       'United States ',  'Usa', 'United states',\n",
        "       'USAUSAUSA', 'america',  'United States of America ',\n",
        "       'U.S.A.',  'united states of america',\n",
        "       'US of A',  'Unites States', 'The United States',\n",
        "       'North Carolina ', 'U S', 'u.s.', 'The United States of America',  'USA? Hard to tell anymore..', \"'merica\", 'United State', 'U.S.',  'Trumpistan',\n",
        "       'United Sates', 'California','USa',\n",
        "       'I pretend to be from Canada, but I am really from the United States.',\n",
        "       'Usa ', 'Ahem....Amerca',  'New Jersey','United Stated','America', 'United Statss', 'united States ',\n",
        "       'N. America',  'USSA', 'u s a', 'United Statea', 'USA USA USA!!!!',\n",
        "       ]"
      ],
      "metadata": {
        "id": "K4coebwkSWbO"
      },
      "execution_count": null,
      "outputs": []
    },
    {
      "cell_type": "code",
      "source": [
        "df['COUNTRY'] = df['COUNTRY'].replace(usa,'USA')"
      ],
      "metadata": {
        "id": "v6P_2QD1R80H"
      },
      "execution_count": null,
      "outputs": []
    },
    {
      "cell_type": "code",
      "source": [
        "df['COUNTRY'].unique()"
      ],
      "metadata": {
        "colab": {
          "base_uri": "https://localhost:8080/"
        },
        "id": "YKrx3OT2R8xS",
        "outputId": "dfd8cdd2-2654-4f6a-85d8-8d09439c6816"
      },
      "execution_count": null,
      "outputs": [
        {
          "output_type": "execute_result",
          "data": {
            "text/plain": [
              "array(['USA', nan, 'canada', 'Canada', 'uk', 'United Kingdom', 'UAE',\n",
              "       'England', 'canada ', 'france', 'Mexico', 'Canada ', 'UK',\n",
              "       'Netherlands', 'Earth', 'Costa Rica', 'insanity lately', 'Greece',\n",
              "       'France', 'A', 'Can', 'Canae', 'Ireland', 'Korea', 'Australia',\n",
              "       'Japan', 'Iceland', 'Scotland', 'Denmark', 'France ', 'Uk',\n",
              "       'Switzerland', 'South Korea', 'CANADA', 'Germany', 'endland',\n",
              "       'Atlantis', 'murrika', 'germany', 'Singapore', 'Taiwan', 'China',\n",
              "       'spain', 'Narnia', 'subscribe to dm4uz3 on youtube',\n",
              "       \"I don't know anymore\", 'Fear and Loathing'], dtype=object)"
            ]
          },
          "metadata": {},
          "execution_count": 47
        }
      ]
    },
    {
      "cell_type": "markdown",
      "source": [
        "Ahora Canada"
      ],
      "metadata": {
        "id": "x5PT6F1VeUT1"
      }
    },
    {
      "cell_type": "code",
      "source": [
        "canada = ['canada', 'Canada',  'canada ',  'Canada ', 'Can', 'Canae',  'CANADA',]"
      ],
      "metadata": {
        "id": "qjw4hBIZR8uO"
      },
      "execution_count": null,
      "outputs": []
    },
    {
      "cell_type": "code",
      "source": [
        "df['COUNTRY'] = df['COUNTRY'].replace(canada,'Canada')"
      ],
      "metadata": {
        "id": "CxTP0JitR8rh"
      },
      "execution_count": null,
      "outputs": []
    },
    {
      "cell_type": "code",
      "source": [
        "df['COUNTRY'].unique()"
      ],
      "metadata": {
        "colab": {
          "base_uri": "https://localhost:8080/"
        },
        "id": "IZcfs_O1R8pa",
        "outputId": "4fbbdb2e-a25f-4bbf-fdd6-d7cf9868c0d3"
      },
      "execution_count": null,
      "outputs": [
        {
          "output_type": "execute_result",
          "data": {
            "text/plain": [
              "array(['USA', nan, 'Canada', 'uk', 'United Kingdom', 'UAE', 'England',\n",
              "       'france', 'Mexico', 'UK', 'Netherlands', 'Earth', 'Costa Rica',\n",
              "       'insanity lately', 'Greece', 'France', 'A', 'Ireland', 'Korea',\n",
              "       'Australia', 'Japan', 'Iceland', 'Scotland', 'Denmark', 'France ',\n",
              "       'Uk', 'Switzerland', 'South Korea', 'Germany', 'endland',\n",
              "       'Atlantis', 'murrika', 'germany', 'Singapore', 'Taiwan', 'China',\n",
              "       'spain', 'Narnia', 'subscribe to dm4uz3 on youtube',\n",
              "       \"I don't know anymore\", 'Fear and Loathing'], dtype=object)"
            ]
          },
          "metadata": {},
          "execution_count": 50
        }
      ]
    },
    {
      "cell_type": "markdown",
      "source": [
        "Ahora Reino Unido"
      ],
      "metadata": {
        "id": "SzzsI0XdeWWW"
      }
    },
    {
      "cell_type": "code",
      "source": [
        "uk = ['uk', 'United Kingdom',  'England',\n",
        "        'UK', \n",
        "       'Uk',  'endland',\n",
        "       ]"
      ],
      "metadata": {
        "id": "xD0YRAq0TcDY"
      },
      "execution_count": null,
      "outputs": []
    },
    {
      "cell_type": "code",
      "source": [
        "df['COUNTRY'] = df['COUNTRY'].replace(uk,'UK')\n",
        "df['COUNTRY'].unique()"
      ],
      "metadata": {
        "colab": {
          "base_uri": "https://localhost:8080/"
        },
        "id": "C6UpbbfTTcA8",
        "outputId": "a322358c-d24f-49e8-ec7d-0a2ab22d5f91"
      },
      "execution_count": null,
      "outputs": [
        {
          "output_type": "execute_result",
          "data": {
            "text/plain": [
              "array(['USA', nan, 'Canada', 'UK', 'UAE', 'france', 'Mexico',\n",
              "       'Netherlands', 'Earth', 'Costa Rica', 'insanity lately', 'Greece',\n",
              "       'France', 'A', 'Ireland', 'Korea', 'Australia', 'Japan', 'Iceland',\n",
              "       'Scotland', 'Denmark', 'France ', 'Switzerland', 'South Korea',\n",
              "       'Germany', 'Atlantis', 'murrika', 'germany', 'Singapore', 'Taiwan',\n",
              "       'China', 'spain', 'Narnia', 'subscribe to dm4uz3 on youtube',\n",
              "       \"I don't know anymore\", 'Fear and Loathing'], dtype=object)"
            ]
          },
          "metadata": {},
          "execution_count": 52
        }
      ]
    },
    {
      "cell_type": "markdown",
      "source": [
        "Pondremos vacios los datos que no son paises conocidos o paises inventados"
      ],
      "metadata": {
        "id": "lWu3TSHdeZYH"
      }
    },
    {
      "cell_type": "code",
      "source": [
        "empty = [ 'Earth','insanity lately',  'A', 'Atlantis', 'murrika', 'Narnia', 'subscribe to dm4uz3 on youtube',\n",
        "       \"I don't know anymore\", 'Fear and Loathing']"
      ],
      "metadata": {
        "id": "I84F8BXRTb9w"
      },
      "execution_count": null,
      "outputs": []
    },
    {
      "cell_type": "code",
      "source": [
        "df['COUNTRY'] = df['COUNTRY'].replace(empty,np.nan)\n",
        "df['COUNTRY'].unique()"
      ],
      "metadata": {
        "colab": {
          "base_uri": "https://localhost:8080/"
        },
        "id": "mm0JY_CtTb4k",
        "outputId": "94e1fbab-694d-4b41-ef21-42995704d571"
      },
      "execution_count": null,
      "outputs": [
        {
          "output_type": "execute_result",
          "data": {
            "text/plain": [
              "array(['USA', nan, 'Canada', 'UK', 'UAE', 'france', 'Mexico',\n",
              "       'Netherlands', 'Costa Rica', 'Greece', 'France', 'Ireland',\n",
              "       'Korea', 'Australia', 'Japan', 'Iceland', 'Scotland', 'Denmark',\n",
              "       'France ', 'Switzerland', 'South Korea', 'Germany', 'germany',\n",
              "       'Singapore', 'Taiwan', 'China', 'spain'], dtype=object)"
            ]
          },
          "metadata": {},
          "execution_count": 54
        }
      ]
    },
    {
      "cell_type": "markdown",
      "source": [
        "Ponemos los nombres de paises en mayusculas y les quitamos los espacios al final y principio ¿Porqué no se nos ocurrio eso primero? ✍\n",
        "\n"
      ],
      "metadata": {
        "id": "7tEg54U2ehlE"
      }
    },
    {
      "cell_type": "code",
      "source": [
        "df['COUNTRY'] = df['COUNTRY'].str.upper()\n",
        "df['COUNTRY']=df['COUNTRY'].str.strip()"
      ],
      "metadata": {
        "id": "msgDWypwUDOm"
      },
      "execution_count": null,
      "outputs": []
    },
    {
      "cell_type": "markdown",
      "source": [
        "Verificamos que no tengamos duplicados"
      ],
      "metadata": {
        "id": "wGw8x6e4VJAg"
      }
    },
    {
      "cell_type": "code",
      "source": [
        "pd.Series(df['COUNTRY'].unique()).sort_values()"
      ],
      "metadata": {
        "colab": {
          "base_uri": "https://localhost:8080/"
        },
        "id": "JC9qGW7mUDMc",
        "outputId": "f89a56c7-aea3-4a47-a76b-5045a288cf64"
      },
      "execution_count": null,
      "outputs": [
        {
          "output_type": "execute_result",
          "data": {
            "text/plain": [
              "12      AUSTRALIA\n",
              "2          CANADA\n",
              "22          CHINA\n",
              "8      COSTA RICA\n",
              "16        DENMARK\n",
              "5          FRANCE\n",
              "19        GERMANY\n",
              "9          GREECE\n",
              "14        ICELAND\n",
              "10        IRELAND\n",
              "13          JAPAN\n",
              "11          KOREA\n",
              "6          MEXICO\n",
              "7     NETHERLANDS\n",
              "15       SCOTLAND\n",
              "20      SINGAPORE\n",
              "18    SOUTH KOREA\n",
              "23          SPAIN\n",
              "17    SWITZERLAND\n",
              "21         TAIWAN\n",
              "4             UAE\n",
              "3              UK\n",
              "0             USA\n",
              "1             NaN\n",
              "dtype: object"
            ]
          },
          "metadata": {},
          "execution_count": 56
        }
      ]
    },
    {
      "cell_type": "markdown",
      "source": [
        "Asignamos los vacios a un pais que se llama 'No respondio'"
      ],
      "metadata": {
        "id": "3mIZHpgbVMh2"
      }
    },
    {
      "cell_type": "code",
      "source": [
        "df['COUNTRY']=df['COUNTRY'].fillna('NO RESPONDIO')"
      ],
      "metadata": {
        "id": "XUya2FhmUDJp"
      },
      "execution_count": null,
      "outputs": []
    },
    {
      "cell_type": "code",
      "source": [
        "porcentaje_vacios()"
      ],
      "metadata": {
        "colab": {
          "base_uri": "https://localhost:8080/",
          "height": 525
        },
        "id": "6garwU5JUDGY",
        "outputId": "05b570f8-3172-4e7a-804b-6f731b02b852"
      },
      "execution_count": null,
      "outputs": [
        {
          "output_type": "execute_result",
          "data": {
            "text/html": [
              "<div>\n",
              "<style scoped>\n",
              "    .dataframe tbody tr th:only-of-type {\n",
              "        vertical-align: middle;\n",
              "    }\n",
              "\n",
              "    .dataframe tbody tr th {\n",
              "        vertical-align: top;\n",
              "    }\n",
              "\n",
              "    .dataframe thead th {\n",
              "        text-align: right;\n",
              "    }\n",
              "</style>\n",
              "<table border=\"1\" class=\"dataframe\">\n",
              "  <thead>\n",
              "    <tr style=\"text-align: right;\">\n",
              "      <th></th>\n",
              "      <th>columns</th>\n",
              "      <th>totalNans</th>\n",
              "      <th>percentages</th>\n",
              "    </tr>\n",
              "  </thead>\n",
              "  <tbody>\n",
              "    <tr>\n",
              "      <th>GOING OUT?</th>\n",
              "      <td>GOING OUT?</td>\n",
              "      <td>53</td>\n",
              "      <td>3.302181</td>\n",
              "    </tr>\n",
              "    <tr>\n",
              "      <th>GENDER</th>\n",
              "      <td>GENDER</td>\n",
              "      <td>9</td>\n",
              "      <td>0.560748</td>\n",
              "    </tr>\n",
              "    <tr>\n",
              "      <th>AGE</th>\n",
              "      <td>AGE</td>\n",
              "      <td>0</td>\n",
              "      <td>0.000000</td>\n",
              "    </tr>\n",
              "    <tr>\n",
              "      <th>COUNTRY</th>\n",
              "      <td>COUNTRY</td>\n",
              "      <td>0</td>\n",
              "      <td>0.000000</td>\n",
              "    </tr>\n",
              "    <tr>\n",
              "      <th>STATE, PROVINCE, COUNTY, ETC</th>\n",
              "      <td>STATE, PROVINCE, COUNTY, ETC</td>\n",
              "      <td>35</td>\n",
              "      <td>2.180685</td>\n",
              "    </tr>\n",
              "    <tr>\n",
              "      <th>...</th>\n",
              "      <td>...</td>\n",
              "      <td>...</td>\n",
              "      <td>...</td>\n",
              "    </tr>\n",
              "    <tr>\n",
              "      <th>White Bread</th>\n",
              "      <td>White Bread</td>\n",
              "      <td>0</td>\n",
              "      <td>0.000000</td>\n",
              "    </tr>\n",
              "    <tr>\n",
              "      <th>Whole Wheat anything</th>\n",
              "      <td>Whole Wheat anything</td>\n",
              "      <td>0</td>\n",
              "      <td>0.000000</td>\n",
              "    </tr>\n",
              "    <tr>\n",
              "      <th>York Peppermint Patties</th>\n",
              "      <td>York Peppermint Patties</td>\n",
              "      <td>0</td>\n",
              "      <td>0.000000</td>\n",
              "    </tr>\n",
              "    <tr>\n",
              "      <th>DRESS</th>\n",
              "      <td>DRESS</td>\n",
              "      <td>27</td>\n",
              "      <td>1.682243</td>\n",
              "    </tr>\n",
              "    <tr>\n",
              "      <th>DAY</th>\n",
              "      <td>DAY</td>\n",
              "      <td>11</td>\n",
              "      <td>0.685358</td>\n",
              "    </tr>\n",
              "  </tbody>\n",
              "</table>\n",
              "<p>110 rows × 3 columns</p>\n",
              "</div>"
            ],
            "application/vnd.google.colaboratory.module+javascript": "\n      import \"https://ssl.gstatic.com/colaboratory/data_table/a8bd4d5e58f96183/data_table.js\";\n\n      window.createDataTable({\n        data: [[\"GOING OUT?\",\n{\n            'v': 53,\n            'f': \"53\",\n        },\n{\n            'v': 3.3021806853582554,\n            'f': \"3.3021806853582554\",\n        }],\n [\"GENDER\",\n{\n            'v': 9,\n            'f': \"9\",\n        },\n{\n            'v': 0.5607476635514018,\n            'f': \"0.5607476635514018\",\n        }],\n [\"AGE\",\n{\n            'v': 0,\n            'f': \"0\",\n        },\n{\n            'v': 0.0,\n            'f': \"0.0\",\n        }],\n [\"COUNTRY\",\n{\n            'v': 0,\n            'f': \"0\",\n        },\n{\n            'v': 0.0,\n            'f': \"0.0\",\n        }],\n [\"STATE, PROVINCE, COUNTY, ETC\",\n{\n            'v': 35,\n            'f': \"35\",\n        },\n{\n            'v': 2.1806853582554515,\n            'f': \"2.1806853582554515\",\n        }],\n [\"100 Grand Bar\",\n{\n            'v': 0,\n            'f': \"0\",\n        },\n{\n            'v': 0.0,\n            'f': \"0.0\",\n        }],\n [\"Anonymous brown globs that come in black and orange wrappers\\t(a.k.a. Mary Janes)\",\n{\n            'v': 0,\n            'f': \"0\",\n        },\n{\n            'v': 0.0,\n            'f': \"0.0\",\n        }],\n [\"Any full-sized candy bar\",\n{\n            'v': 0,\n            'f': \"0\",\n        },\n{\n            'v': 0.0,\n            'f': \"0.0\",\n        }],\n [\"Black Jacks\",\n{\n            'v': 0,\n            'f': \"0\",\n        },\n{\n            'v': 0.0,\n            'f': \"0.0\",\n        }],\n [\"Bonkers (the candy)\",\n{\n            'v': 0,\n            'f': \"0\",\n        },\n{\n            'v': 0.0,\n            'f': \"0.0\",\n        }],\n [\"Bonkers (the board game)\",\n{\n            'v': 0,\n            'f': \"0\",\n        },\n{\n            'v': 0.0,\n            'f': \"0.0\",\n        }],\n [\"Bottle Caps\",\n{\n            'v': 0,\n            'f': \"0\",\n        },\n{\n            'v': 0.0,\n            'f': \"0.0\",\n        }],\n [\"Box'o'Raisins\",\n{\n            'v': 0,\n            'f': \"0\",\n        },\n{\n            'v': 0.0,\n            'f': \"0.0\",\n        }],\n [\"Broken glow stick\",\n{\n            'v': 0,\n            'f': \"0\",\n        },\n{\n            'v': 0.0,\n            'f': \"0.0\",\n        }],\n [\"Butterfinger\",\n{\n            'v': 0,\n            'f': \"0\",\n        },\n{\n            'v': 0.0,\n            'f': \"0.0\",\n        }],\n [\"Cadbury Creme Eggs\",\n{\n            'v': 0,\n            'f': \"0\",\n        },\n{\n            'v': 0.0,\n            'f': \"0.0\",\n        }],\n [\"Candy Corn\",\n{\n            'v': 0,\n            'f': \"0\",\n        },\n{\n            'v': 0.0,\n            'f': \"0.0\",\n        }],\n [\"Candy that is clearly just the stuff given out for free at restaurants\",\n{\n            'v': 0,\n            'f': \"0\",\n        },\n{\n            'v': 0.0,\n            'f': \"0.0\",\n        }],\n [\"Caramellos\",\n{\n            'v': 0,\n            'f': \"0\",\n        },\n{\n            'v': 0.0,\n            'f': \"0.0\",\n        }],\n [\"Cash, or other forms of legal tender\",\n{\n            'v': 0,\n            'f': \"0\",\n        },\n{\n            'v': 0.0,\n            'f': \"0.0\",\n        }],\n [\"Chardonnay\",\n{\n            'v': 0,\n            'f': \"0\",\n        },\n{\n            'v': 0.0,\n            'f': \"0.0\",\n        }],\n [\"Chick-o-Sticks (we don\\u00d5t know what that is)\",\n{\n            'v': 0,\n            'f': \"0\",\n        },\n{\n            'v': 0.0,\n            'f': \"0.0\",\n        }],\n [\"Chiclets\",\n{\n            'v': 0,\n            'f': \"0\",\n        },\n{\n            'v': 0.0,\n            'f': \"0.0\",\n        }],\n [\"Coffee Crisp\",\n{\n            'v': 0,\n            'f': \"0\",\n        },\n{\n            'v': 0.0,\n            'f': \"0.0\",\n        }],\n [\"Creepy Religious comics/Chick Tracts\",\n{\n            'v': 0,\n            'f': \"0\",\n        },\n{\n            'v': 0.0,\n            'f': \"0.0\",\n        }],\n [\"Dental paraphenalia\",\n{\n            'v': 0,\n            'f': \"0\",\n        },\n{\n            'v': 0.0,\n            'f': \"0.0\",\n        }],\n [\"Dots\",\n{\n            'v': 0,\n            'f': \"0\",\n        },\n{\n            'v': 0.0,\n            'f': \"0.0\",\n        }],\n [\"Dove Bars\",\n{\n            'v': 0,\n            'f': \"0\",\n        },\n{\n            'v': 0.0,\n            'f': \"0.0\",\n        }],\n [\"Fuzzy Peaches\",\n{\n            'v': 0,\n            'f': \"0\",\n        },\n{\n            'v': 0.0,\n            'f': \"0.0\",\n        }],\n [\"Generic Brand Acetaminophen\",\n{\n            'v': 0,\n            'f': \"0\",\n        },\n{\n            'v': 0.0,\n            'f': \"0.0\",\n        }],\n [\"Glow sticks\",\n{\n            'v': 0,\n            'f': \"0\",\n        },\n{\n            'v': 0.0,\n            'f': \"0.0\",\n        }],\n [\"Goo Goo Clusters\",\n{\n            'v': 0,\n            'f': \"0\",\n        },\n{\n            'v': 0.0,\n            'f': \"0.0\",\n        }],\n [\"Good N' Plenty\",\n{\n            'v': 0,\n            'f': \"0\",\n        },\n{\n            'v': 0.0,\n            'f': \"0.0\",\n        }],\n [\"Gum from baseball cards\",\n{\n            'v': 0,\n            'f': \"0\",\n        },\n{\n            'v': 0.0,\n            'f': \"0.0\",\n        }],\n [\"Gummy Bears straight up\",\n{\n            'v': 0,\n            'f': \"0\",\n        },\n{\n            'v': 0.0,\n            'f': \"0.0\",\n        }],\n [\"Hard Candy\",\n{\n            'v': 0,\n            'f': \"0\",\n        },\n{\n            'v': 0.0,\n            'f': \"0.0\",\n        }],\n [\"Healthy Fruit\",\n{\n            'v': 0,\n            'f': \"0\",\n        },\n{\n            'v': 0.0,\n            'f': \"0.0\",\n        }],\n [\"Heath Bar\",\n{\n            'v': 0,\n            'f': \"0\",\n        },\n{\n            'v': 0.0,\n            'f': \"0.0\",\n        }],\n [\"Hershey's Dark Chocolate\",\n{\n            'v': 0,\n            'f': \"0\",\n        },\n{\n            'v': 0.0,\n            'f': \"0.0\",\n        }],\n [\"Hershey\\u00d5s Milk Chocolate\",\n{\n            'v': 0,\n            'f': \"0\",\n        },\n{\n            'v': 0.0,\n            'f': \"0.0\",\n        }],\n [\"Hershey's Kisses\",\n{\n            'v': 0,\n            'f': \"0\",\n        },\n{\n            'v': 0.0,\n            'f': \"0.0\",\n        }],\n [\"Hugs (actual physical hugs)\",\n{\n            'v': 0,\n            'f': \"0\",\n        },\n{\n            'v': 0.0,\n            'f': \"0.0\",\n        }],\n [\"Jolly Rancher (bad flavor)\",\n{\n            'v': 0,\n            'f': \"0\",\n        },\n{\n            'v': 0.0,\n            'f': \"0.0\",\n        }],\n [\"Jolly Ranchers (good flavor)\",\n{\n            'v': 0,\n            'f': \"0\",\n        },\n{\n            'v': 0.0,\n            'f': \"0.0\",\n        }],\n [\"JoyJoy (Mit Iodine!)\",\n{\n            'v': 0,\n            'f': \"0\",\n        },\n{\n            'v': 0.0,\n            'f': \"0.0\",\n        }],\n [\"Junior Mints\",\n{\n            'v': 0,\n            'f': \"0\",\n        },\n{\n            'v': 0.0,\n            'f': \"0.0\",\n        }],\n [\"Senior Mints\",\n{\n            'v': 0,\n            'f': \"0\",\n        },\n{\n            'v': 0.0,\n            'f': \"0.0\",\n        }],\n [\"Kale smoothie\",\n{\n            'v': 0,\n            'f': \"0\",\n        },\n{\n            'v': 0.0,\n            'f': \"0.0\",\n        }],\n [\"Kinder Happy Hippo\",\n{\n            'v': 0,\n            'f': \"0\",\n        },\n{\n            'v': 0.0,\n            'f': \"0.0\",\n        }],\n [\"Kit Kat\",\n{\n            'v': 0,\n            'f': \"0\",\n        },\n{\n            'v': 0.0,\n            'f': \"0.0\",\n        }],\n [\"LaffyTaffy\",\n{\n            'v': 0,\n            'f': \"0\",\n        },\n{\n            'v': 0.0,\n            'f': \"0.0\",\n        }],\n [\"LemonHeads\",\n{\n            'v': 0,\n            'f': \"0\",\n        },\n{\n            'v': 0.0,\n            'f': \"0.0\",\n        }],\n [\"Licorice (not black)\",\n{\n            'v': 0,\n            'f': \"0\",\n        },\n{\n            'v': 0.0,\n            'f': \"0.0\",\n        }],\n [\"Licorice (yes black)\",\n{\n            'v': 0,\n            'f': \"0\",\n        },\n{\n            'v': 0.0,\n            'f': \"0.0\",\n        }],\n [\"Lindt Truffle\",\n{\n            'v': 0,\n            'f': \"0\",\n        },\n{\n            'v': 0.0,\n            'f': \"0.0\",\n        }],\n [\"Lollipops\",\n{\n            'v': 0,\n            'f': \"0\",\n        },\n{\n            'v': 0.0,\n            'f': \"0.0\",\n        }],\n [\"Mars\",\n{\n            'v': 0,\n            'f': \"0\",\n        },\n{\n            'v': 0.0,\n            'f': \"0.0\",\n        }],\n [\"Maynards\",\n{\n            'v': 0,\n            'f': \"0\",\n        },\n{\n            'v': 0.0,\n            'f': \"0.0\",\n        }],\n [\"Mike and Ike\",\n{\n            'v': 0,\n            'f': \"0\",\n        },\n{\n            'v': 0.0,\n            'f': \"0.0\",\n        }],\n [\"Milk Duds\",\n{\n            'v': 0,\n            'f': \"0\",\n        },\n{\n            'v': 0.0,\n            'f': \"0.0\",\n        }],\n [\"Milky Way\",\n{\n            'v': 0,\n            'f': \"0\",\n        },\n{\n            'v': 0.0,\n            'f': \"0.0\",\n        }],\n [\"Regular M&Ms\",\n{\n            'v': 0,\n            'f': \"0\",\n        },\n{\n            'v': 0.0,\n            'f': \"0.0\",\n        }],\n [\"Peanut M&M\\u00d5s\",\n{\n            'v': 0,\n            'f': \"0\",\n        },\n{\n            'v': 0.0,\n            'f': \"0.0\",\n        }],\n [\"Blue M&M's\",\n{\n            'v': 0,\n            'f': \"0\",\n        },\n{\n            'v': 0.0,\n            'f': \"0.0\",\n        }],\n [\"Red M&M's\",\n{\n            'v': 0,\n            'f': \"0\",\n        },\n{\n            'v': 0.0,\n            'f': \"0.0\",\n        }],\n [\"Green Party M&M's\",\n{\n            'v': 0,\n            'f': \"0\",\n        },\n{\n            'v': 0.0,\n            'f': \"0.0\",\n        }],\n [\"Independent M&M's\",\n{\n            'v': 0,\n            'f': \"0\",\n        },\n{\n            'v': 0.0,\n            'f': \"0.0\",\n        }],\n [\"Abstained from M&M'ing.\",\n{\n            'v': 0,\n            'f': \"0\",\n        },\n{\n            'v': 0.0,\n            'f': \"0.0\",\n        }],\n [\"Minibags of chips\",\n{\n            'v': 0,\n            'f': \"0\",\n        },\n{\n            'v': 0.0,\n            'f': \"0.0\",\n        }],\n [\"Mint Kisses\",\n{\n            'v': 0,\n            'f': \"0\",\n        },\n{\n            'v': 0.0,\n            'f': \"0.0\",\n        }],\n [\"Mint Juleps\",\n{\n            'v': 0,\n            'f': \"0\",\n        },\n{\n            'v': 0.0,\n            'f': \"0.0\",\n        }],\n [\"Mr. Goodbar\",\n{\n            'v': 0,\n            'f': \"0\",\n        },\n{\n            'v': 0.0,\n            'f': \"0.0\",\n        }],\n [\"Necco Wafers\",\n{\n            'v': 0,\n            'f': \"0\",\n        },\n{\n            'v': 0.0,\n            'f': \"0.0\",\n        }],\n [\"Nerds\",\n{\n            'v': 0,\n            'f': \"0\",\n        },\n{\n            'v': 0.0,\n            'f': \"0.0\",\n        }],\n [\"Nestle Crunch\",\n{\n            'v': 0,\n            'f': \"0\",\n        },\n{\n            'v': 0.0,\n            'f': \"0.0\",\n        }],\n [\"Now'n'Laters\",\n{\n            'v': 0,\n            'f': \"0\",\n        },\n{\n            'v': 0.0,\n            'f': \"0.0\",\n        }],\n [\"Peeps\",\n{\n            'v': 0,\n            'f': \"0\",\n        },\n{\n            'v': 0.0,\n            'f': \"0.0\",\n        }],\n [\"Pencils\",\n{\n            'v': 0,\n            'f': \"0\",\n        },\n{\n            'v': 0.0,\n            'f': \"0.0\",\n        }],\n [\"Pixy Stix\",\n{\n            'v': 0,\n            'f': \"0\",\n        },\n{\n            'v': 0.0,\n            'f': \"0.0\",\n        }],\n [\"Real Housewives of Orange County Season 9 Blue-Ray\",\n{\n            'v': 0,\n            'f': \"0\",\n        },\n{\n            'v': 0.0,\n            'f': \"0.0\",\n        }],\n [\"Reese\\u00d5s Peanut Butter Cups\",\n{\n            'v': 0,\n            'f': \"0\",\n        },\n{\n            'v': 0.0,\n            'f': \"0.0\",\n        }],\n [\"Reese's Pieces\",\n{\n            'v': 0,\n            'f': \"0\",\n        },\n{\n            'v': 0.0,\n            'f': \"0.0\",\n        }],\n [\"Reggie Jackson Bar\",\n{\n            'v': 0,\n            'f': \"0\",\n        },\n{\n            'v': 0.0,\n            'f': \"0.0\",\n        }],\n [\"Rolos\",\n{\n            'v': 0,\n            'f': \"0\",\n        },\n{\n            'v': 0.0,\n            'f': \"0.0\",\n        }],\n [\"Sandwich-sized bags filled with BooBerry Crunch\",\n{\n            'v': 0,\n            'f': \"0\",\n        },\n{\n            'v': 0.0,\n            'f': \"0.0\",\n        }],\n [\"Skittles\",\n{\n            'v': 0,\n            'f': \"0\",\n        },\n{\n            'v': 0.0,\n            'f': \"0.0\",\n        }],\n [\"Smarties (American)\",\n{\n            'v': 0,\n            'f': \"0\",\n        },\n{\n            'v': 0.0,\n            'f': \"0.0\",\n        }],\n [\"Smarties (Commonwealth)\",\n{\n            'v': 0,\n            'f': \"0\",\n        },\n{\n            'v': 0.0,\n            'f': \"0.0\",\n        }],\n [\"Snickers\",\n{\n            'v': 0,\n            'f': \"0\",\n        },\n{\n            'v': 0.0,\n            'f': \"0.0\",\n        }],\n [\"Sourpatch Kids (i.e. abominations of nature)\",\n{\n            'v': 0,\n            'f': \"0\",\n        },\n{\n            'v': 0.0,\n            'f': \"0.0\",\n        }],\n [\"Spotted Dick\",\n{\n            'v': 0,\n            'f': \"0\",\n        },\n{\n            'v': 0.0,\n            'f': \"0.0\",\n        }],\n [\"Starburst\",\n{\n            'v': 0,\n            'f': \"0\",\n        },\n{\n            'v': 0.0,\n            'f': \"0.0\",\n        }],\n [\"Sweet Tarts\",\n{\n            'v': 0,\n            'f': \"0\",\n        },\n{\n            'v': 0.0,\n            'f': \"0.0\",\n        }],\n [\"Swedish Fish\",\n{\n            'v': 0,\n            'f': \"0\",\n        },\n{\n            'v': 0.0,\n            'f': \"0.0\",\n        }],\n [\"Sweetums (a friend to diabetes)\",\n{\n            'v': 0,\n            'f': \"0\",\n        },\n{\n            'v': 0.0,\n            'f': \"0.0\",\n        }],\n [\"Take 5\",\n{\n            'v': 0,\n            'f': \"0\",\n        },\n{\n            'v': 0.0,\n            'f': \"0.0\",\n        }],\n [\"Tic Tacs\",\n{\n            'v': 0,\n            'f': \"0\",\n        },\n{\n            'v': 0.0,\n            'f': \"0.0\",\n        }],\n [\"Those odd marshmallow circus peanut things\",\n{\n            'v': 0,\n            'f': \"0\",\n        },\n{\n            'v': 0.0,\n            'f': \"0.0\",\n        }],\n [\"Three Musketeers\",\n{\n            'v': 0,\n            'f': \"0\",\n        },\n{\n            'v': 0.0,\n            'f': \"0.0\",\n        }],\n [\"Tolberone something or other\",\n{\n            'v': 0,\n            'f': \"0\",\n        },\n{\n            'v': 0.0,\n            'f': \"0.0\",\n        }],\n [\"Trail Mix\",\n{\n            'v': 0,\n            'f': \"0\",\n        },\n{\n            'v': 0.0,\n            'f': \"0.0\",\n        }],\n [\"Twix\",\n{\n            'v': 0,\n            'f': \"0\",\n        },\n{\n            'v': 0.0,\n            'f': \"0.0\",\n        }],\n [\"Vials of pure high fructose corn syrup, for main-lining into your vein\",\n{\n            'v': 0,\n            'f': \"0\",\n        },\n{\n            'v': 0.0,\n            'f': \"0.0\",\n        }],\n [\"Vicodin\",\n{\n            'v': 0,\n            'f': \"0\",\n        },\n{\n            'v': 0.0,\n            'f': \"0.0\",\n        }],\n [\"Whatchamacallit Bars\",\n{\n            'v': 0,\n            'f': \"0\",\n        },\n{\n            'v': 0.0,\n            'f': \"0.0\",\n        }],\n [\"White Bread\",\n{\n            'v': 0,\n            'f': \"0\",\n        },\n{\n            'v': 0.0,\n            'f': \"0.0\",\n        }],\n [\"Whole Wheat anything\",\n{\n            'v': 0,\n            'f': \"0\",\n        },\n{\n            'v': 0.0,\n            'f': \"0.0\",\n        }],\n [\"York Peppermint Patties\",\n{\n            'v': 0,\n            'f': \"0\",\n        },\n{\n            'v': 0.0,\n            'f': \"0.0\",\n        }],\n [\"DRESS\",\n{\n            'v': 27,\n            'f': \"27\",\n        },\n{\n            'v': 1.6822429906542056,\n            'f': \"1.6822429906542056\",\n        }],\n [\"DAY\",\n{\n            'v': 11,\n            'f': \"11\",\n        },\n{\n            'v': 0.6853582554517134,\n            'f': \"0.6853582554517134\",\n        }]],\n        columns: [[\"string\", \"columns\"], [\"number\", \"totalNans\"], [\"number\", \"percentages\"]],\n        columnOptions: [],\n        rowsPerPage: 20,\n        helpUrl: \"https://colab.research.google.com/notebooks/data_table.ipynb\",\n        suppressOutputScrolling: true,\n        minimumWidth: undefined,\n      });\n    ",
            "text/plain": [
              "<google.colab.data_table.DataTable object>"
            ]
          },
          "metadata": {},
          "execution_count": 58
        }
      ]
    },
    {
      "cell_type": "markdown",
      "source": [
        "## Retomar el género"
      ],
      "metadata": {
        "id": "p8FxegPOex4-"
      }
    },
    {
      "cell_type": "code",
      "source": [
        "df['GENDER'].unique()"
      ],
      "metadata": {
        "colab": {
          "base_uri": "https://localhost:8080/"
        },
        "id": "ybFaGxfrUDDh",
        "outputId": "87d140bd-e457-4dca-a0b7-0bfba630ed88"
      },
      "execution_count": null,
      "outputs": [
        {
          "output_type": "execute_result",
          "data": {
            "text/plain": [
              "array(['Male', 'Female', \"I'd rather not say\", 'Other', nan], dtype=object)"
            ]
          },
          "metadata": {},
          "execution_count": 59
        }
      ]
    },
    {
      "cell_type": "markdown",
      "source": [
        "Llenamos los vacios con la respuesta \"I'd rather not say\" debido a que no lo contestaron\n",
        "\n"
      ],
      "metadata": {
        "id": "9bD1NvY1Vqdq"
      }
    },
    {
      "cell_type": "code",
      "source": [
        "df['GENDER']=df['GENDER'].fillna(\"I'd rather not say\")"
      ],
      "metadata": {
        "id": "mU6ZP0HMUDAc"
      },
      "execution_count": null,
      "outputs": []
    },
    {
      "cell_type": "code",
      "source": [
        "porcentaje_vacios()"
      ],
      "metadata": {
        "colab": {
          "base_uri": "https://localhost:8080/",
          "height": 525
        },
        "id": "VXqVuqndWJ2l",
        "outputId": "64b9a884-2e41-429e-be19-805d0af280c3"
      },
      "execution_count": null,
      "outputs": [
        {
          "output_type": "execute_result",
          "data": {
            "text/html": [
              "<div>\n",
              "<style scoped>\n",
              "    .dataframe tbody tr th:only-of-type {\n",
              "        vertical-align: middle;\n",
              "    }\n",
              "\n",
              "    .dataframe tbody tr th {\n",
              "        vertical-align: top;\n",
              "    }\n",
              "\n",
              "    .dataframe thead th {\n",
              "        text-align: right;\n",
              "    }\n",
              "</style>\n",
              "<table border=\"1\" class=\"dataframe\">\n",
              "  <thead>\n",
              "    <tr style=\"text-align: right;\">\n",
              "      <th></th>\n",
              "      <th>columns</th>\n",
              "      <th>totalNans</th>\n",
              "      <th>percentages</th>\n",
              "    </tr>\n",
              "  </thead>\n",
              "  <tbody>\n",
              "    <tr>\n",
              "      <th>GOING OUT?</th>\n",
              "      <td>GOING OUT?</td>\n",
              "      <td>53</td>\n",
              "      <td>3.302181</td>\n",
              "    </tr>\n",
              "    <tr>\n",
              "      <th>GENDER</th>\n",
              "      <td>GENDER</td>\n",
              "      <td>0</td>\n",
              "      <td>0.000000</td>\n",
              "    </tr>\n",
              "    <tr>\n",
              "      <th>AGE</th>\n",
              "      <td>AGE</td>\n",
              "      <td>0</td>\n",
              "      <td>0.000000</td>\n",
              "    </tr>\n",
              "    <tr>\n",
              "      <th>COUNTRY</th>\n",
              "      <td>COUNTRY</td>\n",
              "      <td>0</td>\n",
              "      <td>0.000000</td>\n",
              "    </tr>\n",
              "    <tr>\n",
              "      <th>STATE, PROVINCE, COUNTY, ETC</th>\n",
              "      <td>STATE, PROVINCE, COUNTY, ETC</td>\n",
              "      <td>35</td>\n",
              "      <td>2.180685</td>\n",
              "    </tr>\n",
              "    <tr>\n",
              "      <th>...</th>\n",
              "      <td>...</td>\n",
              "      <td>...</td>\n",
              "      <td>...</td>\n",
              "    </tr>\n",
              "    <tr>\n",
              "      <th>White Bread</th>\n",
              "      <td>White Bread</td>\n",
              "      <td>0</td>\n",
              "      <td>0.000000</td>\n",
              "    </tr>\n",
              "    <tr>\n",
              "      <th>Whole Wheat anything</th>\n",
              "      <td>Whole Wheat anything</td>\n",
              "      <td>0</td>\n",
              "      <td>0.000000</td>\n",
              "    </tr>\n",
              "    <tr>\n",
              "      <th>York Peppermint Patties</th>\n",
              "      <td>York Peppermint Patties</td>\n",
              "      <td>0</td>\n",
              "      <td>0.000000</td>\n",
              "    </tr>\n",
              "    <tr>\n",
              "      <th>DRESS</th>\n",
              "      <td>DRESS</td>\n",
              "      <td>27</td>\n",
              "      <td>1.682243</td>\n",
              "    </tr>\n",
              "    <tr>\n",
              "      <th>DAY</th>\n",
              "      <td>DAY</td>\n",
              "      <td>11</td>\n",
              "      <td>0.685358</td>\n",
              "    </tr>\n",
              "  </tbody>\n",
              "</table>\n",
              "<p>110 rows × 3 columns</p>\n",
              "</div>"
            ],
            "application/vnd.google.colaboratory.module+javascript": "\n      import \"https://ssl.gstatic.com/colaboratory/data_table/a8bd4d5e58f96183/data_table.js\";\n\n      window.createDataTable({\n        data: [[\"GOING OUT?\",\n{\n            'v': 53,\n            'f': \"53\",\n        },\n{\n            'v': 3.3021806853582554,\n            'f': \"3.3021806853582554\",\n        }],\n [\"GENDER\",\n{\n            'v': 0,\n            'f': \"0\",\n        },\n{\n            'v': 0.0,\n            'f': \"0.0\",\n        }],\n [\"AGE\",\n{\n            'v': 0,\n            'f': \"0\",\n        },\n{\n            'v': 0.0,\n            'f': \"0.0\",\n        }],\n [\"COUNTRY\",\n{\n            'v': 0,\n            'f': \"0\",\n        },\n{\n            'v': 0.0,\n            'f': \"0.0\",\n        }],\n [\"STATE, PROVINCE, COUNTY, ETC\",\n{\n            'v': 35,\n            'f': \"35\",\n        },\n{\n            'v': 2.1806853582554515,\n            'f': \"2.1806853582554515\",\n        }],\n [\"100 Grand Bar\",\n{\n            'v': 0,\n            'f': \"0\",\n        },\n{\n            'v': 0.0,\n            'f': \"0.0\",\n        }],\n [\"Anonymous brown globs that come in black and orange wrappers\\t(a.k.a. Mary Janes)\",\n{\n            'v': 0,\n            'f': \"0\",\n        },\n{\n            'v': 0.0,\n            'f': \"0.0\",\n        }],\n [\"Any full-sized candy bar\",\n{\n            'v': 0,\n            'f': \"0\",\n        },\n{\n            'v': 0.0,\n            'f': \"0.0\",\n        }],\n [\"Black Jacks\",\n{\n            'v': 0,\n            'f': \"0\",\n        },\n{\n            'v': 0.0,\n            'f': \"0.0\",\n        }],\n [\"Bonkers (the candy)\",\n{\n            'v': 0,\n            'f': \"0\",\n        },\n{\n            'v': 0.0,\n            'f': \"0.0\",\n        }],\n [\"Bonkers (the board game)\",\n{\n            'v': 0,\n            'f': \"0\",\n        },\n{\n            'v': 0.0,\n            'f': \"0.0\",\n        }],\n [\"Bottle Caps\",\n{\n            'v': 0,\n            'f': \"0\",\n        },\n{\n            'v': 0.0,\n            'f': \"0.0\",\n        }],\n [\"Box'o'Raisins\",\n{\n            'v': 0,\n            'f': \"0\",\n        },\n{\n            'v': 0.0,\n            'f': \"0.0\",\n        }],\n [\"Broken glow stick\",\n{\n            'v': 0,\n            'f': \"0\",\n        },\n{\n            'v': 0.0,\n            'f': \"0.0\",\n        }],\n [\"Butterfinger\",\n{\n            'v': 0,\n            'f': \"0\",\n        },\n{\n            'v': 0.0,\n            'f': \"0.0\",\n        }],\n [\"Cadbury Creme Eggs\",\n{\n            'v': 0,\n            'f': \"0\",\n        },\n{\n            'v': 0.0,\n            'f': \"0.0\",\n        }],\n [\"Candy Corn\",\n{\n            'v': 0,\n            'f': \"0\",\n        },\n{\n            'v': 0.0,\n            'f': \"0.0\",\n        }],\n [\"Candy that is clearly just the stuff given out for free at restaurants\",\n{\n            'v': 0,\n            'f': \"0\",\n        },\n{\n            'v': 0.0,\n            'f': \"0.0\",\n        }],\n [\"Caramellos\",\n{\n            'v': 0,\n            'f': \"0\",\n        },\n{\n            'v': 0.0,\n            'f': \"0.0\",\n        }],\n [\"Cash, or other forms of legal tender\",\n{\n            'v': 0,\n            'f': \"0\",\n        },\n{\n            'v': 0.0,\n            'f': \"0.0\",\n        }],\n [\"Chardonnay\",\n{\n            'v': 0,\n            'f': \"0\",\n        },\n{\n            'v': 0.0,\n            'f': \"0.0\",\n        }],\n [\"Chick-o-Sticks (we don\\u00d5t know what that is)\",\n{\n            'v': 0,\n            'f': \"0\",\n        },\n{\n            'v': 0.0,\n            'f': \"0.0\",\n        }],\n [\"Chiclets\",\n{\n            'v': 0,\n            'f': \"0\",\n        },\n{\n            'v': 0.0,\n            'f': \"0.0\",\n        }],\n [\"Coffee Crisp\",\n{\n            'v': 0,\n            'f': \"0\",\n        },\n{\n            'v': 0.0,\n            'f': \"0.0\",\n        }],\n [\"Creepy Religious comics/Chick Tracts\",\n{\n            'v': 0,\n            'f': \"0\",\n        },\n{\n            'v': 0.0,\n            'f': \"0.0\",\n        }],\n [\"Dental paraphenalia\",\n{\n            'v': 0,\n            'f': \"0\",\n        },\n{\n            'v': 0.0,\n            'f': \"0.0\",\n        }],\n [\"Dots\",\n{\n            'v': 0,\n            'f': \"0\",\n        },\n{\n            'v': 0.0,\n            'f': \"0.0\",\n        }],\n [\"Dove Bars\",\n{\n            'v': 0,\n            'f': \"0\",\n        },\n{\n            'v': 0.0,\n            'f': \"0.0\",\n        }],\n [\"Fuzzy Peaches\",\n{\n            'v': 0,\n            'f': \"0\",\n        },\n{\n            'v': 0.0,\n            'f': \"0.0\",\n        }],\n [\"Generic Brand Acetaminophen\",\n{\n            'v': 0,\n            'f': \"0\",\n        },\n{\n            'v': 0.0,\n            'f': \"0.0\",\n        }],\n [\"Glow sticks\",\n{\n            'v': 0,\n            'f': \"0\",\n        },\n{\n            'v': 0.0,\n            'f': \"0.0\",\n        }],\n [\"Goo Goo Clusters\",\n{\n            'v': 0,\n            'f': \"0\",\n        },\n{\n            'v': 0.0,\n            'f': \"0.0\",\n        }],\n [\"Good N' Plenty\",\n{\n            'v': 0,\n            'f': \"0\",\n        },\n{\n            'v': 0.0,\n            'f': \"0.0\",\n        }],\n [\"Gum from baseball cards\",\n{\n            'v': 0,\n            'f': \"0\",\n        },\n{\n            'v': 0.0,\n            'f': \"0.0\",\n        }],\n [\"Gummy Bears straight up\",\n{\n            'v': 0,\n            'f': \"0\",\n        },\n{\n            'v': 0.0,\n            'f': \"0.0\",\n        }],\n [\"Hard Candy\",\n{\n            'v': 0,\n            'f': \"0\",\n        },\n{\n            'v': 0.0,\n            'f': \"0.0\",\n        }],\n [\"Healthy Fruit\",\n{\n            'v': 0,\n            'f': \"0\",\n        },\n{\n            'v': 0.0,\n            'f': \"0.0\",\n        }],\n [\"Heath Bar\",\n{\n            'v': 0,\n            'f': \"0\",\n        },\n{\n            'v': 0.0,\n            'f': \"0.0\",\n        }],\n [\"Hershey's Dark Chocolate\",\n{\n            'v': 0,\n            'f': \"0\",\n        },\n{\n            'v': 0.0,\n            'f': \"0.0\",\n        }],\n [\"Hershey\\u00d5s Milk Chocolate\",\n{\n            'v': 0,\n            'f': \"0\",\n        },\n{\n            'v': 0.0,\n            'f': \"0.0\",\n        }],\n [\"Hershey's Kisses\",\n{\n            'v': 0,\n            'f': \"0\",\n        },\n{\n            'v': 0.0,\n            'f': \"0.0\",\n        }],\n [\"Hugs (actual physical hugs)\",\n{\n            'v': 0,\n            'f': \"0\",\n        },\n{\n            'v': 0.0,\n            'f': \"0.0\",\n        }],\n [\"Jolly Rancher (bad flavor)\",\n{\n            'v': 0,\n            'f': \"0\",\n        },\n{\n            'v': 0.0,\n            'f': \"0.0\",\n        }],\n [\"Jolly Ranchers (good flavor)\",\n{\n            'v': 0,\n            'f': \"0\",\n        },\n{\n            'v': 0.0,\n            'f': \"0.0\",\n        }],\n [\"JoyJoy (Mit Iodine!)\",\n{\n            'v': 0,\n            'f': \"0\",\n        },\n{\n            'v': 0.0,\n            'f': \"0.0\",\n        }],\n [\"Junior Mints\",\n{\n            'v': 0,\n            'f': \"0\",\n        },\n{\n            'v': 0.0,\n            'f': \"0.0\",\n        }],\n [\"Senior Mints\",\n{\n            'v': 0,\n            'f': \"0\",\n        },\n{\n            'v': 0.0,\n            'f': \"0.0\",\n        }],\n [\"Kale smoothie\",\n{\n            'v': 0,\n            'f': \"0\",\n        },\n{\n            'v': 0.0,\n            'f': \"0.0\",\n        }],\n [\"Kinder Happy Hippo\",\n{\n            'v': 0,\n            'f': \"0\",\n        },\n{\n            'v': 0.0,\n            'f': \"0.0\",\n        }],\n [\"Kit Kat\",\n{\n            'v': 0,\n            'f': \"0\",\n        },\n{\n            'v': 0.0,\n            'f': \"0.0\",\n        }],\n [\"LaffyTaffy\",\n{\n            'v': 0,\n            'f': \"0\",\n        },\n{\n            'v': 0.0,\n            'f': \"0.0\",\n        }],\n [\"LemonHeads\",\n{\n            'v': 0,\n            'f': \"0\",\n        },\n{\n            'v': 0.0,\n            'f': \"0.0\",\n        }],\n [\"Licorice (not black)\",\n{\n            'v': 0,\n            'f': \"0\",\n        },\n{\n            'v': 0.0,\n            'f': \"0.0\",\n        }],\n [\"Licorice (yes black)\",\n{\n            'v': 0,\n            'f': \"0\",\n        },\n{\n            'v': 0.0,\n            'f': \"0.0\",\n        }],\n [\"Lindt Truffle\",\n{\n            'v': 0,\n            'f': \"0\",\n        },\n{\n            'v': 0.0,\n            'f': \"0.0\",\n        }],\n [\"Lollipops\",\n{\n            'v': 0,\n            'f': \"0\",\n        },\n{\n            'v': 0.0,\n            'f': \"0.0\",\n        }],\n [\"Mars\",\n{\n            'v': 0,\n            'f': \"0\",\n        },\n{\n            'v': 0.0,\n            'f': \"0.0\",\n        }],\n [\"Maynards\",\n{\n            'v': 0,\n            'f': \"0\",\n        },\n{\n            'v': 0.0,\n            'f': \"0.0\",\n        }],\n [\"Mike and Ike\",\n{\n            'v': 0,\n            'f': \"0\",\n        },\n{\n            'v': 0.0,\n            'f': \"0.0\",\n        }],\n [\"Milk Duds\",\n{\n            'v': 0,\n            'f': \"0\",\n        },\n{\n            'v': 0.0,\n            'f': \"0.0\",\n        }],\n [\"Milky Way\",\n{\n            'v': 0,\n            'f': \"0\",\n        },\n{\n            'v': 0.0,\n            'f': \"0.0\",\n        }],\n [\"Regular M&Ms\",\n{\n            'v': 0,\n            'f': \"0\",\n        },\n{\n            'v': 0.0,\n            'f': \"0.0\",\n        }],\n [\"Peanut M&M\\u00d5s\",\n{\n            'v': 0,\n            'f': \"0\",\n        },\n{\n            'v': 0.0,\n            'f': \"0.0\",\n        }],\n [\"Blue M&M's\",\n{\n            'v': 0,\n            'f': \"0\",\n        },\n{\n            'v': 0.0,\n            'f': \"0.0\",\n        }],\n [\"Red M&M's\",\n{\n            'v': 0,\n            'f': \"0\",\n        },\n{\n            'v': 0.0,\n            'f': \"0.0\",\n        }],\n [\"Green Party M&M's\",\n{\n            'v': 0,\n            'f': \"0\",\n        },\n{\n            'v': 0.0,\n            'f': \"0.0\",\n        }],\n [\"Independent M&M's\",\n{\n            'v': 0,\n            'f': \"0\",\n        },\n{\n            'v': 0.0,\n            'f': \"0.0\",\n        }],\n [\"Abstained from M&M'ing.\",\n{\n            'v': 0,\n            'f': \"0\",\n        },\n{\n            'v': 0.0,\n            'f': \"0.0\",\n        }],\n [\"Minibags of chips\",\n{\n            'v': 0,\n            'f': \"0\",\n        },\n{\n            'v': 0.0,\n            'f': \"0.0\",\n        }],\n [\"Mint Kisses\",\n{\n            'v': 0,\n            'f': \"0\",\n        },\n{\n            'v': 0.0,\n            'f': \"0.0\",\n        }],\n [\"Mint Juleps\",\n{\n            'v': 0,\n            'f': \"0\",\n        },\n{\n            'v': 0.0,\n            'f': \"0.0\",\n        }],\n [\"Mr. Goodbar\",\n{\n            'v': 0,\n            'f': \"0\",\n        },\n{\n            'v': 0.0,\n            'f': \"0.0\",\n        }],\n [\"Necco Wafers\",\n{\n            'v': 0,\n            'f': \"0\",\n        },\n{\n            'v': 0.0,\n            'f': \"0.0\",\n        }],\n [\"Nerds\",\n{\n            'v': 0,\n            'f': \"0\",\n        },\n{\n            'v': 0.0,\n            'f': \"0.0\",\n        }],\n [\"Nestle Crunch\",\n{\n            'v': 0,\n            'f': \"0\",\n        },\n{\n            'v': 0.0,\n            'f': \"0.0\",\n        }],\n [\"Now'n'Laters\",\n{\n            'v': 0,\n            'f': \"0\",\n        },\n{\n            'v': 0.0,\n            'f': \"0.0\",\n        }],\n [\"Peeps\",\n{\n            'v': 0,\n            'f': \"0\",\n        },\n{\n            'v': 0.0,\n            'f': \"0.0\",\n        }],\n [\"Pencils\",\n{\n            'v': 0,\n            'f': \"0\",\n        },\n{\n            'v': 0.0,\n            'f': \"0.0\",\n        }],\n [\"Pixy Stix\",\n{\n            'v': 0,\n            'f': \"0\",\n        },\n{\n            'v': 0.0,\n            'f': \"0.0\",\n        }],\n [\"Real Housewives of Orange County Season 9 Blue-Ray\",\n{\n            'v': 0,\n            'f': \"0\",\n        },\n{\n            'v': 0.0,\n            'f': \"0.0\",\n        }],\n [\"Reese\\u00d5s Peanut Butter Cups\",\n{\n            'v': 0,\n            'f': \"0\",\n        },\n{\n            'v': 0.0,\n            'f': \"0.0\",\n        }],\n [\"Reese's Pieces\",\n{\n            'v': 0,\n            'f': \"0\",\n        },\n{\n            'v': 0.0,\n            'f': \"0.0\",\n        }],\n [\"Reggie Jackson Bar\",\n{\n            'v': 0,\n            'f': \"0\",\n        },\n{\n            'v': 0.0,\n            'f': \"0.0\",\n        }],\n [\"Rolos\",\n{\n            'v': 0,\n            'f': \"0\",\n        },\n{\n            'v': 0.0,\n            'f': \"0.0\",\n        }],\n [\"Sandwich-sized bags filled with BooBerry Crunch\",\n{\n            'v': 0,\n            'f': \"0\",\n        },\n{\n            'v': 0.0,\n            'f': \"0.0\",\n        }],\n [\"Skittles\",\n{\n            'v': 0,\n            'f': \"0\",\n        },\n{\n            'v': 0.0,\n            'f': \"0.0\",\n        }],\n [\"Smarties (American)\",\n{\n            'v': 0,\n            'f': \"0\",\n        },\n{\n            'v': 0.0,\n            'f': \"0.0\",\n        }],\n [\"Smarties (Commonwealth)\",\n{\n            'v': 0,\n            'f': \"0\",\n        },\n{\n            'v': 0.0,\n            'f': \"0.0\",\n        }],\n [\"Snickers\",\n{\n            'v': 0,\n            'f': \"0\",\n        },\n{\n            'v': 0.0,\n            'f': \"0.0\",\n        }],\n [\"Sourpatch Kids (i.e. abominations of nature)\",\n{\n            'v': 0,\n            'f': \"0\",\n        },\n{\n            'v': 0.0,\n            'f': \"0.0\",\n        }],\n [\"Spotted Dick\",\n{\n            'v': 0,\n            'f': \"0\",\n        },\n{\n            'v': 0.0,\n            'f': \"0.0\",\n        }],\n [\"Starburst\",\n{\n            'v': 0,\n            'f': \"0\",\n        },\n{\n            'v': 0.0,\n            'f': \"0.0\",\n        }],\n [\"Sweet Tarts\",\n{\n            'v': 0,\n            'f': \"0\",\n        },\n{\n            'v': 0.0,\n            'f': \"0.0\",\n        }],\n [\"Swedish Fish\",\n{\n            'v': 0,\n            'f': \"0\",\n        },\n{\n            'v': 0.0,\n            'f': \"0.0\",\n        }],\n [\"Sweetums (a friend to diabetes)\",\n{\n            'v': 0,\n            'f': \"0\",\n        },\n{\n            'v': 0.0,\n            'f': \"0.0\",\n        }],\n [\"Take 5\",\n{\n            'v': 0,\n            'f': \"0\",\n        },\n{\n            'v': 0.0,\n            'f': \"0.0\",\n        }],\n [\"Tic Tacs\",\n{\n            'v': 0,\n            'f': \"0\",\n        },\n{\n            'v': 0.0,\n            'f': \"0.0\",\n        }],\n [\"Those odd marshmallow circus peanut things\",\n{\n            'v': 0,\n            'f': \"0\",\n        },\n{\n            'v': 0.0,\n            'f': \"0.0\",\n        }],\n [\"Three Musketeers\",\n{\n            'v': 0,\n            'f': \"0\",\n        },\n{\n            'v': 0.0,\n            'f': \"0.0\",\n        }],\n [\"Tolberone something or other\",\n{\n            'v': 0,\n            'f': \"0\",\n        },\n{\n            'v': 0.0,\n            'f': \"0.0\",\n        }],\n [\"Trail Mix\",\n{\n            'v': 0,\n            'f': \"0\",\n        },\n{\n            'v': 0.0,\n            'f': \"0.0\",\n        }],\n [\"Twix\",\n{\n            'v': 0,\n            'f': \"0\",\n        },\n{\n            'v': 0.0,\n            'f': \"0.0\",\n        }],\n [\"Vials of pure high fructose corn syrup, for main-lining into your vein\",\n{\n            'v': 0,\n            'f': \"0\",\n        },\n{\n            'v': 0.0,\n            'f': \"0.0\",\n        }],\n [\"Vicodin\",\n{\n            'v': 0,\n            'f': \"0\",\n        },\n{\n            'v': 0.0,\n            'f': \"0.0\",\n        }],\n [\"Whatchamacallit Bars\",\n{\n            'v': 0,\n            'f': \"0\",\n        },\n{\n            'v': 0.0,\n            'f': \"0.0\",\n        }],\n [\"White Bread\",\n{\n            'v': 0,\n            'f': \"0\",\n        },\n{\n            'v': 0.0,\n            'f': \"0.0\",\n        }],\n [\"Whole Wheat anything\",\n{\n            'v': 0,\n            'f': \"0\",\n        },\n{\n            'v': 0.0,\n            'f': \"0.0\",\n        }],\n [\"York Peppermint Patties\",\n{\n            'v': 0,\n            'f': \"0\",\n        },\n{\n            'v': 0.0,\n            'f': \"0.0\",\n        }],\n [\"DRESS\",\n{\n            'v': 27,\n            'f': \"27\",\n        },\n{\n            'v': 1.6822429906542056,\n            'f': \"1.6822429906542056\",\n        }],\n [\"DAY\",\n{\n            'v': 11,\n            'f': \"11\",\n        },\n{\n            'v': 0.6853582554517134,\n            'f': \"0.6853582554517134\",\n        }]],\n        columns: [[\"string\", \"columns\"], [\"number\", \"totalNans\"], [\"number\", \"percentages\"]],\n        columnOptions: [],\n        rowsPerPage: 20,\n        helpUrl: \"https://colab.research.google.com/notebooks/data_table.ipynb\",\n        suppressOutputScrolling: true,\n        minimumWidth: undefined,\n      });\n    ",
            "text/plain": [
              "<google.colab.data_table.DataTable object>"
            ]
          },
          "metadata": {},
          "execution_count": 61
        }
      ]
    },
    {
      "cell_type": "markdown",
      "source": [
        "## Estado"
      ],
      "metadata": {
        "id": "y8bMxNiAe3d3"
      }
    },
    {
      "cell_type": "code",
      "source": [
        "df['STATE, PROVINCE, COUNTY, ETC'].isna().sum()"
      ],
      "metadata": {
        "colab": {
          "base_uri": "https://localhost:8080/"
        },
        "id": "Cldj5CGZWMjd",
        "outputId": "842392f6-482a-4931-db6e-41d72f7b3a7d"
      },
      "execution_count": null,
      "outputs": [
        {
          "output_type": "execute_result",
          "data": {
            "text/plain": [
              "35"
            ]
          },
          "metadata": {},
          "execution_count": 62
        }
      ]
    },
    {
      "cell_type": "code",
      "source": [
        "len(df['STATE, PROVINCE, COUNTY, ETC'].unique())"
      ],
      "metadata": {
        "colab": {
          "base_uri": "https://localhost:8080/"
        },
        "id": "YxWwuzlOWXOn",
        "outputId": "9b0733ec-d162-49fd-abad-328f7b40a359"
      },
      "execution_count": null,
      "outputs": [
        {
          "output_type": "execute_result",
          "data": {
            "text/plain": [
              "410"
            ]
          },
          "metadata": {},
          "execution_count": 63
        }
      ]
    },
    {
      "cell_type": "markdown",
      "source": [
        "Eliminaremos la columna debido a que hay muchos datos únicos y la pregunta es abierta"
      ],
      "metadata": {
        "id": "E4kJ91U3W8vz"
      }
    },
    {
      "cell_type": "code",
      "source": [
        "df.drop(columns=['STATE, PROVINCE, COUNTY, ETC'], inplace=True)"
      ],
      "metadata": {
        "id": "4u-Xxec1W8Wn"
      },
      "execution_count": null,
      "outputs": []
    },
    {
      "cell_type": "code",
      "source": [
        "porcentaje_vacios()"
      ],
      "metadata": {
        "colab": {
          "base_uri": "https://localhost:8080/",
          "height": 525
        },
        "id": "nB4k8znyXH5G",
        "outputId": "0624a24a-1144-47de-a3d0-43b64cc00306"
      },
      "execution_count": null,
      "outputs": [
        {
          "output_type": "execute_result",
          "data": {
            "text/html": [
              "<div>\n",
              "<style scoped>\n",
              "    .dataframe tbody tr th:only-of-type {\n",
              "        vertical-align: middle;\n",
              "    }\n",
              "\n",
              "    .dataframe tbody tr th {\n",
              "        vertical-align: top;\n",
              "    }\n",
              "\n",
              "    .dataframe thead th {\n",
              "        text-align: right;\n",
              "    }\n",
              "</style>\n",
              "<table border=\"1\" class=\"dataframe\">\n",
              "  <thead>\n",
              "    <tr style=\"text-align: right;\">\n",
              "      <th></th>\n",
              "      <th>columns</th>\n",
              "      <th>totalNans</th>\n",
              "      <th>percentages</th>\n",
              "    </tr>\n",
              "  </thead>\n",
              "  <tbody>\n",
              "    <tr>\n",
              "      <th>GOING OUT?</th>\n",
              "      <td>GOING OUT?</td>\n",
              "      <td>53</td>\n",
              "      <td>3.302181</td>\n",
              "    </tr>\n",
              "    <tr>\n",
              "      <th>GENDER</th>\n",
              "      <td>GENDER</td>\n",
              "      <td>0</td>\n",
              "      <td>0.000000</td>\n",
              "    </tr>\n",
              "    <tr>\n",
              "      <th>AGE</th>\n",
              "      <td>AGE</td>\n",
              "      <td>0</td>\n",
              "      <td>0.000000</td>\n",
              "    </tr>\n",
              "    <tr>\n",
              "      <th>COUNTRY</th>\n",
              "      <td>COUNTRY</td>\n",
              "      <td>0</td>\n",
              "      <td>0.000000</td>\n",
              "    </tr>\n",
              "    <tr>\n",
              "      <th>100 Grand Bar</th>\n",
              "      <td>100 Grand Bar</td>\n",
              "      <td>0</td>\n",
              "      <td>0.000000</td>\n",
              "    </tr>\n",
              "    <tr>\n",
              "      <th>...</th>\n",
              "      <td>...</td>\n",
              "      <td>...</td>\n",
              "      <td>...</td>\n",
              "    </tr>\n",
              "    <tr>\n",
              "      <th>White Bread</th>\n",
              "      <td>White Bread</td>\n",
              "      <td>0</td>\n",
              "      <td>0.000000</td>\n",
              "    </tr>\n",
              "    <tr>\n",
              "      <th>Whole Wheat anything</th>\n",
              "      <td>Whole Wheat anything</td>\n",
              "      <td>0</td>\n",
              "      <td>0.000000</td>\n",
              "    </tr>\n",
              "    <tr>\n",
              "      <th>York Peppermint Patties</th>\n",
              "      <td>York Peppermint Patties</td>\n",
              "      <td>0</td>\n",
              "      <td>0.000000</td>\n",
              "    </tr>\n",
              "    <tr>\n",
              "      <th>DRESS</th>\n",
              "      <td>DRESS</td>\n",
              "      <td>27</td>\n",
              "      <td>1.682243</td>\n",
              "    </tr>\n",
              "    <tr>\n",
              "      <th>DAY</th>\n",
              "      <td>DAY</td>\n",
              "      <td>11</td>\n",
              "      <td>0.685358</td>\n",
              "    </tr>\n",
              "  </tbody>\n",
              "</table>\n",
              "<p>109 rows × 3 columns</p>\n",
              "</div>"
            ],
            "application/vnd.google.colaboratory.module+javascript": "\n      import \"https://ssl.gstatic.com/colaboratory/data_table/a8bd4d5e58f96183/data_table.js\";\n\n      window.createDataTable({\n        data: [[\"GOING OUT?\",\n{\n            'v': 53,\n            'f': \"53\",\n        },\n{\n            'v': 3.3021806853582554,\n            'f': \"3.3021806853582554\",\n        }],\n [\"GENDER\",\n{\n            'v': 0,\n            'f': \"0\",\n        },\n{\n            'v': 0.0,\n            'f': \"0.0\",\n        }],\n [\"AGE\",\n{\n            'v': 0,\n            'f': \"0\",\n        },\n{\n            'v': 0.0,\n            'f': \"0.0\",\n        }],\n [\"COUNTRY\",\n{\n            'v': 0,\n            'f': \"0\",\n        },\n{\n            'v': 0.0,\n            'f': \"0.0\",\n        }],\n [\"100 Grand Bar\",\n{\n            'v': 0,\n            'f': \"0\",\n        },\n{\n            'v': 0.0,\n            'f': \"0.0\",\n        }],\n [\"Anonymous brown globs that come in black and orange wrappers\\t(a.k.a. Mary Janes)\",\n{\n            'v': 0,\n            'f': \"0\",\n        },\n{\n            'v': 0.0,\n            'f': \"0.0\",\n        }],\n [\"Any full-sized candy bar\",\n{\n            'v': 0,\n            'f': \"0\",\n        },\n{\n            'v': 0.0,\n            'f': \"0.0\",\n        }],\n [\"Black Jacks\",\n{\n            'v': 0,\n            'f': \"0\",\n        },\n{\n            'v': 0.0,\n            'f': \"0.0\",\n        }],\n [\"Bonkers (the candy)\",\n{\n            'v': 0,\n            'f': \"0\",\n        },\n{\n            'v': 0.0,\n            'f': \"0.0\",\n        }],\n [\"Bonkers (the board game)\",\n{\n            'v': 0,\n            'f': \"0\",\n        },\n{\n            'v': 0.0,\n            'f': \"0.0\",\n        }],\n [\"Bottle Caps\",\n{\n            'v': 0,\n            'f': \"0\",\n        },\n{\n            'v': 0.0,\n            'f': \"0.0\",\n        }],\n [\"Box'o'Raisins\",\n{\n            'v': 0,\n            'f': \"0\",\n        },\n{\n            'v': 0.0,\n            'f': \"0.0\",\n        }],\n [\"Broken glow stick\",\n{\n            'v': 0,\n            'f': \"0\",\n        },\n{\n            'v': 0.0,\n            'f': \"0.0\",\n        }],\n [\"Butterfinger\",\n{\n            'v': 0,\n            'f': \"0\",\n        },\n{\n            'v': 0.0,\n            'f': \"0.0\",\n        }],\n [\"Cadbury Creme Eggs\",\n{\n            'v': 0,\n            'f': \"0\",\n        },\n{\n            'v': 0.0,\n            'f': \"0.0\",\n        }],\n [\"Candy Corn\",\n{\n            'v': 0,\n            'f': \"0\",\n        },\n{\n            'v': 0.0,\n            'f': \"0.0\",\n        }],\n [\"Candy that is clearly just the stuff given out for free at restaurants\",\n{\n            'v': 0,\n            'f': \"0\",\n        },\n{\n            'v': 0.0,\n            'f': \"0.0\",\n        }],\n [\"Caramellos\",\n{\n            'v': 0,\n            'f': \"0\",\n        },\n{\n            'v': 0.0,\n            'f': \"0.0\",\n        }],\n [\"Cash, or other forms of legal tender\",\n{\n            'v': 0,\n            'f': \"0\",\n        },\n{\n            'v': 0.0,\n            'f': \"0.0\",\n        }],\n [\"Chardonnay\",\n{\n            'v': 0,\n            'f': \"0\",\n        },\n{\n            'v': 0.0,\n            'f': \"0.0\",\n        }],\n [\"Chick-o-Sticks (we don\\u00d5t know what that is)\",\n{\n            'v': 0,\n            'f': \"0\",\n        },\n{\n            'v': 0.0,\n            'f': \"0.0\",\n        }],\n [\"Chiclets\",\n{\n            'v': 0,\n            'f': \"0\",\n        },\n{\n            'v': 0.0,\n            'f': \"0.0\",\n        }],\n [\"Coffee Crisp\",\n{\n            'v': 0,\n            'f': \"0\",\n        },\n{\n            'v': 0.0,\n            'f': \"0.0\",\n        }],\n [\"Creepy Religious comics/Chick Tracts\",\n{\n            'v': 0,\n            'f': \"0\",\n        },\n{\n            'v': 0.0,\n            'f': \"0.0\",\n        }],\n [\"Dental paraphenalia\",\n{\n            'v': 0,\n            'f': \"0\",\n        },\n{\n            'v': 0.0,\n            'f': \"0.0\",\n        }],\n [\"Dots\",\n{\n            'v': 0,\n            'f': \"0\",\n        },\n{\n            'v': 0.0,\n            'f': \"0.0\",\n        }],\n [\"Dove Bars\",\n{\n            'v': 0,\n            'f': \"0\",\n        },\n{\n            'v': 0.0,\n            'f': \"0.0\",\n        }],\n [\"Fuzzy Peaches\",\n{\n            'v': 0,\n            'f': \"0\",\n        },\n{\n            'v': 0.0,\n            'f': \"0.0\",\n        }],\n [\"Generic Brand Acetaminophen\",\n{\n            'v': 0,\n            'f': \"0\",\n        },\n{\n            'v': 0.0,\n            'f': \"0.0\",\n        }],\n [\"Glow sticks\",\n{\n            'v': 0,\n            'f': \"0\",\n        },\n{\n            'v': 0.0,\n            'f': \"0.0\",\n        }],\n [\"Goo Goo Clusters\",\n{\n            'v': 0,\n            'f': \"0\",\n        },\n{\n            'v': 0.0,\n            'f': \"0.0\",\n        }],\n [\"Good N' Plenty\",\n{\n            'v': 0,\n            'f': \"0\",\n        },\n{\n            'v': 0.0,\n            'f': \"0.0\",\n        }],\n [\"Gum from baseball cards\",\n{\n            'v': 0,\n            'f': \"0\",\n        },\n{\n            'v': 0.0,\n            'f': \"0.0\",\n        }],\n [\"Gummy Bears straight up\",\n{\n            'v': 0,\n            'f': \"0\",\n        },\n{\n            'v': 0.0,\n            'f': \"0.0\",\n        }],\n [\"Hard Candy\",\n{\n            'v': 0,\n            'f': \"0\",\n        },\n{\n            'v': 0.0,\n            'f': \"0.0\",\n        }],\n [\"Healthy Fruit\",\n{\n            'v': 0,\n            'f': \"0\",\n        },\n{\n            'v': 0.0,\n            'f': \"0.0\",\n        }],\n [\"Heath Bar\",\n{\n            'v': 0,\n            'f': \"0\",\n        },\n{\n            'v': 0.0,\n            'f': \"0.0\",\n        }],\n [\"Hershey's Dark Chocolate\",\n{\n            'v': 0,\n            'f': \"0\",\n        },\n{\n            'v': 0.0,\n            'f': \"0.0\",\n        }],\n [\"Hershey\\u00d5s Milk Chocolate\",\n{\n            'v': 0,\n            'f': \"0\",\n        },\n{\n            'v': 0.0,\n            'f': \"0.0\",\n        }],\n [\"Hershey's Kisses\",\n{\n            'v': 0,\n            'f': \"0\",\n        },\n{\n            'v': 0.0,\n            'f': \"0.0\",\n        }],\n [\"Hugs (actual physical hugs)\",\n{\n            'v': 0,\n            'f': \"0\",\n        },\n{\n            'v': 0.0,\n            'f': \"0.0\",\n        }],\n [\"Jolly Rancher (bad flavor)\",\n{\n            'v': 0,\n            'f': \"0\",\n        },\n{\n            'v': 0.0,\n            'f': \"0.0\",\n        }],\n [\"Jolly Ranchers (good flavor)\",\n{\n            'v': 0,\n            'f': \"0\",\n        },\n{\n            'v': 0.0,\n            'f': \"0.0\",\n        }],\n [\"JoyJoy (Mit Iodine!)\",\n{\n            'v': 0,\n            'f': \"0\",\n        },\n{\n            'v': 0.0,\n            'f': \"0.0\",\n        }],\n [\"Junior Mints\",\n{\n            'v': 0,\n            'f': \"0\",\n        },\n{\n            'v': 0.0,\n            'f': \"0.0\",\n        }],\n [\"Senior Mints\",\n{\n            'v': 0,\n            'f': \"0\",\n        },\n{\n            'v': 0.0,\n            'f': \"0.0\",\n        }],\n [\"Kale smoothie\",\n{\n            'v': 0,\n            'f': \"0\",\n        },\n{\n            'v': 0.0,\n            'f': \"0.0\",\n        }],\n [\"Kinder Happy Hippo\",\n{\n            'v': 0,\n            'f': \"0\",\n        },\n{\n            'v': 0.0,\n            'f': \"0.0\",\n        }],\n [\"Kit Kat\",\n{\n            'v': 0,\n            'f': \"0\",\n        },\n{\n            'v': 0.0,\n            'f': \"0.0\",\n        }],\n [\"LaffyTaffy\",\n{\n            'v': 0,\n            'f': \"0\",\n        },\n{\n            'v': 0.0,\n            'f': \"0.0\",\n        }],\n [\"LemonHeads\",\n{\n            'v': 0,\n            'f': \"0\",\n        },\n{\n            'v': 0.0,\n            'f': \"0.0\",\n        }],\n [\"Licorice (not black)\",\n{\n            'v': 0,\n            'f': \"0\",\n        },\n{\n            'v': 0.0,\n            'f': \"0.0\",\n        }],\n [\"Licorice (yes black)\",\n{\n            'v': 0,\n            'f': \"0\",\n        },\n{\n            'v': 0.0,\n            'f': \"0.0\",\n        }],\n [\"Lindt Truffle\",\n{\n            'v': 0,\n            'f': \"0\",\n        },\n{\n            'v': 0.0,\n            'f': \"0.0\",\n        }],\n [\"Lollipops\",\n{\n            'v': 0,\n            'f': \"0\",\n        },\n{\n            'v': 0.0,\n            'f': \"0.0\",\n        }],\n [\"Mars\",\n{\n            'v': 0,\n            'f': \"0\",\n        },\n{\n            'v': 0.0,\n            'f': \"0.0\",\n        }],\n [\"Maynards\",\n{\n            'v': 0,\n            'f': \"0\",\n        },\n{\n            'v': 0.0,\n            'f': \"0.0\",\n        }],\n [\"Mike and Ike\",\n{\n            'v': 0,\n            'f': \"0\",\n        },\n{\n            'v': 0.0,\n            'f': \"0.0\",\n        }],\n [\"Milk Duds\",\n{\n            'v': 0,\n            'f': \"0\",\n        },\n{\n            'v': 0.0,\n            'f': \"0.0\",\n        }],\n [\"Milky Way\",\n{\n            'v': 0,\n            'f': \"0\",\n        },\n{\n            'v': 0.0,\n            'f': \"0.0\",\n        }],\n [\"Regular M&Ms\",\n{\n            'v': 0,\n            'f': \"0\",\n        },\n{\n            'v': 0.0,\n            'f': \"0.0\",\n        }],\n [\"Peanut M&M\\u00d5s\",\n{\n            'v': 0,\n            'f': \"0\",\n        },\n{\n            'v': 0.0,\n            'f': \"0.0\",\n        }],\n [\"Blue M&M's\",\n{\n            'v': 0,\n            'f': \"0\",\n        },\n{\n            'v': 0.0,\n            'f': \"0.0\",\n        }],\n [\"Red M&M's\",\n{\n            'v': 0,\n            'f': \"0\",\n        },\n{\n            'v': 0.0,\n            'f': \"0.0\",\n        }],\n [\"Green Party M&M's\",\n{\n            'v': 0,\n            'f': \"0\",\n        },\n{\n            'v': 0.0,\n            'f': \"0.0\",\n        }],\n [\"Independent M&M's\",\n{\n            'v': 0,\n            'f': \"0\",\n        },\n{\n            'v': 0.0,\n            'f': \"0.0\",\n        }],\n [\"Abstained from M&M'ing.\",\n{\n            'v': 0,\n            'f': \"0\",\n        },\n{\n            'v': 0.0,\n            'f': \"0.0\",\n        }],\n [\"Minibags of chips\",\n{\n            'v': 0,\n            'f': \"0\",\n        },\n{\n            'v': 0.0,\n            'f': \"0.0\",\n        }],\n [\"Mint Kisses\",\n{\n            'v': 0,\n            'f': \"0\",\n        },\n{\n            'v': 0.0,\n            'f': \"0.0\",\n        }],\n [\"Mint Juleps\",\n{\n            'v': 0,\n            'f': \"0\",\n        },\n{\n            'v': 0.0,\n            'f': \"0.0\",\n        }],\n [\"Mr. Goodbar\",\n{\n            'v': 0,\n            'f': \"0\",\n        },\n{\n            'v': 0.0,\n            'f': \"0.0\",\n        }],\n [\"Necco Wafers\",\n{\n            'v': 0,\n            'f': \"0\",\n        },\n{\n            'v': 0.0,\n            'f': \"0.0\",\n        }],\n [\"Nerds\",\n{\n            'v': 0,\n            'f': \"0\",\n        },\n{\n            'v': 0.0,\n            'f': \"0.0\",\n        }],\n [\"Nestle Crunch\",\n{\n            'v': 0,\n            'f': \"0\",\n        },\n{\n            'v': 0.0,\n            'f': \"0.0\",\n        }],\n [\"Now'n'Laters\",\n{\n            'v': 0,\n            'f': \"0\",\n        },\n{\n            'v': 0.0,\n            'f': \"0.0\",\n        }],\n [\"Peeps\",\n{\n            'v': 0,\n            'f': \"0\",\n        },\n{\n            'v': 0.0,\n            'f': \"0.0\",\n        }],\n [\"Pencils\",\n{\n            'v': 0,\n            'f': \"0\",\n        },\n{\n            'v': 0.0,\n            'f': \"0.0\",\n        }],\n [\"Pixy Stix\",\n{\n            'v': 0,\n            'f': \"0\",\n        },\n{\n            'v': 0.0,\n            'f': \"0.0\",\n        }],\n [\"Real Housewives of Orange County Season 9 Blue-Ray\",\n{\n            'v': 0,\n            'f': \"0\",\n        },\n{\n            'v': 0.0,\n            'f': \"0.0\",\n        }],\n [\"Reese\\u00d5s Peanut Butter Cups\",\n{\n            'v': 0,\n            'f': \"0\",\n        },\n{\n            'v': 0.0,\n            'f': \"0.0\",\n        }],\n [\"Reese's Pieces\",\n{\n            'v': 0,\n            'f': \"0\",\n        },\n{\n            'v': 0.0,\n            'f': \"0.0\",\n        }],\n [\"Reggie Jackson Bar\",\n{\n            'v': 0,\n            'f': \"0\",\n        },\n{\n            'v': 0.0,\n            'f': \"0.0\",\n        }],\n [\"Rolos\",\n{\n            'v': 0,\n            'f': \"0\",\n        },\n{\n            'v': 0.0,\n            'f': \"0.0\",\n        }],\n [\"Sandwich-sized bags filled with BooBerry Crunch\",\n{\n            'v': 0,\n            'f': \"0\",\n        },\n{\n            'v': 0.0,\n            'f': \"0.0\",\n        }],\n [\"Skittles\",\n{\n            'v': 0,\n            'f': \"0\",\n        },\n{\n            'v': 0.0,\n            'f': \"0.0\",\n        }],\n [\"Smarties (American)\",\n{\n            'v': 0,\n            'f': \"0\",\n        },\n{\n            'v': 0.0,\n            'f': \"0.0\",\n        }],\n [\"Smarties (Commonwealth)\",\n{\n            'v': 0,\n            'f': \"0\",\n        },\n{\n            'v': 0.0,\n            'f': \"0.0\",\n        }],\n [\"Snickers\",\n{\n            'v': 0,\n            'f': \"0\",\n        },\n{\n            'v': 0.0,\n            'f': \"0.0\",\n        }],\n [\"Sourpatch Kids (i.e. abominations of nature)\",\n{\n            'v': 0,\n            'f': \"0\",\n        },\n{\n            'v': 0.0,\n            'f': \"0.0\",\n        }],\n [\"Spotted Dick\",\n{\n            'v': 0,\n            'f': \"0\",\n        },\n{\n            'v': 0.0,\n            'f': \"0.0\",\n        }],\n [\"Starburst\",\n{\n            'v': 0,\n            'f': \"0\",\n        },\n{\n            'v': 0.0,\n            'f': \"0.0\",\n        }],\n [\"Sweet Tarts\",\n{\n            'v': 0,\n            'f': \"0\",\n        },\n{\n            'v': 0.0,\n            'f': \"0.0\",\n        }],\n [\"Swedish Fish\",\n{\n            'v': 0,\n            'f': \"0\",\n        },\n{\n            'v': 0.0,\n            'f': \"0.0\",\n        }],\n [\"Sweetums (a friend to diabetes)\",\n{\n            'v': 0,\n            'f': \"0\",\n        },\n{\n            'v': 0.0,\n            'f': \"0.0\",\n        }],\n [\"Take 5\",\n{\n            'v': 0,\n            'f': \"0\",\n        },\n{\n            'v': 0.0,\n            'f': \"0.0\",\n        }],\n [\"Tic Tacs\",\n{\n            'v': 0,\n            'f': \"0\",\n        },\n{\n            'v': 0.0,\n            'f': \"0.0\",\n        }],\n [\"Those odd marshmallow circus peanut things\",\n{\n            'v': 0,\n            'f': \"0\",\n        },\n{\n            'v': 0.0,\n            'f': \"0.0\",\n        }],\n [\"Three Musketeers\",\n{\n            'v': 0,\n            'f': \"0\",\n        },\n{\n            'v': 0.0,\n            'f': \"0.0\",\n        }],\n [\"Tolberone something or other\",\n{\n            'v': 0,\n            'f': \"0\",\n        },\n{\n            'v': 0.0,\n            'f': \"0.0\",\n        }],\n [\"Trail Mix\",\n{\n            'v': 0,\n            'f': \"0\",\n        },\n{\n            'v': 0.0,\n            'f': \"0.0\",\n        }],\n [\"Twix\",\n{\n            'v': 0,\n            'f': \"0\",\n        },\n{\n            'v': 0.0,\n            'f': \"0.0\",\n        }],\n [\"Vials of pure high fructose corn syrup, for main-lining into your vein\",\n{\n            'v': 0,\n            'f': \"0\",\n        },\n{\n            'v': 0.0,\n            'f': \"0.0\",\n        }],\n [\"Vicodin\",\n{\n            'v': 0,\n            'f': \"0\",\n        },\n{\n            'v': 0.0,\n            'f': \"0.0\",\n        }],\n [\"Whatchamacallit Bars\",\n{\n            'v': 0,\n            'f': \"0\",\n        },\n{\n            'v': 0.0,\n            'f': \"0.0\",\n        }],\n [\"White Bread\",\n{\n            'v': 0,\n            'f': \"0\",\n        },\n{\n            'v': 0.0,\n            'f': \"0.0\",\n        }],\n [\"Whole Wheat anything\",\n{\n            'v': 0,\n            'f': \"0\",\n        },\n{\n            'v': 0.0,\n            'f': \"0.0\",\n        }],\n [\"York Peppermint Patties\",\n{\n            'v': 0,\n            'f': \"0\",\n        },\n{\n            'v': 0.0,\n            'f': \"0.0\",\n        }],\n [\"DRESS\",\n{\n            'v': 27,\n            'f': \"27\",\n        },\n{\n            'v': 1.6822429906542056,\n            'f': \"1.6822429906542056\",\n        }],\n [\"DAY\",\n{\n            'v': 11,\n            'f': \"11\",\n        },\n{\n            'v': 0.6853582554517134,\n            'f': \"0.6853582554517134\",\n        }]],\n        columns: [[\"string\", \"columns\"], [\"number\", \"totalNans\"], [\"number\", \"percentages\"]],\n        columnOptions: [],\n        rowsPerPage: 20,\n        helpUrl: \"https://colab.research.google.com/notebooks/data_table.ipynb\",\n        suppressOutputScrolling: true,\n        minimumWidth: undefined,\n      });\n    ",
            "text/plain": [
              "<google.colab.data_table.DataTable object>"
            ]
          },
          "metadata": {},
          "execution_count": 65
        }
      ]
    },
    {
      "cell_type": "markdown",
      "source": [
        "## \"DAY\" Y \"DRESS\"\n",
        "Decidimos eliminar DAY y DRESS tambien porque son preguntas sarcasticas, eso dice la encuesta"
      ],
      "metadata": {
        "id": "kmNJnj3-XYtM"
      }
    },
    {
      "cell_type": "code",
      "source": [
        "df.drop(columns=['DAY','DRESS'], inplace=True)"
      ],
      "metadata": {
        "id": "zM8OWDIzXYen"
      },
      "execution_count": null,
      "outputs": []
    },
    {
      "cell_type": "code",
      "source": [
        "porcentaje_vacios()"
      ],
      "metadata": {
        "colab": {
          "base_uri": "https://localhost:8080/",
          "height": 525
        },
        "id": "GiVLgbBvXs1C",
        "outputId": "40a7b31c-4cf8-4d00-ee0c-ad9dbead7a17"
      },
      "execution_count": null,
      "outputs": [
        {
          "output_type": "execute_result",
          "data": {
            "text/html": [
              "<div>\n",
              "<style scoped>\n",
              "    .dataframe tbody tr th:only-of-type {\n",
              "        vertical-align: middle;\n",
              "    }\n",
              "\n",
              "    .dataframe tbody tr th {\n",
              "        vertical-align: top;\n",
              "    }\n",
              "\n",
              "    .dataframe thead th {\n",
              "        text-align: right;\n",
              "    }\n",
              "</style>\n",
              "<table border=\"1\" class=\"dataframe\">\n",
              "  <thead>\n",
              "    <tr style=\"text-align: right;\">\n",
              "      <th></th>\n",
              "      <th>columns</th>\n",
              "      <th>totalNans</th>\n",
              "      <th>percentages</th>\n",
              "    </tr>\n",
              "  </thead>\n",
              "  <tbody>\n",
              "    <tr>\n",
              "      <th>GOING OUT?</th>\n",
              "      <td>GOING OUT?</td>\n",
              "      <td>53</td>\n",
              "      <td>3.302181</td>\n",
              "    </tr>\n",
              "    <tr>\n",
              "      <th>GENDER</th>\n",
              "      <td>GENDER</td>\n",
              "      <td>0</td>\n",
              "      <td>0.000000</td>\n",
              "    </tr>\n",
              "    <tr>\n",
              "      <th>AGE</th>\n",
              "      <td>AGE</td>\n",
              "      <td>0</td>\n",
              "      <td>0.000000</td>\n",
              "    </tr>\n",
              "    <tr>\n",
              "      <th>COUNTRY</th>\n",
              "      <td>COUNTRY</td>\n",
              "      <td>0</td>\n",
              "      <td>0.000000</td>\n",
              "    </tr>\n",
              "    <tr>\n",
              "      <th>100 Grand Bar</th>\n",
              "      <td>100 Grand Bar</td>\n",
              "      <td>0</td>\n",
              "      <td>0.000000</td>\n",
              "    </tr>\n",
              "    <tr>\n",
              "      <th>...</th>\n",
              "      <td>...</td>\n",
              "      <td>...</td>\n",
              "      <td>...</td>\n",
              "    </tr>\n",
              "    <tr>\n",
              "      <th>Vicodin</th>\n",
              "      <td>Vicodin</td>\n",
              "      <td>0</td>\n",
              "      <td>0.000000</td>\n",
              "    </tr>\n",
              "    <tr>\n",
              "      <th>Whatchamacallit Bars</th>\n",
              "      <td>Whatchamacallit Bars</td>\n",
              "      <td>0</td>\n",
              "      <td>0.000000</td>\n",
              "    </tr>\n",
              "    <tr>\n",
              "      <th>White Bread</th>\n",
              "      <td>White Bread</td>\n",
              "      <td>0</td>\n",
              "      <td>0.000000</td>\n",
              "    </tr>\n",
              "    <tr>\n",
              "      <th>Whole Wheat anything</th>\n",
              "      <td>Whole Wheat anything</td>\n",
              "      <td>0</td>\n",
              "      <td>0.000000</td>\n",
              "    </tr>\n",
              "    <tr>\n",
              "      <th>York Peppermint Patties</th>\n",
              "      <td>York Peppermint Patties</td>\n",
              "      <td>0</td>\n",
              "      <td>0.000000</td>\n",
              "    </tr>\n",
              "  </tbody>\n",
              "</table>\n",
              "<p>107 rows × 3 columns</p>\n",
              "</div>"
            ],
            "application/vnd.google.colaboratory.module+javascript": "\n      import \"https://ssl.gstatic.com/colaboratory/data_table/a8bd4d5e58f96183/data_table.js\";\n\n      window.createDataTable({\n        data: [[\"GOING OUT?\",\n{\n            'v': 53,\n            'f': \"53\",\n        },\n{\n            'v': 3.3021806853582554,\n            'f': \"3.3021806853582554\",\n        }],\n [\"GENDER\",\n{\n            'v': 0,\n            'f': \"0\",\n        },\n{\n            'v': 0.0,\n            'f': \"0.0\",\n        }],\n [\"AGE\",\n{\n            'v': 0,\n            'f': \"0\",\n        },\n{\n            'v': 0.0,\n            'f': \"0.0\",\n        }],\n [\"COUNTRY\",\n{\n            'v': 0,\n            'f': \"0\",\n        },\n{\n            'v': 0.0,\n            'f': \"0.0\",\n        }],\n [\"100 Grand Bar\",\n{\n            'v': 0,\n            'f': \"0\",\n        },\n{\n            'v': 0.0,\n            'f': \"0.0\",\n        }],\n [\"Anonymous brown globs that come in black and orange wrappers\\t(a.k.a. Mary Janes)\",\n{\n            'v': 0,\n            'f': \"0\",\n        },\n{\n            'v': 0.0,\n            'f': \"0.0\",\n        }],\n [\"Any full-sized candy bar\",\n{\n            'v': 0,\n            'f': \"0\",\n        },\n{\n            'v': 0.0,\n            'f': \"0.0\",\n        }],\n [\"Black Jacks\",\n{\n            'v': 0,\n            'f': \"0\",\n        },\n{\n            'v': 0.0,\n            'f': \"0.0\",\n        }],\n [\"Bonkers (the candy)\",\n{\n            'v': 0,\n            'f': \"0\",\n        },\n{\n            'v': 0.0,\n            'f': \"0.0\",\n        }],\n [\"Bonkers (the board game)\",\n{\n            'v': 0,\n            'f': \"0\",\n        },\n{\n            'v': 0.0,\n            'f': \"0.0\",\n        }],\n [\"Bottle Caps\",\n{\n            'v': 0,\n            'f': \"0\",\n        },\n{\n            'v': 0.0,\n            'f': \"0.0\",\n        }],\n [\"Box'o'Raisins\",\n{\n            'v': 0,\n            'f': \"0\",\n        },\n{\n            'v': 0.0,\n            'f': \"0.0\",\n        }],\n [\"Broken glow stick\",\n{\n            'v': 0,\n            'f': \"0\",\n        },\n{\n            'v': 0.0,\n            'f': \"0.0\",\n        }],\n [\"Butterfinger\",\n{\n            'v': 0,\n            'f': \"0\",\n        },\n{\n            'v': 0.0,\n            'f': \"0.0\",\n        }],\n [\"Cadbury Creme Eggs\",\n{\n            'v': 0,\n            'f': \"0\",\n        },\n{\n            'v': 0.0,\n            'f': \"0.0\",\n        }],\n [\"Candy Corn\",\n{\n            'v': 0,\n            'f': \"0\",\n        },\n{\n            'v': 0.0,\n            'f': \"0.0\",\n        }],\n [\"Candy that is clearly just the stuff given out for free at restaurants\",\n{\n            'v': 0,\n            'f': \"0\",\n        },\n{\n            'v': 0.0,\n            'f': \"0.0\",\n        }],\n [\"Caramellos\",\n{\n            'v': 0,\n            'f': \"0\",\n        },\n{\n            'v': 0.0,\n            'f': \"0.0\",\n        }],\n [\"Cash, or other forms of legal tender\",\n{\n            'v': 0,\n            'f': \"0\",\n        },\n{\n            'v': 0.0,\n            'f': \"0.0\",\n        }],\n [\"Chardonnay\",\n{\n            'v': 0,\n            'f': \"0\",\n        },\n{\n            'v': 0.0,\n            'f': \"0.0\",\n        }],\n [\"Chick-o-Sticks (we don\\u00d5t know what that is)\",\n{\n            'v': 0,\n            'f': \"0\",\n        },\n{\n            'v': 0.0,\n            'f': \"0.0\",\n        }],\n [\"Chiclets\",\n{\n            'v': 0,\n            'f': \"0\",\n        },\n{\n            'v': 0.0,\n            'f': \"0.0\",\n        }],\n [\"Coffee Crisp\",\n{\n            'v': 0,\n            'f': \"0\",\n        },\n{\n            'v': 0.0,\n            'f': \"0.0\",\n        }],\n [\"Creepy Religious comics/Chick Tracts\",\n{\n            'v': 0,\n            'f': \"0\",\n        },\n{\n            'v': 0.0,\n            'f': \"0.0\",\n        }],\n [\"Dental paraphenalia\",\n{\n            'v': 0,\n            'f': \"0\",\n        },\n{\n            'v': 0.0,\n            'f': \"0.0\",\n        }],\n [\"Dots\",\n{\n            'v': 0,\n            'f': \"0\",\n        },\n{\n            'v': 0.0,\n            'f': \"0.0\",\n        }],\n [\"Dove Bars\",\n{\n            'v': 0,\n            'f': \"0\",\n        },\n{\n            'v': 0.0,\n            'f': \"0.0\",\n        }],\n [\"Fuzzy Peaches\",\n{\n            'v': 0,\n            'f': \"0\",\n        },\n{\n            'v': 0.0,\n            'f': \"0.0\",\n        }],\n [\"Generic Brand Acetaminophen\",\n{\n            'v': 0,\n            'f': \"0\",\n        },\n{\n            'v': 0.0,\n            'f': \"0.0\",\n        }],\n [\"Glow sticks\",\n{\n            'v': 0,\n            'f': \"0\",\n        },\n{\n            'v': 0.0,\n            'f': \"0.0\",\n        }],\n [\"Goo Goo Clusters\",\n{\n            'v': 0,\n            'f': \"0\",\n        },\n{\n            'v': 0.0,\n            'f': \"0.0\",\n        }],\n [\"Good N' Plenty\",\n{\n            'v': 0,\n            'f': \"0\",\n        },\n{\n            'v': 0.0,\n            'f': \"0.0\",\n        }],\n [\"Gum from baseball cards\",\n{\n            'v': 0,\n            'f': \"0\",\n        },\n{\n            'v': 0.0,\n            'f': \"0.0\",\n        }],\n [\"Gummy Bears straight up\",\n{\n            'v': 0,\n            'f': \"0\",\n        },\n{\n            'v': 0.0,\n            'f': \"0.0\",\n        }],\n [\"Hard Candy\",\n{\n            'v': 0,\n            'f': \"0\",\n        },\n{\n            'v': 0.0,\n            'f': \"0.0\",\n        }],\n [\"Healthy Fruit\",\n{\n            'v': 0,\n            'f': \"0\",\n        },\n{\n            'v': 0.0,\n            'f': \"0.0\",\n        }],\n [\"Heath Bar\",\n{\n            'v': 0,\n            'f': \"0\",\n        },\n{\n            'v': 0.0,\n            'f': \"0.0\",\n        }],\n [\"Hershey's Dark Chocolate\",\n{\n            'v': 0,\n            'f': \"0\",\n        },\n{\n            'v': 0.0,\n            'f': \"0.0\",\n        }],\n [\"Hershey\\u00d5s Milk Chocolate\",\n{\n            'v': 0,\n            'f': \"0\",\n        },\n{\n            'v': 0.0,\n            'f': \"0.0\",\n        }],\n [\"Hershey's Kisses\",\n{\n            'v': 0,\n            'f': \"0\",\n        },\n{\n            'v': 0.0,\n            'f': \"0.0\",\n        }],\n [\"Hugs (actual physical hugs)\",\n{\n            'v': 0,\n            'f': \"0\",\n        },\n{\n            'v': 0.0,\n            'f': \"0.0\",\n        }],\n [\"Jolly Rancher (bad flavor)\",\n{\n            'v': 0,\n            'f': \"0\",\n        },\n{\n            'v': 0.0,\n            'f': \"0.0\",\n        }],\n [\"Jolly Ranchers (good flavor)\",\n{\n            'v': 0,\n            'f': \"0\",\n        },\n{\n            'v': 0.0,\n            'f': \"0.0\",\n        }],\n [\"JoyJoy (Mit Iodine!)\",\n{\n            'v': 0,\n            'f': \"0\",\n        },\n{\n            'v': 0.0,\n            'f': \"0.0\",\n        }],\n [\"Junior Mints\",\n{\n            'v': 0,\n            'f': \"0\",\n        },\n{\n            'v': 0.0,\n            'f': \"0.0\",\n        }],\n [\"Senior Mints\",\n{\n            'v': 0,\n            'f': \"0\",\n        },\n{\n            'v': 0.0,\n            'f': \"0.0\",\n        }],\n [\"Kale smoothie\",\n{\n            'v': 0,\n            'f': \"0\",\n        },\n{\n            'v': 0.0,\n            'f': \"0.0\",\n        }],\n [\"Kinder Happy Hippo\",\n{\n            'v': 0,\n            'f': \"0\",\n        },\n{\n            'v': 0.0,\n            'f': \"0.0\",\n        }],\n [\"Kit Kat\",\n{\n            'v': 0,\n            'f': \"0\",\n        },\n{\n            'v': 0.0,\n            'f': \"0.0\",\n        }],\n [\"LaffyTaffy\",\n{\n            'v': 0,\n            'f': \"0\",\n        },\n{\n            'v': 0.0,\n            'f': \"0.0\",\n        }],\n [\"LemonHeads\",\n{\n            'v': 0,\n            'f': \"0\",\n        },\n{\n            'v': 0.0,\n            'f': \"0.0\",\n        }],\n [\"Licorice (not black)\",\n{\n            'v': 0,\n            'f': \"0\",\n        },\n{\n            'v': 0.0,\n            'f': \"0.0\",\n        }],\n [\"Licorice (yes black)\",\n{\n            'v': 0,\n            'f': \"0\",\n        },\n{\n            'v': 0.0,\n            'f': \"0.0\",\n        }],\n [\"Lindt Truffle\",\n{\n            'v': 0,\n            'f': \"0\",\n        },\n{\n            'v': 0.0,\n            'f': \"0.0\",\n        }],\n [\"Lollipops\",\n{\n            'v': 0,\n            'f': \"0\",\n        },\n{\n            'v': 0.0,\n            'f': \"0.0\",\n        }],\n [\"Mars\",\n{\n            'v': 0,\n            'f': \"0\",\n        },\n{\n            'v': 0.0,\n            'f': \"0.0\",\n        }],\n [\"Maynards\",\n{\n            'v': 0,\n            'f': \"0\",\n        },\n{\n            'v': 0.0,\n            'f': \"0.0\",\n        }],\n [\"Mike and Ike\",\n{\n            'v': 0,\n            'f': \"0\",\n        },\n{\n            'v': 0.0,\n            'f': \"0.0\",\n        }],\n [\"Milk Duds\",\n{\n            'v': 0,\n            'f': \"0\",\n        },\n{\n            'v': 0.0,\n            'f': \"0.0\",\n        }],\n [\"Milky Way\",\n{\n            'v': 0,\n            'f': \"0\",\n        },\n{\n            'v': 0.0,\n            'f': \"0.0\",\n        }],\n [\"Regular M&Ms\",\n{\n            'v': 0,\n            'f': \"0\",\n        },\n{\n            'v': 0.0,\n            'f': \"0.0\",\n        }],\n [\"Peanut M&M\\u00d5s\",\n{\n            'v': 0,\n            'f': \"0\",\n        },\n{\n            'v': 0.0,\n            'f': \"0.0\",\n        }],\n [\"Blue M&M's\",\n{\n            'v': 0,\n            'f': \"0\",\n        },\n{\n            'v': 0.0,\n            'f': \"0.0\",\n        }],\n [\"Red M&M's\",\n{\n            'v': 0,\n            'f': \"0\",\n        },\n{\n            'v': 0.0,\n            'f': \"0.0\",\n        }],\n [\"Green Party M&M's\",\n{\n            'v': 0,\n            'f': \"0\",\n        },\n{\n            'v': 0.0,\n            'f': \"0.0\",\n        }],\n [\"Independent M&M's\",\n{\n            'v': 0,\n            'f': \"0\",\n        },\n{\n            'v': 0.0,\n            'f': \"0.0\",\n        }],\n [\"Abstained from M&M'ing.\",\n{\n            'v': 0,\n            'f': \"0\",\n        },\n{\n            'v': 0.0,\n            'f': \"0.0\",\n        }],\n [\"Minibags of chips\",\n{\n            'v': 0,\n            'f': \"0\",\n        },\n{\n            'v': 0.0,\n            'f': \"0.0\",\n        }],\n [\"Mint Kisses\",\n{\n            'v': 0,\n            'f': \"0\",\n        },\n{\n            'v': 0.0,\n            'f': \"0.0\",\n        }],\n [\"Mint Juleps\",\n{\n            'v': 0,\n            'f': \"0\",\n        },\n{\n            'v': 0.0,\n            'f': \"0.0\",\n        }],\n [\"Mr. Goodbar\",\n{\n            'v': 0,\n            'f': \"0\",\n        },\n{\n            'v': 0.0,\n            'f': \"0.0\",\n        }],\n [\"Necco Wafers\",\n{\n            'v': 0,\n            'f': \"0\",\n        },\n{\n            'v': 0.0,\n            'f': \"0.0\",\n        }],\n [\"Nerds\",\n{\n            'v': 0,\n            'f': \"0\",\n        },\n{\n            'v': 0.0,\n            'f': \"0.0\",\n        }],\n [\"Nestle Crunch\",\n{\n            'v': 0,\n            'f': \"0\",\n        },\n{\n            'v': 0.0,\n            'f': \"0.0\",\n        }],\n [\"Now'n'Laters\",\n{\n            'v': 0,\n            'f': \"0\",\n        },\n{\n            'v': 0.0,\n            'f': \"0.0\",\n        }],\n [\"Peeps\",\n{\n            'v': 0,\n            'f': \"0\",\n        },\n{\n            'v': 0.0,\n            'f': \"0.0\",\n        }],\n [\"Pencils\",\n{\n            'v': 0,\n            'f': \"0\",\n        },\n{\n            'v': 0.0,\n            'f': \"0.0\",\n        }],\n [\"Pixy Stix\",\n{\n            'v': 0,\n            'f': \"0\",\n        },\n{\n            'v': 0.0,\n            'f': \"0.0\",\n        }],\n [\"Real Housewives of Orange County Season 9 Blue-Ray\",\n{\n            'v': 0,\n            'f': \"0\",\n        },\n{\n            'v': 0.0,\n            'f': \"0.0\",\n        }],\n [\"Reese\\u00d5s Peanut Butter Cups\",\n{\n            'v': 0,\n            'f': \"0\",\n        },\n{\n            'v': 0.0,\n            'f': \"0.0\",\n        }],\n [\"Reese's Pieces\",\n{\n            'v': 0,\n            'f': \"0\",\n        },\n{\n            'v': 0.0,\n            'f': \"0.0\",\n        }],\n [\"Reggie Jackson Bar\",\n{\n            'v': 0,\n            'f': \"0\",\n        },\n{\n            'v': 0.0,\n            'f': \"0.0\",\n        }],\n [\"Rolos\",\n{\n            'v': 0,\n            'f': \"0\",\n        },\n{\n            'v': 0.0,\n            'f': \"0.0\",\n        }],\n [\"Sandwich-sized bags filled with BooBerry Crunch\",\n{\n            'v': 0,\n            'f': \"0\",\n        },\n{\n            'v': 0.0,\n            'f': \"0.0\",\n        }],\n [\"Skittles\",\n{\n            'v': 0,\n            'f': \"0\",\n        },\n{\n            'v': 0.0,\n            'f': \"0.0\",\n        }],\n [\"Smarties (American)\",\n{\n            'v': 0,\n            'f': \"0\",\n        },\n{\n            'v': 0.0,\n            'f': \"0.0\",\n        }],\n [\"Smarties (Commonwealth)\",\n{\n            'v': 0,\n            'f': \"0\",\n        },\n{\n            'v': 0.0,\n            'f': \"0.0\",\n        }],\n [\"Snickers\",\n{\n            'v': 0,\n            'f': \"0\",\n        },\n{\n            'v': 0.0,\n            'f': \"0.0\",\n        }],\n [\"Sourpatch Kids (i.e. abominations of nature)\",\n{\n            'v': 0,\n            'f': \"0\",\n        },\n{\n            'v': 0.0,\n            'f': \"0.0\",\n        }],\n [\"Spotted Dick\",\n{\n            'v': 0,\n            'f': \"0\",\n        },\n{\n            'v': 0.0,\n            'f': \"0.0\",\n        }],\n [\"Starburst\",\n{\n            'v': 0,\n            'f': \"0\",\n        },\n{\n            'v': 0.0,\n            'f': \"0.0\",\n        }],\n [\"Sweet Tarts\",\n{\n            'v': 0,\n            'f': \"0\",\n        },\n{\n            'v': 0.0,\n            'f': \"0.0\",\n        }],\n [\"Swedish Fish\",\n{\n            'v': 0,\n            'f': \"0\",\n        },\n{\n            'v': 0.0,\n            'f': \"0.0\",\n        }],\n [\"Sweetums (a friend to diabetes)\",\n{\n            'v': 0,\n            'f': \"0\",\n        },\n{\n            'v': 0.0,\n            'f': \"0.0\",\n        }],\n [\"Take 5\",\n{\n            'v': 0,\n            'f': \"0\",\n        },\n{\n            'v': 0.0,\n            'f': \"0.0\",\n        }],\n [\"Tic Tacs\",\n{\n            'v': 0,\n            'f': \"0\",\n        },\n{\n            'v': 0.0,\n            'f': \"0.0\",\n        }],\n [\"Those odd marshmallow circus peanut things\",\n{\n            'v': 0,\n            'f': \"0\",\n        },\n{\n            'v': 0.0,\n            'f': \"0.0\",\n        }],\n [\"Three Musketeers\",\n{\n            'v': 0,\n            'f': \"0\",\n        },\n{\n            'v': 0.0,\n            'f': \"0.0\",\n        }],\n [\"Tolberone something or other\",\n{\n            'v': 0,\n            'f': \"0\",\n        },\n{\n            'v': 0.0,\n            'f': \"0.0\",\n        }],\n [\"Trail Mix\",\n{\n            'v': 0,\n            'f': \"0\",\n        },\n{\n            'v': 0.0,\n            'f': \"0.0\",\n        }],\n [\"Twix\",\n{\n            'v': 0,\n            'f': \"0\",\n        },\n{\n            'v': 0.0,\n            'f': \"0.0\",\n        }],\n [\"Vials of pure high fructose corn syrup, for main-lining into your vein\",\n{\n            'v': 0,\n            'f': \"0\",\n        },\n{\n            'v': 0.0,\n            'f': \"0.0\",\n        }],\n [\"Vicodin\",\n{\n            'v': 0,\n            'f': \"0\",\n        },\n{\n            'v': 0.0,\n            'f': \"0.0\",\n        }],\n [\"Whatchamacallit Bars\",\n{\n            'v': 0,\n            'f': \"0\",\n        },\n{\n            'v': 0.0,\n            'f': \"0.0\",\n        }],\n [\"White Bread\",\n{\n            'v': 0,\n            'f': \"0\",\n        },\n{\n            'v': 0.0,\n            'f': \"0.0\",\n        }],\n [\"Whole Wheat anything\",\n{\n            'v': 0,\n            'f': \"0\",\n        },\n{\n            'v': 0.0,\n            'f': \"0.0\",\n        }],\n [\"York Peppermint Patties\",\n{\n            'v': 0,\n            'f': \"0\",\n        },\n{\n            'v': 0.0,\n            'f': \"0.0\",\n        }]],\n        columns: [[\"string\", \"columns\"], [\"number\", \"totalNans\"], [\"number\", \"percentages\"]],\n        columnOptions: [],\n        rowsPerPage: 20,\n        helpUrl: \"https://colab.research.google.com/notebooks/data_table.ipynb\",\n        suppressOutputScrolling: true,\n        minimumWidth: undefined,\n      });\n    ",
            "text/plain": [
              "<google.colab.data_table.DataTable object>"
            ]
          },
          "metadata": {},
          "execution_count": 67
        }
      ]
    },
    {
      "cell_type": "markdown",
      "source": [
        "## \"Going out?\" y columnas tipo object"
      ],
      "metadata": {
        "id": "lSvTTHBREpJq"
      }
    },
    {
      "cell_type": "code",
      "source": [
        "df['GOING OUT?'].unique()"
      ],
      "metadata": {
        "colab": {
          "base_uri": "https://localhost:8080/"
        },
        "id": "nm6lb5wTXv6u",
        "outputId": "00516be0-f3e0-4fc3-ea99-cccaf76462d1"
      },
      "execution_count": null,
      "outputs": [
        {
          "output_type": "execute_result",
          "data": {
            "text/plain": [
              "array(['No', 'Yes', nan], dtype=object)"
            ]
          },
          "metadata": {},
          "execution_count": 68
        }
      ]
    },
    {
      "cell_type": "markdown",
      "source": [
        "decidimos dejar los vacios porque los transformaremos en un diccionario y sera como si respondieran no contesto"
      ],
      "metadata": {
        "id": "CbtMwgClfEzZ"
      }
    },
    {
      "cell_type": "code",
      "source": [
        "columnas_object = df.select_dtypes(include=object).columns.tolist()"
      ],
      "metadata": {
        "id": "Qydm1ZvkYISh"
      },
      "execution_count": null,
      "outputs": []
    },
    {
      "cell_type": "code",
      "source": [
        "columnas_object.remove('AGE')"
      ],
      "metadata": {
        "id": "gz6idhqfYVVD"
      },
      "execution_count": null,
      "outputs": []
    },
    {
      "cell_type": "code",
      "source": [
        "columnas_object"
      ],
      "metadata": {
        "colab": {
          "base_uri": "https://localhost:8080/"
        },
        "id": "71J20g4EYlHf",
        "outputId": "f91dfcba-8135-43e0-9bc4-b99202e0073b"
      },
      "execution_count": null,
      "outputs": [
        {
          "output_type": "execute_result",
          "data": {
            "text/plain": [
              "['GOING OUT?', 'GENDER', 'COUNTRY']"
            ]
          },
          "metadata": {},
          "execution_count": 71
        }
      ]
    },
    {
      "cell_type": "markdown",
      "source": [
        "Transformamos las columnas en diccionarios"
      ],
      "metadata": {
        "id": "fIGSj27IfUIK"
      }
    },
    {
      "cell_type": "code",
      "source": [
        "for i in columnas_object :\n",
        "  print(column_to_dictionary(df[i]))\n",
        "  df[i] = df[i].map(column_to_dictionary(df[i]))"
      ],
      "metadata": {
        "colab": {
          "base_uri": "https://localhost:8080/"
        },
        "id": "heo7NtPSXv4F",
        "outputId": "71c7b2e0-42ae-4928-f2e0-34cb36550d2e"
      },
      "execution_count": null,
      "outputs": [
        {
          "output_type": "stream",
          "name": "stdout",
          "text": [
            "{'No': 0, 'Yes': 1, nan: 2}\n",
            "{'Male': 0, 'Female': 1, \"I'd rather not say\": 2, 'Other': 3}\n",
            "{'USA': 0, 'NO RESPONDIO': 1, 'CANADA': 2, 'UK': 3, 'UAE': 4, 'FRANCE': 5, 'MEXICO': 6, 'NETHERLANDS': 7, 'COSTA RICA': 8, 'GREECE': 9, 'IRELAND': 10, 'KOREA': 11, 'AUSTRALIA': 12, 'JAPAN': 13, 'ICELAND': 14, 'SCOTLAND': 15, 'DENMARK': 16, 'SWITZERLAND': 17, 'SOUTH KOREA': 18, 'GERMANY': 19, 'SINGAPORE': 20, 'TAIWAN': 21, 'CHINA': 22, 'SPAIN': 23}\n"
          ]
        }
      ]
    },
    {
      "cell_type": "code",
      "source": [
        "df.select_dtypes(include=object).columns.tolist()"
      ],
      "metadata": {
        "colab": {
          "base_uri": "https://localhost:8080/"
        },
        "id": "M5utoWVAXv1k",
        "outputId": "250c87e2-81dc-4456-a96c-b8d321511b03"
      },
      "execution_count": null,
      "outputs": [
        {
          "output_type": "execute_result",
          "data": {
            "text/plain": [
              "['AGE']"
            ]
          },
          "metadata": {},
          "execution_count": 73
        }
      ]
    },
    {
      "cell_type": "markdown",
      "source": [
        "solo queda la edad y la transformamos en tipo de dato int"
      ],
      "metadata": {
        "id": "oMB5E9L0fZGy"
      }
    },
    {
      "cell_type": "code",
      "source": [
        "df['AGE'] = df['AGE'].astype(int)"
      ],
      "metadata": {
        "id": "2wqpiKmaXvzc"
      },
      "execution_count": null,
      "outputs": []
    },
    {
      "cell_type": "markdown",
      "source": [
        "## Verificación final\n",
        "Verificamos que no queden columnas vacias "
      ],
      "metadata": {
        "id": "Spby4Gm0ZJGz"
      }
    },
    {
      "cell_type": "code",
      "source": [
        "porcentaje_vacios()"
      ],
      "metadata": {
        "colab": {
          "base_uri": "https://localhost:8080/",
          "height": 525
        },
        "id": "drtncKFvY8-u",
        "outputId": "a45e4941-66ac-4c0c-c16d-25fac5732b78"
      },
      "execution_count": null,
      "outputs": [
        {
          "output_type": "execute_result",
          "data": {
            "text/html": [
              "<div>\n",
              "<style scoped>\n",
              "    .dataframe tbody tr th:only-of-type {\n",
              "        vertical-align: middle;\n",
              "    }\n",
              "\n",
              "    .dataframe tbody tr th {\n",
              "        vertical-align: top;\n",
              "    }\n",
              "\n",
              "    .dataframe thead th {\n",
              "        text-align: right;\n",
              "    }\n",
              "</style>\n",
              "<table border=\"1\" class=\"dataframe\">\n",
              "  <thead>\n",
              "    <tr style=\"text-align: right;\">\n",
              "      <th></th>\n",
              "      <th>columns</th>\n",
              "      <th>totalNans</th>\n",
              "      <th>percentages</th>\n",
              "    </tr>\n",
              "  </thead>\n",
              "  <tbody>\n",
              "    <tr>\n",
              "      <th>GOING OUT?</th>\n",
              "      <td>GOING OUT?</td>\n",
              "      <td>0</td>\n",
              "      <td>0.0</td>\n",
              "    </tr>\n",
              "    <tr>\n",
              "      <th>GENDER</th>\n",
              "      <td>GENDER</td>\n",
              "      <td>0</td>\n",
              "      <td>0.0</td>\n",
              "    </tr>\n",
              "    <tr>\n",
              "      <th>AGE</th>\n",
              "      <td>AGE</td>\n",
              "      <td>0</td>\n",
              "      <td>0.0</td>\n",
              "    </tr>\n",
              "    <tr>\n",
              "      <th>COUNTRY</th>\n",
              "      <td>COUNTRY</td>\n",
              "      <td>0</td>\n",
              "      <td>0.0</td>\n",
              "    </tr>\n",
              "    <tr>\n",
              "      <th>100 Grand Bar</th>\n",
              "      <td>100 Grand Bar</td>\n",
              "      <td>0</td>\n",
              "      <td>0.0</td>\n",
              "    </tr>\n",
              "    <tr>\n",
              "      <th>...</th>\n",
              "      <td>...</td>\n",
              "      <td>...</td>\n",
              "      <td>...</td>\n",
              "    </tr>\n",
              "    <tr>\n",
              "      <th>Vicodin</th>\n",
              "      <td>Vicodin</td>\n",
              "      <td>0</td>\n",
              "      <td>0.0</td>\n",
              "    </tr>\n",
              "    <tr>\n",
              "      <th>Whatchamacallit Bars</th>\n",
              "      <td>Whatchamacallit Bars</td>\n",
              "      <td>0</td>\n",
              "      <td>0.0</td>\n",
              "    </tr>\n",
              "    <tr>\n",
              "      <th>White Bread</th>\n",
              "      <td>White Bread</td>\n",
              "      <td>0</td>\n",
              "      <td>0.0</td>\n",
              "    </tr>\n",
              "    <tr>\n",
              "      <th>Whole Wheat anything</th>\n",
              "      <td>Whole Wheat anything</td>\n",
              "      <td>0</td>\n",
              "      <td>0.0</td>\n",
              "    </tr>\n",
              "    <tr>\n",
              "      <th>York Peppermint Patties</th>\n",
              "      <td>York Peppermint Patties</td>\n",
              "      <td>0</td>\n",
              "      <td>0.0</td>\n",
              "    </tr>\n",
              "  </tbody>\n",
              "</table>\n",
              "<p>107 rows × 3 columns</p>\n",
              "</div>"
            ],
            "application/vnd.google.colaboratory.module+javascript": "\n      import \"https://ssl.gstatic.com/colaboratory/data_table/a8bd4d5e58f96183/data_table.js\";\n\n      window.createDataTable({\n        data: [[\"GOING OUT?\",\n{\n            'v': 0,\n            'f': \"0\",\n        },\n{\n            'v': 0.0,\n            'f': \"0.0\",\n        }],\n [\"GENDER\",\n{\n            'v': 0,\n            'f': \"0\",\n        },\n{\n            'v': 0.0,\n            'f': \"0.0\",\n        }],\n [\"AGE\",\n{\n            'v': 0,\n            'f': \"0\",\n        },\n{\n            'v': 0.0,\n            'f': \"0.0\",\n        }],\n [\"COUNTRY\",\n{\n            'v': 0,\n            'f': \"0\",\n        },\n{\n            'v': 0.0,\n            'f': \"0.0\",\n        }],\n [\"100 Grand Bar\",\n{\n            'v': 0,\n            'f': \"0\",\n        },\n{\n            'v': 0.0,\n            'f': \"0.0\",\n        }],\n [\"Anonymous brown globs that come in black and orange wrappers\\t(a.k.a. Mary Janes)\",\n{\n            'v': 0,\n            'f': \"0\",\n        },\n{\n            'v': 0.0,\n            'f': \"0.0\",\n        }],\n [\"Any full-sized candy bar\",\n{\n            'v': 0,\n            'f': \"0\",\n        },\n{\n            'v': 0.0,\n            'f': \"0.0\",\n        }],\n [\"Black Jacks\",\n{\n            'v': 0,\n            'f': \"0\",\n        },\n{\n            'v': 0.0,\n            'f': \"0.0\",\n        }],\n [\"Bonkers (the candy)\",\n{\n            'v': 0,\n            'f': \"0\",\n        },\n{\n            'v': 0.0,\n            'f': \"0.0\",\n        }],\n [\"Bonkers (the board game)\",\n{\n            'v': 0,\n            'f': \"0\",\n        },\n{\n            'v': 0.0,\n            'f': \"0.0\",\n        }],\n [\"Bottle Caps\",\n{\n            'v': 0,\n            'f': \"0\",\n        },\n{\n            'v': 0.0,\n            'f': \"0.0\",\n        }],\n [\"Box'o'Raisins\",\n{\n            'v': 0,\n            'f': \"0\",\n        },\n{\n            'v': 0.0,\n            'f': \"0.0\",\n        }],\n [\"Broken glow stick\",\n{\n            'v': 0,\n            'f': \"0\",\n        },\n{\n            'v': 0.0,\n            'f': \"0.0\",\n        }],\n [\"Butterfinger\",\n{\n            'v': 0,\n            'f': \"0\",\n        },\n{\n            'v': 0.0,\n            'f': \"0.0\",\n        }],\n [\"Cadbury Creme Eggs\",\n{\n            'v': 0,\n            'f': \"0\",\n        },\n{\n            'v': 0.0,\n            'f': \"0.0\",\n        }],\n [\"Candy Corn\",\n{\n            'v': 0,\n            'f': \"0\",\n        },\n{\n            'v': 0.0,\n            'f': \"0.0\",\n        }],\n [\"Candy that is clearly just the stuff given out for free at restaurants\",\n{\n            'v': 0,\n            'f': \"0\",\n        },\n{\n            'v': 0.0,\n            'f': \"0.0\",\n        }],\n [\"Caramellos\",\n{\n            'v': 0,\n            'f': \"0\",\n        },\n{\n            'v': 0.0,\n            'f': \"0.0\",\n        }],\n [\"Cash, or other forms of legal tender\",\n{\n            'v': 0,\n            'f': \"0\",\n        },\n{\n            'v': 0.0,\n            'f': \"0.0\",\n        }],\n [\"Chardonnay\",\n{\n            'v': 0,\n            'f': \"0\",\n        },\n{\n            'v': 0.0,\n            'f': \"0.0\",\n        }],\n [\"Chick-o-Sticks (we don\\u00d5t know what that is)\",\n{\n            'v': 0,\n            'f': \"0\",\n        },\n{\n            'v': 0.0,\n            'f': \"0.0\",\n        }],\n [\"Chiclets\",\n{\n            'v': 0,\n            'f': \"0\",\n        },\n{\n            'v': 0.0,\n            'f': \"0.0\",\n        }],\n [\"Coffee Crisp\",\n{\n            'v': 0,\n            'f': \"0\",\n        },\n{\n            'v': 0.0,\n            'f': \"0.0\",\n        }],\n [\"Creepy Religious comics/Chick Tracts\",\n{\n            'v': 0,\n            'f': \"0\",\n        },\n{\n            'v': 0.0,\n            'f': \"0.0\",\n        }],\n [\"Dental paraphenalia\",\n{\n            'v': 0,\n            'f': \"0\",\n        },\n{\n            'v': 0.0,\n            'f': \"0.0\",\n        }],\n [\"Dots\",\n{\n            'v': 0,\n            'f': \"0\",\n        },\n{\n            'v': 0.0,\n            'f': \"0.0\",\n        }],\n [\"Dove Bars\",\n{\n            'v': 0,\n            'f': \"0\",\n        },\n{\n            'v': 0.0,\n            'f': \"0.0\",\n        }],\n [\"Fuzzy Peaches\",\n{\n            'v': 0,\n            'f': \"0\",\n        },\n{\n            'v': 0.0,\n            'f': \"0.0\",\n        }],\n [\"Generic Brand Acetaminophen\",\n{\n            'v': 0,\n            'f': \"0\",\n        },\n{\n            'v': 0.0,\n            'f': \"0.0\",\n        }],\n [\"Glow sticks\",\n{\n            'v': 0,\n            'f': \"0\",\n        },\n{\n            'v': 0.0,\n            'f': \"0.0\",\n        }],\n [\"Goo Goo Clusters\",\n{\n            'v': 0,\n            'f': \"0\",\n        },\n{\n            'v': 0.0,\n            'f': \"0.0\",\n        }],\n [\"Good N' Plenty\",\n{\n            'v': 0,\n            'f': \"0\",\n        },\n{\n            'v': 0.0,\n            'f': \"0.0\",\n        }],\n [\"Gum from baseball cards\",\n{\n            'v': 0,\n            'f': \"0\",\n        },\n{\n            'v': 0.0,\n            'f': \"0.0\",\n        }],\n [\"Gummy Bears straight up\",\n{\n            'v': 0,\n            'f': \"0\",\n        },\n{\n            'v': 0.0,\n            'f': \"0.0\",\n        }],\n [\"Hard Candy\",\n{\n            'v': 0,\n            'f': \"0\",\n        },\n{\n            'v': 0.0,\n            'f': \"0.0\",\n        }],\n [\"Healthy Fruit\",\n{\n            'v': 0,\n            'f': \"0\",\n        },\n{\n            'v': 0.0,\n            'f': \"0.0\",\n        }],\n [\"Heath Bar\",\n{\n            'v': 0,\n            'f': \"0\",\n        },\n{\n            'v': 0.0,\n            'f': \"0.0\",\n        }],\n [\"Hershey's Dark Chocolate\",\n{\n            'v': 0,\n            'f': \"0\",\n        },\n{\n            'v': 0.0,\n            'f': \"0.0\",\n        }],\n [\"Hershey\\u00d5s Milk Chocolate\",\n{\n            'v': 0,\n            'f': \"0\",\n        },\n{\n            'v': 0.0,\n            'f': \"0.0\",\n        }],\n [\"Hershey's Kisses\",\n{\n            'v': 0,\n            'f': \"0\",\n        },\n{\n            'v': 0.0,\n            'f': \"0.0\",\n        }],\n [\"Hugs (actual physical hugs)\",\n{\n            'v': 0,\n            'f': \"0\",\n        },\n{\n            'v': 0.0,\n            'f': \"0.0\",\n        }],\n [\"Jolly Rancher (bad flavor)\",\n{\n            'v': 0,\n            'f': \"0\",\n        },\n{\n            'v': 0.0,\n            'f': \"0.0\",\n        }],\n [\"Jolly Ranchers (good flavor)\",\n{\n            'v': 0,\n            'f': \"0\",\n        },\n{\n            'v': 0.0,\n            'f': \"0.0\",\n        }],\n [\"JoyJoy (Mit Iodine!)\",\n{\n            'v': 0,\n            'f': \"0\",\n        },\n{\n            'v': 0.0,\n            'f': \"0.0\",\n        }],\n [\"Junior Mints\",\n{\n            'v': 0,\n            'f': \"0\",\n        },\n{\n            'v': 0.0,\n            'f': \"0.0\",\n        }],\n [\"Senior Mints\",\n{\n            'v': 0,\n            'f': \"0\",\n        },\n{\n            'v': 0.0,\n            'f': \"0.0\",\n        }],\n [\"Kale smoothie\",\n{\n            'v': 0,\n            'f': \"0\",\n        },\n{\n            'v': 0.0,\n            'f': \"0.0\",\n        }],\n [\"Kinder Happy Hippo\",\n{\n            'v': 0,\n            'f': \"0\",\n        },\n{\n            'v': 0.0,\n            'f': \"0.0\",\n        }],\n [\"Kit Kat\",\n{\n            'v': 0,\n            'f': \"0\",\n        },\n{\n            'v': 0.0,\n            'f': \"0.0\",\n        }],\n [\"LaffyTaffy\",\n{\n            'v': 0,\n            'f': \"0\",\n        },\n{\n            'v': 0.0,\n            'f': \"0.0\",\n        }],\n [\"LemonHeads\",\n{\n            'v': 0,\n            'f': \"0\",\n        },\n{\n            'v': 0.0,\n            'f': \"0.0\",\n        }],\n [\"Licorice (not black)\",\n{\n            'v': 0,\n            'f': \"0\",\n        },\n{\n            'v': 0.0,\n            'f': \"0.0\",\n        }],\n [\"Licorice (yes black)\",\n{\n            'v': 0,\n            'f': \"0\",\n        },\n{\n            'v': 0.0,\n            'f': \"0.0\",\n        }],\n [\"Lindt Truffle\",\n{\n            'v': 0,\n            'f': \"0\",\n        },\n{\n            'v': 0.0,\n            'f': \"0.0\",\n        }],\n [\"Lollipops\",\n{\n            'v': 0,\n            'f': \"0\",\n        },\n{\n            'v': 0.0,\n            'f': \"0.0\",\n        }],\n [\"Mars\",\n{\n            'v': 0,\n            'f': \"0\",\n        },\n{\n            'v': 0.0,\n            'f': \"0.0\",\n        }],\n [\"Maynards\",\n{\n            'v': 0,\n            'f': \"0\",\n        },\n{\n            'v': 0.0,\n            'f': \"0.0\",\n        }],\n [\"Mike and Ike\",\n{\n            'v': 0,\n            'f': \"0\",\n        },\n{\n            'v': 0.0,\n            'f': \"0.0\",\n        }],\n [\"Milk Duds\",\n{\n            'v': 0,\n            'f': \"0\",\n        },\n{\n            'v': 0.0,\n            'f': \"0.0\",\n        }],\n [\"Milky Way\",\n{\n            'v': 0,\n            'f': \"0\",\n        },\n{\n            'v': 0.0,\n            'f': \"0.0\",\n        }],\n [\"Regular M&Ms\",\n{\n            'v': 0,\n            'f': \"0\",\n        },\n{\n            'v': 0.0,\n            'f': \"0.0\",\n        }],\n [\"Peanut M&M\\u00d5s\",\n{\n            'v': 0,\n            'f': \"0\",\n        },\n{\n            'v': 0.0,\n            'f': \"0.0\",\n        }],\n [\"Blue M&M's\",\n{\n            'v': 0,\n            'f': \"0\",\n        },\n{\n            'v': 0.0,\n            'f': \"0.0\",\n        }],\n [\"Red M&M's\",\n{\n            'v': 0,\n            'f': \"0\",\n        },\n{\n            'v': 0.0,\n            'f': \"0.0\",\n        }],\n [\"Green Party M&M's\",\n{\n            'v': 0,\n            'f': \"0\",\n        },\n{\n            'v': 0.0,\n            'f': \"0.0\",\n        }],\n [\"Independent M&M's\",\n{\n            'v': 0,\n            'f': \"0\",\n        },\n{\n            'v': 0.0,\n            'f': \"0.0\",\n        }],\n [\"Abstained from M&M'ing.\",\n{\n            'v': 0,\n            'f': \"0\",\n        },\n{\n            'v': 0.0,\n            'f': \"0.0\",\n        }],\n [\"Minibags of chips\",\n{\n            'v': 0,\n            'f': \"0\",\n        },\n{\n            'v': 0.0,\n            'f': \"0.0\",\n        }],\n [\"Mint Kisses\",\n{\n            'v': 0,\n            'f': \"0\",\n        },\n{\n            'v': 0.0,\n            'f': \"0.0\",\n        }],\n [\"Mint Juleps\",\n{\n            'v': 0,\n            'f': \"0\",\n        },\n{\n            'v': 0.0,\n            'f': \"0.0\",\n        }],\n [\"Mr. Goodbar\",\n{\n            'v': 0,\n            'f': \"0\",\n        },\n{\n            'v': 0.0,\n            'f': \"0.0\",\n        }],\n [\"Necco Wafers\",\n{\n            'v': 0,\n            'f': \"0\",\n        },\n{\n            'v': 0.0,\n            'f': \"0.0\",\n        }],\n [\"Nerds\",\n{\n            'v': 0,\n            'f': \"0\",\n        },\n{\n            'v': 0.0,\n            'f': \"0.0\",\n        }],\n [\"Nestle Crunch\",\n{\n            'v': 0,\n            'f': \"0\",\n        },\n{\n            'v': 0.0,\n            'f': \"0.0\",\n        }],\n [\"Now'n'Laters\",\n{\n            'v': 0,\n            'f': \"0\",\n        },\n{\n            'v': 0.0,\n            'f': \"0.0\",\n        }],\n [\"Peeps\",\n{\n            'v': 0,\n            'f': \"0\",\n        },\n{\n            'v': 0.0,\n            'f': \"0.0\",\n        }],\n [\"Pencils\",\n{\n            'v': 0,\n            'f': \"0\",\n        },\n{\n            'v': 0.0,\n            'f': \"0.0\",\n        }],\n [\"Pixy Stix\",\n{\n            'v': 0,\n            'f': \"0\",\n        },\n{\n            'v': 0.0,\n            'f': \"0.0\",\n        }],\n [\"Real Housewives of Orange County Season 9 Blue-Ray\",\n{\n            'v': 0,\n            'f': \"0\",\n        },\n{\n            'v': 0.0,\n            'f': \"0.0\",\n        }],\n [\"Reese\\u00d5s Peanut Butter Cups\",\n{\n            'v': 0,\n            'f': \"0\",\n        },\n{\n            'v': 0.0,\n            'f': \"0.0\",\n        }],\n [\"Reese's Pieces\",\n{\n            'v': 0,\n            'f': \"0\",\n        },\n{\n            'v': 0.0,\n            'f': \"0.0\",\n        }],\n [\"Reggie Jackson Bar\",\n{\n            'v': 0,\n            'f': \"0\",\n        },\n{\n            'v': 0.0,\n            'f': \"0.0\",\n        }],\n [\"Rolos\",\n{\n            'v': 0,\n            'f': \"0\",\n        },\n{\n            'v': 0.0,\n            'f': \"0.0\",\n        }],\n [\"Sandwich-sized bags filled with BooBerry Crunch\",\n{\n            'v': 0,\n            'f': \"0\",\n        },\n{\n            'v': 0.0,\n            'f': \"0.0\",\n        }],\n [\"Skittles\",\n{\n            'v': 0,\n            'f': \"0\",\n        },\n{\n            'v': 0.0,\n            'f': \"0.0\",\n        }],\n [\"Smarties (American)\",\n{\n            'v': 0,\n            'f': \"0\",\n        },\n{\n            'v': 0.0,\n            'f': \"0.0\",\n        }],\n [\"Smarties (Commonwealth)\",\n{\n            'v': 0,\n            'f': \"0\",\n        },\n{\n            'v': 0.0,\n            'f': \"0.0\",\n        }],\n [\"Snickers\",\n{\n            'v': 0,\n            'f': \"0\",\n        },\n{\n            'v': 0.0,\n            'f': \"0.0\",\n        }],\n [\"Sourpatch Kids (i.e. abominations of nature)\",\n{\n            'v': 0,\n            'f': \"0\",\n        },\n{\n            'v': 0.0,\n            'f': \"0.0\",\n        }],\n [\"Spotted Dick\",\n{\n            'v': 0,\n            'f': \"0\",\n        },\n{\n            'v': 0.0,\n            'f': \"0.0\",\n        }],\n [\"Starburst\",\n{\n            'v': 0,\n            'f': \"0\",\n        },\n{\n            'v': 0.0,\n            'f': \"0.0\",\n        }],\n [\"Sweet Tarts\",\n{\n            'v': 0,\n            'f': \"0\",\n        },\n{\n            'v': 0.0,\n            'f': \"0.0\",\n        }],\n [\"Swedish Fish\",\n{\n            'v': 0,\n            'f': \"0\",\n        },\n{\n            'v': 0.0,\n            'f': \"0.0\",\n        }],\n [\"Sweetums (a friend to diabetes)\",\n{\n            'v': 0,\n            'f': \"0\",\n        },\n{\n            'v': 0.0,\n            'f': \"0.0\",\n        }],\n [\"Take 5\",\n{\n            'v': 0,\n            'f': \"0\",\n        },\n{\n            'v': 0.0,\n            'f': \"0.0\",\n        }],\n [\"Tic Tacs\",\n{\n            'v': 0,\n            'f': \"0\",\n        },\n{\n            'v': 0.0,\n            'f': \"0.0\",\n        }],\n [\"Those odd marshmallow circus peanut things\",\n{\n            'v': 0,\n            'f': \"0\",\n        },\n{\n            'v': 0.0,\n            'f': \"0.0\",\n        }],\n [\"Three Musketeers\",\n{\n            'v': 0,\n            'f': \"0\",\n        },\n{\n            'v': 0.0,\n            'f': \"0.0\",\n        }],\n [\"Tolberone something or other\",\n{\n            'v': 0,\n            'f': \"0\",\n        },\n{\n            'v': 0.0,\n            'f': \"0.0\",\n        }],\n [\"Trail Mix\",\n{\n            'v': 0,\n            'f': \"0\",\n        },\n{\n            'v': 0.0,\n            'f': \"0.0\",\n        }],\n [\"Twix\",\n{\n            'v': 0,\n            'f': \"0\",\n        },\n{\n            'v': 0.0,\n            'f': \"0.0\",\n        }],\n [\"Vials of pure high fructose corn syrup, for main-lining into your vein\",\n{\n            'v': 0,\n            'f': \"0\",\n        },\n{\n            'v': 0.0,\n            'f': \"0.0\",\n        }],\n [\"Vicodin\",\n{\n            'v': 0,\n            'f': \"0\",\n        },\n{\n            'v': 0.0,\n            'f': \"0.0\",\n        }],\n [\"Whatchamacallit Bars\",\n{\n            'v': 0,\n            'f': \"0\",\n        },\n{\n            'v': 0.0,\n            'f': \"0.0\",\n        }],\n [\"White Bread\",\n{\n            'v': 0,\n            'f': \"0\",\n        },\n{\n            'v': 0.0,\n            'f': \"0.0\",\n        }],\n [\"Whole Wheat anything\",\n{\n            'v': 0,\n            'f': \"0\",\n        },\n{\n            'v': 0.0,\n            'f': \"0.0\",\n        }],\n [\"York Peppermint Patties\",\n{\n            'v': 0,\n            'f': \"0\",\n        },\n{\n            'v': 0.0,\n            'f': \"0.0\",\n        }]],\n        columns: [[\"string\", \"columns\"], [\"number\", \"totalNans\"], [\"number\", \"percentages\"]],\n        columnOptions: [],\n        rowsPerPage: 20,\n        helpUrl: \"https://colab.research.google.com/notebooks/data_table.ipynb\",\n        suppressOutputScrolling: true,\n        minimumWidth: undefined,\n      });\n    ",
            "text/plain": [
              "<google.colab.data_table.DataTable object>"
            ]
          },
          "metadata": {},
          "execution_count": 75
        }
      ]
    },
    {
      "cell_type": "markdown",
      "source": [
        "verificamos que no queden columnas de otro tipo que no sean int"
      ],
      "metadata": {
        "id": "JtUzxD97ZNJ8"
      }
    },
    {
      "cell_type": "code",
      "source": [
        "len(df.select_dtypes(include=int).columns.tolist()) - df.shape[1]"
      ],
      "metadata": {
        "colab": {
          "base_uri": "https://localhost:8080/"
        },
        "id": "t-eN59mjZRQS",
        "outputId": "a46305d4-34ff-480a-e1fc-bd6e5674363f"
      },
      "execution_count": null,
      "outputs": [
        {
          "output_type": "execute_result",
          "data": {
            "text/plain": [
              "0"
            ]
          },
          "metadata": {},
          "execution_count": 76
        }
      ]
    },
    {
      "cell_type": "markdown",
      "source": [
        "Tenemos nuestro dataset listo para trabajarlo y responder las preguntas"
      ],
      "metadata": {
        "id": "ToYIXO18Zhbg"
      }
    },
    {
      "cell_type": "code",
      "source": [
        "df.head()"
      ],
      "metadata": {
        "colab": {
          "base_uri": "https://localhost:8080/",
          "height": 508
        },
        "id": "nWiH66_Wf70i",
        "outputId": "d718113a-48f8-4397-9156-1a7ab43afc30"
      },
      "execution_count": null,
      "outputs": [
        {
          "output_type": "stream",
          "name": "stdout",
          "text": [
            "Warning: Total number of columns (107) exceeds max_columns (20). Falling back to pandas display.\n"
          ]
        },
        {
          "output_type": "execute_result",
          "data": {
            "text/plain": [
              "   GOING OUT?  GENDER  AGE  COUNTRY  100 Grand Bar  \\\n",
              "1           0       0   44        0              0   \n",
              "3           0       0   40        0              0   \n",
              "4           0       0   23        0              1   \n",
              "5           0       0   43        1              1   \n",
              "7           0       0   33        2              1   \n",
              "\n",
              "   Anonymous brown globs that come in black and orange wrappers\\t(a.k.a. Mary Janes)  \\\n",
              "1                                                  3                                   \n",
              "3                                                  3                                   \n",
              "4                                                  3                                   \n",
              "5                                                  3                                   \n",
              "7                                                  3                                   \n",
              "\n",
              "   Any full-sized candy bar  Black Jacks  Bonkers (the candy)  \\\n",
              "1                         1            0                    3   \n",
              "3                         1            0                    0   \n",
              "4                         1            3                    0   \n",
              "5                         1            2                    2   \n",
              "7                         1            3                    3   \n",
              "\n",
              "   Bonkers (the board game)  ...  Three Musketeers  \\\n",
              "1                         3  ...                 1   \n",
              "3                         3  ...                 3   \n",
              "4                         3  ...                 1   \n",
              "5                         2  ...                 1   \n",
              "7                         0  ...                 1   \n",
              "\n",
              "   Tolberone something or other  Trail Mix  Twix  \\\n",
              "1                             1          3     1   \n",
              "3                             1          0     1   \n",
              "4                             1          3     1   \n",
              "5                             1          0     1   \n",
              "7                             0          3     1   \n",
              "\n",
              "   Vials of pure high fructose corn syrup, for main-lining into your vein  \\\n",
              "1                                                  3                        \n",
              "3                                                  3                        \n",
              "4                                                  0                        \n",
              "5                                                  3                        \n",
              "7                                                  1                        \n",
              "\n",
              "   Vicodin  Whatchamacallit Bars  White Bread  Whole Wheat anything  \\\n",
              "1        3                     3            3                     3   \n",
              "3        1                     1            3                     3   \n",
              "4        1                     1            3                     3   \n",
              "5        3                     1            3                     3   \n",
              "7        0                     3            3                     3   \n",
              "\n",
              "   York Peppermint Patties  \n",
              "1                        3  \n",
              "3                        3  \n",
              "4                        1  \n",
              "5                        1  \n",
              "7                        3  \n",
              "\n",
              "[5 rows x 107 columns]"
            ],
            "text/html": [
              "\n",
              "  <div id=\"df-375ea459-5551-4e47-a934-82b9e40c4149\">\n",
              "    <div class=\"colab-df-container\">\n",
              "      <div>\n",
              "<style scoped>\n",
              "    .dataframe tbody tr th:only-of-type {\n",
              "        vertical-align: middle;\n",
              "    }\n",
              "\n",
              "    .dataframe tbody tr th {\n",
              "        vertical-align: top;\n",
              "    }\n",
              "\n",
              "    .dataframe thead th {\n",
              "        text-align: right;\n",
              "    }\n",
              "</style>\n",
              "<table border=\"1\" class=\"dataframe\">\n",
              "  <thead>\n",
              "    <tr style=\"text-align: right;\">\n",
              "      <th></th>\n",
              "      <th>GOING OUT?</th>\n",
              "      <th>GENDER</th>\n",
              "      <th>AGE</th>\n",
              "      <th>COUNTRY</th>\n",
              "      <th>100 Grand Bar</th>\n",
              "      <th>Anonymous brown globs that come in black and orange wrappers\\t(a.k.a. Mary Janes)</th>\n",
              "      <th>Any full-sized candy bar</th>\n",
              "      <th>Black Jacks</th>\n",
              "      <th>Bonkers (the candy)</th>\n",
              "      <th>Bonkers (the board game)</th>\n",
              "      <th>...</th>\n",
              "      <th>Three Musketeers</th>\n",
              "      <th>Tolberone something or other</th>\n",
              "      <th>Trail Mix</th>\n",
              "      <th>Twix</th>\n",
              "      <th>Vials of pure high fructose corn syrup, for main-lining into your vein</th>\n",
              "      <th>Vicodin</th>\n",
              "      <th>Whatchamacallit Bars</th>\n",
              "      <th>White Bread</th>\n",
              "      <th>Whole Wheat anything</th>\n",
              "      <th>York Peppermint Patties</th>\n",
              "    </tr>\n",
              "  </thead>\n",
              "  <tbody>\n",
              "    <tr>\n",
              "      <th>1</th>\n",
              "      <td>0</td>\n",
              "      <td>0</td>\n",
              "      <td>44</td>\n",
              "      <td>0</td>\n",
              "      <td>0</td>\n",
              "      <td>3</td>\n",
              "      <td>1</td>\n",
              "      <td>0</td>\n",
              "      <td>3</td>\n",
              "      <td>3</td>\n",
              "      <td>...</td>\n",
              "      <td>1</td>\n",
              "      <td>1</td>\n",
              "      <td>3</td>\n",
              "      <td>1</td>\n",
              "      <td>3</td>\n",
              "      <td>3</td>\n",
              "      <td>3</td>\n",
              "      <td>3</td>\n",
              "      <td>3</td>\n",
              "      <td>3</td>\n",
              "    </tr>\n",
              "    <tr>\n",
              "      <th>3</th>\n",
              "      <td>0</td>\n",
              "      <td>0</td>\n",
              "      <td>40</td>\n",
              "      <td>0</td>\n",
              "      <td>0</td>\n",
              "      <td>3</td>\n",
              "      <td>1</td>\n",
              "      <td>0</td>\n",
              "      <td>0</td>\n",
              "      <td>3</td>\n",
              "      <td>...</td>\n",
              "      <td>3</td>\n",
              "      <td>1</td>\n",
              "      <td>0</td>\n",
              "      <td>1</td>\n",
              "      <td>3</td>\n",
              "      <td>1</td>\n",
              "      <td>1</td>\n",
              "      <td>3</td>\n",
              "      <td>3</td>\n",
              "      <td>3</td>\n",
              "    </tr>\n",
              "    <tr>\n",
              "      <th>4</th>\n",
              "      <td>0</td>\n",
              "      <td>0</td>\n",
              "      <td>23</td>\n",
              "      <td>0</td>\n",
              "      <td>1</td>\n",
              "      <td>3</td>\n",
              "      <td>1</td>\n",
              "      <td>3</td>\n",
              "      <td>0</td>\n",
              "      <td>3</td>\n",
              "      <td>...</td>\n",
              "      <td>1</td>\n",
              "      <td>1</td>\n",
              "      <td>3</td>\n",
              "      <td>1</td>\n",
              "      <td>0</td>\n",
              "      <td>1</td>\n",
              "      <td>1</td>\n",
              "      <td>3</td>\n",
              "      <td>3</td>\n",
              "      <td>1</td>\n",
              "    </tr>\n",
              "    <tr>\n",
              "      <th>5</th>\n",
              "      <td>0</td>\n",
              "      <td>0</td>\n",
              "      <td>43</td>\n",
              "      <td>1</td>\n",
              "      <td>1</td>\n",
              "      <td>3</td>\n",
              "      <td>1</td>\n",
              "      <td>2</td>\n",
              "      <td>2</td>\n",
              "      <td>2</td>\n",
              "      <td>...</td>\n",
              "      <td>1</td>\n",
              "      <td>1</td>\n",
              "      <td>0</td>\n",
              "      <td>1</td>\n",
              "      <td>3</td>\n",
              "      <td>3</td>\n",
              "      <td>1</td>\n",
              "      <td>3</td>\n",
              "      <td>3</td>\n",
              "      <td>1</td>\n",
              "    </tr>\n",
              "    <tr>\n",
              "      <th>7</th>\n",
              "      <td>0</td>\n",
              "      <td>0</td>\n",
              "      <td>33</td>\n",
              "      <td>2</td>\n",
              "      <td>1</td>\n",
              "      <td>3</td>\n",
              "      <td>1</td>\n",
              "      <td>3</td>\n",
              "      <td>3</td>\n",
              "      <td>0</td>\n",
              "      <td>...</td>\n",
              "      <td>1</td>\n",
              "      <td>0</td>\n",
              "      <td>3</td>\n",
              "      <td>1</td>\n",
              "      <td>1</td>\n",
              "      <td>0</td>\n",
              "      <td>3</td>\n",
              "      <td>3</td>\n",
              "      <td>3</td>\n",
              "      <td>3</td>\n",
              "    </tr>\n",
              "  </tbody>\n",
              "</table>\n",
              "<p>5 rows × 107 columns</p>\n",
              "</div>\n",
              "      <button class=\"colab-df-convert\" onclick=\"convertToInteractive('df-375ea459-5551-4e47-a934-82b9e40c4149')\"\n",
              "              title=\"Convert this dataframe to an interactive table.\"\n",
              "              style=\"display:none;\">\n",
              "        \n",
              "  <svg xmlns=\"http://www.w3.org/2000/svg\" height=\"24px\"viewBox=\"0 0 24 24\"\n",
              "       width=\"24px\">\n",
              "    <path d=\"M0 0h24v24H0V0z\" fill=\"none\"/>\n",
              "    <path d=\"M18.56 5.44l.94 2.06.94-2.06 2.06-.94-2.06-.94-.94-2.06-.94 2.06-2.06.94zm-11 1L8.5 8.5l.94-2.06 2.06-.94-2.06-.94L8.5 2.5l-.94 2.06-2.06.94zm10 10l.94 2.06.94-2.06 2.06-.94-2.06-.94-.94-2.06-.94 2.06-2.06.94z\"/><path d=\"M17.41 7.96l-1.37-1.37c-.4-.4-.92-.59-1.43-.59-.52 0-1.04.2-1.43.59L10.3 9.45l-7.72 7.72c-.78.78-.78 2.05 0 2.83L4 21.41c.39.39.9.59 1.41.59.51 0 1.02-.2 1.41-.59l7.78-7.78 2.81-2.81c.8-.78.8-2.07 0-2.86zM5.41 20L4 18.59l7.72-7.72 1.47 1.35L5.41 20z\"/>\n",
              "  </svg>\n",
              "      </button>\n",
              "      \n",
              "  <style>\n",
              "    .colab-df-container {\n",
              "      display:flex;\n",
              "      flex-wrap:wrap;\n",
              "      gap: 12px;\n",
              "    }\n",
              "\n",
              "    .colab-df-convert {\n",
              "      background-color: #E8F0FE;\n",
              "      border: none;\n",
              "      border-radius: 50%;\n",
              "      cursor: pointer;\n",
              "      display: none;\n",
              "      fill: #1967D2;\n",
              "      height: 32px;\n",
              "      padding: 0 0 0 0;\n",
              "      width: 32px;\n",
              "    }\n",
              "\n",
              "    .colab-df-convert:hover {\n",
              "      background-color: #E2EBFA;\n",
              "      box-shadow: 0px 1px 2px rgba(60, 64, 67, 0.3), 0px 1px 3px 1px rgba(60, 64, 67, 0.15);\n",
              "      fill: #174EA6;\n",
              "    }\n",
              "\n",
              "    [theme=dark] .colab-df-convert {\n",
              "      background-color: #3B4455;\n",
              "      fill: #D2E3FC;\n",
              "    }\n",
              "\n",
              "    [theme=dark] .colab-df-convert:hover {\n",
              "      background-color: #434B5C;\n",
              "      box-shadow: 0px 1px 3px 1px rgba(0, 0, 0, 0.15);\n",
              "      filter: drop-shadow(0px 1px 2px rgba(0, 0, 0, 0.3));\n",
              "      fill: #FFFFFF;\n",
              "    }\n",
              "  </style>\n",
              "\n",
              "      <script>\n",
              "        const buttonEl =\n",
              "          document.querySelector('#df-375ea459-5551-4e47-a934-82b9e40c4149 button.colab-df-convert');\n",
              "        buttonEl.style.display =\n",
              "          google.colab.kernel.accessAllowed ? 'block' : 'none';\n",
              "\n",
              "        async function convertToInteractive(key) {\n",
              "          const element = document.querySelector('#df-375ea459-5551-4e47-a934-82b9e40c4149');\n",
              "          const dataTable =\n",
              "            await google.colab.kernel.invokeFunction('convertToInteractive',\n",
              "                                                     [key], {});\n",
              "          if (!dataTable) return;\n",
              "\n",
              "          const docLinkHtml = 'Like what you see? Visit the ' +\n",
              "            '<a target=\"_blank\" href=https://colab.research.google.com/notebooks/data_table.ipynb>data table notebook</a>'\n",
              "            + ' to learn more about interactive tables.';\n",
              "          element.innerHTML = '';\n",
              "          dataTable['output_type'] = 'display_data';\n",
              "          await google.colab.output.renderOutput(dataTable, element);\n",
              "          const docLink = document.createElement('div');\n",
              "          docLink.innerHTML = docLinkHtml;\n",
              "          element.appendChild(docLink);\n",
              "        }\n",
              "      </script>\n",
              "    </div>\n",
              "  </div>\n",
              "  "
            ]
          },
          "metadata": {},
          "execution_count": 77
        }
      ]
    },
    {
      "cell_type": "markdown",
      "source": [
        "# Respuestas a las preguntas planteadas"
      ],
      "metadata": {
        "id": "D2CWFb5boW3w"
      }
    },
    {
      "cell_type": "markdown",
      "source": [
        "## ¿Cuál es el dulce que más le gusta a las personas?"
      ],
      "metadata": {
        "id": "fsNNMvdtoYyl"
      }
    },
    {
      "cell_type": "code",
      "source": [
        "series_name"
      ],
      "metadata": {
        "colab": {
          "base_uri": "https://localhost:8080/"
        },
        "id": "tPskS99kpYvS",
        "outputId": "af7ae886-2f19-41b0-a88c-3a0e6462cd3d"
      },
      "execution_count": null,
      "outputs": [
        {
          "output_type": "execute_result",
          "data": {
            "text/plain": [
              "{'MEH': 0, 'JOY': 1, 'NC': 2, 'DESPAIR': 3}"
            ]
          },
          "metadata": {},
          "execution_count": 78
        }
      ]
    },
    {
      "cell_type": "markdown",
      "source": [
        "Buscaremos cual es el que tiene mas JOY"
      ],
      "metadata": {
        "id": "WgYm5_ZDp6ax"
      }
    },
    {
      "cell_type": "code",
      "source": [
        "dulces_mas_queridos = df[df[columnas_pregunta_6] == 1][columnas_pregunta_6].count().sort_values(ascending=False)"
      ],
      "metadata": {
        "id": "nGELTFyKoqsp"
      },
      "execution_count": null,
      "outputs": []
    },
    {
      "cell_type": "code",
      "source": [
        "print('Los dulces que producen mayor felicidad son:',dulces_mas_queridos[0:1].index[0],\"con\",dulces_mas_queridos[0:1][0],\"respuestas\")"
      ],
      "metadata": {
        "colab": {
          "base_uri": "https://localhost:8080/"
        },
        "id": "hzstcRo9qVP-",
        "outputId": "50b947d7-ff67-46ae-b356-25ee69f55f09"
      },
      "execution_count": null,
      "outputs": [
        {
          "output_type": "stream",
          "name": "stdout",
          "text": [
            "Los dulces que producen mayor felicidad son: Any full-sized candy bar con 1395 respuestas\n"
          ]
        }
      ]
    },
    {
      "cell_type": "markdown",
      "source": [
        "## ¿Hay dulces que le gusten más a cierto rango de edad?"
      ],
      "metadata": {
        "id": "SP5Ywg56ogdd"
      }
    },
    {
      "cell_type": "code",
      "source": [
        "rangos_edad = [(0,10),(11,20),(21,30),(31,40),(41,50),(51,60),(61,70),(71,80),(81,90),(91,150)]"
      ],
      "metadata": {
        "id": "MKk6vFN9tV4U"
      },
      "execution_count": null,
      "outputs": []
    },
    {
      "cell_type": "code",
      "source": [
        "for i in rangos_edad:\n",
        "  edades = df[(df['AGE']>=i[0])&(df['AGE']<=i[1])].copy()\n",
        "  \n",
        "  dulces_mas_queridos_por_edad = edades[edades[columnas_pregunta_6] == 1][columnas_pregunta_6].count().sort_values(ascending=False)\n",
        "  print('Los dulces que producen mayor felicidad para las edades entre [',i[0],' y ',i[1],'] son:',dulces_mas_queridos_por_edad[0:1].index[0],\"con\",dulces_mas_queridos_por_edad[0:1][0],\"respuestas\")"
      ],
      "metadata": {
        "colab": {
          "base_uri": "https://localhost:8080/"
        },
        "id": "GzWzMEOBtVyy",
        "outputId": "f0d02ce9-9f4d-4564-8e47-2c33ac471782"
      },
      "execution_count": null,
      "outputs": [
        {
          "output_type": "stream",
          "name": "stdout",
          "text": [
            "Los dulces que producen mayor felicidad para las edades entre [ 0  y  10 ] son: Cash, or other forms of legal tender con 8 respuestas\n",
            "Los dulces que producen mayor felicidad para las edades entre [ 11  y  20 ] son: Cash, or other forms of legal tender con 36 respuestas\n",
            "Los dulces que producen mayor felicidad para las edades entre [ 21  y  30 ] son: Any full-sized candy bar con 144 respuestas\n",
            "Los dulces que producen mayor felicidad para las edades entre [ 31  y  40 ] son: Any full-sized candy bar con 430 respuestas\n",
            "Los dulces que producen mayor felicidad para las edades entre [ 41  y  50 ] son: Any full-sized candy bar con 469 respuestas\n",
            "Los dulces que producen mayor felicidad para las edades entre [ 51  y  60 ] son: ReeseÕs Peanut Butter Cups con 227 respuestas\n",
            "Los dulces que producen mayor felicidad para las edades entre [ 61  y  70 ] son: Any full-sized candy bar con 72 respuestas\n",
            "Los dulces que producen mayor felicidad para las edades entre [ 71  y  80 ] son: Cash, or other forms of legal tender con 12 respuestas\n",
            "Los dulces que producen mayor felicidad para las edades entre [ 81  y  90 ] son: York Peppermint Patties con 3 respuestas\n",
            "Los dulces que producen mayor felicidad para las edades entre [ 91  y  150 ] son: Any full-sized candy bar con 3 respuestas\n"
          ]
        }
      ]
    },
    {
      "cell_type": "markdown",
      "source": [
        "## ¿Cuál dulce le gusta más a los hombres?\n"
      ],
      "metadata": {
        "id": "UpSgkNz9ogZC"
      }
    },
    {
      "cell_type": "markdown",
      "source": [
        "{'Male': 0, 'Female': 1, \"I'd rather not say\": 2, 'Other': 3}\n"
      ],
      "metadata": {
        "id": "2mJIcFTHrRLj"
      }
    },
    {
      "cell_type": "code",
      "source": [
        "hombres=df[df['GENDER']==0].copy()"
      ],
      "metadata": {
        "id": "A7yW81kkq1El"
      },
      "execution_count": null,
      "outputs": []
    },
    {
      "cell_type": "code",
      "source": [
        "dulces_mas_queridos_por_hombres = hombres[hombres[columnas_pregunta_6] == 1][columnas_pregunta_6].count().sort_values(ascending=False)"
      ],
      "metadata": {
        "id": "IhtmBMAQq08O"
      },
      "execution_count": null,
      "outputs": []
    },
    {
      "cell_type": "code",
      "source": [
        "print('Los dulces que producen mayor felicidad a los hombres son:',dulces_mas_queridos_por_hombres[0:1].index[0],\"con\",dulces_mas_queridos_por_hombres[0:1][0],\"respuestas\")"
      ],
      "metadata": {
        "colab": {
          "base_uri": "https://localhost:8080/"
        },
        "id": "W7_zc2wgrf3Q",
        "outputId": "467c2a62-ef07-4ce5-ecfe-509778cec573"
      },
      "execution_count": null,
      "outputs": [
        {
          "output_type": "stream",
          "name": "stdout",
          "text": [
            "Los dulces que producen mayor felicidad a los hombres son: Any full-sized candy bar con 843 respuestas\n"
          ]
        }
      ]
    },
    {
      "cell_type": "markdown",
      "source": [
        "## ¿Cuál dulce le gusta más a las mujeres?"
      ],
      "metadata": {
        "id": "Ka2knIlbogWf"
      }
    },
    {
      "cell_type": "code",
      "source": [
        "mujeres=df[df['GENDER']==1].copy()"
      ],
      "metadata": {
        "id": "1kSz7LthopfV"
      },
      "execution_count": null,
      "outputs": []
    },
    {
      "cell_type": "code",
      "source": [
        "dulces_mas_queridos_por_mujeres = mujeres[mujeres[columnas_pregunta_6] == 1][columnas_pregunta_6].count().sort_values(ascending=False)"
      ],
      "metadata": {
        "id": "-w5U37BFrqXS"
      },
      "execution_count": null,
      "outputs": []
    },
    {
      "cell_type": "code",
      "source": [
        "print('Los dulces que producen mayor felicidad a los mujeres son:',dulces_mas_queridos_por_mujeres[0:1].index[0],\"con\",dulces_mas_queridos_por_mujeres[0:1][0],\"respuestas\")"
      ],
      "metadata": {
        "colab": {
          "base_uri": "https://localhost:8080/"
        },
        "id": "C-_PU71KrqVI",
        "outputId": "203437a1-67e0-484e-9573-fad37a2dc8a3"
      },
      "execution_count": null,
      "outputs": [
        {
          "output_type": "stream",
          "name": "stdout",
          "text": [
            "Los dulces que producen mayor felicidad a los mujeres son: Any full-sized candy bar con 483 respuestas\n"
          ]
        }
      ]
    },
    {
      "cell_type": "markdown",
      "source": [
        "## ¿Cuales son el top 5 de dulces en estados unidos?"
      ],
      "metadata": {
        "id": "Vyl_2bxeogUN"
      }
    },
    {
      "cell_type": "markdown",
      "source": [
        "{'USA': 0, 'NO RESPONDIO': 1, 'CANADA': 2, 'UK': 3, 'UAE': 4, 'FRANCE': 5, 'MEXICO': 6, 'NETHERLANDS': 7, 'COSTA RICA': 8, 'GREECE': 9, 'IRELAND': 10, 'KOREA': 11, 'AUSTRALIA': 12, 'JAPAN': 13, 'ICELAND': 14, 'SCOTLAND': 15, 'DENMARK': 16, 'SWITZERLAND': 17, 'SOUTH KOREA': 18, 'GERMANY': 19, 'SINGAPORE': 20, 'TAIWAN': 21, 'CHINA': 22, 'SPAIN': 23}"
      ],
      "metadata": {
        "id": "ne4GEH7Ur3As"
      }
    },
    {
      "cell_type": "code",
      "source": [
        "usa = df[df['COUNTRY']==0].copy()"
      ],
      "metadata": {
        "id": "x-ZSchG_r_iJ"
      },
      "execution_count": null,
      "outputs": []
    },
    {
      "cell_type": "code",
      "source": [
        "dulces_mas_queridos_de_usa = usa[usa[columnas_pregunta_6] == 1][columnas_pregunta_6].count().sort_values(ascending=False)\n",
        "print('Los 5 dulces que producen mayor felicidad a USA son:')\n",
        "for i in range(0,5):\n",
        "  print((i+1),'.-',dulces_mas_queridos_de_usa[i:i+1].index[0],\"con\",dulces_mas_queridos_de_usa[i:i+1][0],\"respuestas\")"
      ],
      "metadata": {
        "colab": {
          "base_uri": "https://localhost:8080/"
        },
        "id": "98LZPU6YsFC0",
        "outputId": "976e4052-bbea-4847-af9f-284ab758a3ef"
      },
      "execution_count": null,
      "outputs": [
        {
          "output_type": "stream",
          "name": "stdout",
          "text": [
            "Los 5 dulces que producen mayor felicidad a USA son:\n",
            "1 .- Any full-sized candy bar con 1191 respuestas\n",
            "2 .- ReeseÕs Peanut Butter Cups con 1138 respuestas\n",
            "3 .- Kit Kat con 1106 respuestas\n",
            "4 .- Twix con 1101 respuestas\n",
            "5 .- Cash, or other forms of legal tender con 1096 respuestas\n"
          ]
        }
      ]
    },
    {
      "cell_type": "markdown",
      "source": [
        "## ¿Podremos obtener información de los dulces de otros paises?"
      ],
      "metadata": {
        "id": "E1vMTzotogRl"
      }
    },
    {
      "cell_type": "code",
      "source": [
        "paises = {'USA': 0, 'NO RESPONDIO': 1, 'CANADA': 2, 'UK': 3, 'UAE': 4, 'FRANCE': 5, 'MEXICO': 6, 'NETHERLANDS': 7, 'COSTA RICA': 8, 'GREECE': 9, 'IRELAND': 10, 'KOREA': 11, 'AUSTRALIA': 12, 'JAPAN': 13, 'ICELAND': 14, 'SCOTLAND': 15, 'DENMARK': 16, 'SWITZERLAND': 17, 'SOUTH KOREA': 18, 'GERMANY': 19, 'SINGAPORE': 20, 'TAIWAN': 21, 'CHINA': 22, 'SPAIN': 23}"
      ],
      "metadata": {
        "id": "LtVfIBvhsPoR"
      },
      "execution_count": null,
      "outputs": []
    },
    {
      "cell_type": "code",
      "source": [
        "def dulces_paises(valor, indice):\n",
        "  pais = df[df['COUNTRY']==indice].copy()\n",
        "  dulces_mas_queridos_de_pais = pais[pais[columnas_pregunta_6] == 1][columnas_pregunta_6].count().sort_values(ascending=False)\n",
        "  print('* Los dulces que producen mayor felicidad a',valor,'son:',dulces_mas_queridos_de_pais[0:1].index[0],\"con\",dulces_mas_queridos_de_pais[0:1][0],\"respuestas\")"
      ],
      "metadata": {
        "id": "YOZdrFNHs292"
      },
      "execution_count": null,
      "outputs": []
    },
    {
      "cell_type": "code",
      "source": [
        "{dulces_paises(val,x) for x, val in enumerate(paises)}"
      ],
      "metadata": {
        "colab": {
          "base_uri": "https://localhost:8080/"
        },
        "id": "5JBU-KnDsXEc",
        "outputId": "dfc067c0-0f79-476f-9d6e-5b7bc23336b7"
      },
      "execution_count": null,
      "outputs": [
        {
          "output_type": "stream",
          "name": "stdout",
          "text": [
            "* Los dulces que producen mayor felicidad a USA son: Any full-sized candy bar con 1191 respuestas\n",
            "* Los dulces que producen mayor felicidad a NO RESPONDIO son: Any full-sized candy bar con 22 respuestas\n",
            "* Los dulces que producen mayor felicidad a CANADA son: Any full-sized candy bar con 132 respuestas\n",
            "* Los dulces que producen mayor felicidad a UK son: Rolos con 17 respuestas\n",
            "* Los dulces que producen mayor felicidad a UAE son: Skittles con 1 respuestas\n",
            "* Los dulces que producen mayor felicidad a FRANCE son: Milky Way con 3 respuestas\n",
            "* Los dulces que producen mayor felicidad a MEXICO son: Pixy Stix con 2 respuestas\n",
            "* Los dulces que producen mayor felicidad a NETHERLANDS son: Smarties (Commonwealth) con 3 respuestas\n",
            "* Los dulces que producen mayor felicidad a COSTA RICA son: 100 Grand Bar con 1 respuestas\n",
            "* Los dulces que producen mayor felicidad a GREECE son: York Peppermint Patties con 1 respuestas\n",
            "* Los dulces que producen mayor felicidad a IRELAND son: Nestle Crunch con 2 respuestas\n",
            "* Los dulces que producen mayor felicidad a KOREA son: 100 Grand Bar con 1 respuestas\n",
            "* Los dulces que producen mayor felicidad a AUSTRALIA son: Cash, or other forms of legal tender con 2 respuestas\n",
            "* Los dulces que producen mayor felicidad a JAPAN son: Twix con 3 respuestas\n",
            "* Los dulces que producen mayor felicidad a ICELAND son: Mars con 1 respuestas\n",
            "* Los dulces que producen mayor felicidad a SCOTLAND son: Mars con 3 respuestas\n",
            "* Los dulces que producen mayor felicidad a DENMARK son: Mars con 2 respuestas\n",
            "* Los dulces que producen mayor felicidad a SWITZERLAND son: Regular M&Ms con 2 respuestas\n",
            "* Los dulces que producen mayor felicidad a SOUTH KOREA son: 100 Grand Bar con 1 respuestas\n",
            "* Los dulces que producen mayor felicidad a GERMANY son: Any full-sized candy bar con 5 respuestas\n",
            "* Los dulces que producen mayor felicidad a SINGAPORE son: Milky Way con 1 respuestas\n",
            "* Los dulces que producen mayor felicidad a TAIWAN son: 100 Grand Bar con 1 respuestas\n",
            "* Los dulces que producen mayor felicidad a CHINA son: Licorice (yes black) con 1 respuestas\n",
            "* Los dulces que producen mayor felicidad a SPAIN son: 100 Grand Bar con 1 respuestas\n"
          ]
        },
        {
          "output_type": "execute_result",
          "data": {
            "text/plain": [
              "{None}"
            ]
          },
          "metadata": {},
          "execution_count": 93
        }
      ]
    },
    {
      "cell_type": "markdown",
      "source": [
        "# Galería\n",
        "\n",
        "En esta sección decidimos utilizar visualizaciones para poder apreciar los datos de una forma más amigable que también ayuda a responder preguntas."
      ],
      "metadata": {
        "id": "DbxkIShJ31Db"
      }
    },
    {
      "cell_type": "markdown",
      "source": [
        "Primero definimos una función que nos ayudará a hacer todas las gráficas solamente enviando los parámetros; ya que, como se ve en el código, lo que se necesita está definido en los argumentos."
      ],
      "metadata": {
        "id": "Qnsq-4PN9qrQ"
      }
    },
    {
      "cell_type": "code",
      "source": [
        "def plot_bar(oDataFrame,oTitle,x_label,y_label,oLabel_Column,oValue_Column):\n",
        "\n",
        "    import seaborn as sns\n",
        "    import matplotlib.pyplot as plt\n",
        "\n",
        "    fig, ax = plt.subplots(figsize=(5, 5))\n",
        "    ax.set_title(oTitle)\n",
        "    splot = sns.barplot(oDataFrame[oValue_Column], oDataFrame[oLabel_Column], ax=ax)\n",
        "    ax.set(xlabel=x_label, ylabel=y_label)"
      ],
      "metadata": {
        "id": "enQikFTS9p6f"
      },
      "execution_count": null,
      "outputs": []
    },
    {
      "cell_type": "markdown",
      "source": [
        "Por cada conjunto de datos que queramos graficar debemos hacer map y filter para guardar en un dataframe los datos que queremos graficar."
      ],
      "metadata": {
        "id": "cR4KqofV-rA-"
      }
    },
    {
      "cell_type": "markdown",
      "source": [
        "## Personas que saldrán a pedir dulces \n",
        "\n",
        "Comenzamos con un diccionario de la pregunta para hacer el mapeo de la pregunta \"GOING OUT?\" que traduce los valores en números categóricos a la etiqueta"
      ],
      "metadata": {
        "id": "ckv6d-Nu-qAM"
      }
    },
    {
      "cell_type": "code",
      "source": [
        "map_going_out = {0:'No',1:'Sí',2:'No sé'}"
      ],
      "metadata": {
        "id": "ThbNS9pj6QBP"
      },
      "execution_count": null,
      "outputs": []
    },
    {
      "cell_type": "markdown",
      "source": [
        "Creamos el dataframe y mapeamos una segunda columna, para después hacer el conteno y guardarlos, de esta forma tendremos los datos a graficar.\n",
        "\n"
      ],
      "metadata": {
        "id": "FnwMGEfH-xj5"
      }
    },
    {
      "cell_type": "code",
      "source": [
        "saldran = pd.DataFrame(df,columns=['GOING OUT?'])\n",
        "\n",
        "saldran['CATEGORY'] = saldran['GOING OUT?'].map(map_going_out)\n",
        "\n",
        "saldran_count = saldran.groupby('CATEGORY')['CATEGORY'].count().reset_index(name=\"TOTAL\")\n",
        "\n",
        "saldran_count['%'] = 100 * saldran_count['TOTAL'] / saldran_count['TOTAL'].sum()"
      ],
      "metadata": {
        "id": "4sGMtNuP7D9v"
      },
      "execution_count": null,
      "outputs": []
    },
    {
      "cell_type": "markdown",
      "source": [
        "Ahora graficamos el resultado"
      ],
      "metadata": {
        "id": "bKIYRbMG_Rtf"
      }
    },
    {
      "cell_type": "code",
      "source": [
        "plot_bar(saldran_count,'Personas que saldrán a pedir dulces','Personas','Saldrán o no','CATEGORY','TOTAL')"
      ],
      "metadata": {
        "colab": {
          "base_uri": "https://localhost:8080/",
          "height": 405
        },
        "id": "0RCBeksa7cD5",
        "outputId": "30b0896f-7763-47e8-be32-6fa6484a94b9"
      },
      "execution_count": null,
      "outputs": [
        {
          "output_type": "stream",
          "name": "stderr",
          "text": [
            "/usr/local/lib/python3.7/dist-packages/seaborn/_decorators.py:43: FutureWarning: Pass the following variables as keyword args: x, y. From version 0.12, the only valid positional argument will be `data`, and passing other arguments without an explicit keyword will result in an error or misinterpretation.\n",
            "  FutureWarning\n"
          ]
        },
        {
          "output_type": "display_data",
          "data": {
            "text/plain": [
              "<Figure size 360x360 with 1 Axes>"
            ],
            "image/png": "[encoded data removed]"
          },
          "metadata": {
            "needs_background": "light"
          }
        }
      ]
    },
    {
      "cell_type": "markdown",
      "source": [
        "Observamos que sólo una minoría quiere salir a pedir dulces y, como vimos previamente, los rangos de edad de 0-10 y 11-20 prefieren que se les dé dinero. Si bien, son pocos los encuestados en este rango de edad."
      ],
      "metadata": {
        "id": "k24fm_HRPr_Z"
      }
    },
    {
      "cell_type": "markdown",
      "source": [
        "## Dulces más queridos en general"
      ],
      "metadata": {
        "id": "8q8vynvtHyvk"
      }
    },
    {
      "cell_type": "code",
      "source": [
        "dfChart = pd.DataFrame(dulces_mas_queridos)\n",
        "dfChart = dfChart.reset_index()\n",
        "dfChart = dfChart.head(20)\n",
        "dfChart.columns = ['DULCE','TOTAL']\n",
        "plot_bar(dfChart,'Top 20 Dulces Más Queridos','Frecuencia','Dulces','DULCE','TOTAL')"
      ],
      "metadata": {
        "colab": {
          "base_uri": "https://localhost:8080/",
          "height": 406
        },
        "id": "tMwRxi8TFJN3",
        "outputId": "86b0764f-30d1-4dcd-99f3-8ce2c753b1c6"
      },
      "execution_count": null,
      "outputs": [
        {
          "output_type": "stream",
          "name": "stderr",
          "text": [
            "/usr/local/lib/python3.7/dist-packages/seaborn/_decorators.py:43: FutureWarning: Pass the following variables as keyword args: x, y. From version 0.12, the only valid positional argument will be `data`, and passing other arguments without an explicit keyword will result in an error or misinterpretation.\n",
            "  FutureWarning\n"
          ]
        },
        {
          "output_type": "display_data",
          "data": {
            "text/plain": [
              "<Figure size 360x360 with 1 Axes>"
            ],
            "image/png": "[encoded data removed]"
          },
          "metadata": {
            "needs_background": "light"
          }
        }
      ]
    },
    {
      "cell_type": "markdown",
      "source": [
        "EN esta gráfica se observa que, aunque \"Any full-sized candy bar\" es el dulce más querido, no parece tener una diferencia exponencial con respecto al resto de los dulces."
      ],
      "metadata": {
        "id": "Ecr0lIYNQ3vZ"
      }
    },
    {
      "cell_type": "markdown",
      "source": [
        "## Dulces más queridos por mujeres"
      ],
      "metadata": {
        "id": "XYk9zJB5H8St"
      }
    },
    {
      "cell_type": "code",
      "source": [
        "dfChart = pd.DataFrame(dulces_mas_queridos_por_mujeres)\n",
        "dfChart = dfChart.reset_index()\n",
        "dfChart = dfChart.head(20)\n",
        "dfChart.columns = ['DULCE','TOTAL']\n",
        "plot_bar(dfChart,'Top 20 Dulces Más Queridos por Mujeres','Frecuencia','Dulces','DULCE','TOTAL')"
      ],
      "metadata": {
        "colab": {
          "base_uri": "https://localhost:8080/",
          "height": 406
        },
        "id": "ViPvs2iqH7Zk",
        "outputId": "27f2bcfb-9bfc-416f-c6f0-60d87e9895ea"
      },
      "execution_count": null,
      "outputs": [
        {
          "output_type": "stream",
          "name": "stderr",
          "text": [
            "/usr/local/lib/python3.7/dist-packages/seaborn/_decorators.py:43: FutureWarning: Pass the following variables as keyword args: x, y. From version 0.12, the only valid positional argument will be `data`, and passing other arguments without an explicit keyword will result in an error or misinterpretation.\n",
            "  FutureWarning\n"
          ]
        },
        {
          "output_type": "display_data",
          "data": {
            "text/plain": [
              "<Figure size 360x360 with 1 Axes>"
            ],
            "image/png": "[encoded data removed]"
          },
          "metadata": {
            "needs_background": "light"
          }
        }
      ]
    },
    {
      "cell_type": "markdown",
      "source": [
        "## Dulces más queridos en USA"
      ],
      "metadata": {
        "id": "VxgjwCqaIK0s"
      }
    },
    {
      "cell_type": "code",
      "source": [
        "dfChart = pd.DataFrame(dulces_mas_queridos_de_usa)\n",
        "dfChart = dfChart.reset_index()\n",
        "dfChart = dfChart.head(20)\n",
        "dfChart.columns = ['DULCE','TOTAL']\n",
        "plot_bar(dfChart,'Top 20 Dulces Más Queridos en USA','Frecuencia','Dulces','DULCE','TOTAL')"
      ],
      "metadata": {
        "colab": {
          "base_uri": "https://localhost:8080/",
          "height": 406
        },
        "id": "Bacj_dzbILVQ",
        "outputId": "44727834-39b6-4092-8f2f-79738c690f4a"
      },
      "execution_count": null,
      "outputs": [
        {
          "output_type": "stream",
          "name": "stderr",
          "text": [
            "/usr/local/lib/python3.7/dist-packages/seaborn/_decorators.py:43: FutureWarning: Pass the following variables as keyword args: x, y. From version 0.12, the only valid positional argument will be `data`, and passing other arguments without an explicit keyword will result in an error or misinterpretation.\n",
            "  FutureWarning\n"
          ]
        },
        {
          "output_type": "display_data",
          "data": {
            "text/plain": [
              "<Figure size 360x360 with 1 Axes>"
            ],
            "image/png": "[encoded data removed]"
          },
          "metadata": {
            "needs_background": "light"
          }
        }
      ]
    },
    {
      "cell_type": "markdown",
      "source": [
        "## Edades"
      ],
      "metadata": {
        "id": "5YwyxD-sIaS7"
      }
    },
    {
      "cell_type": "code",
      "source": [
        "dfhist = pd.DataFrame(df[df['AGE']<=100],columns=['AGE'])"
      ],
      "metadata": {
        "id": "Rhhra7HKKMmL"
      },
      "execution_count": null,
      "outputs": []
    },
    {
      "cell_type": "code",
      "source": [
        "dfhist.groupby('AGE')['AGE'].count().plot.bar()"
      ],
      "metadata": {
        "colab": {
          "base_uri": "https://localhost:8080/",
          "height": 306
        },
        "id": "iABRXUE8IZ-G",
        "outputId": "877b7de2-66f6-4739-c91b-6deb95c39fba"
      },
      "execution_count": null,
      "outputs": [
        {
          "output_type": "execute_result",
          "data": {
            "text/plain": [
              "<matplotlib.axes._subplots.AxesSubplot at 0x7faaae0e3b90>"
            ]
          },
          "metadata": {},
          "execution_count": 242
        },
        {
          "output_type": "display_data",
          "data": {
            "text/plain": [
              "<Figure size 432x288 with 1 Axes>"
            ],
            "image/png": "[encoded data removed]"
          },
          "metadata": {
            "needs_background": "light"
          }
        }
      ]
    },
    {
      "cell_type": "markdown",
      "source": [
        "Con esta gráfica podemos notar el efecto de convertir los NaNs de \"Age\" al promedio"
      ],
      "metadata": {
        "id": "uguYBAgrPgF6"
      }
    },
    {
      "cell_type": "code",
      "source": [
        "dfhist.hist()"
      ],
      "metadata": {
        "colab": {
          "base_uri": "https://localhost:8080/",
          "height": 317
        },
        "id": "96qOtB3-JvPl",
        "outputId": "443decc0-c92c-4ae5-d7df-73acfec12915"
      },
      "execution_count": null,
      "outputs": [
        {
          "output_type": "execute_result",
          "data": {
            "text/plain": [
              "array([[<matplotlib.axes._subplots.AxesSubplot object at 0x7faaae0945d0>]],\n",
              "      dtype=object)"
            ]
          },
          "metadata": {},
          "execution_count": 243
        },
        {
          "output_type": "display_data",
          "data": {
            "text/plain": [
              "<Figure size 432x288 with 1 Axes>"
            ],
            "image/png": "[encoded data removed]"
          },
          "metadata": {
            "needs_background": "light"
          }
        }
      ]
    },
    {
      "cell_type": "markdown",
      "source": [
        "Con un histograma se corrige."
      ],
      "metadata": {
        "id": "4rL5cI6CUzbq"
      }
    },
    {
      "cell_type": "markdown",
      "source": [
        "## Países"
      ],
      "metadata": {
        "id": "CuYem9Q-K920"
      }
    },
    {
      "cell_type": "code",
      "source": [
        "oCountries = []"
      ],
      "metadata": {
        "id": "OmFuSgTjUkIc"
      },
      "execution_count": null,
      "outputs": []
    },
    {
      "cell_type": "code",
      "source": [
        "def populate(v,i,oDF):\n",
        "  oCountry = df[df['COUNTRY']==i].copy()\n",
        "  oDul = oCountry[oCountry[columnas_pregunta_6] == 1][columnas_pregunta_6].count().sort_values(ascending=False).head(5)\n",
        "  oDul = oDul.reset_index()\n",
        "  oDul.columns = ['oCANDY','oTOTAL']\n",
        "  oDul.insert(loc=0, column='oCOUNTRY', value=v)\n",
        "  oDF.append(oDul)"
      ],
      "metadata": {
        "id": "6cCzHLwdNtpU"
      },
      "execution_count": null,
      "outputs": []
    },
    {
      "cell_type": "code",
      "source": [
        "{populate(val,x,oCountries) for x, val in enumerate(paises)}"
      ],
      "metadata": {
        "colab": {
          "base_uri": "https://localhost:8080/"
        },
        "id": "nJSZSWciUmXT",
        "outputId": "5af1a565-8e4c-454f-adee-272e231acd1f"
      },
      "execution_count": null,
      "outputs": [
        {
          "output_type": "execute_result",
          "data": {
            "text/plain": [
              "{None}"
            ]
          },
          "metadata": {},
          "execution_count": 419
        }
      ]
    },
    {
      "cell_type": "code",
      "source": [
        "oDF_Countries = pd.DataFrame(columns=['oCOUNTRY', 'oCANDY', 'oTOTAL'])"
      ],
      "metadata": {
        "id": "uxXLV17PhG1z"
      },
      "execution_count": null,
      "outputs": []
    },
    {
      "cell_type": "code",
      "source": [
        "noe = len(oCountries)"
      ],
      "metadata": {
        "id": "GfQNDq4oiEys"
      },
      "execution_count": null,
      "outputs": []
    },
    {
      "cell_type": "code",
      "source": [
        "for i in range(0,noe):\n",
        "  oDF_Countries = oDF_Countries.append(oCountries[i], ignore_index=False)"
      ],
      "metadata": {
        "id": "XZ5PzwSDh5_V"
      },
      "execution_count": null,
      "outputs": []
    },
    {
      "cell_type": "code",
      "source": [
        "import matplotlib.pyplot as plt\n",
        "import numpy as np"
      ],
      "metadata": {
        "id": "GOUe0Yc4jq6q"
      },
      "execution_count": null,
      "outputs": []
    },
    {
      "cell_type": "code",
      "source": [
        "plt.figure()\n",
        "plt.xticks(rotation = 90)\n",
        "plt.subplot(6,4,1)\n",
        "plt.plot(oDF_Countries[oDF_Countries['oCOUNTRY']=='USA']['oCANDY'],oDF_Countries[oDF_Countries['oCOUNTRY']=='USA']['oTOTAL'])\n",
        "plt.subplot(6,4,2)\n",
        "plt.plot(oDF_Countries[oDF_Countries['oCOUNTRY']=='USA']['oCANDY'],oDF_Countries[oDF_Countries['oCOUNTRY']=='USA']['oTOTAL'])"
      ],
      "metadata": {
        "colab": {
          "base_uri": "https://localhost:8080/",
          "height": 99
        },
        "id": "SJY-_nQ4q50l",
        "outputId": "c93297bc-ecf3-42f6-d0ec-fb0a3dad7890"
      },
      "execution_count": null,
      "outputs": [
        {
          "output_type": "execute_result",
          "data": {
            "text/plain": [
              "[<matplotlib.lines.Line2D at 0x7faa81388090>]"
            ]
          },
          "metadata": {},
          "execution_count": 610
        },
        {
          "output_type": "display_data",
          "data": {
            "text/plain": [
              "<Figure size 432x288 with 1 Axes>"
            ],
            "image/png": "[encoded data removed]"
          },
          "metadata": {
            "needs_background": "light"
          }
        }
      ]
    },
    {
      "cell_type": "markdown",
      "source": [
        "# Generar QR"
      ],
      "metadata": {
        "id": "LvRAMrHBNtZP"
      }
    },
    {
      "cell_type": "code",
      "source": [
        "pip install qrcode"
      ],
      "metadata": {
        "colab": {
          "base_uri": "https://localhost:8080/"
        },
        "id": "IuS-Mh2Bx9RW",
        "outputId": "21ea82a8-72ff-453d-8d57-be9dd143f1de"
      },
      "execution_count": null,
      "outputs": [
        {
          "output_type": "stream",
          "name": "stdout",
          "text": [
            "Looking in indexes: https://pypi.org/simple, https://us-python.pkg.dev/colab-wheels/public/simple/\n",
            "Collecting qrcode\n",
            "  Downloading qrcode-7.3.1.tar.gz (43 kB)\n",
            "\u001b[K     |████████████████████████████████| 43 kB 1.5 MB/s \n",
            "\u001b[?25hBuilding wheels for collected packages: qrcode\n",
            "  Building wheel for qrcode (setup.py) ... \u001b[?25l\u001b[?25hdone\n",
            "  Created wheel for qrcode: filename=qrcode-7.3.1-py3-none-any.whl size=40402 sha256=cbe457e096dbcf8a01fa200361a31777904ded782c19cfdc046d6217dd0406e3\n",
            "  Stored in directory: /root/.cache/pip/wheels/93/d7/39/a4111be2cfb8e679938aa671a37888b6afb1f9e7d748e94492\n",
            "Successfully built qrcode\n",
            "Installing collected packages: qrcode\n",
            "Successfully installed qrcode-7.3.1\n"
          ]
        }
      ]
    },
    {
      "cell_type": "code",
      "source": [
        "import qrcode"
      ],
      "metadata": {
        "id": "a4f5EYQ8yJnt"
      },
      "execution_count": null,
      "outputs": []
    },
    {
      "cell_type": "code",
      "source": [
        "data = ('https://github.com/mornaeldernar/Bedu/blob/main/dulces.ipynb')\n",
        "img = qrcode.make(data)\n",
        "img.save('MyQRCode1.png')"
      ],
      "metadata": {
        "id": "dLB-woZuyCYZ"
      },
      "execution_count": null,
      "outputs": []
    },
    {
      "cell_type": "code",
      "source": [
        "from IPython.display import Image\n",
        "Image('MyQRCode1.png')"
      ],
      "metadata": {
        "colab": {
          "base_uri": "https://localhost:8080/",
          "height": 427
        },
        "id": "YH1h2GLdzgQ6",
        "outputId": "3b0755b6-5535-4c84-f8a0-ef6738b812d0"
      },
      "execution_count": null,
      "outputs": [
        {
          "output_type": "execute_result",
          "data": {
            "image/png": "[encoded data removed]",
            "text/plain": [
              "<IPython.core.display.Image object>"
            ]
          },
          "metadata": {},
          "execution_count": 97
        }
      ]
    }
  ]
}