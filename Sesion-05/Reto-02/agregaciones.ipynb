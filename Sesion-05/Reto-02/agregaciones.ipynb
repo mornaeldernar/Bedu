{
  "cells": [
    {
      "cell_type": "markdown",
      "metadata": {
        "id": "Q_Y6TVd3uSDz"
      },
      "source": [
        "## Reto 2: Agregaciones\n",
        "\n",
        "### 1. Objetivos:\n",
        "    - Usar funciones vectorizadas y agregaciones para computar la desviación estándar de un conjunto de datos\n",
        " \n",
        "---\n",
        "    \n",
        "### 2. Desarrollo:"
      ]
    },
    {
      "cell_type": "markdown",
      "metadata": {
        "id": "EZRPPTRLuSD3"
      },
      "source": [
        "#### a) Desviación Estándar\n",
        "\n",
        "La desviación estándar es una medida que nos dice qué tan dispersos están los datos con respecto a la media. Es una de las medidas estadísticas más comunes e importantes. En este reto vamos a calcular la desviación estándar de un conjunto de datos usando funciones vectorizadas y agregaciones"
      ]
    },
    {
      "cell_type": "markdown",
      "metadata": {
        "id": "n5EQi2V_uSD4"
      },
      "source": [
        "Imagina que has realizado un censo en la H. Universidad de las Américas Unidas. Quieres saber qué tanta dispersión de edades hay en la universidad. Dada la naturaleza de la universidad, hay tanto alumnos extremadamente jóvenes (el más joven tiene 15 años) hasta alumnos bastante mayores (el alumno de más edad tiene 52 años). Para saber qué tan dispersas están las edades de los alumnos, vas a usar la desviación estándar.\n",
        "\n",
        "El algoritmo para sacar la desviación estándar es el siguiente:\n",
        "\n",
        "1. Saca el promedio de tu `Serie`. Esto se hace sumando todos tus datos y luego dividiéndolos entre la cantidad de datos (`n`)\n",
        "2. Después toma tu `Serie` y réstale a cada elemento el promedio. De esta manera obtenemos una nueva `Serie` que contiene las diferencias entre cada dato y el promedio.\n",
        "3. Después eleva tu `Serie` al cuadrado. Esto sirve para acentuar a los datos que están más alejados de tu promedio.\n",
        "4. Ahora suma todos los elementos de tu `Serie` y divídelos entre la cantidad de datos de la `Serie` original menos 1 (`n - 1`).\n",
        "5. Por último, saca la raíz cuadrada del valor obtenido: Ésta es tu desviación estándar.\n",
        "\n",
        "Utiliza aritmética con `Series`, funciones vectorizadas y agregaciones para calcular esta estadística.\n",
        "\n",
        "Asigna tu resultado final a la variable `std`."
      ]
    },
    {
      "cell_type": "code",
      "execution_count": null,
      "metadata": {
        "id": "u0mO5O6duSD4"
      },
      "outputs": [],
      "source": [
        "## Realiza aquí los imports que necesites\n",
        "import pandas as pd\n",
        "import numpy as np"
      ]
    },
    {
      "cell_type": "code",
      "execution_count": null,
      "metadata": {
        "id": "5p2KtOaGuSD5"
      },
      "outputs": [],
      "source": [
        "edades = pd.Series([23, 24, 23, 34, 30, 17, 18, 24, 35, 28, 27, 27, 34, 32, 29, 16, 16, 17, 19, 34, 45, 46, 43, 45, 43, 32, 25, 29, 28, 38, 30, 37, 38, 24, 26, 25, 24, 19, 19, 18, 17, 18, 21, 20, 23, 24, 25, 25, 26, 24, 23, 32, 24, 25, 24, 36, 35, 36, 38, 39, 45, 46, 43, 48, 42, 41, 41, 26, 19, 19, 19, 20, 39, 38, 43, 28, 27, 39, 43, 52, 50, 38, 15, 17, 23, 25, 19, 32, 34, 35, 19, 19, 20, 26, 25, 43, 45, 46, 34, 33, 30, 30, 34, 45, 50, 50, 47, 25, 34, 37, 38, 19, 19, 20, 25, 28, 34, 32, 36, 39, 39, 28, 34, 33, 22, 25, 17, 17, 22, 24, 25, 45, 46, 43, 34, 35, 32, 23]) "
      ]
    },
    {
      "cell_type": "code",
      "execution_count": null,
      "metadata": {
        "id": "rTyz-cr4uSD6"
      },
      "outputs": [],
      "source": [
        "## Realiza aquí tus cálculos\n",
        "##\n",
        "## ...\n",
        "## ...\n",
        "avg = edades.mean()\n",
        "diferencia = np.subtract(edades,avg)\n",
        "cuadrado = np.power(diferencia,2)\n",
        "suma = np.divide(cuadrado.sum(),(edades.count() -1))\n",
        "std = np.sqrt(suma)"
      ]
    },
    {
      "cell_type": "markdown",
      "metadata": {
        "id": "ulazak4huSD6"
      },
      "source": [
        "Pídele a tu experta la función de verificación `comparar_std` (encontrada en el archivo `helpers.py` de la carpeta donde se encuentra este Reto), pégala debajo y corre la celda para verificar tu resultado:"
      ]
    },
    {
      "cell_type": "code",
      "execution_count": null,
      "metadata": {
        "id": "gg3oLfVYuSD7",
        "outputId": "1bf80224-7ded-4811-ca3c-36977d20725e",
        "colab": {
          "base_uri": "https://localhost:8080/"
        }
      },
      "outputs": [
        {
          "output_type": "stream",
          "name": "stdout",
          "text": [
            "== Comparación Desviaciones Estándares ==\n",
            "\n",
            "Esperada: 9.55678104254041 - Recibida: 9.55678104254041\n",
            "Cálculo Correcto... Felicidades!\n"
          ]
        }
      ],
      "source": [
        "# Pega aquí la función de verificación\n",
        "def comparar_std(edades, std):\n",
        "    print(f'== Comparación Desviaciones Estándares ==\\n')\n",
        "    print(f'Esperada: {edades.std()} - Recibida: {std}')\n",
        "    print(f'Cálculo {\"Correcto... Felicidades!\" if edades.std() == std else \"Incorrecto... Intenta de nuevo\"}')\n",
        "comparar_std(edades, std)"
      ]
    },
    {
      "cell_type": "code",
      "execution_count": null,
      "metadata": {
        "id": "OlQ31uRduSD7"
      },
      "outputs": [],
      "source": []
    }
  ],
  "metadata": {
    "kernelspec": {
      "display_name": "Python 3",
      "language": "python",
      "name": "python3"
    },
    "language_info": {
      "codemirror_mode": {
        "name": "ipython",
        "version": 3
      },
      "file_extension": ".py",
      "mimetype": "text/x-python",
      "name": "python",
      "nbconvert_exporter": "python",
      "pygments_lexer": "ipython3",
      "version": "3.8.3"
    },
    "colab": {
      "provenance": []
    }
  },
  "nbformat": 4,
  "nbformat_minor": 0
}