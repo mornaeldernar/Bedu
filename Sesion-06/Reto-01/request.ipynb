{
  "cells": [
    {
      "cell_type": "markdown",
      "metadata": {
        "id": "1QRDTT5SYa9z"
      },
      "source": [
        "## Reto 1: Peticiones a una API usando requests\n",
        "\n",
        "### 1. Objetivos:\n",
        "    - Usar la librería Requests para hacer una petición HTTP a una API\n",
        " \n",
        "---\n",
        "    \n",
        "### 2. Desarrollo:"
      ]
    },
    {
      "cell_type": "markdown",
      "metadata": {
        "id": "Zq0zgIbjYa93"
      },
      "source": [
        "### a) Petición HTTP a API de NASA\n",
        "\n",
        "Vamos a implementar un programa que realice una llamada HTTP a la API de NASA.\n",
        "\n",
        "Puedes leer la documentación de la API [aquí](https://api.nasa.gov/), bajo el título de \"Asteroids NeoWs\"."
      ]
    },
    {
      "cell_type": "code",
      "execution_count": 1,
      "metadata": {
        "id": "T14HIyVOYa95"
      },
      "outputs": [],
      "source": [
        "## Realiza aquí los imports necesarios\n",
        "import pandas as pd\n",
        "import requests"
      ]
    },
    {
      "cell_type": "markdown",
      "metadata": {
        "id": "RYRKV8XYYa96"
      },
      "source": [
        "Tu reto consiste en los siguientes pasos:\n",
        "\n",
        "1. Crea una cuenta en el API de NASA para obtener tu propia API Key. Copia la API Key en la celda debajo para que no la pierdas:"
      ]
    },
    {
      "cell_type": "code",
      "execution_count": 2,
      "metadata": {
        "id": "UF6Q530jYa97"
      },
      "outputs": [],
      "source": [
        "api_key = 'vcjByCsx8FWg3C9bJShMNIiYu7CaQccTZKalM9pr'"
      ]
    },
    {
      "cell_type": "markdown",
      "metadata": {
        "id": "2DTqu_8lYa98"
      },
      "source": [
        "2. Asigna la variable `endpoint` -donde tendrás el URL base de la API de NASA- y la variable `payload` -donde tendrás el diccionario que usarás para pasar parámetros a tu petición.\n",
        "\n",
        "3. Usa tu diccionario `payload` para agregar los parámetros necesarios para pedir la hoja número 100 de la API. Durante el ejemplo, pedimos simplemente la primera hoja. En esta ocasión, debes de descubrir que parámetros requieres pasarle para obtener la hoja #100. Además queremos que el número de resultados que nos regresen sea menor al default. El default es 20, pero tú tienes que mandar los parámetros adecuados para que te regresen solamente 5 resultados"
      ]
    },
    {
      "cell_type": "code",
      "execution_count": 11,
      "metadata": {
        "id": "LSGAhjHZYa99"
      },
      "outputs": [],
      "source": [
        "endpoint = 'https://api.nasa.gov/neo/rest/v1/neo/browse'\n",
        "payload = {'api_key':api_key}"
      ]
    },
    {
      "cell_type": "markdown",
      "metadata": {
        "id": "12vpkQakYa9-"
      },
      "source": [
        "4. Realiza tu petición HTTP aquí debajo y checa tu código de respuesta para asegurarte de que la petición se haya hecho exitosamente:"
      ]
    },
    {
      "cell_type": "code",
      "execution_count": 13,
      "metadata": {
        "id": "6Xyk6-_EYa9_",
        "outputId": "87889221-da8f-4135-b674-74348a6c726f",
        "colab": {
          "base_uri": "https://localhost:8080/"
        }
      },
      "outputs": [
        {
          "output_type": "execute_result",
          "data": {
            "text/plain": [
              "<bound method Response.json of <Response [200]>>"
            ]
          },
          "metadata": {},
          "execution_count": 13
        }
      ],
      "source": [
        "r = requests.get(endpoint, params=payload)\n",
        "r.status_code"
      ]
    },
    {
      "cell_type": "code",
      "source": [
        "r.json().keys()"
      ],
      "metadata": {
        "id": "Z_FpzdwtaB94",
        "outputId": "5a6db033-d84f-4a42-b8bd-b212425aab30",
        "colab": {
          "base_uri": "https://localhost:8080/"
        }
      },
      "execution_count": 17,
      "outputs": [
        {
          "output_type": "execute_result",
          "data": {
            "text/plain": [
              "dict_keys(['links', 'page', 'near_earth_objects'])"
            ]
          },
          "metadata": {},
          "execution_count": 17
        }
      ]
    },
    {
      "cell_type": "markdown",
      "metadata": {
        "id": "oreBFQTlYa-A"
      },
      "source": [
        "5. Si todo ha salido bien, extrae tus datos, normalízalos, crea un `DataFrame` con ellos y asígnalo a `objetos`. Revisa que solamente tengas 5 filas, para saber que tu petición se realizó exitosamente:"
      ]
    },
    {
      "cell_type": "code",
      "execution_count": 24,
      "metadata": {
        "id": "0GSqyeIJYa-B",
        "outputId": "36f76348-4e63-46bd-841e-389ab70e8800",
        "colab": {
          "base_uri": "https://localhost:8080/",
          "height": 542
        }
      },
      "outputs": [
        {
          "output_type": "execute_result",
          "data": {
            "text/plain": [
              "        id neo_reference_id                    name name_limited designation  \\\n",
              "0  2000433          2000433      433 Eros (A898 PA)         Eros         433   \n",
              "1  2000719          2000719    719 Albert (A911 TB)       Albert         719   \n",
              "2  2000887          2000887    887 Alinda (A918 AA)       Alinda         887   \n",
              "3  2001036          2001036  1036 Ganymed (A924 UB)      Ganymed        1036   \n",
              "4  2001221          2001221    1221 Amor (1932 EA1)         Amor        1221   \n",
              "\n",
              "                                    nasa_jpl_url  absolute_magnitude_h  \\\n",
              "0  http://ssd.jpl.nasa.gov/sbdb.cgi?sstr=2000433                 10.31   \n",
              "1  http://ssd.jpl.nasa.gov/sbdb.cgi?sstr=2000719                 15.57   \n",
              "2  http://ssd.jpl.nasa.gov/sbdb.cgi?sstr=2000887                 13.87   \n",
              "3  http://ssd.jpl.nasa.gov/sbdb.cgi?sstr=2001036                  9.23   \n",
              "4  http://ssd.jpl.nasa.gov/sbdb.cgi?sstr=2001221                 17.40   \n",
              "\n",
              "   is_potentially_hazardous_asteroid  \\\n",
              "0                              False   \n",
              "1                              False   \n",
              "2                              False   \n",
              "3                              False   \n",
              "4                              False   \n",
              "\n",
              "                                 close_approach_data  is_sentry_object  ...  \\\n",
              "0  [{'close_approach_date': '1900-12-27', 'close_...             False  ...   \n",
              "1  [{'close_approach_date': '1909-08-21', 'close_...             False  ...   \n",
              "2  [{'close_approach_date': '1910-01-04', 'close_...             False  ...   \n",
              "3  [{'close_approach_date': '1910-02-25', 'close_...             False  ...   \n",
              "4  [{'close_approach_date': '1900-03-08', 'close_...             False  ...   \n",
              "\n",
              "  orbital_data.perihelion_distance  orbital_data.perihelion_argument  \\\n",
              "0                1.133475820116491                 178.8971619902451   \n",
              "1                1.194898900561385                 156.2275806607366   \n",
              "2                1.062256387810841                 350.4932417946612   \n",
              "3                1.244627430475273                 132.4281003216691   \n",
              "4                 1.08246658685257                 26.64392069638918   \n",
              "\n",
              "   orbital_data.aphelion_distance  orbital_data.perihelion_time  \\\n",
              "0                1.78307038061344          2459802.569605474861   \n",
              "1               4.080111805160425          2459956.011946033329   \n",
              "2               3.884059710445925          2459258.734847818714   \n",
              "3               4.087071307710913          2458979.339224972862   \n",
              "4               2.754995802947215          2459867.343755315685   \n",
              "\n",
              "   orbital_data.mean_anomaly  orbital_data.mean_motion  orbital_data.equinox  \\\n",
              "0          246.9041236220357         .5596877180622503                 J2000   \n",
              "1           278.197185175325         .2300986387023008                 J2000   \n",
              "2          86.60720939790032         .2534114693822276                 J2000   \n",
              "3          140.6548420602566         .2264387059117045                 J2000   \n",
              "4          261.0445055510584         .3708368379536327                 J2000   \n",
              "\n",
              "   orbital_data.orbit_class.orbit_class_type  \\\n",
              "0                                        AMO   \n",
              "1                                        AMO   \n",
              "2                                        AMO   \n",
              "3                                        AMO   \n",
              "4                                        AMO   \n",
              "\n",
              "    orbital_data.orbit_class.orbit_class_description  \\\n",
              "0  Near-Earth asteroid orbits similar to that of ...   \n",
              "1  Near-Earth asteroid orbits similar to that of ...   \n",
              "2  Near-Earth asteroid orbits similar to that of ...   \n",
              "3  Near-Earth asteroid orbits similar to that of ...   \n",
              "4  Near-Earth asteroid orbits similar to that of ...   \n",
              "\n",
              "  orbital_data.orbit_class.orbit_class_range  \n",
              "0         1.017 AU < q (perihelion) < 1.3 AU  \n",
              "1         1.017 AU < q (perihelion) < 1.3 AU  \n",
              "2         1.017 AU < q (perihelion) < 1.3 AU  \n",
              "3         1.017 AU < q (perihelion) < 1.3 AU  \n",
              "4         1.017 AU < q (perihelion) < 1.3 AU  \n",
              "\n",
              "[5 rows x 44 columns]"
            ],
            "text/html": [
              "\n",
              "  <div id=\"df-458d1ba8-47b1-4ab4-bf62-cfd09e4bd251\">\n",
              "    <div class=\"colab-df-container\">\n",
              "      <div>\n",
              "<style scoped>\n",
              "    .dataframe tbody tr th:only-of-type {\n",
              "        vertical-align: middle;\n",
              "    }\n",
              "\n",
              "    .dataframe tbody tr th {\n",
              "        vertical-align: top;\n",
              "    }\n",
              "\n",
              "    .dataframe thead th {\n",
              "        text-align: right;\n",
              "    }\n",
              "</style>\n",
              "<table border=\"1\" class=\"dataframe\">\n",
              "  <thead>\n",
              "    <tr style=\"text-align: right;\">\n",
              "      <th></th>\n",
              "      <th>id</th>\n",
              "      <th>neo_reference_id</th>\n",
              "      <th>name</th>\n",
              "      <th>name_limited</th>\n",
              "      <th>designation</th>\n",
              "      <th>nasa_jpl_url</th>\n",
              "      <th>absolute_magnitude_h</th>\n",
              "      <th>is_potentially_hazardous_asteroid</th>\n",
              "      <th>close_approach_data</th>\n",
              "      <th>is_sentry_object</th>\n",
              "      <th>...</th>\n",
              "      <th>orbital_data.perihelion_distance</th>\n",
              "      <th>orbital_data.perihelion_argument</th>\n",
              "      <th>orbital_data.aphelion_distance</th>\n",
              "      <th>orbital_data.perihelion_time</th>\n",
              "      <th>orbital_data.mean_anomaly</th>\n",
              "      <th>orbital_data.mean_motion</th>\n",
              "      <th>orbital_data.equinox</th>\n",
              "      <th>orbital_data.orbit_class.orbit_class_type</th>\n",
              "      <th>orbital_data.orbit_class.orbit_class_description</th>\n",
              "      <th>orbital_data.orbit_class.orbit_class_range</th>\n",
              "    </tr>\n",
              "  </thead>\n",
              "  <tbody>\n",
              "    <tr>\n",
              "      <th>0</th>\n",
              "      <td>2000433</td>\n",
              "      <td>2000433</td>\n",
              "      <td>433 Eros (A898 PA)</td>\n",
              "      <td>Eros</td>\n",
              "      <td>433</td>\n",
              "      <td>http://ssd.jpl.nasa.gov/sbdb.cgi?sstr=2000433</td>\n",
              "      <td>10.31</td>\n",
              "      <td>False</td>\n",
              "      <td>[{'close_approach_date': '1900-12-27', 'close_...</td>\n",
              "      <td>False</td>\n",
              "      <td>...</td>\n",
              "      <td>1.133475820116491</td>\n",
              "      <td>178.8971619902451</td>\n",
              "      <td>1.78307038061344</td>\n",
              "      <td>2459802.569605474861</td>\n",
              "      <td>246.9041236220357</td>\n",
              "      <td>.5596877180622503</td>\n",
              "      <td>J2000</td>\n",
              "      <td>AMO</td>\n",
              "      <td>Near-Earth asteroid orbits similar to that of ...</td>\n",
              "      <td>1.017 AU &lt; q (perihelion) &lt; 1.3 AU</td>\n",
              "    </tr>\n",
              "    <tr>\n",
              "      <th>1</th>\n",
              "      <td>2000719</td>\n",
              "      <td>2000719</td>\n",
              "      <td>719 Albert (A911 TB)</td>\n",
              "      <td>Albert</td>\n",
              "      <td>719</td>\n",
              "      <td>http://ssd.jpl.nasa.gov/sbdb.cgi?sstr=2000719</td>\n",
              "      <td>15.57</td>\n",
              "      <td>False</td>\n",
              "      <td>[{'close_approach_date': '1909-08-21', 'close_...</td>\n",
              "      <td>False</td>\n",
              "      <td>...</td>\n",
              "      <td>1.194898900561385</td>\n",
              "      <td>156.2275806607366</td>\n",
              "      <td>4.080111805160425</td>\n",
              "      <td>2459956.011946033329</td>\n",
              "      <td>278.197185175325</td>\n",
              "      <td>.2300986387023008</td>\n",
              "      <td>J2000</td>\n",
              "      <td>AMO</td>\n",
              "      <td>Near-Earth asteroid orbits similar to that of ...</td>\n",
              "      <td>1.017 AU &lt; q (perihelion) &lt; 1.3 AU</td>\n",
              "    </tr>\n",
              "    <tr>\n",
              "      <th>2</th>\n",
              "      <td>2000887</td>\n",
              "      <td>2000887</td>\n",
              "      <td>887 Alinda (A918 AA)</td>\n",
              "      <td>Alinda</td>\n",
              "      <td>887</td>\n",
              "      <td>http://ssd.jpl.nasa.gov/sbdb.cgi?sstr=2000887</td>\n",
              "      <td>13.87</td>\n",
              "      <td>False</td>\n",
              "      <td>[{'close_approach_date': '1910-01-04', 'close_...</td>\n",
              "      <td>False</td>\n",
              "      <td>...</td>\n",
              "      <td>1.062256387810841</td>\n",
              "      <td>350.4932417946612</td>\n",
              "      <td>3.884059710445925</td>\n",
              "      <td>2459258.734847818714</td>\n",
              "      <td>86.60720939790032</td>\n",
              "      <td>.2534114693822276</td>\n",
              "      <td>J2000</td>\n",
              "      <td>AMO</td>\n",
              "      <td>Near-Earth asteroid orbits similar to that of ...</td>\n",
              "      <td>1.017 AU &lt; q (perihelion) &lt; 1.3 AU</td>\n",
              "    </tr>\n",
              "    <tr>\n",
              "      <th>3</th>\n",
              "      <td>2001036</td>\n",
              "      <td>2001036</td>\n",
              "      <td>1036 Ganymed (A924 UB)</td>\n",
              "      <td>Ganymed</td>\n",
              "      <td>1036</td>\n",
              "      <td>http://ssd.jpl.nasa.gov/sbdb.cgi?sstr=2001036</td>\n",
              "      <td>9.23</td>\n",
              "      <td>False</td>\n",
              "      <td>[{'close_approach_date': '1910-02-25', 'close_...</td>\n",
              "      <td>False</td>\n",
              "      <td>...</td>\n",
              "      <td>1.244627430475273</td>\n",
              "      <td>132.4281003216691</td>\n",
              "      <td>4.087071307710913</td>\n",
              "      <td>2458979.339224972862</td>\n",
              "      <td>140.6548420602566</td>\n",
              "      <td>.2264387059117045</td>\n",
              "      <td>J2000</td>\n",
              "      <td>AMO</td>\n",
              "      <td>Near-Earth asteroid orbits similar to that of ...</td>\n",
              "      <td>1.017 AU &lt; q (perihelion) &lt; 1.3 AU</td>\n",
              "    </tr>\n",
              "    <tr>\n",
              "      <th>4</th>\n",
              "      <td>2001221</td>\n",
              "      <td>2001221</td>\n",
              "      <td>1221 Amor (1932 EA1)</td>\n",
              "      <td>Amor</td>\n",
              "      <td>1221</td>\n",
              "      <td>http://ssd.jpl.nasa.gov/sbdb.cgi?sstr=2001221</td>\n",
              "      <td>17.40</td>\n",
              "      <td>False</td>\n",
              "      <td>[{'close_approach_date': '1900-03-08', 'close_...</td>\n",
              "      <td>False</td>\n",
              "      <td>...</td>\n",
              "      <td>1.08246658685257</td>\n",
              "      <td>26.64392069638918</td>\n",
              "      <td>2.754995802947215</td>\n",
              "      <td>2459867.343755315685</td>\n",
              "      <td>261.0445055510584</td>\n",
              "      <td>.3708368379536327</td>\n",
              "      <td>J2000</td>\n",
              "      <td>AMO</td>\n",
              "      <td>Near-Earth asteroid orbits similar to that of ...</td>\n",
              "      <td>1.017 AU &lt; q (perihelion) &lt; 1.3 AU</td>\n",
              "    </tr>\n",
              "  </tbody>\n",
              "</table>\n",
              "<p>5 rows × 44 columns</p>\n",
              "</div>\n",
              "      <button class=\"colab-df-convert\" onclick=\"convertToInteractive('df-458d1ba8-47b1-4ab4-bf62-cfd09e4bd251')\"\n",
              "              title=\"Convert this dataframe to an interactive table.\"\n",
              "              style=\"display:none;\">\n",
              "        \n",
              "  <svg xmlns=\"http://www.w3.org/2000/svg\" height=\"24px\"viewBox=\"0 0 24 24\"\n",
              "       width=\"24px\">\n",
              "    <path d=\"M0 0h24v24H0V0z\" fill=\"none\"/>\n",
              "    <path d=\"M18.56 5.44l.94 2.06.94-2.06 2.06-.94-2.06-.94-.94-2.06-.94 2.06-2.06.94zm-11 1L8.5 8.5l.94-2.06 2.06-.94-2.06-.94L8.5 2.5l-.94 2.06-2.06.94zm10 10l.94 2.06.94-2.06 2.06-.94-2.06-.94-.94-2.06-.94 2.06-2.06.94z\"/><path d=\"M17.41 7.96l-1.37-1.37c-.4-.4-.92-.59-1.43-.59-.52 0-1.04.2-1.43.59L10.3 9.45l-7.72 7.72c-.78.78-.78 2.05 0 2.83L4 21.41c.39.39.9.59 1.41.59.51 0 1.02-.2 1.41-.59l7.78-7.78 2.81-2.81c.8-.78.8-2.07 0-2.86zM5.41 20L4 18.59l7.72-7.72 1.47 1.35L5.41 20z\"/>\n",
              "  </svg>\n",
              "      </button>\n",
              "      \n",
              "  <style>\n",
              "    .colab-df-container {\n",
              "      display:flex;\n",
              "      flex-wrap:wrap;\n",
              "      gap: 12px;\n",
              "    }\n",
              "\n",
              "    .colab-df-convert {\n",
              "      background-color: #E8F0FE;\n",
              "      border: none;\n",
              "      border-radius: 50%;\n",
              "      cursor: pointer;\n",
              "      display: none;\n",
              "      fill: #1967D2;\n",
              "      height: 32px;\n",
              "      padding: 0 0 0 0;\n",
              "      width: 32px;\n",
              "    }\n",
              "\n",
              "    .colab-df-convert:hover {\n",
              "      background-color: #E2EBFA;\n",
              "      box-shadow: 0px 1px 2px rgba(60, 64, 67, 0.3), 0px 1px 3px 1px rgba(60, 64, 67, 0.15);\n",
              "      fill: #174EA6;\n",
              "    }\n",
              "\n",
              "    [theme=dark] .colab-df-convert {\n",
              "      background-color: #3B4455;\n",
              "      fill: #D2E3FC;\n",
              "    }\n",
              "\n",
              "    [theme=dark] .colab-df-convert:hover {\n",
              "      background-color: #434B5C;\n",
              "      box-shadow: 0px 1px 3px 1px rgba(0, 0, 0, 0.15);\n",
              "      filter: drop-shadow(0px 1px 2px rgba(0, 0, 0, 0.3));\n",
              "      fill: #FFFFFF;\n",
              "    }\n",
              "  </style>\n",
              "\n",
              "      <script>\n",
              "        const buttonEl =\n",
              "          document.querySelector('#df-458d1ba8-47b1-4ab4-bf62-cfd09e4bd251 button.colab-df-convert');\n",
              "        buttonEl.style.display =\n",
              "          google.colab.kernel.accessAllowed ? 'block' : 'none';\n",
              "\n",
              "        async function convertToInteractive(key) {\n",
              "          const element = document.querySelector('#df-458d1ba8-47b1-4ab4-bf62-cfd09e4bd251');\n",
              "          const dataTable =\n",
              "            await google.colab.kernel.invokeFunction('convertToInteractive',\n",
              "                                                     [key], {});\n",
              "          if (!dataTable) return;\n",
              "\n",
              "          const docLinkHtml = 'Like what you see? Visit the ' +\n",
              "            '<a target=\"_blank\" href=https://colab.research.google.com/notebooks/data_table.ipynb>data table notebook</a>'\n",
              "            + ' to learn more about interactive tables.';\n",
              "          element.innerHTML = '';\n",
              "          dataTable['output_type'] = 'display_data';\n",
              "          await google.colab.output.renderOutput(dataTable, element);\n",
              "          const docLink = document.createElement('div');\n",
              "          docLink.innerHTML = docLinkHtml;\n",
              "          element.appendChild(docLink);\n",
              "        }\n",
              "      </script>\n",
              "    </div>\n",
              "  </div>\n",
              "  "
            ]
          },
          "metadata": {},
          "execution_count": 24
        }
      ],
      "source": [
        "json = r.json()\n",
        "pd_normalized = pd.json_normalize(json['near_earth_objects'])\n",
        "objetos = pd.DataFrame.from_dict(pd_normalized)\n",
        "objetos.head()"
      ]
    },
    {
      "cell_type": "markdown",
      "metadata": {
        "id": "Fz9rNUeGYa-C"
      },
      "source": [
        "6. Pídele a tu experta la función de verificación `visualizar_diametros` (encontrada en el archivo `helpers.py` de la carpeta donde se encuentra este Reto), pégala debajo y corre la celda para verificar tu resultado:"
      ]
    },
    {
      "cell_type": "code",
      "execution_count": 26,
      "metadata": {
        "id": "vCQPo_laYa-D",
        "outputId": "6da8dc4b-afea-4e58-c652-415fe0d075cc",
        "colab": {
          "base_uri": "https://localhost:8080/",
          "height": 374
        }
      },
      "outputs": [
        {
          "output_type": "stream",
          "name": "stderr",
          "text": [
            "/usr/local/lib/python3.7/dist-packages/seaborn/_decorators.py:43: FutureWarning: Pass the following variables as keyword args: x, y. From version 0.12, the only valid positional argument will be `data`, and passing other arguments without an explicit keyword will result in an error or misinterpretation.\n",
            "  FutureWarning\n"
          ]
        },
        {
          "output_type": "display_data",
          "data": {
            "text/plain": [
              "<Figure size 432x288 with 1 Axes>"
            ],
            "image/png": "[encoded data removed]"
          },
          "metadata": {
            "needs_background": "light"
          }
        }
      ],
      "source": [
        "# Pega aquí la función de verificación\n",
        "def visualizar_diametros(objetos):\n",
        "    \n",
        "    import seaborn as sns\n",
        "    \n",
        "    sizes = objetos[['name', 'estimated_diameter.kilometers.estimated_diameter_max']].copy()\n",
        "    sizes.sort_values('estimated_diameter.kilometers.estimated_diameter_max', ascending=True, inplace=True)\n",
        "    sns.barplot(sizes['name'], sizes['estimated_diameter.kilometers.estimated_diameter_max'])\n",
        "visualizar_diametros(objetos)"
      ]
    },
    {
      "cell_type": "code",
      "execution_count": null,
      "metadata": {
        "id": "PBnGa4NkYa-E"
      },
      "outputs": [],
      "source": []
    }
  ],
  "metadata": {
    "kernelspec": {
      "display_name": "Python 3",
      "language": "python",
      "name": "python3"
    },
    "language_info": {
      "codemirror_mode": {
        "name": "ipython",
        "version": 3
      },
      "file_extension": ".py",
      "mimetype": "text/x-python",
      "name": "python",
      "nbconvert_exporter": "python",
      "pygments_lexer": "ipython3",
      "version": "3.8.3"
    },
    "colab": {
      "provenance": []
    }
  },
  "nbformat": 4,
  "nbformat_minor": 0
}