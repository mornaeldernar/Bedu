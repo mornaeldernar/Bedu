{
  "cells": [
    {
      "cell_type": "markdown",
      "metadata": {
        "id": "1QRDTT5SYa9z"
      },
      "source": [
        "## Reto 1: Peticiones a una API usando requests\n",
        "\n",
        "### 1. Objetivos:\n",
        "    - Usar la librería Requests para hacer una petición HTTP a una API\n",
        " \n",
        "---\n",
        "    \n",
        "### 2. Desarrollo:"
      ]
    },
    {
      "cell_type": "markdown",
      "metadata": {
        "id": "Zq0zgIbjYa93"
      },
      "source": [
        "### a) Petición HTTP a API de NASA\n",
        "\n",
        "Vamos a implementar un programa que realice una llamada HTTP a la API de NASA.\n",
        "\n",
        "Puedes leer la documentación de la API [aquí](https://api.nasa.gov/), bajo el título de \"Asteroids NeoWs\"."
      ]
    },
    {
      "cell_type": "code",
      "execution_count": 45,
      "metadata": {
        "id": "T14HIyVOYa95"
      },
      "outputs": [],
      "source": [
        "## Realiza aquí los imports necesarios\n",
        "import pandas as pd\n",
        "import requests"
      ]
    },
    {
      "cell_type": "markdown",
      "metadata": {
        "id": "RYRKV8XYYa96"
      },
      "source": [
        "Tu reto consiste en los siguientes pasos:\n",
        "\n",
        "1. Crea una cuenta en el API de NASA para obtener tu propia API Key. Copia la API Key en la celda debajo para que no la pierdas:"
      ]
    },
    {
      "cell_type": "code",
      "execution_count": 46,
      "metadata": {
        "id": "UF6Q530jYa97"
      },
      "outputs": [],
      "source": [
        "api_key = 'vcjByCsx8FWg3C9bJShMNIiYu7CaQccTZKalM9pr'"
      ]
    },
    {
      "cell_type": "markdown",
      "metadata": {
        "id": "2DTqu_8lYa98"
      },
      "source": [
        "2. Asigna la variable `endpoint` -donde tendrás el URL base de la API de NASA- y la variable `payload` -donde tendrás el diccionario que usarás para pasar parámetros a tu petición.\n",
        "\n",
        "3. Usa tu diccionario `payload` para agregar los parámetros necesarios para pedir la hoja número 100 de la API. Durante el ejemplo, pedimos simplemente la primera hoja. En esta ocasión, debes de descubrir que parámetros requieres pasarle para obtener la hoja #100. Además queremos que el número de resultados que nos regresen sea menor al default. El default es 20, pero tú tienes que mandar los parámetros adecuados para que te regresen solamente 5 resultados"
      ]
    },
    {
      "cell_type": "code",
      "execution_count": 47,
      "metadata": {
        "id": "LSGAhjHZYa99"
      },
      "outputs": [],
      "source": [
        "endpoint = 'https://api.nasa.gov/neo/rest/v1/neo/browse'\n",
        "payload = {'api_key':api_key,'page':100, 'size':5}"
      ]
    },
    {
      "cell_type": "markdown",
      "metadata": {
        "id": "12vpkQakYa9-"
      },
      "source": [
        "4. Realiza tu petición HTTP aquí debajo y checa tu código de respuesta para asegurarte de que la petición se haya hecho exitosamente:"
      ]
    },
    {
      "cell_type": "code",
      "execution_count": 48,
      "metadata": {
        "colab": {
          "base_uri": "https://localhost:8080/"
        },
        "id": "6Xyk6-_EYa9_",
        "outputId": "52a1732e-db4d-4656-eb63-4e4f045ab3fc"
      },
      "outputs": [
        {
          "output_type": "execute_result",
          "data": {
            "text/plain": [
              "dict_keys(['links', 'page', 'near_earth_objects'])"
            ]
          },
          "metadata": {},
          "execution_count": 48
        }
      ],
      "source": [
        "r = requests.get(endpoint, params=payload)\n",
        "r.json().keys()"
      ]
    },
    {
      "cell_type": "code",
      "source": [
        "r.json()['links']"
      ],
      "metadata": {
        "id": "ykLfiCUKiHLZ",
        "outputId": "725c9440-4c5e-43e9-f4fc-2deee269c290",
        "colab": {
          "base_uri": "https://localhost:8080/"
        }
      },
      "execution_count": 49,
      "outputs": [
        {
          "output_type": "execute_result",
          "data": {
            "text/plain": [
              "{'next': 'http://api.nasa.gov/rest/v1/neo/browse?page=101&size=5&api_key=vcjByCsx8FWg3C9bJShMNIiYu7CaQccTZKalM9pr',\n",
              " 'prev': 'http://api.nasa.gov/rest/v1/neo/browse?page=99&size=5&api_key=vcjByCsx8FWg3C9bJShMNIiYu7CaQccTZKalM9pr',\n",
              " 'self': 'http://api.nasa.gov/rest/v1/neo/browse?page=100&size=5&api_key=vcjByCsx8FWg3C9bJShMNIiYu7CaQccTZKalM9pr'}"
            ]
          },
          "metadata": {},
          "execution_count": 49
        }
      ]
    },
    {
      "cell_type": "code",
      "source": [
        "r.json()['page']"
      ],
      "metadata": {
        "id": "2mcKbyXaiHFo",
        "outputId": "389c2a9c-69e9-4cb9-f2a7-472d4ed4206a",
        "colab": {
          "base_uri": "https://localhost:8080/"
        }
      },
      "execution_count": 50,
      "outputs": [
        {
          "output_type": "execute_result",
          "data": {
            "text/plain": [
              "{'size': 5, 'total_elements': 29364, 'total_pages': 5873, 'number': 100}"
            ]
          },
          "metadata": {},
          "execution_count": 50
        }
      ]
    },
    {
      "cell_type": "code",
      "source": [
        "r.json().keys()"
      ],
      "metadata": {
        "colab": {
          "base_uri": "https://localhost:8080/"
        },
        "id": "Z_FpzdwtaB94",
        "outputId": "46a521fb-2169-4707-82f1-11d42bf8d4fd"
      },
      "execution_count": 51,
      "outputs": [
        {
          "output_type": "execute_result",
          "data": {
            "text/plain": [
              "dict_keys(['links', 'page', 'near_earth_objects'])"
            ]
          },
          "metadata": {},
          "execution_count": 51
        }
      ]
    },
    {
      "cell_type": "markdown",
      "metadata": {
        "id": "oreBFQTlYa-A"
      },
      "source": [
        "5. Si todo ha salido bien, extrae tus datos, normalízalos, crea un `DataFrame` con ellos y asígnalo a `objetos`. Revisa que solamente tengas 5 filas, para saber que tu petición se realizó exitosamente:"
      ]
    },
    {
      "cell_type": "code",
      "execution_count": 52,
      "metadata": {
        "colab": {
          "base_uri": "https://localhost:8080/",
          "height": 473
        },
        "id": "0GSqyeIJYa-B",
        "outputId": "764563f4-51a8-44dd-c62b-64cef5bc3c1b"
      },
      "outputs": [
        {
          "output_type": "execute_result",
          "data": {
            "text/plain": [
              "        id neo_reference_id                name designation  \\\n",
              "0  2140333          2140333   140333 (2001 TD2)      140333   \n",
              "1  2140928          2140928  140928 (2001 VG75)      140928   \n",
              "2  2141018          2141018  141018 (2001 WC47)      141018   \n",
              "3  2141052          2141052   141052 (2001 XR1)      141052   \n",
              "4  2141053          2141053   141053 (2001 XT1)      141053   \n",
              "\n",
              "                                    nasa_jpl_url  absolute_magnitude_h  \\\n",
              "0  http://ssd.jpl.nasa.gov/sbdb.cgi?sstr=2140333                 19.21   \n",
              "1  http://ssd.jpl.nasa.gov/sbdb.cgi?sstr=2140928                 18.16   \n",
              "2  http://ssd.jpl.nasa.gov/sbdb.cgi?sstr=2141018                 19.05   \n",
              "3  http://ssd.jpl.nasa.gov/sbdb.cgi?sstr=2141052                 17.49   \n",
              "4  http://ssd.jpl.nasa.gov/sbdb.cgi?sstr=2141053                 18.80   \n",
              "\n",
              "   is_potentially_hazardous_asteroid  \\\n",
              "0                              False   \n",
              "1                              False   \n",
              "2                              False   \n",
              "3                              False   \n",
              "4                               True   \n",
              "\n",
              "                                 close_approach_data  is_sentry_object  \\\n",
              "0  [{'close_approach_date': '1900-09-08', 'close_...             False   \n",
              "1  [{'close_approach_date': '1902-12-19', 'close_...             False   \n",
              "2  [{'close_approach_date': '1915-12-22', 'close_...             False   \n",
              "3  [{'close_approach_date': '1902-01-27', 'close_...             False   \n",
              "4  [{'close_approach_date': '1901-07-14', 'close_...             False   \n",
              "\n",
              "                                          links.self  ...  \\\n",
              "0  http://api.nasa.gov/rest/v1/neo/2140333?api_ke...  ...   \n",
              "1  http://api.nasa.gov/rest/v1/neo/2140928?api_ke...  ...   \n",
              "2  http://api.nasa.gov/rest/v1/neo/2141018?api_ke...  ...   \n",
              "3  http://api.nasa.gov/rest/v1/neo/2141052?api_ke...  ...   \n",
              "4  http://api.nasa.gov/rest/v1/neo/2141053?api_ke...  ...   \n",
              "\n",
              "   orbital_data.perihelion_distance  orbital_data.perihelion_argument  \\\n",
              "0                 .4986631467985201                 199.0652468786918   \n",
              "1                 1.067957960251007                 257.3345565293617   \n",
              "2                 1.061139945279764                 101.3713455665866   \n",
              "3                 .5604215753812765                 304.1498019337962   \n",
              "4                 .6425331241605353                 31.34353436110917   \n",
              "\n",
              "   orbital_data.aphelion_distance  orbital_data.perihelion_time  \\\n",
              "0               1.425042508812558          2459666.180198703621   \n",
              "1               1.969920581056928          2459900.099864005040   \n",
              "2               1.736419688878433          2459650.895370174824   \n",
              "3               1.930460584692442          2459496.562438513374   \n",
              "4               2.414582758560541          2459780.007137536598   \n",
              "\n",
              "   orbital_data.mean_anomaly  orbital_data.mean_motion  orbital_data.equinox  \\\n",
              "0          291.3760689254048         1.044819175780168                 J2000   \n",
              "1          202.2624576223125         .5264940386456054                 J2000   \n",
              "2          329.9758530087769         .5957719307759419                 J2000   \n",
              "3          73.70412888164725         .7091192811092712                 J2000   \n",
              "4          266.3812286923165         .5215323055808655                 J2000   \n",
              "\n",
              "   orbital_data.orbit_class.orbit_class_type  \\\n",
              "0                                        ATE   \n",
              "1                                        AMO   \n",
              "2                                        AMO   \n",
              "3                                        APO   \n",
              "4                                        APO   \n",
              "\n",
              "    orbital_data.orbit_class.orbit_class_description  \\\n",
              "0  Near-Earth asteroid orbits similar to that of ...   \n",
              "1  Near-Earth asteroid orbits similar to that of ...   \n",
              "2  Near-Earth asteroid orbits similar to that of ...   \n",
              "3  Near-Earth asteroid orbits which cross the Ear...   \n",
              "4  Near-Earth asteroid orbits which cross the Ear...   \n",
              "\n",
              "          orbital_data.orbit_class.orbit_class_range  \n",
              "0  a (semi-major axis) < 1.0 AU; q (perihelion) >...  \n",
              "1                 1.017 AU < q (perihelion) < 1.3 AU  \n",
              "2                 1.017 AU < q (perihelion) < 1.3 AU  \n",
              "3  a (semi-major axis) > 1.0 AU; q (perihelion) <...  \n",
              "4  a (semi-major axis) > 1.0 AU; q (perihelion) <...  \n",
              "\n",
              "[5 rows x 43 columns]"
            ],
            "text/html": [
              "\n",
              "  <div id=\"df-e0c1853e-5a13-4198-82ee-e34f664e0e79\">\n",
              "    <div class=\"colab-df-container\">\n",
              "      <div>\n",
              "<style scoped>\n",
              "    .dataframe tbody tr th:only-of-type {\n",
              "        vertical-align: middle;\n",
              "    }\n",
              "\n",
              "    .dataframe tbody tr th {\n",
              "        vertical-align: top;\n",
              "    }\n",
              "\n",
              "    .dataframe thead th {\n",
              "        text-align: right;\n",
              "    }\n",
              "</style>\n",
              "<table border=\"1\" class=\"dataframe\">\n",
              "  <thead>\n",
              "    <tr style=\"text-align: right;\">\n",
              "      <th></th>\n",
              "      <th>id</th>\n",
              "      <th>neo_reference_id</th>\n",
              "      <th>name</th>\n",
              "      <th>designation</th>\n",
              "      <th>nasa_jpl_url</th>\n",
              "      <th>absolute_magnitude_h</th>\n",
              "      <th>is_potentially_hazardous_asteroid</th>\n",
              "      <th>close_approach_data</th>\n",
              "      <th>is_sentry_object</th>\n",
              "      <th>links.self</th>\n",
              "      <th>...</th>\n",
              "      <th>orbital_data.perihelion_distance</th>\n",
              "      <th>orbital_data.perihelion_argument</th>\n",
              "      <th>orbital_data.aphelion_distance</th>\n",
              "      <th>orbital_data.perihelion_time</th>\n",
              "      <th>orbital_data.mean_anomaly</th>\n",
              "      <th>orbital_data.mean_motion</th>\n",
              "      <th>orbital_data.equinox</th>\n",
              "      <th>orbital_data.orbit_class.orbit_class_type</th>\n",
              "      <th>orbital_data.orbit_class.orbit_class_description</th>\n",
              "      <th>orbital_data.orbit_class.orbit_class_range</th>\n",
              "    </tr>\n",
              "  </thead>\n",
              "  <tbody>\n",
              "    <tr>\n",
              "      <th>0</th>\n",
              "      <td>2140333</td>\n",
              "      <td>2140333</td>\n",
              "      <td>140333 (2001 TD2)</td>\n",
              "      <td>140333</td>\n",
              "      <td>http://ssd.jpl.nasa.gov/sbdb.cgi?sstr=2140333</td>\n",
              "      <td>19.21</td>\n",
              "      <td>False</td>\n",
              "      <td>[{'close_approach_date': '1900-09-08', 'close_...</td>\n",
              "      <td>False</td>\n",
              "      <td>http://api.nasa.gov/rest/v1/neo/2140333?api_ke...</td>\n",
              "      <td>...</td>\n",
              "      <td>.4986631467985201</td>\n",
              "      <td>199.0652468786918</td>\n",
              "      <td>1.425042508812558</td>\n",
              "      <td>2459666.180198703621</td>\n",
              "      <td>291.3760689254048</td>\n",
              "      <td>1.044819175780168</td>\n",
              "      <td>J2000</td>\n",
              "      <td>ATE</td>\n",
              "      <td>Near-Earth asteroid orbits similar to that of ...</td>\n",
              "      <td>a (semi-major axis) &lt; 1.0 AU; q (perihelion) &gt;...</td>\n",
              "    </tr>\n",
              "    <tr>\n",
              "      <th>1</th>\n",
              "      <td>2140928</td>\n",
              "      <td>2140928</td>\n",
              "      <td>140928 (2001 VG75)</td>\n",
              "      <td>140928</td>\n",
              "      <td>http://ssd.jpl.nasa.gov/sbdb.cgi?sstr=2140928</td>\n",
              "      <td>18.16</td>\n",
              "      <td>False</td>\n",
              "      <td>[{'close_approach_date': '1902-12-19', 'close_...</td>\n",
              "      <td>False</td>\n",
              "      <td>http://api.nasa.gov/rest/v1/neo/2140928?api_ke...</td>\n",
              "      <td>...</td>\n",
              "      <td>1.067957960251007</td>\n",
              "      <td>257.3345565293617</td>\n",
              "      <td>1.969920581056928</td>\n",
              "      <td>2459900.099864005040</td>\n",
              "      <td>202.2624576223125</td>\n",
              "      <td>.5264940386456054</td>\n",
              "      <td>J2000</td>\n",
              "      <td>AMO</td>\n",
              "      <td>Near-Earth asteroid orbits similar to that of ...</td>\n",
              "      <td>1.017 AU &lt; q (perihelion) &lt; 1.3 AU</td>\n",
              "    </tr>\n",
              "    <tr>\n",
              "      <th>2</th>\n",
              "      <td>2141018</td>\n",
              "      <td>2141018</td>\n",
              "      <td>141018 (2001 WC47)</td>\n",
              "      <td>141018</td>\n",
              "      <td>http://ssd.jpl.nasa.gov/sbdb.cgi?sstr=2141018</td>\n",
              "      <td>19.05</td>\n",
              "      <td>False</td>\n",
              "      <td>[{'close_approach_date': '1915-12-22', 'close_...</td>\n",
              "      <td>False</td>\n",
              "      <td>http://api.nasa.gov/rest/v1/neo/2141018?api_ke...</td>\n",
              "      <td>...</td>\n",
              "      <td>1.061139945279764</td>\n",
              "      <td>101.3713455665866</td>\n",
              "      <td>1.736419688878433</td>\n",
              "      <td>2459650.895370174824</td>\n",
              "      <td>329.9758530087769</td>\n",
              "      <td>.5957719307759419</td>\n",
              "      <td>J2000</td>\n",
              "      <td>AMO</td>\n",
              "      <td>Near-Earth asteroid orbits similar to that of ...</td>\n",
              "      <td>1.017 AU &lt; q (perihelion) &lt; 1.3 AU</td>\n",
              "    </tr>\n",
              "    <tr>\n",
              "      <th>3</th>\n",
              "      <td>2141052</td>\n",
              "      <td>2141052</td>\n",
              "      <td>141052 (2001 XR1)</td>\n",
              "      <td>141052</td>\n",
              "      <td>http://ssd.jpl.nasa.gov/sbdb.cgi?sstr=2141052</td>\n",
              "      <td>17.49</td>\n",
              "      <td>False</td>\n",
              "      <td>[{'close_approach_date': '1902-01-27', 'close_...</td>\n",
              "      <td>False</td>\n",
              "      <td>http://api.nasa.gov/rest/v1/neo/2141052?api_ke...</td>\n",
              "      <td>...</td>\n",
              "      <td>.5604215753812765</td>\n",
              "      <td>304.1498019337962</td>\n",
              "      <td>1.930460584692442</td>\n",
              "      <td>2459496.562438513374</td>\n",
              "      <td>73.70412888164725</td>\n",
              "      <td>.7091192811092712</td>\n",
              "      <td>J2000</td>\n",
              "      <td>APO</td>\n",
              "      <td>Near-Earth asteroid orbits which cross the Ear...</td>\n",
              "      <td>a (semi-major axis) &gt; 1.0 AU; q (perihelion) &lt;...</td>\n",
              "    </tr>\n",
              "    <tr>\n",
              "      <th>4</th>\n",
              "      <td>2141053</td>\n",
              "      <td>2141053</td>\n",
              "      <td>141053 (2001 XT1)</td>\n",
              "      <td>141053</td>\n",
              "      <td>http://ssd.jpl.nasa.gov/sbdb.cgi?sstr=2141053</td>\n",
              "      <td>18.80</td>\n",
              "      <td>True</td>\n",
              "      <td>[{'close_approach_date': '1901-07-14', 'close_...</td>\n",
              "      <td>False</td>\n",
              "      <td>http://api.nasa.gov/rest/v1/neo/2141053?api_ke...</td>\n",
              "      <td>...</td>\n",
              "      <td>.6425331241605353</td>\n",
              "      <td>31.34353436110917</td>\n",
              "      <td>2.414582758560541</td>\n",
              "      <td>2459780.007137536598</td>\n",
              "      <td>266.3812286923165</td>\n",
              "      <td>.5215323055808655</td>\n",
              "      <td>J2000</td>\n",
              "      <td>APO</td>\n",
              "      <td>Near-Earth asteroid orbits which cross the Ear...</td>\n",
              "      <td>a (semi-major axis) &gt; 1.0 AU; q (perihelion) &lt;...</td>\n",
              "    </tr>\n",
              "  </tbody>\n",
              "</table>\n",
              "<p>5 rows × 43 columns</p>\n",
              "</div>\n",
              "      <button class=\"colab-df-convert\" onclick=\"convertToInteractive('df-e0c1853e-5a13-4198-82ee-e34f664e0e79')\"\n",
              "              title=\"Convert this dataframe to an interactive table.\"\n",
              "              style=\"display:none;\">\n",
              "        \n",
              "  <svg xmlns=\"http://www.w3.org/2000/svg\" height=\"24px\"viewBox=\"0 0 24 24\"\n",
              "       width=\"24px\">\n",
              "    <path d=\"M0 0h24v24H0V0z\" fill=\"none\"/>\n",
              "    <path d=\"M18.56 5.44l.94 2.06.94-2.06 2.06-.94-2.06-.94-.94-2.06-.94 2.06-2.06.94zm-11 1L8.5 8.5l.94-2.06 2.06-.94-2.06-.94L8.5 2.5l-.94 2.06-2.06.94zm10 10l.94 2.06.94-2.06 2.06-.94-2.06-.94-.94-2.06-.94 2.06-2.06.94z\"/><path d=\"M17.41 7.96l-1.37-1.37c-.4-.4-.92-.59-1.43-.59-.52 0-1.04.2-1.43.59L10.3 9.45l-7.72 7.72c-.78.78-.78 2.05 0 2.83L4 21.41c.39.39.9.59 1.41.59.51 0 1.02-.2 1.41-.59l7.78-7.78 2.81-2.81c.8-.78.8-2.07 0-2.86zM5.41 20L4 18.59l7.72-7.72 1.47 1.35L5.41 20z\"/>\n",
              "  </svg>\n",
              "      </button>\n",
              "      \n",
              "  <style>\n",
              "    .colab-df-container {\n",
              "      display:flex;\n",
              "      flex-wrap:wrap;\n",
              "      gap: 12px;\n",
              "    }\n",
              "\n",
              "    .colab-df-convert {\n",
              "      background-color: #E8F0FE;\n",
              "      border: none;\n",
              "      border-radius: 50%;\n",
              "      cursor: pointer;\n",
              "      display: none;\n",
              "      fill: #1967D2;\n",
              "      height: 32px;\n",
              "      padding: 0 0 0 0;\n",
              "      width: 32px;\n",
              "    }\n",
              "\n",
              "    .colab-df-convert:hover {\n",
              "      background-color: #E2EBFA;\n",
              "      box-shadow: 0px 1px 2px rgba(60, 64, 67, 0.3), 0px 1px 3px 1px rgba(60, 64, 67, 0.15);\n",
              "      fill: #174EA6;\n",
              "    }\n",
              "\n",
              "    [theme=dark] .colab-df-convert {\n",
              "      background-color: #3B4455;\n",
              "      fill: #D2E3FC;\n",
              "    }\n",
              "\n",
              "    [theme=dark] .colab-df-convert:hover {\n",
              "      background-color: #434B5C;\n",
              "      box-shadow: 0px 1px 3px 1px rgba(0, 0, 0, 0.15);\n",
              "      filter: drop-shadow(0px 1px 2px rgba(0, 0, 0, 0.3));\n",
              "      fill: #FFFFFF;\n",
              "    }\n",
              "  </style>\n",
              "\n",
              "      <script>\n",
              "        const buttonEl =\n",
              "          document.querySelector('#df-e0c1853e-5a13-4198-82ee-e34f664e0e79 button.colab-df-convert');\n",
              "        buttonEl.style.display =\n",
              "          google.colab.kernel.accessAllowed ? 'block' : 'none';\n",
              "\n",
              "        async function convertToInteractive(key) {\n",
              "          const element = document.querySelector('#df-e0c1853e-5a13-4198-82ee-e34f664e0e79');\n",
              "          const dataTable =\n",
              "            await google.colab.kernel.invokeFunction('convertToInteractive',\n",
              "                                                     [key], {});\n",
              "          if (!dataTable) return;\n",
              "\n",
              "          const docLinkHtml = 'Like what you see? Visit the ' +\n",
              "            '<a target=\"_blank\" href=https://colab.research.google.com/notebooks/data_table.ipynb>data table notebook</a>'\n",
              "            + ' to learn more about interactive tables.';\n",
              "          element.innerHTML = '';\n",
              "          dataTable['output_type'] = 'display_data';\n",
              "          await google.colab.output.renderOutput(dataTable, element);\n",
              "          const docLink = document.createElement('div');\n",
              "          docLink.innerHTML = docLinkHtml;\n",
              "          element.appendChild(docLink);\n",
              "        }\n",
              "      </script>\n",
              "    </div>\n",
              "  </div>\n",
              "  "
            ]
          },
          "metadata": {},
          "execution_count": 52
        }
      ],
      "source": [
        "json = r.json()\n",
        "pd_normalized = pd.json_normalize(json['near_earth_objects'])\n",
        "objetos = pd.DataFrame.from_dict(pd_normalized)\n",
        "objetos.head(10)"
      ]
    },
    {
      "cell_type": "markdown",
      "metadata": {
        "id": "Fz9rNUeGYa-C"
      },
      "source": [
        "6. Pídele a tu experta la función de verificación `visualizar_diametros` (encontrada en el archivo `helpers.py` de la carpeta donde se encuentra este Reto), pégala debajo y corre la celda para verificar tu resultado:"
      ]
    },
    {
      "cell_type": "code",
      "execution_count": 53,
      "metadata": {
        "colab": {
          "base_uri": "https://localhost:8080/",
          "height": 374
        },
        "id": "vCQPo_laYa-D",
        "outputId": "ea81ef3b-d3c7-436c-e766-233e3188f3ec"
      },
      "outputs": [
        {
          "output_type": "stream",
          "name": "stderr",
          "text": [
            "/usr/local/lib/python3.7/dist-packages/seaborn/_decorators.py:43: FutureWarning: Pass the following variables as keyword args: x, y. From version 0.12, the only valid positional argument will be `data`, and passing other arguments without an explicit keyword will result in an error or misinterpretation.\n",
            "  FutureWarning\n"
          ]
        },
        {
          "output_type": "display_data",
          "data": {
            "text/plain": [
              "<Figure size 432x288 with 1 Axes>"
            ],
            "image/png": "[encoded data removed]"
          },
          "metadata": {
            "needs_background": "light"
          }
        }
      ],
      "source": [
        "# Pega aquí la función de verificación\n",
        "def visualizar_diametros(objetos):\n",
        "    \n",
        "    import seaborn as sns\n",
        "    \n",
        "    sizes = objetos[['name', 'estimated_diameter.kilometers.estimated_diameter_max']].copy()\n",
        "    sizes.sort_values('estimated_diameter.kilometers.estimated_diameter_max', ascending=True, inplace=True)\n",
        "    sns.barplot(sizes['name'], sizes['estimated_diameter.kilometers.estimated_diameter_max'])\n",
        "visualizar_diametros(objetos)"
      ]
    },
    {
      "cell_type": "code",
      "execution_count": null,
      "metadata": {
        "id": "PBnGa4NkYa-E"
      },
      "outputs": [],
      "source": []
    }
  ],
  "metadata": {
    "kernelspec": {
      "display_name": "Python 3",
      "language": "python",
      "name": "python3"
    },
    "language_info": {
      "codemirror_mode": {
        "name": "ipython",
        "version": 3
      },
      "file_extension": ".py",
      "mimetype": "text/x-python",
      "name": "python",
      "nbconvert_exporter": "python",
      "pygments_lexer": "ipython3",
      "version": "3.8.3"
    },
    "colab": {
      "provenance": []
    }
  },
  "nbformat": 4,
  "nbformat_minor": 0
}